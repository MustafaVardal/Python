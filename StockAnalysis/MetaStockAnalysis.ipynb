{
 "cells": [
  {
   "cell_type": "code",
   "execution_count": 1,
   "id": "2d2a3019-be70-4b9b-b602-68c5b4d07bd9",
   "metadata": {},
   "outputs": [],
   "source": [
    "import numpy as np\n",
    "import pandas as pd\n",
    "import seaborn as sns\n",
    "import matplotlib.pyplot as plt\n",
    "%matplotlib inline\n",
    "sns.set_style('whitegrid')"
   ]
  },
  {
   "cell_type": "code",
   "execution_count": 30,
   "id": "bcb5b3f1-4f9d-4c71-9cb0-20ab73035b13",
   "metadata": {},
   "outputs": [],
   "source": [
    "import yfinance as yahooFinance"
   ]
  },
  {
   "cell_type": "code",
   "execution_count": 31,
   "id": "efd5ec33-11d3-4450-ba80-8e367b5e22c1",
   "metadata": {},
   "outputs": [],
   "source": [
    "GetFacebookInformation = yahooFinance.Ticker(\"META\")"
   ]
  },
  {
   "cell_type": "code",
   "execution_count": 32,
   "id": "68972a49-738c-459a-ba5f-6158dc65ac63",
   "metadata": {},
   "outputs": [
    {
     "data": {
      "text/plain": [
       "yfinance.Ticker object <META>"
      ]
     },
     "execution_count": 32,
     "metadata": {},
     "output_type": "execute_result"
    }
   ],
   "source": [
    "GetFacebookInformation\n"
   ]
  },
  {
   "cell_type": "code",
   "execution_count": 41,
   "id": "e9653067-411c-4a08-aa1c-3b23098c15f1",
   "metadata": {
    "tags": []
   },
   "outputs": [
    {
     "data": {
      "text/plain": [
       "'Communication Services'"
      ]
     },
     "execution_count": 41,
     "metadata": {},
     "output_type": "execute_result"
    }
   ],
   "source": [
    "company_sector = GetFacebookInformation.info['sector']\n",
    "company_sector"
   ]
  },
  {
   "cell_type": "code",
   "execution_count": 40,
   "id": "d97523b0-8883-4aaf-9dfa-8be11ffb5e83",
   "metadata": {},
   "outputs": [],
   "source": [
    "price_earning_ratio = GetFacebookInformation.info['trailingPE']"
   ]
  },
  {
   "cell_type": "code",
   "execution_count": 42,
   "id": "5c601894-c815-4359-9f4b-11eabddee99e",
   "metadata": {},
   "outputs": [
    {
     "data": {
      "text/plain": [
       "37.302097"
      ]
     },
     "execution_count": 42,
     "metadata": {},
     "output_type": "execute_result"
    }
   ],
   "source": [
    "price_earning_ratio"
   ]
  },
  {
   "cell_type": "code",
   "execution_count": 45,
   "id": "27c450d8-98f7-41ec-96a9-dc2f9caef445",
   "metadata": {},
   "outputs": [
    {
     "data": {
      "text/plain": [
       "1.21448"
      ]
     },
     "execution_count": 45,
     "metadata": {},
     "output_type": "execute_result"
    }
   ],
   "source": [
    "company_beta = GetFacebookInformation.info['beta']\n",
    "company_beta"
   ]
  },
  {
   "cell_type": "code",
   "execution_count": 47,
   "id": "ab058aea-c3a4-4b64-ad5e-6e42cc35c665",
   "metadata": {},
   "outputs": [
    {
     "data": {
      "text/html": [
       "<div>\n",
       "<style scoped>\n",
       "    .dataframe tbody tr th:only-of-type {\n",
       "        vertical-align: middle;\n",
       "    }\n",
       "\n",
       "    .dataframe tbody tr th {\n",
       "        vertical-align: top;\n",
       "    }\n",
       "\n",
       "    .dataframe thead th {\n",
       "        text-align: right;\n",
       "    }\n",
       "</style>\n",
       "<table border=\"1\" class=\"dataframe\">\n",
       "  <thead>\n",
       "    <tr style=\"text-align: right;\">\n",
       "      <th></th>\n",
       "      <th>Open</th>\n",
       "      <th>High</th>\n",
       "      <th>Low</th>\n",
       "      <th>Close</th>\n",
       "      <th>Volume</th>\n",
       "      <th>Dividends</th>\n",
       "      <th>Stock Splits</th>\n",
       "    </tr>\n",
       "    <tr>\n",
       "      <th>Date</th>\n",
       "      <th></th>\n",
       "      <th></th>\n",
       "      <th></th>\n",
       "      <th></th>\n",
       "      <th></th>\n",
       "      <th></th>\n",
       "      <th></th>\n",
       "    </tr>\n",
       "  </thead>\n",
       "  <tbody>\n",
       "    <tr>\n",
       "      <th>2012-05-18 00:00:00-04:00</th>\n",
       "      <td>42.049999</td>\n",
       "      <td>45.000000</td>\n",
       "      <td>38.000000</td>\n",
       "      <td>38.230000</td>\n",
       "      <td>573576400</td>\n",
       "      <td>0.0</td>\n",
       "      <td>0.0</td>\n",
       "    </tr>\n",
       "    <tr>\n",
       "      <th>2012-05-21 00:00:00-04:00</th>\n",
       "      <td>36.529999</td>\n",
       "      <td>36.660000</td>\n",
       "      <td>33.000000</td>\n",
       "      <td>34.029999</td>\n",
       "      <td>168192700</td>\n",
       "      <td>0.0</td>\n",
       "      <td>0.0</td>\n",
       "    </tr>\n",
       "    <tr>\n",
       "      <th>2012-05-22 00:00:00-04:00</th>\n",
       "      <td>32.610001</td>\n",
       "      <td>33.590000</td>\n",
       "      <td>30.940001</td>\n",
       "      <td>31.000000</td>\n",
       "      <td>101786600</td>\n",
       "      <td>0.0</td>\n",
       "      <td>0.0</td>\n",
       "    </tr>\n",
       "    <tr>\n",
       "      <th>2012-05-23 00:00:00-04:00</th>\n",
       "      <td>31.370001</td>\n",
       "      <td>32.500000</td>\n",
       "      <td>31.360001</td>\n",
       "      <td>32.000000</td>\n",
       "      <td>73600000</td>\n",
       "      <td>0.0</td>\n",
       "      <td>0.0</td>\n",
       "    </tr>\n",
       "    <tr>\n",
       "      <th>2012-05-24 00:00:00-04:00</th>\n",
       "      <td>32.950001</td>\n",
       "      <td>33.209999</td>\n",
       "      <td>31.770000</td>\n",
       "      <td>33.029999</td>\n",
       "      <td>50237200</td>\n",
       "      <td>0.0</td>\n",
       "      <td>0.0</td>\n",
       "    </tr>\n",
       "    <tr>\n",
       "      <th>...</th>\n",
       "      <td>...</td>\n",
       "      <td>...</td>\n",
       "      <td>...</td>\n",
       "      <td>...</td>\n",
       "      <td>...</td>\n",
       "      <td>...</td>\n",
       "      <td>...</td>\n",
       "    </tr>\n",
       "    <tr>\n",
       "      <th>2023-07-14 00:00:00-04:00</th>\n",
       "      <td>311.790009</td>\n",
       "      <td>314.880005</td>\n",
       "      <td>307.359985</td>\n",
       "      <td>308.869995</td>\n",
       "      <td>22576000</td>\n",
       "      <td>0.0</td>\n",
       "      <td>0.0</td>\n",
       "    </tr>\n",
       "    <tr>\n",
       "      <th>2023-07-17 00:00:00-04:00</th>\n",
       "      <td>307.540009</td>\n",
       "      <td>311.709991</td>\n",
       "      <td>304.709991</td>\n",
       "      <td>310.619995</td>\n",
       "      <td>25323100</td>\n",
       "      <td>0.0</td>\n",
       "      <td>0.0</td>\n",
       "    </tr>\n",
       "    <tr>\n",
       "      <th>2023-07-18 00:00:00-04:00</th>\n",
       "      <td>310.880005</td>\n",
       "      <td>314.200012</td>\n",
       "      <td>307.619995</td>\n",
       "      <td>312.049988</td>\n",
       "      <td>20764600</td>\n",
       "      <td>0.0</td>\n",
       "      <td>0.0</td>\n",
       "    </tr>\n",
       "    <tr>\n",
       "      <th>2023-07-19 00:00:00-04:00</th>\n",
       "      <td>313.029999</td>\n",
       "      <td>318.679993</td>\n",
       "      <td>310.519989</td>\n",
       "      <td>316.010010</td>\n",
       "      <td>21763700</td>\n",
       "      <td>0.0</td>\n",
       "      <td>0.0</td>\n",
       "    </tr>\n",
       "    <tr>\n",
       "      <th>2023-07-20 00:00:00-04:00</th>\n",
       "      <td>313.500000</td>\n",
       "      <td>315.540009</td>\n",
       "      <td>302.220001</td>\n",
       "      <td>302.519989</td>\n",
       "      <td>23691600</td>\n",
       "      <td>0.0</td>\n",
       "      <td>0.0</td>\n",
       "    </tr>\n",
       "  </tbody>\n",
       "</table>\n",
       "<p>2810 rows × 7 columns</p>\n",
       "</div>"
      ],
      "text/plain": [
       "                                 Open        High         Low       Close  \\\n",
       "Date                                                                        \n",
       "2012-05-18 00:00:00-04:00   42.049999   45.000000   38.000000   38.230000   \n",
       "2012-05-21 00:00:00-04:00   36.529999   36.660000   33.000000   34.029999   \n",
       "2012-05-22 00:00:00-04:00   32.610001   33.590000   30.940001   31.000000   \n",
       "2012-05-23 00:00:00-04:00   31.370001   32.500000   31.360001   32.000000   \n",
       "2012-05-24 00:00:00-04:00   32.950001   33.209999   31.770000   33.029999   \n",
       "...                               ...         ...         ...         ...   \n",
       "2023-07-14 00:00:00-04:00  311.790009  314.880005  307.359985  308.869995   \n",
       "2023-07-17 00:00:00-04:00  307.540009  311.709991  304.709991  310.619995   \n",
       "2023-07-18 00:00:00-04:00  310.880005  314.200012  307.619995  312.049988   \n",
       "2023-07-19 00:00:00-04:00  313.029999  318.679993  310.519989  316.010010   \n",
       "2023-07-20 00:00:00-04:00  313.500000  315.540009  302.220001  302.519989   \n",
       "\n",
       "                              Volume  Dividends  Stock Splits  \n",
       "Date                                                           \n",
       "2012-05-18 00:00:00-04:00  573576400        0.0           0.0  \n",
       "2012-05-21 00:00:00-04:00  168192700        0.0           0.0  \n",
       "2012-05-22 00:00:00-04:00  101786600        0.0           0.0  \n",
       "2012-05-23 00:00:00-04:00   73600000        0.0           0.0  \n",
       "2012-05-24 00:00:00-04:00   50237200        0.0           0.0  \n",
       "...                              ...        ...           ...  \n",
       "2023-07-14 00:00:00-04:00   22576000        0.0           0.0  \n",
       "2023-07-17 00:00:00-04:00   25323100        0.0           0.0  \n",
       "2023-07-18 00:00:00-04:00   20764600        0.0           0.0  \n",
       "2023-07-19 00:00:00-04:00   21763700        0.0           0.0  \n",
       "2023-07-20 00:00:00-04:00   23691600        0.0           0.0  \n",
       "\n",
       "[2810 rows x 7 columns]"
      ]
     },
     "execution_count": 47,
     "metadata": {},
     "output_type": "execute_result"
    }
   ],
   "source": [
    "GetFacebookInformation.history(period = 'max')\n"
   ]
  },
  {
   "cell_type": "code",
   "execution_count": 49,
   "id": "19f143a9-7f22-497b-b441-cfc87a5c1326",
   "metadata": {},
   "outputs": [],
   "source": [
    "six_month_period = GetFacebookInformation.history(period=\"6mo\")"
   ]
  },
  {
   "cell_type": "code",
   "execution_count": 50,
   "id": "1394ef91-39a9-4afb-9875-1c610c438dc5",
   "metadata": {},
   "outputs": [
    {
     "name": "stdout",
     "output_type": "stream",
     "text": [
      "<class 'pandas.core.frame.DataFrame'>\n",
      "DatetimeIndex: 124 entries, 2023-01-23 00:00:00-05:00 to 2023-07-20 00:00:00-04:00\n",
      "Data columns (total 7 columns):\n",
      " #   Column        Non-Null Count  Dtype  \n",
      "---  ------        --------------  -----  \n",
      " 0   Open          124 non-null    float64\n",
      " 1   High          124 non-null    float64\n",
      " 2   Low           124 non-null    float64\n",
      " 3   Close         124 non-null    float64\n",
      " 4   Volume        124 non-null    int64  \n",
      " 5   Dividends     124 non-null    float64\n",
      " 6   Stock Splits  124 non-null    float64\n",
      "dtypes: float64(6), int64(1)\n",
      "memory usage: 7.8 KB\n"
     ]
    }
   ],
   "source": [
    "six_month_period.info()"
   ]
  },
  {
   "cell_type": "code",
   "execution_count": 51,
   "id": "3bb4045e-0b4f-4006-9bde-616ef5ac2c5f",
   "metadata": {},
   "outputs": [
    {
     "data": {
      "text/html": [
       "<div>\n",
       "<style scoped>\n",
       "    .dataframe tbody tr th:only-of-type {\n",
       "        vertical-align: middle;\n",
       "    }\n",
       "\n",
       "    .dataframe tbody tr th {\n",
       "        vertical-align: top;\n",
       "    }\n",
       "\n",
       "    .dataframe thead th {\n",
       "        text-align: right;\n",
       "    }\n",
       "</style>\n",
       "<table border=\"1\" class=\"dataframe\">\n",
       "  <thead>\n",
       "    <tr style=\"text-align: right;\">\n",
       "      <th></th>\n",
       "      <th>Open</th>\n",
       "      <th>High</th>\n",
       "      <th>Low</th>\n",
       "      <th>Close</th>\n",
       "      <th>Volume</th>\n",
       "      <th>Dividends</th>\n",
       "      <th>Stock Splits</th>\n",
       "    </tr>\n",
       "  </thead>\n",
       "  <tbody>\n",
       "    <tr>\n",
       "      <th>count</th>\n",
       "      <td>124.000000</td>\n",
       "      <td>124.000000</td>\n",
       "      <td>124.000000</td>\n",
       "      <td>124.000000</td>\n",
       "      <td>1.240000e+02</td>\n",
       "      <td>124.0</td>\n",
       "      <td>124.0</td>\n",
       "    </tr>\n",
       "    <tr>\n",
       "      <th>mean</th>\n",
       "      <td>225.474517</td>\n",
       "      <td>229.271532</td>\n",
       "      <td>222.994033</td>\n",
       "      <td>226.322822</td>\n",
       "      <td>2.768888e+07</td>\n",
       "      <td>0.0</td>\n",
       "      <td>0.0</td>\n",
       "    </tr>\n",
       "    <tr>\n",
       "      <th>std</th>\n",
       "      <td>46.251452</td>\n",
       "      <td>46.664133</td>\n",
       "      <td>45.703171</td>\n",
       "      <td>46.279550</td>\n",
       "      <td>1.569177e+07</td>\n",
       "      <td>0.0</td>\n",
       "      <td>0.0</td>\n",
       "    </tr>\n",
       "    <tr>\n",
       "      <th>min</th>\n",
       "      <td>139.289993</td>\n",
       "      <td>143.169998</td>\n",
       "      <td>138.660004</td>\n",
       "      <td>141.500000</td>\n",
       "      <td>8.629300e+06</td>\n",
       "      <td>0.0</td>\n",
       "      <td>0.0</td>\n",
       "    </tr>\n",
       "    <tr>\n",
       "      <th>25%</th>\n",
       "      <td>186.485001</td>\n",
       "      <td>190.797501</td>\n",
       "      <td>183.737495</td>\n",
       "      <td>185.857498</td>\n",
       "      <td>1.925730e+07</td>\n",
       "      <td>0.0</td>\n",
       "      <td>0.0</td>\n",
       "    </tr>\n",
       "    <tr>\n",
       "      <th>50%</th>\n",
       "      <td>215.604996</td>\n",
       "      <td>218.885002</td>\n",
       "      <td>214.550003</td>\n",
       "      <td>216.995003</td>\n",
       "      <td>2.420200e+07</td>\n",
       "      <td>0.0</td>\n",
       "      <td>0.0</td>\n",
       "    </tr>\n",
       "    <tr>\n",
       "      <th>75%</th>\n",
       "      <td>266.217499</td>\n",
       "      <td>272.312500</td>\n",
       "      <td>263.432487</td>\n",
       "      <td>266.475006</td>\n",
       "      <td>3.046035e+07</td>\n",
       "      <td>0.0</td>\n",
       "      <td>0.0</td>\n",
       "    </tr>\n",
       "    <tr>\n",
       "      <th>max</th>\n",
       "      <td>313.619995</td>\n",
       "      <td>318.679993</td>\n",
       "      <td>310.519989</td>\n",
       "      <td>316.010010</td>\n",
       "      <td>1.504757e+08</td>\n",
       "      <td>0.0</td>\n",
       "      <td>0.0</td>\n",
       "    </tr>\n",
       "  </tbody>\n",
       "</table>\n",
       "</div>"
      ],
      "text/plain": [
       "             Open        High         Low       Close        Volume  \\\n",
       "count  124.000000  124.000000  124.000000  124.000000  1.240000e+02   \n",
       "mean   225.474517  229.271532  222.994033  226.322822  2.768888e+07   \n",
       "std     46.251452   46.664133   45.703171   46.279550  1.569177e+07   \n",
       "min    139.289993  143.169998  138.660004  141.500000  8.629300e+06   \n",
       "25%    186.485001  190.797501  183.737495  185.857498  1.925730e+07   \n",
       "50%    215.604996  218.885002  214.550003  216.995003  2.420200e+07   \n",
       "75%    266.217499  272.312500  263.432487  266.475006  3.046035e+07   \n",
       "max    313.619995  318.679993  310.519989  316.010010  1.504757e+08   \n",
       "\n",
       "       Dividends  Stock Splits  \n",
       "count      124.0         124.0  \n",
       "mean         0.0           0.0  \n",
       "std          0.0           0.0  \n",
       "min          0.0           0.0  \n",
       "25%          0.0           0.0  \n",
       "50%          0.0           0.0  \n",
       "75%          0.0           0.0  \n",
       "max          0.0           0.0  "
      ]
     },
     "execution_count": 51,
     "metadata": {},
     "output_type": "execute_result"
    }
   ],
   "source": [
    "six_month_period.describe()"
   ]
  },
  {
   "cell_type": "code",
   "execution_count": 54,
   "id": "56ce296e-9a1f-45b1-a5ec-d3a084c8ab8f",
   "metadata": {},
   "outputs": [
    {
     "data": {
      "text/plain": [
       "272.609985    0.016129\n",
       "213.070007    0.016129\n",
       "143.270004    0.008065\n",
       "238.860001    0.008065\n",
       "264.720001    0.008065\n",
       "                ...   \n",
       "197.750000    0.008065\n",
       "194.020004    0.008065\n",
       "180.899994    0.008065\n",
       "179.509995    0.008065\n",
       "302.519989    0.008065\n",
       "Name: Close, Length: 122, dtype: float64"
      ]
     },
     "execution_count": 54,
     "metadata": {},
     "output_type": "execute_result"
    }
   ],
   "source": [
    "six_month_period.Close.value_counts(normalize = True)"
   ]
  },
  {
   "cell_type": "code",
   "execution_count": 55,
   "id": "57aa8982-01ec-4cbb-8a9f-94873133f4f6",
   "metadata": {},
   "outputs": [],
   "source": [
    "norm_six_month_period = six_month_period.Close.value_counts(normalize = True)"
   ]
  },
  {
   "cell_type": "code",
   "execution_count": 65,
   "id": "f6d10054-0b19-4eb6-a3b3-42d80dab5ca8",
   "metadata": {},
   "outputs": [
    {
     "data": {
      "text/plain": [
       "272.609985    0.016129\n",
       "213.070007    0.016129\n",
       "143.270004    0.008065\n",
       "238.860001    0.008065\n",
       "264.720001    0.008065\n",
       "                ...   \n",
       "197.750000    0.008065\n",
       "194.020004    0.008065\n",
       "180.899994    0.008065\n",
       "179.509995    0.008065\n",
       "302.519989    0.008065\n",
       "Name: Close, Length: 122, dtype: float64"
      ]
     },
     "execution_count": 65,
     "metadata": {},
     "output_type": "execute_result"
    }
   ],
   "source": [
    "norm_six_month_period"
   ]
  },
  {
   "cell_type": "code",
   "execution_count": 63,
   "id": "d1cf2b65-4e36-4750-b7dc-7d22c5c96db4",
   "metadata": {},
   "outputs": [
    {
     "data": {
      "text/html": [
       "<div>\n",
       "<style scoped>\n",
       "    .dataframe tbody tr th:only-of-type {\n",
       "        vertical-align: middle;\n",
       "    }\n",
       "\n",
       "    .dataframe tbody tr th {\n",
       "        vertical-align: top;\n",
       "    }\n",
       "\n",
       "    .dataframe thead th {\n",
       "        text-align: right;\n",
       "    }\n",
       "</style>\n",
       "<table border=\"1\" class=\"dataframe\">\n",
       "  <thead>\n",
       "    <tr style=\"text-align: right;\">\n",
       "      <th></th>\n",
       "      <th>Open</th>\n",
       "      <th>High</th>\n",
       "      <th>Low</th>\n",
       "      <th>Close</th>\n",
       "      <th>Volume</th>\n",
       "      <th>Dividends</th>\n",
       "      <th>Stock Splits</th>\n",
       "    </tr>\n",
       "  </thead>\n",
       "  <tbody>\n",
       "    <tr>\n",
       "      <th>count</th>\n",
       "      <td>124.000000</td>\n",
       "      <td>124.000000</td>\n",
       "      <td>124.000000</td>\n",
       "      <td>124.000000</td>\n",
       "      <td>1.240000e+02</td>\n",
       "      <td>124.0</td>\n",
       "      <td>124.0</td>\n",
       "    </tr>\n",
       "    <tr>\n",
       "      <th>mean</th>\n",
       "      <td>225.474517</td>\n",
       "      <td>229.271532</td>\n",
       "      <td>222.994033</td>\n",
       "      <td>226.322822</td>\n",
       "      <td>2.768888e+07</td>\n",
       "      <td>0.0</td>\n",
       "      <td>0.0</td>\n",
       "    </tr>\n",
       "    <tr>\n",
       "      <th>std</th>\n",
       "      <td>46.251452</td>\n",
       "      <td>46.664133</td>\n",
       "      <td>45.703171</td>\n",
       "      <td>46.279550</td>\n",
       "      <td>1.569177e+07</td>\n",
       "      <td>0.0</td>\n",
       "      <td>0.0</td>\n",
       "    </tr>\n",
       "    <tr>\n",
       "      <th>min</th>\n",
       "      <td>139.289993</td>\n",
       "      <td>143.169998</td>\n",
       "      <td>138.660004</td>\n",
       "      <td>141.500000</td>\n",
       "      <td>8.629300e+06</td>\n",
       "      <td>0.0</td>\n",
       "      <td>0.0</td>\n",
       "    </tr>\n",
       "    <tr>\n",
       "      <th>25%</th>\n",
       "      <td>186.485001</td>\n",
       "      <td>190.797501</td>\n",
       "      <td>183.737495</td>\n",
       "      <td>185.857498</td>\n",
       "      <td>1.925730e+07</td>\n",
       "      <td>0.0</td>\n",
       "      <td>0.0</td>\n",
       "    </tr>\n",
       "    <tr>\n",
       "      <th>50%</th>\n",
       "      <td>215.604996</td>\n",
       "      <td>218.885002</td>\n",
       "      <td>214.550003</td>\n",
       "      <td>216.995003</td>\n",
       "      <td>2.420200e+07</td>\n",
       "      <td>0.0</td>\n",
       "      <td>0.0</td>\n",
       "    </tr>\n",
       "    <tr>\n",
       "      <th>75%</th>\n",
       "      <td>266.217499</td>\n",
       "      <td>272.312500</td>\n",
       "      <td>263.432487</td>\n",
       "      <td>266.475006</td>\n",
       "      <td>3.046035e+07</td>\n",
       "      <td>0.0</td>\n",
       "      <td>0.0</td>\n",
       "    </tr>\n",
       "    <tr>\n",
       "      <th>max</th>\n",
       "      <td>313.619995</td>\n",
       "      <td>318.679993</td>\n",
       "      <td>310.519989</td>\n",
       "      <td>316.010010</td>\n",
       "      <td>1.504757e+08</td>\n",
       "      <td>0.0</td>\n",
       "      <td>0.0</td>\n",
       "    </tr>\n",
       "  </tbody>\n",
       "</table>\n",
       "</div>"
      ],
      "text/plain": [
       "             Open        High         Low       Close        Volume  \\\n",
       "count  124.000000  124.000000  124.000000  124.000000  1.240000e+02   \n",
       "mean   225.474517  229.271532  222.994033  226.322822  2.768888e+07   \n",
       "std     46.251452   46.664133   45.703171   46.279550  1.569177e+07   \n",
       "min    139.289993  143.169998  138.660004  141.500000  8.629300e+06   \n",
       "25%    186.485001  190.797501  183.737495  185.857498  1.925730e+07   \n",
       "50%    215.604996  218.885002  214.550003  216.995003  2.420200e+07   \n",
       "75%    266.217499  272.312500  263.432487  266.475006  3.046035e+07   \n",
       "max    313.619995  318.679993  310.519989  316.010010  1.504757e+08   \n",
       "\n",
       "       Dividends  Stock Splits  \n",
       "count      124.0         124.0  \n",
       "mean         0.0           0.0  \n",
       "std          0.0           0.0  \n",
       "min          0.0           0.0  \n",
       "25%          0.0           0.0  \n",
       "50%          0.0           0.0  \n",
       "75%          0.0           0.0  \n",
       "max          0.0           0.0  "
      ]
     },
     "execution_count": 63,
     "metadata": {},
     "output_type": "execute_result"
    }
   ],
   "source": [
    "six_month_period.describe()"
   ]
  },
  {
   "cell_type": "code",
   "execution_count": 64,
   "id": "5fc3c753-899c-494c-9a76-283b502c3957",
   "metadata": {},
   "outputs": [
    {
     "data": {
      "text/plain": [
       "<AxesSubplot:xlabel='Date'>"
      ]
     },
     "execution_count": 64,
     "metadata": {},
     "output_type": "execute_result"
    },
    {
     "data": {
      "image/png": "[encoded data removed]",
      "text/plain": [
       "<Figure size 1000x400 with 1 Axes>"
      ]
     },
     "metadata": {},
     "output_type": "display_data"
    }
   ],
   "source": [
    "six_month_period.Close.plot(legend=True,figsize=(10,4))"
   ]
  },
  {
   "cell_type": "code",
   "execution_count": 66,
   "id": "7213d571-ef8b-4248-859a-d0e3751e8367",
   "metadata": {},
   "outputs": [
    {
     "data": {
      "text/plain": [
       "<AxesSubplot:xlabel='Date'>"
      ]
     },
     "execution_count": 66,
     "metadata": {},
     "output_type": "execute_result"
    },
    {
     "data": {
      "image/png": "[encoded data removed]",
      "text/plain": [
       "<Figure size 1000x400 with 1 Axes>"
      ]
     },
     "metadata": {},
     "output_type": "display_data"
    }
   ],
   "source": [
    "six_month_period.Volume.plot(legend = True, figsize=(10,4))"
   ]
  },
  {
   "cell_type": "code",
   "execution_count": 77,
   "id": "07685161-77b6-4373-9a50-2a8e1a1a81dc",
   "metadata": {},
   "outputs": [
    {
     "data": {
      "text/plain": [
       "<AxesSubplot:xlabel='Date'>"
      ]
     },
     "execution_count": 77,
     "metadata": {},
     "output_type": "execute_result"
    },
    {
     "data": {
      "image/png": "[encoded data removed]",
      "text/plain": [
       "<Figure size 1000x400 with 1 Axes>"
      ]
     },
     "metadata": {},
     "output_type": "display_data"
    }
   ],
   "source": [
    "six_month_period.Close.plot(legend = True, figsize=(10,4))"
   ]
  },
  {
   "cell_type": "code",
   "execution_count": null,
   "id": "6362251c-4bd2-4da8-af43-2958ddd3a0f9",
   "metadata": {},
   "outputs": [],
   "source": []
  }
 ],
 "metadata": {
  "kernelspec": {
   "display_name": "Python 3 (ipykernel)",
   "language": "python",
   "name": "python3"
  },
  "language_info": {
   "codemirror_mode": {
    "name": "ipython",
    "version": 3
   },
   "file_extension": ".py",
   "mimetype": "text/x-python",
   "name": "python",
   "nbconvert_exporter": "python",
   "pygments_lexer": "ipython3",
   "version": "3.9.13"
  }
 },
 "nbformat": 4,
 "nbformat_minor": 5
}
