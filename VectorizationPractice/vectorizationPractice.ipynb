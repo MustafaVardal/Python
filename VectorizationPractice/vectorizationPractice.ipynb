{
 "cells": [
  {
   "cell_type": "code",
   "execution_count": 1,
   "id": "f5258887",
   "metadata": {},
   "outputs": [],
   "source": [
    "\"\"\"\"\"\n",
    "NumPy is not considered a framework. It is a library or package in Python that provides functionality for numerical computing.\n",
    "In general, frameworks provide a complete structure or set of tools for developing applications in a specific domain or for solving a particular problem. \n",
    "They often include libraries like NumPy as components to support specific functionalities\"\"\"\n",
    "import numpy as np \n",
    "import time"
   ]
  },
  {
   "cell_type": "code",
   "execution_count": 5,
   "id": "2f0edaa4",
   "metadata": {},
   "outputs": [
    {
     "name": "stdout",
     "output_type": "stream",
     "text": [
      "npzeros(4) : a = [0. 0. 0. 0.], a shape = (4,), a data type = afloat64\n",
      "np.zeros(4,) : a = [0. 0. 0. 0.], a shape = (4,), a data type = afloat64\n",
      "np.random.random_sample(4) : a = [0.81612496 0.78016374 0.13377178 0.32343973], a shape = (4,), a data type = afloat64\n"
     ]
    }
   ],
   "source": [
    "a = np.zeros(4);\n",
    "print(f\"npzeros(4) : a = {a}, a shape = {a.shape}, a data type = a {a.dtype}\")\n",
    "a = np.zeros((4,));\n",
    "print(f\"np.zeros(4,) : a = {a}, a shape = {a.shape}, a data type = a {a.dtype}\")\n",
    "a = np.random.random_sample(4); #Taking 4 randoms number in list\n",
    "print(f\"np.random.random_sample(4) : a = {a}, a shape = {a.shape}, a data type = a {a.dtype}\")"
   ]
  },
  {
   "cell_type": "code",
   "execution_count": 6,
   "id": "fa5d543b",
   "metadata": {},
   "outputs": [
    {
     "name": "stdout",
     "output_type": "stream",
     "text": [
      "np.arange(4) : a = [0 1 2 3], a shape = (4,), a data type = a int32\n",
      "np.random.rand(4) : a =[0.61657782 0.46671974 0.82361273 0.32619626], a shape = (4,), a data type = a float64\n"
     ]
    }
   ],
   "source": [
    "a = np.arange(4); # To see their index number\n",
    "print(f\"np.arange(4) : a = {a}, a shape = {a.shape}, a data type = a {a.dtype}\")\n",
    "a = np.random.rand(4);# Taking 4 randoms number in list\n",
    "print(f\"np.random.rand(4) : a ={a}, a shape = {a.shape}, a data type = a {a.dtype}\")"
   ]
  },
  {
   "cell_type": "code",
   "execution_count": 7,
   "id": "8c31876a",
   "metadata": {},
   "outputs": [
    {
     "name": "stdout",
     "output_type": "stream",
     "text": [
      "[0 1 2 3 4 5 6 7 8 9]\n"
     ]
    }
   ],
   "source": [
    "a = np.arange(10)\n",
    "print(a)"
   ]
  },
  {
   "cell_type": "code",
   "execution_count": 12,
   "id": "1a9135a2",
   "metadata": {},
   "outputs": [
    {
     "name": "stdout",
     "output_type": "stream",
     "text": [
      "a[2].shape: () a2 = 2, Accessing an element return a scalar \n",
      "a[-1] = 1\n",
      "The error message you will see is: \n",
      "index 10 is out of bounds for axis 0 with size 10\n"
     ]
    }
   ],
   "source": [
    "print (f\"a[2].shape: {a[2].shape} a2 = {a[2]}, Accessing an element return a scalar \")\n",
    "print(f\"a[-1] = {a[1]}\")\n",
    "try:\n",
    "    c=a[10]\n",
    "except Exception as e:\n",
    "    print(\"The error message you will see is: \")\n",
    "    print(e)"
   ]
  },
  {
   "cell_type": "code",
   "execution_count": 34,
   "id": "69a0bc36",
   "metadata": {},
   "outputs": [
    {
     "name": "stdout",
     "output_type": "stream",
     "text": [
      "a       =[0 1 2 3 4 5 6 7 8 9]\n",
      "a[2:7:1]=  [2 3 4 5 6]\n",
      "a[2:7:2]=  [2 4 6]\n",
      "a[1:8:8]=  [1]\n",
      "a[3:] =  [3 4 5 6 7 8 9]\n",
      "a(:3 )=  [0 1 2]\n",
      "a(:)=  [0 1 2 3 4 5 6 7 8 9]\n",
      "a[0:10:1]=  [0 1 2 3 4 5 6 7 8 9]\n"
     ]
    }
   ],
   "source": [
    "a = np.arange(10)\n",
    "print(f\"a       ={a}\")\n",
    "\n",
    "c = a[2:7:1]; # a[startpoint, stoppoint, step by number]\n",
    "print(\"a[2:7:1]= \", c)\n",
    "c = a[2:7:2];\n",
    "print(\"a[2:7:2]= \", c)\n",
    "c = a[1:8:8];\n",
    "print(\"a[1:8:8]= \", c)\n",
    "c = a[3:]; # bring all elements after 3 and also included 3.\n",
    "print(\"a[3:] = \", c)\n",
    "c = a[:3];\n",
    "print(\"a(:3 )= \", c)# bring all elements before 3 and not included 3.\n",
    "c = a[:];\n",
    "print(\"a(:)= \", c) # Now let's see all together elements!! As same with a[0:10:1]\n",
    "c = a[0:10:1];\n",
    "print(\"a[0:10:1]= \", c) # See what happends :D "
   ]
  },
  {
   "cell_type": "code",
   "execution_count": 45,
   "id": "ee75983f",
   "metadata": {},
   "outputs": [
    {
     "name": "stdout",
     "output_type": "stream",
     "text": [
      "a list =  [1 2 3 4]\n",
      "a list =  [1 2 3 4]\n",
      "b = -a           : [-1 -2 -3 -4]\n",
      "Sum of a list values-->  10\n",
      "Mean of a list values-->  2.5\n",
      "Square of a list values!  [ 1  4  9 16]\n"
     ]
    }
   ],
   "source": [
    "a = np.array([1,2,3,4]); #Here is number of god list operator... ARRAY FUNC!!\n",
    "print(\"a list = \", a) # Hmm.. Looks similar with other print right? Lets deep analyst by Chatgpt :D \n",
    "print(f\"a list =  {a}\") # Go down to analyze both differences :) (Nothing :D) It is just a show different way.\n",
    "# Both methods will output the same result, displaying the string \"a list =\" followed by the value of a. \n",
    "#The choice between the two options depends on personal preference or the specific requirements of the code you are writing.\n",
    "b = -a # We did negative values in our list values :) \n",
    "print(\"b = -a           :\" , b)# I will prefer to use because of I get used this option...\n",
    "b = np.sum(a) # Numpy library little bit good to show what we need to know about numpy !! Sum(function)\n",
    "print(\"Sum of a list values--> \" , b)\n",
    "b = np.mean(a) # Meam funtion :)\n",
    "print(\"Mean of a list values--> \", b)\n",
    "b = a**2 # What you think square we do not want to right 2 times *2*2...\n",
    "# It will calculate each values square list first element of list 1**2 = 1x1= 1,... 4**2= 4x4 = 16\n",
    "print(\"Square of each list values! \", b) "
   ]
  },
  {
   "cell_type": "code",
   "execution_count": 51,
   "id": "7f9cc885",
   "metadata": {},
   "outputs": [
    {
     "name": "stdout",
     "output_type": "stream",
     "text": [
      "Calculate both vectors elements:  [0 0 6 8]\n",
      "The error message you'll see is:\n",
      "operands could not be broadcast together with shapes (4,) (2,) \n"
     ]
    }
   ],
   "source": [
    "### Let use some adding stuff with using 2 array lists (2 vectors)\n",
    "a = np.array([1,2,3,4]) # Looks simple. Determine the first list values as a step 1\n",
    "b = np.array([-1,-2,3,4]) # Here we go second list values Step 2\n",
    "print(\"Calculate both vectors elements: \", a+b)\n",
    "# Letss say we have different vector this one has 2 values not 4.\n",
    "c = np.array([1,2])\n",
    "try:\n",
    "    d = a + c\n",
    "except Exception as e:\n",
    "    print(\"The error message you'll see is:\")\n",
    "    print(e)"
   ]
  },
  {
   "cell_type": "code",
   "execution_count": 58,
   "id": "a72dcf29",
   "metadata": {},
   "outputs": [
    {
     "name": "stdout",
     "output_type": "stream",
     "text": [
      "a=  [1 2 3 4]\n",
      "4+a-->  [5 6 7 8]\n",
      "b= 5* a-->  [ 5 10 15 20]\n",
      "b = 5-a -->  [4 3 2 1]\n",
      "b = a/2-->  [0.5 1.  1.5 2. ]\n"
     ]
    }
   ],
   "source": [
    "## Scalar vectorrs : Regular number using for our list of values. use the math sign like '+,*,/,-'\n",
    "a = np.array([1,2,3,4])\n",
    "print(\"a= \", a)\n",
    "b= 4+a\n",
    "print(\"4+a--> \", b)\n",
    "b= 5*a\n",
    "print(\"b= 5* a--> \", b)\n",
    "b= 5-a\n",
    "print(\"b = 5-a --> \", b)\n",
    "b= a/2\n",
    "print(\"b = a/2--> \", b)\n"
   ]
  },
  {
   "cell_type": "code",
   "execution_count": 60,
   "id": "275d6819",
   "metadata": {},
   "outputs": [],
   "source": [
    "### Vector dot Product is little bit complex in math but you just need to know how it is work thats all.\n",
    "## Lets see in the example if you have 2 matrix one is a[(1,2,3,4)], other b[(1,2,3,4)]\n",
    "## we need to do dot product\n",
    "## first step take first value both of them a[(1)], b[(1)]\n",
    "## second step multipy both value 1x1=1\n",
    "## then keep first element 1\n",
    "## we are gonna do all of the other element same process elementsby following like: [(1,4,9,16)]\n",
    "## Then Lets use the dot product formula continue. \n",
    "## 1+4+9+16= 30\n",
    "## our result will come 30 :) \n",
    "\n",
    "## Lets implement our code block now :) \n",
    "\n",
    "def my_dot(a,b): # define as a my_dot name. this my_dot class has 2 different vector. a and b.\n",
    "    \"\"\"\n",
    "   Compute the dot product of two vectors\n",
    " \n",
    "    Args:\n",
    "      a (ndarray (n,)):  input vector \n",
    "      b (ndarray (n,)):  input vector with same dimension as a\n",
    "    \n",
    "    Returns:\n",
    "      x (scalar): \n",
    "    \"\"\"\n",
    "    x=0 #Empty storage case :) \n",
    "    for i in range(a.shape[0]):\n",
    "        x = x+a[i] *b[i]\n",
    "        # what happened in here. Simply use x as a storage begining point is 0. Its means empty lets fill the our storage.\n",
    "        # x = 0  + a[1] * b[1] x1=a[1]b[1] Then go storage for first element x= x1,x2,...xn \n",
    "        # then count how many element you have it.\n",
    "    return x ## Count steps and make same equation until the finishhin !!!\n"
   ]
  },
  {
   "cell_type": "code",
   "execution_count": 62,
   "id": "c76bed06",
   "metadata": {},
   "outputs": [
    {
     "name": "stdout",
     "output_type": "stream",
     "text": [
      "a and b dot product:  15\n"
     ]
    }
   ],
   "source": [
    "## Now lets take some regular to put our list and show whats going on over there.\n",
    "a = np.array([1,2,3,4])\n",
    "b = np.array([-1,-2,4,2])\n",
    "print(\"a and b dot product: \" , my_dot(a,b))"
   ]
  },
  {
   "cell_type": "code",
   "execution_count": 67,
   "id": "8c507129",
   "metadata": {},
   "outputs": [
    {
     "name": "stdout",
     "output_type": "stream",
     "text": [
      "Numpy example first try  np.dot(a,b):  15     &    np.dot(a,b).shape =  ()\n",
      "Numpy example first try  np.dot(b,a):  15     &    np.dot(b,a).shape =  ()\n"
     ]
    }
   ],
   "source": [
    "# Time to use numpy library !! \n",
    "a = np.array([1,2,3,4])\n",
    "b = np.array([-1,-2,4,2])\n",
    "c = np.dot(a,b)\n",
    "print(\"Numpy example first try  np.dot(a,b): \", c, \"    &    np.dot(a,b).shape = \",c.shape)\n",
    "### Lets calculate cross \n",
    "c = np.dot(b,a)\n",
    "print(\"Numpy example first try  np.dot(b,a): \", c, \"    &    np.dot(b,a).shape = \",c.shape)\n",
    "## It is intersting result coming with actually proof. :) \n",
    "#It means when you change 2 vectors by using dot product, there were nothing change "
   ]
  },
  {
   "cell_type": "code",
   "execution_count": 73,
   "id": "7db5fa07",
   "metadata": {},
   "outputs": [
    {
     "name": "stdout",
     "output_type": "stream",
     "text": [
      "np.dot(a, b) = 249825.0234\n",
      "Vectorized version duration: 0.0000 ms\n",
      "np.dot(a, b) = 249825.0234\n",
      "loop version duration: 519.5088 ms\n"
     ]
    }
   ],
   "source": [
    "# Lets compare which one is fastest.\n",
    "np.random.seed(1)\n",
    "a = np.random.rand(1000000) ## need to use large data\n",
    "b = np.random.rand(1000000) ## both of them.\n",
    "\n",
    "tic = time.time() # capture start time\n",
    "c = np.dot(a, b) # We use library numpy in here. \n",
    "toc = time.time() #capture end time\n",
    "\n",
    "print(\"np.dot(a, b) =\", format(c, '.4f')) # it will take 4 digit number after comma\n",
    "print(\"Vectorized version duration: {:.4f} ms\".format(1000 * (toc - tic)))\n",
    "\n",
    "tic = time.time() # capture start time\n",
    "c = my_dot(a,b) # We use class which called my_dot in here for loop \n",
    "toc = time.time() # capture end time\n",
    "\n",
    "print(\"np.dot(a, b) =\", format(c, '.4f')) # it will take 4 digit number after comma\n",
    "print(\"loop version duration: {:.4f} ms\".format(1000 * (toc - tic)))\n",
    "## In the output you can see clearly loop version duration is timely cost more than numpy lib.'\n",
    "del(a); del(b) # remove these big arrays from memory"
   ]
  },
  {
   "cell_type": "code",
   "execution_count": 79,
   "id": "4b8a9f23",
   "metadata": {},
   "outputs": [
    {
     "name": "stdout",
     "output_type": "stream",
     "text": [
      "X[1] has shape  (1,)\n",
      "w has shape  (1,)\n",
      "c has shape  ()\n"
     ]
    }
   ],
   "source": [
    "# vector vector example\n",
    "X = np.array([[1],[2],[3],[4]])\n",
    "w = np.array([2])\n",
    "c = np.dot(X[1],w)\n",
    "\n",
    "print(\"X[1] has shape \", X[1].shape)\n",
    "print(\"w has shape \", (w.shape))\n",
    "print(\"c has shape \", (c.shape))"
   ]
  },
  {
   "cell_type": "code",
   "execution_count": 81,
   "id": "731ac2e1",
   "metadata": {},
   "outputs": [
    {
     "name": "stdout",
     "output_type": "stream",
     "text": [
      "a shape=  (1, 5) a =  [[0. 0. 0. 0. 0.]]\n",
      "a shape =  (2, 1)  a=  [[0.]\n",
      " [0.]]\n",
      "a shape =  (1, 1)  a =  [[0.03762516]]\n"
     ]
    }
   ],
   "source": [
    "#How to create 2d or nd arrays.\n",
    "a = np.zeros((1,5))\n",
    "print(\"a shape= \" ,a.shape,\"a = \", a)\n",
    "\n",
    "a = np.zeros ((2,1))\n",
    "print(\"a shape = \", a.shape, \" a= \", a)\n",
    "\n",
    "a = np.random.random_sample((1,1))\n",
    "print(\"a shape = \", a.shape, \" a = \", a)"
   ]
  },
  {
   "cell_type": "code",
   "execution_count": 83,
   "id": "627d00da",
   "metadata": {},
   "outputs": [
    {
     "name": "stdout",
     "output_type": "stream",
     "text": [
      "a shape = (3, 1) np.array: a =  [[5]\n",
      " [4]\n",
      " [3]]\n",
      "a shape =  (3, 1) np.array: a =  [[5]\n",
      " [4]\n",
      " [3]]\n"
     ]
    }
   ],
   "source": [
    "# Npy routnes which allocate memport and fill with user features values\n",
    "a = np.array([[5], [4], [3]])\n",
    "print(\"a shape =\", a.shape, \"np.array: a = \", a)\n",
    "a = np.array ([[5],\n",
    "              [4],\n",
    "              [3]]);\n",
    "print(\"a shape = \", a.shape, \"np.array: a = \", a)\n",
    "\n"
   ]
  },
  {
   "cell_type": "code",
   "execution_count": 85,
   "id": "7e924b64",
   "metadata": {},
   "outputs": [
    {
     "name": "stdout",
     "output_type": "stream",
     "text": [
      "a.shape:  (3, 2) \n",
      "a=  [[0 1]\n",
      " [2 3]\n",
      " [4 5]]\n",
      "\n",
      "a[2,0].shape:  () a[2,0]=  4 type(a[2,0])=  <class 'numpy.int32'>\n",
      "a[2].shape:  (2,) a[2]:  [4 5] type(a[2])=  <class 'numpy.ndarray'>\n"
     ]
    }
   ],
   "source": [
    "# vector indexing operations...\n",
    "a = np.arange(6).reshape(-1, 2) #reshape is a convenient way to create matrix\n",
    "print(\"a.shape: \", a.shape, \"\\na= \", a)\n",
    "# access an element\n",
    "print(\"\\na[2,0].shape: \", a[2,0].shape, \"a[2,0]= \" , a[2,0],\n",
    "     \"type(a[2,0])= \", type(a[2,0]))\n",
    "#access a row\n",
    "print(\"a[2].shape: \", a[2].shape, \"a[2]: \", a[2], \"type(a[2])= \", type(a[2]))\n"
   ]
  },
  {
   "cell_type": "code",
   "execution_count": 88,
   "id": "80d8978a",
   "metadata": {},
   "outputs": [
    {
     "name": "stdout",
     "output_type": "stream",
     "text": [
      "a= \n",
      " [[ 0  1  2  3  4  5  6  7  8  9]\n",
      " [10 11 12 13 14 15 16 17 18 19]]\n",
      "a[0, 2:7:1]=  [2 3 4 5 6] , a[0, 2:7:1].shape=  (5,) a 1-d aray\n",
      "a[:, 2:7:1]= \n",
      " [[ 2  3  4  5  6]\n",
      " [12 13 14 15 16]] , a[:, 2:7:1].shape=  (2, 5) a 2-d aray\n",
      "a[:, :]= \n",
      " [[ 0  1  2  3  4  5  6  7  8  9]\n",
      " [10 11 12 13 14 15 16 17 18 19]] , a[:,:].shape=  (2, 10)\n",
      "a[1,:]=  [[10 11 12 13 14 15 16 17 18 19]] , a[1,:],shape=  (10,) a 1-D array\n",
      "a[1] =  [10 11 12 13 14 15 16 17 18 19] , a[1].shape=  (10,) a 1-D array\n"
     ]
    }
   ],
   "source": [
    "#vector 2-D slicing operations\n",
    "a = np.arange(20).reshape(-1,10)\n",
    "print(\"a= \\n\", a)\n",
    "\n",
    "# acces 5 consecutive elements (start: stop: step)\n",
    "print(\"a[0, 2:7:1]= \", a[0, 2:7:1], \", a[0, 2:7:1].shape= \", a[0, 2:7:1].shape, \"a 1-d aray\")\n",
    "print(\"a[:, 2:7:1]= \\n\", a[:, 2:7:1], \", a[:, 2:7:1].shape= \", a[:, 2:7:1].shape, \"a 2-d aray\")\n",
    "\n",
    "#access all elements\n",
    "print(\"a[:, :]= \\n\", a[:,:], \", a[:,:].shape= \", a[:,:].shape)\n",
    "\n",
    "# access all elements in one row (very common usage)\n",
    "print(\"a[1,:]= \", a[1:], \", a[1,:],shape= \", a[1,:].shape, \"a 1-D array\")\n",
    "# same as \n",
    "print(\"a[1] = \", a[1], \", a[1].shape= \", a[1].shape, \"a 1-D array\")"
   ]
  },
  {
   "cell_type": "code",
   "execution_count": null,
   "id": "067eb1ae",
   "metadata": {},
   "outputs": [],
   "source": []
  }
 ],
 "metadata": {
  "kernelspec": {
   "display_name": "Python 3 (ipykernel)",
   "language": "python",
   "name": "python3"
  },
  "language_info": {
   "codemirror_mode": {
    "name": "ipython",
    "version": 3
   },
   "file_extension": ".py",
   "mimetype": "text/x-python",
   "name": "python",
   "nbconvert_exporter": "python",
   "pygments_lexer": "ipython3",
   "version": "3.9.13"
  }
 },
 "nbformat": 4,
 "nbformat_minor": 5
}
