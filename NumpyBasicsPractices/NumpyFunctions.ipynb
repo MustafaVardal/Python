{
 "cells": [
  {
   "cell_type": "markdown",
   "id": "d9d8b8dd-4067-4f6c-bae3-cc1d85fbe5e0",
   "metadata": {},
   "source": [
    "### Numpy Library"
   ]
  },
  {
   "cell_type": "markdown",
   "id": "4222fe17-02c4-48bb-8901-5b9475d40606",
   "metadata": {},
   "source": [
    "***NUMPY IS FASTER THAN BASIC PYTHON. BECAUSE NUMPY IS WRITTEN BY C LANGUAGE. C LANGUAGE IS EASY TO INGERATION ASSEMBLY LANGUAGE.***"
   ]
  },
  {
   "cell_type": "code",
   "execution_count": 24,
   "id": "1fdaf746-f565-4d2e-9e9b-3b4d9e948df0",
   "metadata": {},
   "outputs": [],
   "source": [
    "import numpy as np"
   ]
  },
  {
   "cell_type": "markdown",
   "id": "5d62eda4-6b9b-438c-bef0-32834625292f",
   "metadata": {},
   "source": [
    "## numpy vs python basics"
   ]
  },
  {
   "cell_type": "code",
   "execution_count": 25,
   "id": "9380e59c-6054-49fe-9027-e115e4ebf1e5",
   "metadata": {},
   "outputs": [],
   "source": [
    "## Python numpy lib using"
   ]
  },
  {
   "cell_type": "code",
   "execution_count": 26,
   "id": "a7627313-dfad-46b7-aa18-ca2774be266f",
   "metadata": {},
   "outputs": [],
   "source": [
    "x = np.array([1,2,3,4,5])"
   ]
  },
  {
   "cell_type": "code",
   "execution_count": 27,
   "id": "43e209e4-298d-4d92-838d-c9e55b66e286",
   "metadata": {},
   "outputs": [
    {
     "name": "stdout",
     "output_type": "stream",
     "text": [
      "[1 2 3 4 5]\n"
     ]
    }
   ],
   "source": [
    "print(x)"
   ]
  },
  {
   "cell_type": "code",
   "execution_count": 28,
   "id": "e6bad269-1836-44a9-90f1-2039867c941d",
   "metadata": {},
   "outputs": [],
   "source": [
    "import time"
   ]
  },
  {
   "cell_type": "code",
   "execution_count": 29,
   "id": "4387aba6-081c-4f3f-973a-7c85bc6bde29",
   "metadata": {},
   "outputs": [],
   "source": [
    "start_time = time.time()"
   ]
  },
  {
   "cell_type": "code",
   "execution_count": 30,
   "id": "ca5f1f0a-b3bb-473f-8f0a-f704451d6f14",
   "metadata": {},
   "outputs": [],
   "source": [
    "a = np.arange(100000)"
   ]
  },
  {
   "cell_type": "code",
   "execution_count": 31,
   "id": "2c36cd42-98cc-4052-9f8f-4075b9864856",
   "metadata": {},
   "outputs": [
    {
     "data": {
      "text/plain": [
       "array([         0,          1,          4, ..., 1409465417, 1409665412,\n",
       "       1409865409], dtype=int32)"
      ]
     },
     "execution_count": 31,
     "metadata": {},
     "output_type": "execute_result"
    }
   ],
   "source": [
    "a **2"
   ]
  },
  {
   "cell_type": "code",
   "execution_count": 39,
   "id": "079336a7-78d1-4d8e-b7bd-608aa8d5afe9",
   "metadata": {},
   "outputs": [],
   "source": [
    "time_1 = time.time() - start_time"
   ]
  },
  {
   "cell_type": "code",
   "execution_count": 40,
   "id": "6a60c7c3-562f-4d13-ac9f-cc46fec82bfb",
   "metadata": {},
   "outputs": [
    {
     "name": "stdout",
     "output_type": "stream",
     "text": [
      "31.375853776931763\n"
     ]
    }
   ],
   "source": [
    "print(time_1)"
   ]
  },
  {
   "cell_type": "code",
   "execution_count": 33,
   "id": "23e7a50d-90f2-470a-84f9-867f4a73d390",
   "metadata": {},
   "outputs": [],
   "source": [
    "## Basic Python Using"
   ]
  },
  {
   "cell_type": "code",
   "execution_count": 34,
   "id": "50d09353-450b-4aed-b19b-80eadf14402f",
   "metadata": {},
   "outputs": [],
   "source": [
    "start_time_2 = time.time()"
   ]
  },
  {
   "cell_type": "code",
   "execution_count": 35,
   "id": "aaaf948d-c6ad-46eb-a89e-8cba4ba1627c",
   "metadata": {},
   "outputs": [],
   "source": [
    "l = range(100000)"
   ]
  },
  {
   "cell_type": "code",
   "execution_count": 36,
   "id": "416ee092-da18-4892-b4cd-7e38e457423b",
   "metadata": {
    "collapsed": true,
    "jupyter": {
     "outputs_hidden": true
    },
    "tags": []
   },
   "outputs": [
    {
     "data": {
      "text/plain": [
       "[0,\n",
       " 1,\n",
       " 4,\n",
       " 9,\n",
       " 16,\n",
       " 25,\n",
       " 36,\n",
       " 49,\n",
       " 64,\n",
       " 81,\n",
       " 100,\n",
       " 121,\n",
       " 144,\n",
       " 169,\n",
       " 196,\n",
       " 225,\n",
       " 256,\n",
       " 289,\n",
       " 324,\n",
       " 361,\n",
       " 400,\n",
       " 441,\n",
       " 484,\n",
       " 529,\n",
       " 576,\n",
       " 625,\n",
       " 676,\n",
       " 729,\n",
       " 784,\n",
       " 841,\n",
       " 900,\n",
       " 961,\n",
       " 1024,\n",
       " 1089,\n",
       " 1156,\n",
       " 1225,\n",
       " 1296,\n",
       " 1369,\n",
       " 1444,\n",
       " 1521,\n",
       " 1600,\n",
       " 1681,\n",
       " 1764,\n",
       " 1849,\n",
       " 1936,\n",
       " 2025,\n",
       " 2116,\n",
       " 2209,\n",
       " 2304,\n",
       " 2401,\n",
       " 2500,\n",
       " 2601,\n",
       " 2704,\n",
       " 2809,\n",
       " 2916,\n",
       " 3025,\n",
       " 3136,\n",
       " 3249,\n",
       " 3364,\n",
       " 3481,\n",
       " 3600,\n",
       " 3721,\n",
       " 3844,\n",
       " 3969,\n",
       " 4096,\n",
       " 4225,\n",
       " 4356,\n",
       " 4489,\n",
       " 4624,\n",
       " 4761,\n",
       " 4900,\n",
       " 5041,\n",
       " 5184,\n",
       " 5329,\n",
       " 5476,\n",
       " 5625,\n",
       " 5776,\n",
       " 5929,\n",
       " 6084,\n",
       " 6241,\n",
       " 6400,\n",
       " 6561,\n",
       " 6724,\n",
       " 6889,\n",
       " 7056,\n",
       " 7225,\n",
       " 7396,\n",
       " 7569,\n",
       " 7744,\n",
       " 7921,\n",
       " 8100,\n",
       " 8281,\n",
       " 8464,\n",
       " 8649,\n",
       " 8836,\n",
       " 9025,\n",
       " 9216,\n",
       " 9409,\n",
       " 9604,\n",
       " 9801,\n",
       " 10000,\n",
       " 10201,\n",
       " 10404,\n",
       " 10609,\n",
       " 10816,\n",
       " 11025,\n",
       " 11236,\n",
       " 11449,\n",
       " 11664,\n",
       " 11881,\n",
       " 12100,\n",
       " 12321,\n",
       " 12544,\n",
       " 12769,\n",
       " 12996,\n",
       " 13225,\n",
       " 13456,\n",
       " 13689,\n",
       " 13924,\n",
       " 14161,\n",
       " 14400,\n",
       " 14641,\n",
       " 14884,\n",
       " 15129,\n",
       " 15376,\n",
       " 15625,\n",
       " 15876,\n",
       " 16129,\n",
       " 16384,\n",
       " 16641,\n",
       " 16900,\n",
       " 17161,\n",
       " 17424,\n",
       " 17689,\n",
       " 17956,\n",
       " 18225,\n",
       " 18496,\n",
       " 18769,\n",
       " 19044,\n",
       " 19321,\n",
       " 19600,\n",
       " 19881,\n",
       " 20164,\n",
       " 20449,\n",
       " 20736,\n",
       " 21025,\n",
       " 21316,\n",
       " 21609,\n",
       " 21904,\n",
       " 22201,\n",
       " 22500,\n",
       " 22801,\n",
       " 23104,\n",
       " 23409,\n",
       " 23716,\n",
       " 24025,\n",
       " 24336,\n",
       " 24649,\n",
       " 24964,\n",
       " 25281,\n",
       " 25600,\n",
       " 25921,\n",
       " 26244,\n",
       " 26569,\n",
       " 26896,\n",
       " 27225,\n",
       " 27556,\n",
       " 27889,\n",
       " 28224,\n",
       " 28561,\n",
       " 28900,\n",
       " 29241,\n",
       " 29584,\n",
       " 29929,\n",
       " 30276,\n",
       " 30625,\n",
       " 30976,\n",
       " 31329,\n",
       " 31684,\n",
       " 32041,\n",
       " 32400,\n",
       " 32761,\n",
       " 33124,\n",
       " 33489,\n",
       " 33856,\n",
       " 34225,\n",
       " 34596,\n",
       " 34969,\n",
       " 35344,\n",
       " 35721,\n",
       " 36100,\n",
       " 36481,\n",
       " 36864,\n",
       " 37249,\n",
       " 37636,\n",
       " 38025,\n",
       " 38416,\n",
       " 38809,\n",
       " 39204,\n",
       " 39601,\n",
       " 40000,\n",
       " 40401,\n",
       " 40804,\n",
       " 41209,\n",
       " 41616,\n",
       " 42025,\n",
       " 42436,\n",
       " 42849,\n",
       " 43264,\n",
       " 43681,\n",
       " 44100,\n",
       " 44521,\n",
       " 44944,\n",
       " 45369,\n",
       " 45796,\n",
       " 46225,\n",
       " 46656,\n",
       " 47089,\n",
       " 47524,\n",
       " 47961,\n",
       " 48400,\n",
       " 48841,\n",
       " 49284,\n",
       " 49729,\n",
       " 50176,\n",
       " 50625,\n",
       " 51076,\n",
       " 51529,\n",
       " 51984,\n",
       " 52441,\n",
       " 52900,\n",
       " 53361,\n",
       " 53824,\n",
       " 54289,\n",
       " 54756,\n",
       " 55225,\n",
       " 55696,\n",
       " 56169,\n",
       " 56644,\n",
       " 57121,\n",
       " 57600,\n",
       " 58081,\n",
       " 58564,\n",
       " 59049,\n",
       " 59536,\n",
       " 60025,\n",
       " 60516,\n",
       " 61009,\n",
       " 61504,\n",
       " 62001,\n",
       " 62500,\n",
       " 63001,\n",
       " 63504,\n",
       " 64009,\n",
       " 64516,\n",
       " 65025,\n",
       " 65536,\n",
       " 66049,\n",
       " 66564,\n",
       " 67081,\n",
       " 67600,\n",
       " 68121,\n",
       " 68644,\n",
       " 69169,\n",
       " 69696,\n",
       " 70225,\n",
       " 70756,\n",
       " 71289,\n",
       " 71824,\n",
       " 72361,\n",
       " 72900,\n",
       " 73441,\n",
       " 73984,\n",
       " 74529,\n",
       " 75076,\n",
       " 75625,\n",
       " 76176,\n",
       " 76729,\n",
       " 77284,\n",
       " 77841,\n",
       " 78400,\n",
       " 78961,\n",
       " 79524,\n",
       " 80089,\n",
       " 80656,\n",
       " 81225,\n",
       " 81796,\n",
       " 82369,\n",
       " 82944,\n",
       " 83521,\n",
       " 84100,\n",
       " 84681,\n",
       " 85264,\n",
       " 85849,\n",
       " 86436,\n",
       " 87025,\n",
       " 87616,\n",
       " 88209,\n",
       " 88804,\n",
       " 89401,\n",
       " 90000,\n",
       " 90601,\n",
       " 91204,\n",
       " 91809,\n",
       " 92416,\n",
       " 93025,\n",
       " 93636,\n",
       " 94249,\n",
       " 94864,\n",
       " 95481,\n",
       " 96100,\n",
       " 96721,\n",
       " 97344,\n",
       " 97969,\n",
       " 98596,\n",
       " 99225,\n",
       " 99856,\n",
       " 100489,\n",
       " 101124,\n",
       " 101761,\n",
       " 102400,\n",
       " 103041,\n",
       " 103684,\n",
       " 104329,\n",
       " 104976,\n",
       " 105625,\n",
       " 106276,\n",
       " 106929,\n",
       " 107584,\n",
       " 108241,\n",
       " 108900,\n",
       " 109561,\n",
       " 110224,\n",
       " 110889,\n",
       " 111556,\n",
       " 112225,\n",
       " 112896,\n",
       " 113569,\n",
       " 114244,\n",
       " 114921,\n",
       " 115600,\n",
       " 116281,\n",
       " 116964,\n",
       " 117649,\n",
       " 118336,\n",
       " 119025,\n",
       " 119716,\n",
       " 120409,\n",
       " 121104,\n",
       " 121801,\n",
       " 122500,\n",
       " 123201,\n",
       " 123904,\n",
       " 124609,\n",
       " 125316,\n",
       " 126025,\n",
       " 126736,\n",
       " 127449,\n",
       " 128164,\n",
       " 128881,\n",
       " 129600,\n",
       " 130321,\n",
       " 131044,\n",
       " 131769,\n",
       " 132496,\n",
       " 133225,\n",
       " 133956,\n",
       " 134689,\n",
       " 135424,\n",
       " 136161,\n",
       " 136900,\n",
       " 137641,\n",
       " 138384,\n",
       " 139129,\n",
       " 139876,\n",
       " 140625,\n",
       " 141376,\n",
       " 142129,\n",
       " 142884,\n",
       " 143641,\n",
       " 144400,\n",
       " 145161,\n",
       " 145924,\n",
       " 146689,\n",
       " 147456,\n",
       " 148225,\n",
       " 148996,\n",
       " 149769,\n",
       " 150544,\n",
       " 151321,\n",
       " 152100,\n",
       " 152881,\n",
       " 153664,\n",
       " 154449,\n",
       " 155236,\n",
       " 156025,\n",
       " 156816,\n",
       " 157609,\n",
       " 158404,\n",
       " 159201,\n",
       " 160000,\n",
       " 160801,\n",
       " 161604,\n",
       " 162409,\n",
       " 163216,\n",
       " 164025,\n",
       " 164836,\n",
       " 165649,\n",
       " 166464,\n",
       " 167281,\n",
       " 168100,\n",
       " 168921,\n",
       " 169744,\n",
       " 170569,\n",
       " 171396,\n",
       " 172225,\n",
       " 173056,\n",
       " 173889,\n",
       " 174724,\n",
       " 175561,\n",
       " 176400,\n",
       " 177241,\n",
       " 178084,\n",
       " 178929,\n",
       " 179776,\n",
       " 180625,\n",
       " 181476,\n",
       " 182329,\n",
       " 183184,\n",
       " 184041,\n",
       " 184900,\n",
       " 185761,\n",
       " 186624,\n",
       " 187489,\n",
       " 188356,\n",
       " 189225,\n",
       " 190096,\n",
       " 190969,\n",
       " 191844,\n",
       " 192721,\n",
       " 193600,\n",
       " 194481,\n",
       " 195364,\n",
       " 196249,\n",
       " 197136,\n",
       " 198025,\n",
       " 198916,\n",
       " 199809,\n",
       " 200704,\n",
       " 201601,\n",
       " 202500,\n",
       " 203401,\n",
       " 204304,\n",
       " 205209,\n",
       " 206116,\n",
       " 207025,\n",
       " 207936,\n",
       " 208849,\n",
       " 209764,\n",
       " 210681,\n",
       " 211600,\n",
       " 212521,\n",
       " 213444,\n",
       " 214369,\n",
       " 215296,\n",
       " 216225,\n",
       " 217156,\n",
       " 218089,\n",
       " 219024,\n",
       " 219961,\n",
       " 220900,\n",
       " 221841,\n",
       " 222784,\n",
       " 223729,\n",
       " 224676,\n",
       " 225625,\n",
       " 226576,\n",
       " 227529,\n",
       " 228484,\n",
       " 229441,\n",
       " 230400,\n",
       " 231361,\n",
       " 232324,\n",
       " 233289,\n",
       " 234256,\n",
       " 235225,\n",
       " 236196,\n",
       " 237169,\n",
       " 238144,\n",
       " 239121,\n",
       " 240100,\n",
       " 241081,\n",
       " 242064,\n",
       " 243049,\n",
       " 244036,\n",
       " 245025,\n",
       " 246016,\n",
       " 247009,\n",
       " 248004,\n",
       " 249001,\n",
       " 250000,\n",
       " 251001,\n",
       " 252004,\n",
       " 253009,\n",
       " 254016,\n",
       " 255025,\n",
       " 256036,\n",
       " 257049,\n",
       " 258064,\n",
       " 259081,\n",
       " 260100,\n",
       " 261121,\n",
       " 262144,\n",
       " 263169,\n",
       " 264196,\n",
       " 265225,\n",
       " 266256,\n",
       " 267289,\n",
       " 268324,\n",
       " 269361,\n",
       " 270400,\n",
       " 271441,\n",
       " 272484,\n",
       " 273529,\n",
       " 274576,\n",
       " 275625,\n",
       " 276676,\n",
       " 277729,\n",
       " 278784,\n",
       " 279841,\n",
       " 280900,\n",
       " 281961,\n",
       " 283024,\n",
       " 284089,\n",
       " 285156,\n",
       " 286225,\n",
       " 287296,\n",
       " 288369,\n",
       " 289444,\n",
       " 290521,\n",
       " 291600,\n",
       " 292681,\n",
       " 293764,\n",
       " 294849,\n",
       " 295936,\n",
       " 297025,\n",
       " 298116,\n",
       " 299209,\n",
       " 300304,\n",
       " 301401,\n",
       " 302500,\n",
       " 303601,\n",
       " 304704,\n",
       " 305809,\n",
       " 306916,\n",
       " 308025,\n",
       " 309136,\n",
       " 310249,\n",
       " 311364,\n",
       " 312481,\n",
       " 313600,\n",
       " 314721,\n",
       " 315844,\n",
       " 316969,\n",
       " 318096,\n",
       " 319225,\n",
       " 320356,\n",
       " 321489,\n",
       " 322624,\n",
       " 323761,\n",
       " 324900,\n",
       " 326041,\n",
       " 327184,\n",
       " 328329,\n",
       " 329476,\n",
       " 330625,\n",
       " 331776,\n",
       " 332929,\n",
       " 334084,\n",
       " 335241,\n",
       " 336400,\n",
       " 337561,\n",
       " 338724,\n",
       " 339889,\n",
       " 341056,\n",
       " 342225,\n",
       " 343396,\n",
       " 344569,\n",
       " 345744,\n",
       " 346921,\n",
       " 348100,\n",
       " 349281,\n",
       " 350464,\n",
       " 351649,\n",
       " 352836,\n",
       " 354025,\n",
       " 355216,\n",
       " 356409,\n",
       " 357604,\n",
       " 358801,\n",
       " 360000,\n",
       " 361201,\n",
       " 362404,\n",
       " 363609,\n",
       " 364816,\n",
       " 366025,\n",
       " 367236,\n",
       " 368449,\n",
       " 369664,\n",
       " 370881,\n",
       " 372100,\n",
       " 373321,\n",
       " 374544,\n",
       " 375769,\n",
       " 376996,\n",
       " 378225,\n",
       " 379456,\n",
       " 380689,\n",
       " 381924,\n",
       " 383161,\n",
       " 384400,\n",
       " 385641,\n",
       " 386884,\n",
       " 388129,\n",
       " 389376,\n",
       " 390625,\n",
       " 391876,\n",
       " 393129,\n",
       " 394384,\n",
       " 395641,\n",
       " 396900,\n",
       " 398161,\n",
       " 399424,\n",
       " 400689,\n",
       " 401956,\n",
       " 403225,\n",
       " 404496,\n",
       " 405769,\n",
       " 407044,\n",
       " 408321,\n",
       " 409600,\n",
       " 410881,\n",
       " 412164,\n",
       " 413449,\n",
       " 414736,\n",
       " 416025,\n",
       " 417316,\n",
       " 418609,\n",
       " 419904,\n",
       " 421201,\n",
       " 422500,\n",
       " 423801,\n",
       " 425104,\n",
       " 426409,\n",
       " 427716,\n",
       " 429025,\n",
       " 430336,\n",
       " 431649,\n",
       " 432964,\n",
       " 434281,\n",
       " 435600,\n",
       " 436921,\n",
       " 438244,\n",
       " 439569,\n",
       " 440896,\n",
       " 442225,\n",
       " 443556,\n",
       " 444889,\n",
       " 446224,\n",
       " 447561,\n",
       " 448900,\n",
       " 450241,\n",
       " 451584,\n",
       " 452929,\n",
       " 454276,\n",
       " 455625,\n",
       " 456976,\n",
       " 458329,\n",
       " 459684,\n",
       " 461041,\n",
       " 462400,\n",
       " 463761,\n",
       " 465124,\n",
       " 466489,\n",
       " 467856,\n",
       " 469225,\n",
       " 470596,\n",
       " 471969,\n",
       " 473344,\n",
       " 474721,\n",
       " 476100,\n",
       " 477481,\n",
       " 478864,\n",
       " 480249,\n",
       " 481636,\n",
       " 483025,\n",
       " 484416,\n",
       " 485809,\n",
       " 487204,\n",
       " 488601,\n",
       " 490000,\n",
       " 491401,\n",
       " 492804,\n",
       " 494209,\n",
       " 495616,\n",
       " 497025,\n",
       " 498436,\n",
       " 499849,\n",
       " 501264,\n",
       " 502681,\n",
       " 504100,\n",
       " 505521,\n",
       " 506944,\n",
       " 508369,\n",
       " 509796,\n",
       " 511225,\n",
       " 512656,\n",
       " 514089,\n",
       " 515524,\n",
       " 516961,\n",
       " 518400,\n",
       " 519841,\n",
       " 521284,\n",
       " 522729,\n",
       " 524176,\n",
       " 525625,\n",
       " 527076,\n",
       " 528529,\n",
       " 529984,\n",
       " 531441,\n",
       " 532900,\n",
       " 534361,\n",
       " 535824,\n",
       " 537289,\n",
       " 538756,\n",
       " 540225,\n",
       " 541696,\n",
       " 543169,\n",
       " 544644,\n",
       " 546121,\n",
       " 547600,\n",
       " 549081,\n",
       " 550564,\n",
       " 552049,\n",
       " 553536,\n",
       " 555025,\n",
       " 556516,\n",
       " 558009,\n",
       " 559504,\n",
       " 561001,\n",
       " 562500,\n",
       " 564001,\n",
       " 565504,\n",
       " 567009,\n",
       " 568516,\n",
       " 570025,\n",
       " 571536,\n",
       " 573049,\n",
       " 574564,\n",
       " 576081,\n",
       " 577600,\n",
       " 579121,\n",
       " 580644,\n",
       " 582169,\n",
       " 583696,\n",
       " 585225,\n",
       " 586756,\n",
       " 588289,\n",
       " 589824,\n",
       " 591361,\n",
       " 592900,\n",
       " 594441,\n",
       " 595984,\n",
       " 597529,\n",
       " 599076,\n",
       " 600625,\n",
       " 602176,\n",
       " 603729,\n",
       " 605284,\n",
       " 606841,\n",
       " 608400,\n",
       " 609961,\n",
       " 611524,\n",
       " 613089,\n",
       " 614656,\n",
       " 616225,\n",
       " 617796,\n",
       " 619369,\n",
       " 620944,\n",
       " 622521,\n",
       " 624100,\n",
       " 625681,\n",
       " 627264,\n",
       " 628849,\n",
       " 630436,\n",
       " 632025,\n",
       " 633616,\n",
       " 635209,\n",
       " 636804,\n",
       " 638401,\n",
       " 640000,\n",
       " 641601,\n",
       " 643204,\n",
       " 644809,\n",
       " 646416,\n",
       " 648025,\n",
       " 649636,\n",
       " 651249,\n",
       " 652864,\n",
       " 654481,\n",
       " 656100,\n",
       " 657721,\n",
       " 659344,\n",
       " 660969,\n",
       " 662596,\n",
       " 664225,\n",
       " 665856,\n",
       " 667489,\n",
       " 669124,\n",
       " 670761,\n",
       " 672400,\n",
       " 674041,\n",
       " 675684,\n",
       " 677329,\n",
       " 678976,\n",
       " 680625,\n",
       " 682276,\n",
       " 683929,\n",
       " 685584,\n",
       " 687241,\n",
       " 688900,\n",
       " 690561,\n",
       " 692224,\n",
       " 693889,\n",
       " 695556,\n",
       " 697225,\n",
       " 698896,\n",
       " 700569,\n",
       " 702244,\n",
       " 703921,\n",
       " 705600,\n",
       " 707281,\n",
       " 708964,\n",
       " 710649,\n",
       " 712336,\n",
       " 714025,\n",
       " 715716,\n",
       " 717409,\n",
       " 719104,\n",
       " 720801,\n",
       " 722500,\n",
       " 724201,\n",
       " 725904,\n",
       " 727609,\n",
       " 729316,\n",
       " 731025,\n",
       " 732736,\n",
       " 734449,\n",
       " 736164,\n",
       " 737881,\n",
       " 739600,\n",
       " 741321,\n",
       " 743044,\n",
       " 744769,\n",
       " 746496,\n",
       " 748225,\n",
       " 749956,\n",
       " 751689,\n",
       " 753424,\n",
       " 755161,\n",
       " 756900,\n",
       " 758641,\n",
       " 760384,\n",
       " 762129,\n",
       " 763876,\n",
       " 765625,\n",
       " 767376,\n",
       " 769129,\n",
       " 770884,\n",
       " 772641,\n",
       " 774400,\n",
       " 776161,\n",
       " 777924,\n",
       " 779689,\n",
       " 781456,\n",
       " 783225,\n",
       " 784996,\n",
       " 786769,\n",
       " 788544,\n",
       " 790321,\n",
       " 792100,\n",
       " 793881,\n",
       " 795664,\n",
       " 797449,\n",
       " 799236,\n",
       " 801025,\n",
       " 802816,\n",
       " 804609,\n",
       " 806404,\n",
       " 808201,\n",
       " 810000,\n",
       " 811801,\n",
       " 813604,\n",
       " 815409,\n",
       " 817216,\n",
       " 819025,\n",
       " 820836,\n",
       " 822649,\n",
       " 824464,\n",
       " 826281,\n",
       " 828100,\n",
       " 829921,\n",
       " 831744,\n",
       " 833569,\n",
       " 835396,\n",
       " 837225,\n",
       " 839056,\n",
       " 840889,\n",
       " 842724,\n",
       " 844561,\n",
       " 846400,\n",
       " 848241,\n",
       " 850084,\n",
       " 851929,\n",
       " 853776,\n",
       " 855625,\n",
       " 857476,\n",
       " 859329,\n",
       " 861184,\n",
       " 863041,\n",
       " 864900,\n",
       " 866761,\n",
       " 868624,\n",
       " 870489,\n",
       " 872356,\n",
       " 874225,\n",
       " 876096,\n",
       " 877969,\n",
       " 879844,\n",
       " 881721,\n",
       " 883600,\n",
       " 885481,\n",
       " 887364,\n",
       " 889249,\n",
       " 891136,\n",
       " 893025,\n",
       " 894916,\n",
       " 896809,\n",
       " 898704,\n",
       " 900601,\n",
       " 902500,\n",
       " 904401,\n",
       " 906304,\n",
       " 908209,\n",
       " 910116,\n",
       " 912025,\n",
       " 913936,\n",
       " 915849,\n",
       " 917764,\n",
       " 919681,\n",
       " 921600,\n",
       " 923521,\n",
       " 925444,\n",
       " 927369,\n",
       " 929296,\n",
       " 931225,\n",
       " 933156,\n",
       " 935089,\n",
       " 937024,\n",
       " 938961,\n",
       " 940900,\n",
       " 942841,\n",
       " 944784,\n",
       " 946729,\n",
       " 948676,\n",
       " 950625,\n",
       " 952576,\n",
       " 954529,\n",
       " 956484,\n",
       " 958441,\n",
       " 960400,\n",
       " 962361,\n",
       " 964324,\n",
       " 966289,\n",
       " 968256,\n",
       " 970225,\n",
       " 972196,\n",
       " 974169,\n",
       " 976144,\n",
       " 978121,\n",
       " 980100,\n",
       " 982081,\n",
       " 984064,\n",
       " 986049,\n",
       " 988036,\n",
       " 990025,\n",
       " 992016,\n",
       " 994009,\n",
       " 996004,\n",
       " 998001,\n",
       " ...]"
      ]
     },
     "execution_count": 36,
     "metadata": {},
     "output_type": "execute_result"
    }
   ],
   "source": [
    "[index **2 for index in l]"
   ]
  },
  {
   "cell_type": "code",
   "execution_count": 37,
   "id": "2f38b29c-c9cc-451d-b3e9-70564daacc31",
   "metadata": {},
   "outputs": [],
   "source": [
    "time_2 = time.time() - start_time_2"
   ]
  },
  {
   "cell_type": "code",
   "execution_count": 38,
   "id": "7af75264-4cfd-4ba0-aad9-01a6f46b4b18",
   "metadata": {},
   "outputs": [
    {
     "name": "stdout",
     "output_type": "stream",
     "text": [
      "0.2956298669341131\n"
     ]
    }
   ],
   "source": [
    "print(time_2 / time_1)"
   ]
  },
  {
   "cell_type": "markdown",
   "id": "e80906f9-8daa-485c-8f27-b69f330f7a5f",
   "metadata": {},
   "source": [
    "### Creating ndarray with using numpy"
   ]
  },
  {
   "cell_type": "code",
   "execution_count": 42,
   "id": "8e48fcc3-512d-4836-b551-357b516496c2",
   "metadata": {},
   "outputs": [],
   "source": [
    "w = np.array([5,6,7,8,9])"
   ]
  },
  {
   "cell_type": "code",
   "execution_count": 43,
   "id": "3b4a4209-f48c-486e-83ff-9a79e0d9e915",
   "metadata": {},
   "outputs": [
    {
     "name": "stdout",
     "output_type": "stream",
     "text": [
      "[5 6 7 8 9]\n"
     ]
    }
   ],
   "source": [
    "print(w) ## Create 1-d array vectorization"
   ]
  },
  {
   "cell_type": "code",
   "execution_count": 44,
   "id": "d17b1709-d18b-4146-ad85-c26316fa1dac",
   "metadata": {},
   "outputs": [
    {
     "name": "stdout",
     "output_type": "stream",
     "text": [
      "<class 'numpy.ndarray'>\n"
     ]
    }
   ],
   "source": [
    "print(type(w))"
   ]
  },
  {
   "cell_type": "code",
   "execution_count": 55,
   "id": "ea547995-0e92-4a73-aa1e-dc99b72c85b7",
   "metadata": {},
   "outputs": [
    {
     "name": "stdout",
     "output_type": "stream",
     "text": [
      "(5,)\n"
     ]
    }
   ],
   "source": [
    "print(w.shape) ## Return as a tuple and show the count of element in same dimention."
   ]
  },
  {
   "cell_type": "code",
   "execution_count": 56,
   "id": "6e752381-9915-4e4c-9fe5-bdd3feb48127",
   "metadata": {},
   "outputs": [
    {
     "name": "stdout",
     "output_type": "stream",
     "text": [
      "5\n"
     ]
    }
   ],
   "source": [
    "print(w.size) ## Shows that count of elements. "
   ]
  },
  {
   "cell_type": "code",
   "execution_count": 57,
   "id": "7b3ce86a-bf66-4287-ac58-271458b312c1",
   "metadata": {},
   "outputs": [
    {
     "name": "stdout",
     "output_type": "stream",
     "text": [
      "1\n"
     ]
    }
   ],
   "source": [
    "print(w.ndim) ## Shows the dimension."
   ]
  },
  {
   "cell_type": "code",
   "execution_count": 58,
   "id": "e76b92f3-1c8d-4af2-804a-76da4a7ec211",
   "metadata": {},
   "outputs": [
    {
     "name": "stdout",
     "output_type": "stream",
     "text": [
      "20\n"
     ]
    }
   ],
   "source": [
    "print(w.nbytes) ## Size of our array in memory"
   ]
  },
  {
   "cell_type": "code",
   "execution_count": 59,
   "id": "b6b13b11-fe09-4695-b986-cbbb7ceab606",
   "metadata": {},
   "outputs": [
    {
     "name": "stdout",
     "output_type": "stream",
     "text": [
      "int32\n"
     ]
    }
   ],
   "source": [
    "print(w.dtype) ## Type of element data types."
   ]
  },
  {
   "cell_type": "markdown",
   "id": "f30c219c-3ba6-4d77-af63-745da6dc4403",
   "metadata": {},
   "source": [
    "## 2-D array"
   ]
  },
  {
   "cell_type": "code",
   "execution_count": 62,
   "id": "e512c51c-106c-4534-948f-7b8edc57d8f9",
   "metadata": {},
   "outputs": [],
   "source": [
    "y = np.array([[12,23,34], [41,52,63]])"
   ]
  },
  {
   "cell_type": "code",
   "execution_count": 63,
   "id": "1a5dbc82-5fe6-411d-8d6e-aa8df8a6f775",
   "metadata": {},
   "outputs": [
    {
     "name": "stdout",
     "output_type": "stream",
     "text": [
      "<class 'numpy.ndarray'>\n"
     ]
    }
   ],
   "source": [
    "print(type(y))"
   ]
  },
  {
   "cell_type": "code",
   "execution_count": 64,
   "id": "d12b8dbc-4e61-44d6-8235-e69a736c5c21",
   "metadata": {},
   "outputs": [
    {
     "name": "stdout",
     "output_type": "stream",
     "text": [
      "(2, 3)\n"
     ]
    }
   ],
   "source": [
    "print(y.shape) ## Return as a tuple and show the count of element in same dimention. 2 is columns and 3 is rows."
   ]
  },
  {
   "cell_type": "code",
   "execution_count": 65,
   "id": "9336cf62-709b-4856-8bbb-5d9611a920fe",
   "metadata": {},
   "outputs": [
    {
     "name": "stdout",
     "output_type": "stream",
     "text": [
      "6\n"
     ]
    }
   ],
   "source": [
    "print(y.size) ## Shows that count of elements. "
   ]
  },
  {
   "cell_type": "code",
   "execution_count": 66,
   "id": "dd383230-e9ce-4091-bc0f-7960272d9c04",
   "metadata": {},
   "outputs": [
    {
     "name": "stdout",
     "output_type": "stream",
     "text": [
      "2\n"
     ]
    }
   ],
   "source": [
    "print(y.ndim) ## Shows the dimension."
   ]
  },
  {
   "cell_type": "code",
   "execution_count": 67,
   "id": "cf77487b-f6d8-4247-a933-1b925b1bc5c7",
   "metadata": {},
   "outputs": [
    {
     "name": "stdout",
     "output_type": "stream",
     "text": [
      "24\n"
     ]
    }
   ],
   "source": [
    "print(y.nbytes) ## Size of our array in memory"
   ]
  },
  {
   "cell_type": "code",
   "execution_count": 68,
   "id": "a32a4470-8c9c-4e8e-a58c-a49ac52af0ee",
   "metadata": {},
   "outputs": [
    {
     "name": "stdout",
     "output_type": "stream",
     "text": [
      "int32\n"
     ]
    }
   ],
   "source": [
    "print(y.dtype) ## Type of element data types."
   ]
  },
  {
   "cell_type": "code",
   "execution_count": 69,
   "id": "25bb5cf1-05bc-4d2f-b01a-08b235fb9846",
   "metadata": {},
   "outputs": [
    {
     "name": "stdout",
     "output_type": "stream",
     "text": [
      "[[[1 2]\n",
      "  [3 4]]\n",
      "\n",
      " [[5 6]\n",
      "  [7 8]]]\n"
     ]
    }
   ],
   "source": [
    "z = np.array([[[1,2],[3,4]], [[5,6],[7,8]]])\n",
    "print(z)"
   ]
  },
  {
   "cell_type": "code",
   "execution_count": 70,
   "id": "2e5523ac-eea0-4bb8-929a-87f7c0e5734d",
   "metadata": {},
   "outputs": [
    {
     "name": "stdout",
     "output_type": "stream",
     "text": [
      "(2, 2, 2)\n"
     ]
    }
   ],
   "source": [
    "print(z.shape)"
   ]
  },
  {
   "cell_type": "code",
   "execution_count": 71,
   "id": "54753a23-c13e-4971-87b3-49cfddf66df3",
   "metadata": {},
   "outputs": [
    {
     "name": "stdout",
     "output_type": "stream",
     "text": [
      "3\n"
     ]
    }
   ],
   "source": [
    "print(z.ndim)"
   ]
  },
  {
   "cell_type": "code",
   "execution_count": 72,
   "id": "d6712ea0-5165-4776-9e59-f3a2cb2c08ab",
   "metadata": {},
   "outputs": [],
   "source": [
    "x = np.array([1,2,3])"
   ]
  },
  {
   "cell_type": "code",
   "execution_count": 74,
   "id": "ec6d9403-66ca-4d0b-b39c-2f4e50798ea7",
   "metadata": {},
   "outputs": [
    {
     "name": "stdout",
     "output_type": "stream",
     "text": [
      "int32\n"
     ]
    }
   ],
   "source": [
    "print(x.dtype)"
   ]
  },
  {
   "cell_type": "code",
   "execution_count": 75,
   "id": "e1c5789a-6fa0-4ddc-86c8-ed2f4fd9b10c",
   "metadata": {},
   "outputs": [],
   "source": [
    "y = np.array([1,'2',3])"
   ]
  },
  {
   "cell_type": "code",
   "execution_count": 85,
   "id": "67afeee6-2454-4ea0-ac3d-d1051696e383",
   "metadata": {},
   "outputs": [
    {
     "name": "stdout",
     "output_type": "stream",
     "text": [
      "<U11\n"
     ]
    }
   ],
   "source": [
    "print(y.dtype) ## This is U11 character string. UpCasting"
   ]
  },
  {
   "cell_type": "code",
   "execution_count": 86,
   "id": "8d3b21b4-cc10-472d-a506-3657887c2e6f",
   "metadata": {},
   "outputs": [],
   "source": [
    "z = np.array([1,2.0,3])"
   ]
  },
  {
   "cell_type": "code",
   "execution_count": 87,
   "id": "08a34a6c-0dd8-45f1-8cda-a882990b5a0d",
   "metadata": {},
   "outputs": [
    {
     "name": "stdout",
     "output_type": "stream",
     "text": [
      "float64\n"
     ]
    }
   ],
   "source": [
    "print(z.dtype) ## It changes automatically upcasting"
   ]
  },
  {
   "cell_type": "code",
   "execution_count": 94,
   "id": "decf16c1-da50-4ef3-a8db-79098f969057",
   "metadata": {},
   "outputs": [],
   "source": [
    "x = np.array([3, 4.0, 5]) ## If you put float value, it will return automatically float64 type of data."
   ]
  },
  {
   "cell_type": "code",
   "execution_count": 95,
   "id": "ed95cb7f-0edd-433a-a2b2-9cffe871d983",
   "metadata": {},
   "outputs": [
    {
     "name": "stdout",
     "output_type": "stream",
     "text": [
      "[3. 4. 5.]\n"
     ]
    }
   ],
   "source": [
    "print(x)"
   ]
  },
  {
   "cell_type": "code",
   "execution_count": 96,
   "id": "19933734-141e-405a-a200-fcf4970983da",
   "metadata": {},
   "outputs": [
    {
     "name": "stdout",
     "output_type": "stream",
     "text": [
      "float64\n"
     ]
    }
   ],
   "source": [
    "print(x.dtype)"
   ]
  },
  {
   "cell_type": "markdown",
   "id": "783c7cac-18c3-440c-9b69-b61e5381c57d",
   "metadata": {},
   "source": [
    "### We can change the data type or we can determine the data type ownself"
   ]
  },
  {
   "cell_type": "code",
   "execution_count": 101,
   "id": "ea55b5f0-2a9e-4250-9795-81884507c594",
   "metadata": {},
   "outputs": [
    {
     "name": "stdout",
     "output_type": "stream",
     "text": [
      "[3 4 5]\n",
      "int32\n"
     ]
    },
    {
     "name": "stderr",
     "output_type": "stream",
     "text": [
      "C:\\Users\\Mustafa\\AppData\\Local\\Temp\\ipykernel_21012\\1321835609.py:1: DeprecationWarning: `np.int` is a deprecated alias for the builtin `int`. To silence this warning, use `int` by itself. Doing this will not modify any behavior and is safe. When replacing `np.int`, you may wish to use e.g. `np.int64` or `np.int32` to specify the precision. If you wish to review your current use, check the release note link for additional information.\n",
      "Deprecated in NumPy 1.20; for more details and guidance: https://numpy.org/devdocs/release/1.20.0-notes.html#deprecations\n",
      "  x = np.array([3,4,5], dtype = np.int)\n"
     ]
    }
   ],
   "source": [
    "x = np.array([3,4,5], dtype = np.int)\n",
    "print(x)\n",
    "print(x.dtype)"
   ]
  },
  {
   "cell_type": "code",
   "execution_count": 102,
   "id": "671d67d1-d5dd-469b-9d8e-e7b757c6f007",
   "metadata": {},
   "outputs": [
    {
     "name": "stdout",
     "output_type": "stream",
     "text": [
      "[3. 4. 5.]\n",
      "float64\n"
     ]
    },
    {
     "name": "stderr",
     "output_type": "stream",
     "text": [
      "C:\\Users\\Mustafa\\AppData\\Local\\Temp\\ipykernel_21012\\4270860435.py:1: DeprecationWarning: `np.float` is a deprecated alias for the builtin `float`. To silence this warning, use `float` by itself. Doing this will not modify any behavior and is safe. If you specifically wanted the numpy scalar type, use `np.float64` here.\n",
      "Deprecated in NumPy 1.20; for more details and guidance: https://numpy.org/devdocs/release/1.20.0-notes.html#deprecations\n",
      "  y = np.array([3, 4, 5], dtype = np.float)\n"
     ]
    }
   ],
   "source": [
    "y = np.array([3, 4, 5], dtype = np.float)\n",
    "print(y)\n",
    "print(y.dtype)"
   ]
  },
  {
   "cell_type": "code",
   "execution_count": 103,
   "id": "365496a2-d2bc-4c50-934f-f9ee61b42619",
   "metadata": {},
   "outputs": [
    {
     "name": "stdout",
     "output_type": "stream",
     "text": [
      "[3.+0.j 4.+0.j 5.+0.j]\n",
      "complex128\n"
     ]
    },
    {
     "name": "stderr",
     "output_type": "stream",
     "text": [
      "C:\\Users\\Mustafa\\AppData\\Local\\Temp\\ipykernel_21012\\179252699.py:1: DeprecationWarning: `np.complex` is a deprecated alias for the builtin `complex`. To silence this warning, use `complex` by itself. Doing this will not modify any behavior and is safe. If you specifically wanted the numpy scalar type, use `np.complex128` here.\n",
      "Deprecated in NumPy 1.20; for more details and guidance: https://numpy.org/devdocs/release/1.20.0-notes.html#deprecations\n",
      "  z = np.array([3,4,5], dtype= np.complex)\n"
     ]
    }
   ],
   "source": [
    "z = np.array([3,4,5], dtype= np.complex)\n",
    "print(z)\n",
    "print(z.dtype)"
   ]
  },
  {
   "cell_type": "markdown",
   "id": "49f7a788-1aea-4e9f-bb5a-198addffec89",
   "metadata": {},
   "source": [
    "***We can say this issue downcast. We are taking the float type of value with int type of value***"
   ]
  },
  {
   "cell_type": "code",
   "execution_count": 104,
   "id": "ecd9de03-0150-4030-a1bf-b5e36a365147",
   "metadata": {},
   "outputs": [
    {
     "name": "stdout",
     "output_type": "stream",
     "text": [
      "[1 2 3]\n",
      "int32\n"
     ]
    },
    {
     "name": "stderr",
     "output_type": "stream",
     "text": [
      "C:\\Users\\Mustafa\\AppData\\Local\\Temp\\ipykernel_21012\\988212851.py:1: DeprecationWarning: `np.int` is a deprecated alias for the builtin `int`. To silence this warning, use `int` by itself. Doing this will not modify any behavior and is safe. When replacing `np.int`, you may wish to use e.g. `np.int64` or `np.int32` to specify the precision. If you wish to review your current use, check the release note link for additional information.\n",
      "Deprecated in NumPy 1.20; for more details and guidance: https://numpy.org/devdocs/release/1.20.0-notes.html#deprecations\n",
      "  x = np.array([1.2, 2.7, 3.8], dtype= np.int)\n"
     ]
    }
   ],
   "source": [
    "x = np.array([1.2, 2.7, 3.8], dtype= np.int)\n",
    "print(x)\n",
    "print(x.dtype)"
   ]
  },
  {
   "cell_type": "code",
   "execution_count": 106,
   "id": "759b2d1f-9f22-4793-8d4c-e6cb67b81526",
   "metadata": {},
   "outputs": [
    {
     "name": "stdout",
     "output_type": "stream",
     "text": [
      "[1. 2. 3. 4.]\n",
      "float64\n"
     ]
    },
    {
     "name": "stderr",
     "output_type": "stream",
     "text": [
      "C:\\Users\\Mustafa\\AppData\\Local\\Temp\\ipykernel_21012\\3628500105.py:1: DeprecationWarning: `np.float` is a deprecated alias for the builtin `float`. To silence this warning, use `float` by itself. Doing this will not modify any behavior and is safe. If you specifically wanted the numpy scalar type, use `np.float64` here.\n",
      "Deprecated in NumPy 1.20; for more details and guidance: https://numpy.org/devdocs/release/1.20.0-notes.html#deprecations\n",
      "  x = np.array ([1,2,3,4], dtype=np.float)\n"
     ]
    }
   ],
   "source": [
    "x = np.array ([1,2,3,4], dtype=np.float)\n",
    "print(x)\n",
    "print(x.dtype)"
   ]
  },
  {
   "cell_type": "markdown",
   "id": "f914ca76-9c59-4980-b38c-3f8cbd759842",
   "metadata": {},
   "source": [
    "***We can change data type with different method***"
   ]
  },
  {
   "cell_type": "code",
   "execution_count": 107,
   "id": "3191c780-b067-4191-b499-abbb040d64b3",
   "metadata": {},
   "outputs": [],
   "source": [
    "x = np.array(x, dtype = complex) "
   ]
  },
  {
   "cell_type": "code",
   "execution_count": 108,
   "id": "ec05c65b-791e-4cef-8f72-236aaba1a6d0",
   "metadata": {},
   "outputs": [
    {
     "name": "stdout",
     "output_type": "stream",
     "text": [
      "[1.+0.j 2.+0.j 3.+0.j 4.+0.j]\n",
      "complex128\n"
     ]
    }
   ],
   "source": [
    "print(x)\n",
    "print(x.dtype)"
   ]
  },
  {
   "cell_type": "markdown",
   "id": "afedc72e-cf13-4e27-b081-4e63b3e5f9f0",
   "metadata": {},
   "source": [
    "***We can also use .astype method to change type of datas.***"
   ]
  },
  {
   "cell_type": "code",
   "execution_count": 109,
   "id": "7f91694f-8140-4ea0-aa14-856c8352e143",
   "metadata": {},
   "outputs": [
    {
     "name": "stdout",
     "output_type": "stream",
     "text": [
      "[1.+0.j 2.+0.j 3.+0.j 4.+0.j]\n",
      "complex128\n"
     ]
    },
    {
     "name": "stderr",
     "output_type": "stream",
     "text": [
      "C:\\Users\\Mustafa\\AppData\\Local\\Temp\\ipykernel_21012\\2797784807.py:1: DeprecationWarning: `np.complex` is a deprecated alias for the builtin `complex`. To silence this warning, use `complex` by itself. Doing this will not modify any behavior and is safe. If you specifically wanted the numpy scalar type, use `np.complex128` here.\n",
      "Deprecated in NumPy 1.20; for more details and guidance: https://numpy.org/devdocs/release/1.20.0-notes.html#deprecations\n",
      "  x= x.astype(np.complex)\n"
     ]
    }
   ],
   "source": [
    "x= x.astype(np.complex)\n",
    "print(x)\n",
    "print(x.dtype)"
   ]
  },
  {
   "cell_type": "code",
   "execution_count": 112,
   "id": "04dd6219-7ebb-442d-93e3-0b91ecc96a11",
   "metadata": {},
   "outputs": [
    {
     "name": "stderr",
     "output_type": "stream",
     "text": [
      "C:\\Users\\Mustafa\\AppData\\Local\\Temp\\ipykernel_21012\\3373102323.py:1: DeprecationWarning: `np.int` is a deprecated alias for the builtin `int`. To silence this warning, use `int` by itself. Doing this will not modify any behavior and is safe. When replacing `np.int`, you may wish to use e.g. `np.int64` or `np.int32` to specify the precision. If you wish to review your current use, check the release note link for additional information.\n",
      "Deprecated in NumPy 1.20; for more details and guidance: https://numpy.org/devdocs/release/1.20.0-notes.html#deprecations\n",
      "  x1 = np.array([1,2,3], dtype = np.int)\n",
      "C:\\Users\\Mustafa\\AppData\\Local\\Temp\\ipykernel_21012\\3373102323.py:2: DeprecationWarning: `np.float` is a deprecated alias for the builtin `float`. To silence this warning, use `float` by itself. Doing this will not modify any behavior and is safe. If you specifically wanted the numpy scalar type, use `np.float64` here.\n",
      "Deprecated in NumPy 1.20; for more details and guidance: https://numpy.org/devdocs/release/1.20.0-notes.html#deprecations\n",
      "  x2 = np.array([5.2, 2.8, 4.9], dtype= np.float)\n"
     ]
    }
   ],
   "source": [
    "x1 = np.array([1,2,3], dtype = np.int)\n",
    "x2 = np.array([5.2, 2.8, 4.9], dtype= np.float)"
   ]
  },
  {
   "cell_type": "code",
   "execution_count": 113,
   "id": "9500e9d0-13b8-4601-ae46-48c9f46874dc",
   "metadata": {},
   "outputs": [
    {
     "name": "stdout",
     "output_type": "stream",
     "text": [
      "[6.2 4.8 7.9]\n",
      "float64\n"
     ]
    }
   ],
   "source": [
    "print(x1 + x2)\n",
    "print((x1 + x2).dtype)"
   ]
  },
  {
   "cell_type": "code",
   "execution_count": 114,
   "id": "dec85889-5093-4693-b730-5238c64f9b1c",
   "metadata": {},
   "outputs": [
    {
     "name": "stdout",
     "output_type": "stream",
     "text": [
      "[nan  3.  2.]\n"
     ]
    },
    {
     "name": "stderr",
     "output_type": "stream",
     "text": [
      "C:\\Users\\Mustafa\\AppData\\Local\\Temp\\ipykernel_21012\\3619506021.py:1: DeprecationWarning: `np.float` is a deprecated alias for the builtin `float`. To silence this warning, use `float` by itself. Doing this will not modify any behavior and is safe. If you specifically wanted the numpy scalar type, use `np.float64` here.\n",
      "Deprecated in NumPy 1.20; for more details and guidance: https://numpy.org/devdocs/release/1.20.0-notes.html#deprecations\n",
      "  x = np.sqrt(np.array([-1, 9, 4], dtype = np.float))\n",
      "C:\\Users\\Mustafa\\AppData\\Local\\Temp\\ipykernel_21012\\3619506021.py:1: RuntimeWarning: invalid value encountered in sqrt\n",
      "  x = np.sqrt(np.array([-1, 9, 4], dtype = np.float))\n"
     ]
    }
   ],
   "source": [
    "x = np.sqrt(np.array([-1, 9, 4], dtype = np.float)) ## we need to do complex type of data. because if you want to get -1 square of root it need to be two different value. \n",
    "print(x)"
   ]
  },
  {
   "cell_type": "code",
   "execution_count": 116,
   "id": "ed4f376c-166c-4ac8-8962-221ac461e2e2",
   "metadata": {},
   "outputs": [
    {
     "name": "stdout",
     "output_type": "stream",
     "text": [
      "[0.+1.j 3.+0.j 2.+0.j]\n"
     ]
    },
    {
     "name": "stderr",
     "output_type": "stream",
     "text": [
      "C:\\Users\\Mustafa\\AppData\\Local\\Temp\\ipykernel_21012\\4040523975.py:1: DeprecationWarning: `np.complex` is a deprecated alias for the builtin `complex`. To silence this warning, use `complex` by itself. Doing this will not modify any behavior and is safe. If you specifically wanted the numpy scalar type, use `np.complex128` here.\n",
      "Deprecated in NumPy 1.20; for more details and guidance: https://numpy.org/devdocs/release/1.20.0-notes.html#deprecations\n",
      "  x= np.sqrt(np.array([-1,9,4], dtype = np.complex)) ## Now all is good.\n"
     ]
    }
   ],
   "source": [
    "x= np.sqrt(np.array([-1,9,4], dtype = np.complex)) ## Now all is good.\n",
    "print(x)"
   ]
  },
  {
   "cell_type": "code",
   "execution_count": 122,
   "id": "5fbd9910-a395-4cba-9904-32b4bdfe87a8",
   "metadata": {},
   "outputs": [
    {
     "name": "stdout",
     "output_type": "stream",
     "text": [
      "[0. 3. 2.]\n",
      "[1. 0. 0.]\n",
      "float64\n",
      "float64\n"
     ]
    }
   ],
   "source": [
    "print(x.real) ## We are gonna get real part. Example it will gives first value before + sign. 0., 3., 2.\n",
    "print(x.imag) ## we are gonna get imag part.  for example it will gives, part of +1.j +0.j + 0.j\n",
    "print((x.real).dtype) ## We can see in here part of real data type\n",
    "print((x.imag).dtype) ## We can see in here part of image data type"
   ]
  },
  {
   "cell_type": "markdown",
   "id": "ee6557f2-c3dc-4d55-9d30-ac0d2d881108",
   "metadata": {},
   "source": [
    "### Save and Load Method"
   ]
  },
  {
   "cell_type": "code",
   "execution_count": 123,
   "id": "9b6b7a94-83a4-4678-859d-0c85296f8714",
   "metadata": {},
   "outputs": [],
   "source": [
    "x = np.array([5, 9, 3.2, 16])"
   ]
  },
  {
   "cell_type": "code",
   "execution_count": 127,
   "id": "73b0363e-46cd-4a66-9f5e-8d3846747d6e",
   "metadata": {},
   "outputs": [],
   "source": [
    "np.save('ndarray_1', x) ## We save ndarray_1 as a file. "
   ]
  },
  {
   "cell_type": "code",
   "execution_count": 128,
   "id": "8a14a12e-7ccf-48bd-bf7c-427c72d67d0a",
   "metadata": {},
   "outputs": [
    {
     "name": "stdout",
     "output_type": "stream",
     "text": [
      "[ 5.   9.   3.2 16. ]\n",
      "(4,)\n"
     ]
    }
   ],
   "source": [
    "y = np.load('ndarray_1.npy') ## We can use in here load to get our saving file.\n",
    "print(y)\n",
    "print(y.shape)"
   ]
  },
  {
   "cell_type": "markdown",
   "id": "49c6e658-bc07-40a4-9ee6-25c8b6de7bf0",
   "metadata": {},
   "source": [
    "## Embedded Python/Numpy"
   ]
  },
  {
   "cell_type": "code",
   "execution_count": 129,
   "id": "c306d182-7af3-4830-b548-cd96d1b6c804",
   "metadata": {},
   "outputs": [
    {
     "name": "stdout",
     "output_type": "stream",
     "text": [
      "[3 9 8]\n",
      "<class 'numpy.ndarray'>\n"
     ]
    }
   ],
   "source": [
    "x = np.array([3, 9, 8])\n",
    "print(x)\n",
    "print(type(x))"
   ]
  },
  {
   "cell_type": "markdown",
   "id": "bb3b5870-e90c-4795-bf0a-66f860b00095",
   "metadata": {},
   "source": [
    "### np.zeros and np.ones"
   ]
  },
  {
   "cell_type": "code",
   "execution_count": 138,
   "id": "1206d7b1-2192-46cd-bd55-7270396d48c5",
   "metadata": {},
   "outputs": [
    {
     "name": "stdout",
     "output_type": "stream",
     "text": [
      "[0. 0. 0. 0.]\n",
      "float64\n"
     ]
    }
   ],
   "source": [
    "x1 = np.zeros(4)\n",
    "print(x1)\n",
    "print(x1.dtype) ## It will return float type of data"
   ]
  },
  {
   "cell_type": "code",
   "execution_count": 139,
   "id": "6e67fd9b-db0a-4f3f-8a96-5169a0099509",
   "metadata": {},
   "outputs": [
    {
     "name": "stdout",
     "output_type": "stream",
     "text": [
      "[1. 1. 1. 1.]\n",
      "float64\n"
     ]
    }
   ],
   "source": [
    "y1 = np.ones(4)\n",
    "print(y1)\n",
    "print(y1.dtype)"
   ]
  },
  {
   "cell_type": "markdown",
   "id": "7730f6fc-28d7-447c-b715-52db432e5038",
   "metadata": {},
   "source": [
    "**We can also create multi-D array.**"
   ]
  },
  {
   "cell_type": "code",
   "execution_count": 219,
   "id": "b520271d-030f-40aa-96df-917c7b87fb88",
   "metadata": {},
   "outputs": [
    {
     "name": "stdout",
     "output_type": "stream",
     "text": [
      "[[[0 0 0 0]\n",
      "  [0 0 0 0]\n",
      "  [0 0 0 0]]\n",
      "\n",
      " [[0 0 0 0]\n",
      "  [0 0 0 0]\n",
      "  [0 0 0 0]]]\n"
     ]
    },
    {
     "name": "stderr",
     "output_type": "stream",
     "text": [
      "C:\\Users\\Mustafa\\AppData\\Local\\Temp\\ipykernel_21012\\3653699308.py:1: DeprecationWarning: `np.int` is a deprecated alias for the builtin `int`. To silence this warning, use `int` by itself. Doing this will not modify any behavior and is safe. When replacing `np.int`, you may wish to use e.g. `np.int64` or `np.int32` to specify the precision. If you wish to review your current use, check the release note link for additional information.\n",
      "Deprecated in NumPy 1.20; for more details and guidance: https://numpy.org/devdocs/release/1.20.0-notes.html#deprecations\n",
      "  x2 = np.zeros((2,3,4), dtype = np.int) ## We create in here 2 different, 3 columns and 4 rows array. We create 3-d array..\n"
     ]
    }
   ],
   "source": [
    "x2 = np.zeros((2,3,4), dtype = np.int) ## We create in here 2 different, 3 columns and 4 rows array. We create 3-d array..\n",
    "print(x2) "
   ]
  },
  {
   "cell_type": "code",
   "execution_count": 220,
   "id": "21a8322d-0281-4148-b9ed-49c5565cceb7",
   "metadata": {},
   "outputs": [
    {
     "name": "stdout",
     "output_type": "stream",
     "text": [
      "[[1. 1.]\n",
      " [1. 1.]\n",
      " [1. 1.]]\n"
     ]
    }
   ],
   "source": [
    "y2 = np.ones((3,2)) ## We create this function 2-d\n",
    "print(y2)"
   ]
  },
  {
   "cell_type": "markdown",
   "id": "2e1b62b5-1351-4d44-9214-0b304dbc3629",
   "metadata": {},
   "source": [
    "***We can use this kinds of function to manipulate data.***"
   ]
  },
  {
   "cell_type": "markdown",
   "id": "43dda631-6ebe-427b-af95-1d3b3c3ad1c2",
   "metadata": {},
   "source": [
    "### np.full"
   ]
  },
  {
   "cell_type": "code",
   "execution_count": 221,
   "id": "827aa42d-53ec-438a-8039-14830aaad217",
   "metadata": {},
   "outputs": [
    {
     "name": "stdout",
     "output_type": "stream",
     "text": [
      "[[10 10 10]\n",
      " [10 10 10]]\n",
      "int32\n"
     ]
    }
   ],
   "source": [
    "x = np.full((2,3), 10) ## We create what we wanna put inside of the matrix. First we create columns and rows, then we create what we need to put in matrix.\n",
    "print(x)\n",
    "print(x.dtype)"
   ]
  },
  {
   "cell_type": "code",
   "execution_count": 223,
   "id": "41530724-23e3-48df-bc67-3bc17aab5621",
   "metadata": {},
   "outputs": [
    {
     "name": "stdout",
     "output_type": "stream",
     "text": [
      "[[10. 10. 10.]\n",
      " [10. 10. 10.]]\n",
      "float64\n"
     ]
    }
   ],
   "source": [
    "x = np.full((2,3), 10.0) ## In this particular example we can use 10.0 it will return automatically float type of array.\n",
    "print(x)\n",
    "print(x.dtype)"
   ]
  },
  {
   "cell_type": "code",
   "execution_count": 224,
   "id": "780814b9-a0bd-45c6-9328-9ffbf5d56231",
   "metadata": {},
   "outputs": [],
   "source": [
    "y = 10.0 * np.ones((2,3))"
   ]
  },
  {
   "cell_type": "code",
   "execution_count": 225,
   "id": "69181100-c1ec-4b88-ae2f-e434e05ec7d6",
   "metadata": {},
   "outputs": [],
   "source": [
    "z = 10.0 + np.zeros((2,3))"
   ]
  },
  {
   "cell_type": "code",
   "execution_count": 226,
   "id": "d89c940d-abd3-4e01-b82e-e5f68b9468a0",
   "metadata": {},
   "outputs": [
    {
     "name": "stdout",
     "output_type": "stream",
     "text": [
      "[[10. 10. 10.]\n",
      " [10. 10. 10.]]\n"
     ]
    }
   ],
   "source": [
    "print(y)"
   ]
  },
  {
   "cell_type": "code",
   "execution_count": 227,
   "id": "18ca2f2a-cd28-4db3-a20e-064a0576c48c",
   "metadata": {},
   "outputs": [
    {
     "name": "stdout",
     "output_type": "stream",
     "text": [
      "[[10. 10. 10.]\n",
      " [10. 10. 10.]]\n"
     ]
    }
   ],
   "source": [
    "print(z)"
   ]
  },
  {
   "cell_type": "markdown",
   "id": "e15e1607-69ed-4f1e-8165-5d9e2f6862f0",
   "metadata": {},
   "source": [
    "### np.empty() ,np.fill()"
   ]
  },
  {
   "cell_type": "code",
   "execution_count": 228,
   "id": "5a9970a5-6259-49f0-9e0d-ca8664ac0982",
   "metadata": {},
   "outputs": [],
   "source": [
    "x = np.empty((2,2)) ## It will come random values."
   ]
  },
  {
   "cell_type": "code",
   "execution_count": 229,
   "id": "f5135bdf-f61a-41c7-a6fc-c80de25a9d8b",
   "metadata": {},
   "outputs": [
    {
     "name": "stdout",
     "output_type": "stream",
     "text": [
      "[[0.         2.33333333]\n",
      " [4.66666667 7.        ]]\n"
     ]
    }
   ],
   "source": [
    "print(x)"
   ]
  },
  {
   "cell_type": "code",
   "execution_count": 230,
   "id": "0058a3b4-5564-4653-a09a-11d5b1a707ab",
   "metadata": {},
   "outputs": [
    {
     "name": "stdout",
     "output_type": "stream",
     "text": [
      "[[3. 3.]\n",
      " [3. 3.]]\n"
     ]
    }
   ],
   "source": [
    "x.fill(3) ## We are gonna use .fill() for what number we wanna fill in array.\n",
    "print(x)"
   ]
  },
  {
   "cell_type": "markdown",
   "id": "7811ab55-7b95-49c4-b5d9-73312337272b",
   "metadata": {},
   "source": [
    "### np.eye()"
   ]
  },
  {
   "cell_type": "markdown",
   "id": "c07c173c-d387-45d2-abb8-26f5e6d43590",
   "metadata": {},
   "source": [
    "***We can create unit matrix in here.***"
   ]
  },
  {
   "cell_type": "code",
   "execution_count": 231,
   "id": "8a095c8e-5204-4546-8383-bfe480f09231",
   "metadata": {},
   "outputs": [
    {
     "name": "stdout",
     "output_type": "stream",
     "text": [
      "[[1. 0. 0. 0.]\n",
      " [0. 1. 0. 0.]\n",
      " [0. 0. 1. 0.]\n",
      " [0. 0. 0. 1.]]\n"
     ]
    }
   ],
   "source": [
    "x = np.eye(4) ## It will bring diagonal matrix :) \n",
    "print(x)"
   ]
  },
  {
   "cell_type": "code",
   "execution_count": 232,
   "id": "fbf4ebcd-4f70-4fe0-88f9-b1b434e9e5b7",
   "metadata": {},
   "outputs": [],
   "source": [
    "y = np.eye(5,4) ## It will comes with last one zero values.."
   ]
  },
  {
   "cell_type": "code",
   "execution_count": 233,
   "id": "f8efb1be-2b1e-4ee5-86b4-4bb503f96645",
   "metadata": {},
   "outputs": [
    {
     "name": "stdout",
     "output_type": "stream",
     "text": [
      "[[1. 0. 0. 0.]\n",
      " [0. 1. 0. 0.]\n",
      " [0. 0. 1. 0.]\n",
      " [0. 0. 0. 1.]\n",
      " [0. 0. 0. 0.]]\n"
     ]
    }
   ],
   "source": [
    "print(y)"
   ]
  },
  {
   "cell_type": "code",
   "execution_count": 234,
   "id": "a6f8dd3a-4824-4887-9f10-45dbd7fd3c21",
   "metadata": {},
   "outputs": [],
   "source": [
    "x = np.eye(6)"
   ]
  },
  {
   "cell_type": "code",
   "execution_count": 235,
   "id": "f459183c-92e9-444b-9d0d-b492034e7a13",
   "metadata": {},
   "outputs": [
    {
     "name": "stdout",
     "output_type": "stream",
     "text": [
      "[[1. 0. 0. 0. 0. 0.]\n",
      " [0. 1. 0. 0. 0. 0.]\n",
      " [0. 0. 1. 0. 0. 0.]\n",
      " [0. 0. 0. 1. 0. 0.]\n",
      " [0. 0. 0. 0. 1. 0.]\n",
      " [0. 0. 0. 0. 0. 1.]]\n"
     ]
    }
   ],
   "source": [
    "print(x)"
   ]
  },
  {
   "cell_type": "code",
   "execution_count": 236,
   "id": "e5267d2a-a564-48d8-a8c5-e703ce8841da",
   "metadata": {},
   "outputs": [],
   "source": [
    "y = np.eye(6, k=1) ## It will shift \"1\" one unit right.."
   ]
  },
  {
   "cell_type": "code",
   "execution_count": 237,
   "id": "c4af3310-946f-4ec5-9b40-cbc27678f5ca",
   "metadata": {},
   "outputs": [
    {
     "name": "stdout",
     "output_type": "stream",
     "text": [
      "[[0. 1. 0. 0. 0. 0.]\n",
      " [0. 0. 1. 0. 0. 0.]\n",
      " [0. 0. 0. 1. 0. 0.]\n",
      " [0. 0. 0. 0. 1. 0.]\n",
      " [0. 0. 0. 0. 0. 1.]\n",
      " [0. 0. 0. 0. 0. 0.]]\n"
     ]
    }
   ],
   "source": [
    "print(y)"
   ]
  },
  {
   "cell_type": "code",
   "execution_count": 238,
   "id": "2572eb9e-b029-418b-a2f4-2b2ff49b2702",
   "metadata": {},
   "outputs": [],
   "source": [
    "z = np.eye(6, k=-2) ## It will shift \"1\" two unit left..."
   ]
  },
  {
   "cell_type": "code",
   "execution_count": 239,
   "id": "556b62b1-ea54-4f37-aa4f-895eb06a5adf",
   "metadata": {},
   "outputs": [
    {
     "name": "stdout",
     "output_type": "stream",
     "text": [
      "[[0. 0. 0. 0. 0. 0.]\n",
      " [0. 0. 0. 0. 0. 0.]\n",
      " [1. 0. 0. 0. 0. 0.]\n",
      " [0. 1. 0. 0. 0. 0.]\n",
      " [0. 0. 1. 0. 0. 0.]\n",
      " [0. 0. 0. 1. 0. 0.]]\n"
     ]
    }
   ],
   "source": [
    "print(z)"
   ]
  },
  {
   "cell_type": "markdown",
   "id": "20c05eec-c3a1-4ef7-9489-d2cc87b4df1f",
   "metadata": {},
   "source": [
    "### np.identity()"
   ]
  },
  {
   "cell_type": "code",
   "execution_count": 240,
   "id": "e2812e0f-1549-4a2e-8100-d009ca473ef7",
   "metadata": {},
   "outputs": [
    {
     "name": "stdout",
     "output_type": "stream",
     "text": [
      "[[1. 0. 0. 0. 0.]\n",
      " [0. 1. 0. 0. 0.]\n",
      " [0. 0. 1. 0. 0.]\n",
      " [0. 0. 0. 1. 0.]\n",
      " [0. 0. 0. 0. 1.]]\n"
     ]
    }
   ],
   "source": [
    "x = np.identity(5) # We create also identity method to create unit matrix\n",
    "print(x)"
   ]
  },
  {
   "cell_type": "markdown",
   "id": "207e938b-1456-4f4d-848c-c6e0c6f8c75c",
   "metadata": {},
   "source": [
    "### np.diag()"
   ]
  },
  {
   "cell_type": "code",
   "execution_count": 241,
   "id": "f9c68933-8b80-4ced-bd02-e07cd3371f9d",
   "metadata": {},
   "outputs": [
    {
     "name": "stdout",
     "output_type": "stream",
     "text": [
      "[[ 4  0  0  0]\n",
      " [ 0  7  0  0]\n",
      " [ 0  0 11  0]\n",
      " [ 0  0  0  3]]\n"
     ]
    }
   ],
   "source": [
    "x = np.diag([4,7,11,3]) ## We can determine diagonal numbers changing with our values.\n",
    "print(x)"
   ]
  },
  {
   "cell_type": "markdown",
   "id": "4b271c1a-4308-4e3d-ae45-cd86bae890c3",
   "metadata": {},
   "source": [
    "### np.arange()"
   ]
  },
  {
   "cell_type": "code",
   "execution_count": 242,
   "id": "791bcb22-08e1-4d94-85da-886ecc8b4a07",
   "metadata": {},
   "outputs": [
    {
     "name": "stdout",
     "output_type": "stream",
     "text": [
      "[0 1 2 3 4 5 6 7 8 9]\n"
     ]
    }
   ],
   "source": [
    "x = np.arange(10) # Creating 1 dimension array with index numbers.Or we can say that [0,10) in mathematically\n",
    "print(x) # it will count 0 to 10 because of te numpy knows this range between 0 to 10. Like, np.arange(0,10) "
   ]
  },
  {
   "cell_type": "code",
   "execution_count": 243,
   "id": "38531332-b993-47c6-b4a1-eda1869c07fc",
   "metadata": {},
   "outputs": [
    {
     "name": "stdout",
     "output_type": "stream",
     "text": [
      "[4 5 6 7 8]\n"
     ]
    }
   ],
   "source": [
    "y = np.arange(4,9)\n",
    "print(y)"
   ]
  },
  {
   "cell_type": "code",
   "execution_count": 244,
   "id": "e5b547a8-e7ba-487d-8c2a-20fe239c2c0f",
   "metadata": {},
   "outputs": [
    {
     "name": "stdout",
     "output_type": "stream",
     "text": [
      "[ 3  7 11 15 19]\n"
     ]
    }
   ],
   "source": [
    "z = np.arange(3, 22, 4) # Let say here 3 different parameter using.... When you decide to use these 3 different parameters you can think like (start,stop,step)\n",
    "print(z) ## [3+0, 3+4, 7+4, 11+4, 15+4] "
   ]
  },
  {
   "cell_type": "markdown",
   "id": "9f67b439-ee37-4ee8-95ef-8bf909be2eaf",
   "metadata": {},
   "source": [
    "### np.linspace()"
   ]
  },
  {
   "cell_type": "code",
   "execution_count": 245,
   "id": "3fcab86d-b7bc-419c-a47b-a51936fa5d1e",
   "metadata": {},
   "outputs": [
    {
     "name": "stdout",
     "output_type": "stream",
     "text": [
      "[ 0.          1.66666667  3.33333333  5.          6.66666667  8.33333333\n",
      " 10.         11.66666667 13.33333333 15.        ]\n"
     ]
    }
   ],
   "source": [
    "x = np.linspace(0, 15, 10) # linspace gives you a number which is using 10 limited random numbers. so we can say here (start,stop,limit)\n",
    "print(x)"
   ]
  },
  {
   "cell_type": "code",
   "execution_count": 246,
   "id": "1195fc6a-fe63-4dfa-a396-318738826845",
   "metadata": {},
   "outputs": [
    {
     "name": "stdout",
     "output_type": "stream",
     "text": [
      "[0.         2.33333333 4.66666667 7.        ]\n"
     ]
    }
   ],
   "source": [
    "x = np.linspace (0,7,4)\n",
    "print(x)"
   ]
  },
  {
   "cell_type": "code",
   "execution_count": 247,
   "id": "eb8eafe0-68a0-4fd8-a105-dd6f02de8e73",
   "metadata": {},
   "outputs": [
    {
     "name": "stdout",
     "output_type": "stream",
     "text": [
      "[0.         0.02040816 0.04081633 0.06122449 0.08163265 0.10204082\n",
      " 0.12244898 0.14285714 0.16326531 0.18367347 0.20408163 0.2244898\n",
      " 0.24489796 0.26530612 0.28571429 0.30612245 0.32653061 0.34693878\n",
      " 0.36734694 0.3877551  0.40816327 0.42857143 0.44897959 0.46938776\n",
      " 0.48979592 0.51020408 0.53061224 0.55102041 0.57142857 0.59183673\n",
      " 0.6122449  0.63265306 0.65306122 0.67346939 0.69387755 0.71428571\n",
      " 0.73469388 0.75510204 0.7755102  0.79591837 0.81632653 0.83673469\n",
      " 0.85714286 0.87755102 0.89795918 0.91836735 0.93877551 0.95918367\n",
      " 0.97959184 1.        ]\n"
     ]
    }
   ],
   "source": [
    "x = np.linspace(0,1) # If we did not put any number limit. it will count automatically 50...\n",
    "print(x)"
   ]
  },
  {
   "cell_type": "code",
   "execution_count": 248,
   "id": "eefae5ff-9e24-45f4-94ea-9c303113d613",
   "metadata": {},
   "outputs": [
    {
     "name": "stdout",
     "output_type": "stream",
     "text": [
      "[0.   0.08 0.16 0.24 0.32 0.4  0.48 0.56 0.64 0.72 0.8  0.88 0.96 1.04\n",
      " 1.12 1.2  1.28 1.36 1.44 1.52 1.6  1.68 1.76 1.84 1.92 2.   2.08 2.16\n",
      " 2.24 2.32 2.4  2.48 2.56 2.64 2.72 2.8  2.88 2.96 3.04 3.12 3.2  3.28\n",
      " 3.36 3.44 3.52 3.6  3.68 3.76 3.84 3.92]\n"
     ]
    }
   ],
   "source": [
    "x = np.linspace(0,4, endpoint = False) # We dont take last element in array.\n",
    "print(x)"
   ]
  },
  {
   "cell_type": "markdown",
   "id": "b1701db0-d3b8-4754-8fc7-94664fe38824",
   "metadata": {},
   "source": [
    "**WE CAN USE LINSPACE() METHOD TO USE DECIMAL NUMBER SUCH AS 0.12, 0.123**"
   ]
  },
  {
   "cell_type": "markdown",
   "id": "ea9a70cb-e522-459c-beac-eb996db73dea",
   "metadata": {},
   "source": [
    "### np.reshape()"
   ]
  },
  {
   "cell_type": "code",
   "execution_count": 249,
   "id": "6521b74f-3790-4f2f-8af5-dbaf886afede",
   "metadata": {},
   "outputs": [],
   "source": [
    "x= np.arange(20)"
   ]
  },
  {
   "cell_type": "code",
   "execution_count": 250,
   "id": "3ceda6dd-b7e9-4bc4-9fc9-1a83c02e9908",
   "metadata": {},
   "outputs": [
    {
     "name": "stdout",
     "output_type": "stream",
     "text": [
      "[ 0  1  2  3  4  5  6  7  8  9 10 11 12 13 14 15 16 17 18 19]\n"
     ]
    }
   ],
   "source": [
    "print(x)"
   ]
  },
  {
   "cell_type": "code",
   "execution_count": 251,
   "id": "9c1decf1-5f5d-464f-85f8-7f727bdb5d2b",
   "metadata": {},
   "outputs": [],
   "source": [
    "y = np.reshape(x, (4,5)) ## It will change dimension of array. !!! if we create 5,5 array we will get error. becasue 5x5 array need to be 25 elements."
   ]
  },
  {
   "cell_type": "code",
   "execution_count": 252,
   "id": "c9df6772-7953-4e38-9727-d06f712be5f9",
   "metadata": {},
   "outputs": [
    {
     "name": "stdout",
     "output_type": "stream",
     "text": [
      "[[ 0  1  2  3  4]\n",
      " [ 5  6  7  8  9]\n",
      " [10 11 12 13 14]\n",
      " [15 16 17 18 19]]\n"
     ]
    }
   ],
   "source": [
    "print(y)"
   ]
  },
  {
   "cell_type": "code",
   "execution_count": 253,
   "id": "c56034eb-1103-4c35-98bf-491550912915",
   "metadata": {},
   "outputs": [],
   "source": [
    "x = np.arange(32)"
   ]
  },
  {
   "cell_type": "code",
   "execution_count": 254,
   "id": "1af04738-41bc-4558-97be-d608b6b389a2",
   "metadata": {},
   "outputs": [
    {
     "name": "stdout",
     "output_type": "stream",
     "text": [
      "[ 0  1  2  3  4  5  6  7  8  9 10 11 12 13 14 15 16 17 18 19 20 21 22 23\n",
      " 24 25 26 27 28 29 30 31]\n"
     ]
    }
   ],
   "source": [
    "print(x)"
   ]
  },
  {
   "cell_type": "code",
   "execution_count": 255,
   "id": "18ee4bad-57e8-47e1-9e14-111048d9b682",
   "metadata": {},
   "outputs": [],
   "source": [
    " y =  np.reshape(x, (2,4,4)) "
   ]
  },
  {
   "cell_type": "code",
   "execution_count": 256,
   "id": "285e97c6-ddd0-4d33-abe0-9f976978a570",
   "metadata": {},
   "outputs": [
    {
     "name": "stdout",
     "output_type": "stream",
     "text": [
      "[[[ 0  1  2  3]\n",
      "  [ 4  5  6  7]\n",
      "  [ 8  9 10 11]\n",
      "  [12 13 14 15]]\n",
      "\n",
      " [[16 17 18 19]\n",
      "  [20 21 22 23]\n",
      "  [24 25 26 27]\n",
      "  [28 29 30 31]]]\n"
     ]
    }
   ],
   "source": [
    "print(y)"
   ]
  },
  {
   "cell_type": "code",
   "execution_count": 257,
   "id": "c7175908-d9ee-41be-9645-3394d57ca39c",
   "metadata": {},
   "outputs": [],
   "source": [
    "x = np.linspace(0, 19, 20)"
   ]
  },
  {
   "cell_type": "code",
   "execution_count": 258,
   "id": "3ca5ff48-51be-41e3-b865-05c57149ba8a",
   "metadata": {},
   "outputs": [
    {
     "name": "stdout",
     "output_type": "stream",
     "text": [
      "[ 0.  1.  2.  3.  4.  5.  6.  7.  8.  9. 10. 11. 12. 13. 14. 15. 16. 17.\n",
      " 18. 19.]\n"
     ]
    }
   ],
   "source": [
    "print(x)"
   ]
  },
  {
   "cell_type": "code",
   "execution_count": 259,
   "id": "3cdadd35-a8ce-4202-8a3c-f1e6cdf9ce8c",
   "metadata": {},
   "outputs": [],
   "source": [
    "y = np.reshape(x,(2,10))"
   ]
  },
  {
   "cell_type": "code",
   "execution_count": 260,
   "id": "9558ff00-11cf-4d5d-b9ca-0e944f77d8c3",
   "metadata": {},
   "outputs": [
    {
     "name": "stdout",
     "output_type": "stream",
     "text": [
      "[[ 0.  1.  2.  3.  4.  5.  6.  7.  8.  9.]\n",
      " [10. 11. 12. 13. 14. 15. 16. 17. 18. 19.]]\n"
     ]
    }
   ],
   "source": [
    "print(y)"
   ]
  },
  {
   "cell_type": "code",
   "execution_count": 261,
   "id": "2ee51174-ef81-468b-93e3-93ff1e7b06e6",
   "metadata": {},
   "outputs": [],
   "source": [
    "z = np.linspace(0, 19, 20).reshape(2,10)"
   ]
  },
  {
   "cell_type": "code",
   "execution_count": 262,
   "id": "487c87c2-0495-47fc-a490-7492f9fe180b",
   "metadata": {},
   "outputs": [
    {
     "name": "stdout",
     "output_type": "stream",
     "text": [
      "[[ 0.  1.  2.  3.  4.  5.  6.  7.  8.  9.]\n",
      " [10. 11. 12. 13. 14. 15. 16. 17. 18. 19.]]\n"
     ]
    }
   ],
   "source": [
    "print(z)"
   ]
  },
  {
   "cell_type": "markdown",
   "id": "ce0f1809-f57a-4c0e-86c4-66af0a9a4947",
   "metadata": {},
   "source": [
    "### np.random.random()"
   ]
  },
  {
   "cell_type": "code",
   "execution_count": 263,
   "id": "b29eeeda-0552-46a2-bc89-daff7349407e",
   "metadata": {},
   "outputs": [],
   "source": [
    "x = np.random.random((2,3)) ## it will come with [0,1)"
   ]
  },
  {
   "cell_type": "code",
   "execution_count": 264,
   "id": "c84b16e5-db4f-4f9b-80f9-b00a1f7f6d09",
   "metadata": {},
   "outputs": [
    {
     "name": "stdout",
     "output_type": "stream",
     "text": [
      "[[0.60207006 0.50279822 0.05510848]\n",
      " [0.98576987 0.34706233 0.29441386]]\n"
     ]
    }
   ],
   "source": [
    "print(x)"
   ]
  },
  {
   "cell_type": "markdown",
   "id": "c21016f0-7dad-4d88-83e0-8778efbae84b",
   "metadata": {},
   "source": [
    "### np.random.radint()"
   ]
  },
  {
   "cell_type": "code",
   "execution_count": 265,
   "id": "3710bf37-5b6d-454f-beb0-affb267b2bb5",
   "metadata": {},
   "outputs": [
    {
     "name": "stdout",
     "output_type": "stream",
     "text": [
      "[[ 4  8]\n",
      " [11  3]\n",
      " [ 4  3]]\n"
     ]
    }
   ],
   "source": [
    "x = np.random.randint(3, 12, size=(3,2)) ### it will come any int number take between 3 and 12 but the array need to be 3 columns and 2 rows.\n",
    "print(x)"
   ]
  },
  {
   "cell_type": "code",
   "execution_count": 266,
   "id": "e9afbf8e-e3e7-4120-b0ae-e7c7cfe95be4",
   "metadata": {},
   "outputs": [],
   "source": [
    "x = np.arange(5)"
   ]
  },
  {
   "cell_type": "code",
   "execution_count": 267,
   "id": "05ef01de-0e40-4125-99d0-9916a7834ecd",
   "metadata": {},
   "outputs": [
    {
     "name": "stdout",
     "output_type": "stream",
     "text": [
      "[0 1 2 3 4]\n"
     ]
    }
   ],
   "source": [
    "print(x)"
   ]
  },
  {
   "cell_type": "code",
   "execution_count": 268,
   "id": "8d5df5ff-2fc8-48d1-be0c-d9b76cd8791c",
   "metadata": {},
   "outputs": [
    {
     "name": "stdout",
     "output_type": "stream",
     "text": [
      "0\n"
     ]
    }
   ],
   "source": [
    "print(x[0])"
   ]
  },
  {
   "cell_type": "code",
   "execution_count": 269,
   "id": "1f2c9d6b-fc36-4d98-a108-5acba20e8dd5",
   "metadata": {},
   "outputs": [
    {
     "name": "stdout",
     "output_type": "stream",
     "text": [
      "2\n"
     ]
    }
   ],
   "source": [
    "print(x[2])"
   ]
  },
  {
   "cell_type": "code",
   "execution_count": 270,
   "id": "0f99d9b8-889c-4bde-bece-eac50c826323",
   "metadata": {},
   "outputs": [
    {
     "name": "stdout",
     "output_type": "stream",
     "text": [
      "4\n"
     ]
    }
   ],
   "source": [
    "print(x[5-1])"
   ]
  },
  {
   "cell_type": "code",
   "execution_count": 271,
   "id": "87066334-ba10-44a1-ae6d-62ec7127096a",
   "metadata": {},
   "outputs": [
    {
     "name": "stdout",
     "output_type": "stream",
     "text": [
      "4\n"
     ]
    }
   ],
   "source": [
    "print(x[-1])"
   ]
  },
  {
   "cell_type": "code",
   "execution_count": 272,
   "id": "3d7b3c7e-9a43-4f14-9bde-86670d81cbc6",
   "metadata": {},
   "outputs": [
    {
     "name": "stdout",
     "output_type": "stream",
     "text": [
      "0\n"
     ]
    }
   ],
   "source": [
    "print(x[-5])"
   ]
  },
  {
   "cell_type": "code",
   "execution_count": 273,
   "id": "d4dd7044-81cf-4e02-af2a-a0de2f17dfb1",
   "metadata": {},
   "outputs": [],
   "source": [
    "x [2]= 200 "
   ]
  },
  {
   "cell_type": "code",
   "execution_count": 274,
   "id": "2c8b6b9a-6f2a-426e-9412-3bac07c1aac2",
   "metadata": {},
   "outputs": [
    {
     "name": "stdout",
     "output_type": "stream",
     "text": [
      "\n"
     ]
    }
   ],
   "source": [
    "print()"
   ]
  },
  {
   "cell_type": "code",
   "execution_count": 275,
   "id": "eb156ed2-3704-4649-b3f8-056f8a547218",
   "metadata": {},
   "outputs": [
    {
     "name": "stdout",
     "output_type": "stream",
     "text": [
      "[  0   1 200   3   4]\n"
     ]
    }
   ],
   "source": [
    "print(x)"
   ]
  },
  {
   "cell_type": "code",
   "execution_count": 276,
   "id": "84db756c-da67-4cf4-97d3-a6b7b47877f7",
   "metadata": {},
   "outputs": [
    {
     "name": "stdout",
     "output_type": "stream",
     "text": [
      "200\n"
     ]
    }
   ],
   "source": [
    "print(x[2])"
   ]
  },
  {
   "cell_type": "code",
   "execution_count": 277,
   "id": "5a0f560b-0958-495c-a071-c3ecd495c4b7",
   "metadata": {},
   "outputs": [],
   "source": [
    "x = np.arange(12).reshape(3,4)"
   ]
  },
  {
   "cell_type": "code",
   "execution_count": 278,
   "id": "39111ba2-5e53-4990-9e4b-5ccde295663c",
   "metadata": {},
   "outputs": [
    {
     "name": "stdout",
     "output_type": "stream",
     "text": [
      "[[ 0  1  2  3]\n",
      " [ 4  5  6  7]\n",
      " [ 8  9 10 11]]\n"
     ]
    }
   ],
   "source": [
    "print(x)"
   ]
  },
  {
   "cell_type": "code",
   "execution_count": 279,
   "id": "784c2e66-deb8-4bc8-9a06-d40a9b225928",
   "metadata": {},
   "outputs": [
    {
     "name": "stdout",
     "output_type": "stream",
     "text": [
      "0\n"
     ]
    }
   ],
   "source": [
    "print(x[0,0])"
   ]
  },
  {
   "cell_type": "code",
   "execution_count": 280,
   "id": "2d8cb769-0d7b-4cc5-9fcb-dfc39e0df6ed",
   "metadata": {},
   "outputs": [
    {
     "name": "stdout",
     "output_type": "stream",
     "text": [
      "1\n"
     ]
    }
   ],
   "source": [
    "print(x[0,1])"
   ]
  },
  {
   "cell_type": "code",
   "execution_count": 281,
   "id": "d9b2cc1c-14b9-4186-87c8-6e36aaf8e80b",
   "metadata": {},
   "outputs": [
    {
     "name": "stdout",
     "output_type": "stream",
     "text": [
      "2\n"
     ]
    }
   ],
   "source": [
    "print(x[0,2])"
   ]
  },
  {
   "cell_type": "code",
   "execution_count": 282,
   "id": "848ea13f-fbf3-4cd3-b5e1-49fe422cdd02",
   "metadata": {},
   "outputs": [
    {
     "name": "stdout",
     "output_type": "stream",
     "text": [
      "7\n"
     ]
    }
   ],
   "source": [
    "print(x[1,3])"
   ]
  },
  {
   "cell_type": "code",
   "execution_count": 283,
   "id": "b777471d-cfa9-4a85-aa5a-cfbe0f5569cb",
   "metadata": {},
   "outputs": [
    {
     "name": "stdout",
     "output_type": "stream",
     "text": [
      "10\n"
     ]
    }
   ],
   "source": [
    "print(x[2,2])"
   ]
  },
  {
   "cell_type": "code",
   "execution_count": 284,
   "id": "5ca6adc4-2a27-43d7-81c2-d6a1e31092c0",
   "metadata": {},
   "outputs": [
    {
     "name": "stdout",
     "output_type": "stream",
     "text": [
      "100\n"
     ]
    }
   ],
   "source": [
    "x [0,0] = 100\n",
    "print(x[0,0])"
   ]
  },
  {
   "cell_type": "code",
   "execution_count": 285,
   "id": "892c9340-c673-4c80-ba77-a4a8a82c54f7",
   "metadata": {},
   "outputs": [
    {
     "name": "stdout",
     "output_type": "stream",
     "text": [
      "[[100   1   2   3]\n",
      " [  4   5   6   7]\n",
      " [  8   9  10  11]]\n"
     ]
    }
   ],
   "source": [
    "print(x)"
   ]
  },
  {
   "cell_type": "code",
   "execution_count": 286,
   "id": "adda6720-4663-45d8-b79c-5b375eb23df0",
   "metadata": {},
   "outputs": [],
   "source": [
    "x = np.arange(6) "
   ]
  },
  {
   "cell_type": "code",
   "execution_count": 287,
   "id": "e7f008fd-970c-4528-87e0-a122bb01bbc0",
   "metadata": {},
   "outputs": [
    {
     "name": "stdout",
     "output_type": "stream",
     "text": [
      "[0 1 2 3 4 5]\n"
     ]
    }
   ],
   "source": [
    "print(x)"
   ]
  },
  {
   "cell_type": "markdown",
   "id": "be6cbacd-99d7-4894-8612-f4fb656a7f30",
   "metadata": {},
   "source": [
    "### np.delete()"
   ]
  },
  {
   "cell_type": "code",
   "execution_count": 288,
   "id": "2e62ddfb-205f-4201-866a-9f9984152a5d",
   "metadata": {},
   "outputs": [],
   "source": [
    "y = np.delete(x, [0,1])"
   ]
  },
  {
   "cell_type": "code",
   "execution_count": 289,
   "id": "33ba7181-8410-4b8c-8106-2b489831e381",
   "metadata": {},
   "outputs": [
    {
     "name": "stdout",
     "output_type": "stream",
     "text": [
      "[2 3 4 5]\n",
      "[0 1 2 3 4 5]\n"
     ]
    }
   ],
   "source": [
    "print(y)\n",
    "print (x)"
   ]
  },
  {
   "cell_type": "code",
   "execution_count": 290,
   "id": "7b95f2bd-047f-4af2-ab4e-910718625887",
   "metadata": {},
   "outputs": [],
   "source": [
    "# axis =0 row - axis = 1 column  for 2-d array"
   ]
  },
  {
   "cell_type": "code",
   "execution_count": 291,
   "id": "ad3c4366-eea7-4d82-b4f1-6a024e4c0b80",
   "metadata": {},
   "outputs": [],
   "source": [
    "x =  np.arange(16).reshape(4,4)"
   ]
  },
  {
   "cell_type": "code",
   "execution_count": 292,
   "id": "b52ced00-0c95-4b61-9565-1144ffbc44c9",
   "metadata": {},
   "outputs": [
    {
     "name": "stdout",
     "output_type": "stream",
     "text": [
      "[[ 0  1  2  3]\n",
      " [ 4  5  6  7]\n",
      " [ 8  9 10 11]\n",
      " [12 13 14 15]]\n"
     ]
    }
   ],
   "source": [
    "print(x)"
   ]
  },
  {
   "cell_type": "code",
   "execution_count": 293,
   "id": "6161027b-c1ea-44a9-8450-422468da0b33",
   "metadata": {},
   "outputs": [
    {
     "name": "stdout",
     "output_type": "stream",
     "text": [
      "[[ 0  1  2  3]\n",
      " [ 8  9 10 11]\n",
      " [12 13 14 15]]\n"
     ]
    }
   ],
   "source": [
    "x = np.delete(x, 1, axis = 0)\n",
    "print(x)"
   ]
  },
  {
   "cell_type": "code",
   "execution_count": 294,
   "id": "28fbea03-64ac-461a-a2c6-82053f917151",
   "metadata": {},
   "outputs": [],
   "source": [
    "x =np.delete(x, [0,2], axis=1)"
   ]
  },
  {
   "cell_type": "code",
   "execution_count": 295,
   "id": "fb0f8fe5-c8f8-49fb-b537-bd5779ff8300",
   "metadata": {},
   "outputs": [
    {
     "name": "stdout",
     "output_type": "stream",
     "text": [
      "[[ 1  3]\n",
      " [ 9 11]\n",
      " [13 15]]\n"
     ]
    }
   ],
   "source": [
    "print(x)"
   ]
  },
  {
   "cell_type": "markdown",
   "id": "e83bb77f-6fb2-4c73-a27b-ed6cc98f0ce1",
   "metadata": {},
   "source": [
    "### np.append()"
   ]
  },
  {
   "cell_type": "code",
   "execution_count": 296,
   "id": "a578dcaf-2cf4-4f36-b5a5-fdf6980dffe0",
   "metadata": {},
   "outputs": [],
   "source": [
    "x = np.arange(5)"
   ]
  },
  {
   "cell_type": "code",
   "execution_count": 297,
   "id": "ac40e3be-5275-4e49-bc72-3ea122be810a",
   "metadata": {},
   "outputs": [
    {
     "name": "stdout",
     "output_type": "stream",
     "text": [
      "[0 1 2 3 4]\n"
     ]
    }
   ],
   "source": [
    "print(x)"
   ]
  },
  {
   "cell_type": "code",
   "execution_count": 298,
   "id": "ec586820-56d4-492e-9429-9b286e2e0135",
   "metadata": {},
   "outputs": [],
   "source": [
    "x = np.append(x, 100)"
   ]
  },
  {
   "cell_type": "code",
   "execution_count": 299,
   "id": "0852d8f4-479e-42e0-a0bc-a1e4a8fa6579",
   "metadata": {},
   "outputs": [
    {
     "name": "stdout",
     "output_type": "stream",
     "text": [
      "[  0   1   2   3   4 100]\n"
     ]
    }
   ],
   "source": [
    "print(x)"
   ]
  },
  {
   "cell_type": "code",
   "execution_count": 300,
   "id": "8de8a053-f3ec-442e-8d4f-c7ccc6f577a5",
   "metadata": {},
   "outputs": [],
   "source": [
    "x = np.append(x, [200,300])"
   ]
  },
  {
   "cell_type": "code",
   "execution_count": 301,
   "id": "add64eb1-a985-4685-9e0f-67eb5e9c8c4b",
   "metadata": {},
   "outputs": [
    {
     "name": "stdout",
     "output_type": "stream",
     "text": [
      "[  0   1   2   3   4 100 200 300]\n"
     ]
    }
   ],
   "source": [
    "print(x)"
   ]
  },
  {
   "cell_type": "code",
   "execution_count": 302,
   "id": "39e9f16c-260c-4ff8-a9dd-6765277218a3",
   "metadata": {},
   "outputs": [],
   "source": [
    "x = np.arange(9).reshape(3,3)"
   ]
  },
  {
   "cell_type": "markdown",
   "id": "c928268f-badb-4cb1-96ad-79127107d947",
   "metadata": {},
   "source": [
    "print(x)"
   ]
  },
  {
   "cell_type": "code",
   "execution_count": 305,
   "id": "6d50305c-4763-4504-bf52-4546c1ef8cc2",
   "metadata": {},
   "outputs": [
    {
     "name": "stdout",
     "output_type": "stream",
     "text": [
      "[[  0   1   2]\n",
      " [  3   4   5]\n",
      " [  6   7   8]\n",
      " [100 200 300]]\n"
     ]
    }
   ],
   "source": [
    "x = np.append(x, [[100, 200, 300]], axis= 0)\n",
    "print(x)"
   ]
  },
  {
   "cell_type": "code",
   "execution_count": 308,
   "id": "2fd16e77-3fe3-425c-8306-477c41f9d588",
   "metadata": {},
   "outputs": [],
   "source": [
    "x = np.append(x, [[50], [60], [70], [80]], axis = 1)"
   ]
  },
  {
   "cell_type": "code",
   "execution_count": 309,
   "id": "d880e003-aa3e-4a66-8939-1bb4a0c4373c",
   "metadata": {},
   "outputs": [
    {
     "name": "stdout",
     "output_type": "stream",
     "text": [
      "[[  0   1   2  50]\n",
      " [  3   4   5  60]\n",
      " [  6   7   8  70]\n",
      " [100 200 300  80]]\n"
     ]
    }
   ],
   "source": [
    "print(x)"
   ]
  },
  {
   "cell_type": "markdown",
   "id": "9fc36d42-52a2-4f2c-b839-74d2768055a9",
   "metadata": {},
   "source": [
    "### np.insert"
   ]
  },
  {
   "cell_type": "markdown",
   "id": "af809269-2ad1-44b5-8247-671fbb1bca7f",
   "metadata": {},
   "source": [
    "*** np.insert(array, index, element, axis for 2d)"
   ]
  },
  {
   "cell_type": "code",
   "execution_count": 337,
   "id": "227a3fc4-e8dc-462d-ad87-31f84529e941",
   "metadata": {},
   "outputs": [],
   "source": [
    "x = np.arange(5)"
   ]
  },
  {
   "cell_type": "code",
   "execution_count": 338,
   "id": "c417eca9-54f6-4f24-96be-6f35ed4c4084",
   "metadata": {},
   "outputs": [
    {
     "name": "stdout",
     "output_type": "stream",
     "text": [
      "[0 1 2 3 4]\n"
     ]
    }
   ],
   "source": [
    "print(x)"
   ]
  },
  {
   "cell_type": "code",
   "execution_count": 339,
   "id": "b6c3528a-340d-479c-8562-a45331644776",
   "metadata": {},
   "outputs": [],
   "source": [
    "x = np.insert(x, 1, [7,8]) "
   ]
  },
  {
   "cell_type": "code",
   "execution_count": 340,
   "id": "d2426744-9ae7-4d56-bbc5-7ccb4089f50a",
   "metadata": {},
   "outputs": [
    {
     "name": "stdout",
     "output_type": "stream",
     "text": [
      "[0 7 8 1 2 3 4]\n"
     ]
    }
   ],
   "source": [
    "print(x)"
   ]
  },
  {
   "cell_type": "code",
   "execution_count": 341,
   "id": "478a2de3-f050-4ff1-84d3-1e59947e6004",
   "metadata": {},
   "outputs": [],
   "source": [
    "x = np.arange(9).reshape(3,3)"
   ]
  },
  {
   "cell_type": "code",
   "execution_count": 342,
   "id": "7298aa6d-e376-4840-8e30-9f9f6a9a9a4f",
   "metadata": {},
   "outputs": [
    {
     "name": "stdout",
     "output_type": "stream",
     "text": [
      "[[0 1 2]\n",
      " [3 4 5]\n",
      " [6 7 8]]\n"
     ]
    }
   ],
   "source": [
    "print(x)"
   ]
  },
  {
   "cell_type": "code",
   "execution_count": 343,
   "id": "4975b07a-4991-4a19-b179-a09b955a4932",
   "metadata": {},
   "outputs": [],
   "source": [
    "x = np.insert (x, 1, [30, 40, 50], axis = 0)"
   ]
  },
  {
   "cell_type": "code",
   "execution_count": 344,
   "id": "877316bb-8c2d-4544-8239-42557e6ff150",
   "metadata": {},
   "outputs": [
    {
     "name": "stdout",
     "output_type": "stream",
     "text": [
      "[[ 0  1  2]\n",
      " [30 40 50]\n",
      " [ 3  4  5]\n",
      " [ 6  7  8]]\n"
     ]
    }
   ],
   "source": [
    "print(x)"
   ]
  },
  {
   "cell_type": "code",
   "execution_count": 347,
   "id": "b4e6c151-e312-4670-bafb-3c14e677d250",
   "metadata": {},
   "outputs": [],
   "source": [
    "x = np.insert(x, 0, [100,200,300, 400], axis = 1)"
   ]
  },
  {
   "cell_type": "code",
   "execution_count": 348,
   "id": "1ed2e9ef-cac8-4bae-8ca8-14d62c461af2",
   "metadata": {},
   "outputs": [
    {
     "name": "stdout",
     "output_type": "stream",
     "text": [
      "[[100   0   1   2]\n",
      " [200  30  40  50]\n",
      " [300   3   4   5]\n",
      " [400   6   7   8]]\n"
     ]
    }
   ],
   "source": [
    "print(x)"
   ]
  },
  {
   "cell_type": "markdown",
   "id": "705562e5-ab1a-4412-b971-72bbdfd25a9b",
   "metadata": {},
   "source": [
    "### np.stack()"
   ]
  },
  {
   "cell_type": "code",
   "execution_count": 349,
   "id": "517725f2-7e2c-42cb-ade3-5872c9f9b002",
   "metadata": {},
   "outputs": [],
   "source": [
    "x = np.arange(3)"
   ]
  },
  {
   "cell_type": "code",
   "execution_count": 350,
   "id": "938f7356-e03f-4daa-90fd-913a7bab9485",
   "metadata": {},
   "outputs": [
    {
     "name": "stdout",
     "output_type": "stream",
     "text": [
      "[0 1 2]\n"
     ]
    }
   ],
   "source": [
    "print(x)"
   ]
  },
  {
   "cell_type": "code",
   "execution_count": 351,
   "id": "abaebb8b-dac9-48d3-929b-d2e1ec91f3a2",
   "metadata": {},
   "outputs": [],
   "source": [
    "y = np.arange(9).reshape(3,3)"
   ]
  },
  {
   "cell_type": "code",
   "execution_count": 352,
   "id": "c0960448-1f18-4875-9510-1dccdcae82ae",
   "metadata": {},
   "outputs": [
    {
     "name": "stdout",
     "output_type": "stream",
     "text": [
      "[[0 1 2]\n",
      " [3 4 5]\n",
      " [6 7 8]]\n"
     ]
    }
   ],
   "source": [
    "print(y)"
   ]
  },
  {
   "cell_type": "code",
   "execution_count": 353,
   "id": "96015385-431b-47d3-a82f-a7094e8bf525",
   "metadata": {},
   "outputs": [],
   "source": [
    "z = np.vstack((x,y)) ## Vertical = vstack ... "
   ]
  },
  {
   "cell_type": "code",
   "execution_count": 354,
   "id": "7a9b6be7-84ae-4a64-8f36-044eaad84535",
   "metadata": {},
   "outputs": [
    {
     "name": "stdout",
     "output_type": "stream",
     "text": [
      "[[0 1 2]\n",
      " [0 1 2]\n",
      " [3 4 5]\n",
      " [6 7 8]]\n"
     ]
    }
   ],
   "source": [
    "print(z)"
   ]
  },
  {
   "cell_type": "code",
   "execution_count": 356,
   "id": "d1f8a2ec-9a38-42c5-b6cf-a49ea9215d73",
   "metadata": {},
   "outputs": [],
   "source": [
    "w =np.arange(9).reshape(3,3)"
   ]
  },
  {
   "cell_type": "code",
   "execution_count": 357,
   "id": "cc296c6c-12f6-4571-a878-a14c5ab0cab2",
   "metadata": {},
   "outputs": [
    {
     "name": "stdout",
     "output_type": "stream",
     "text": [
      "[[0 1 2]\n",
      " [3 4 5]\n",
      " [6 7 8]]\n"
     ]
    }
   ],
   "source": [
    "print(w)"
   ]
  },
  {
   "cell_type": "code",
   "execution_count": 360,
   "id": "576696d4-b0ef-4475-8591-03fa20fa098a",
   "metadata": {},
   "outputs": [],
   "source": [
    "t = np.hstack((y,w)) ## horizontal = hstack...."
   ]
  },
  {
   "cell_type": "code",
   "execution_count": 361,
   "id": "5fe5c54f-104d-4044-88c7-c23571c673cd",
   "metadata": {},
   "outputs": [
    {
     "name": "stdout",
     "output_type": "stream",
     "text": [
      "[[0 1 2 0 1 2]\n",
      " [3 4 5 3 4 5]\n",
      " [6 7 8 6 7 8]]\n"
     ]
    }
   ],
   "source": [
    "print(t)"
   ]
  },
  {
   "cell_type": "markdown",
   "id": "e988c693-c012-490a-80d9-66f49d71b26a",
   "metadata": {},
   "source": [
    "## Slicing"
   ]
  },
  {
   "cell_type": "markdown",
   "id": "5cc5be43-7c10-4ed5-804c-943d4b6c1f90",
   "metadata": {},
   "source": [
    "***ndarray[start:end]***, *ndarray[start:]*, **ndarray[:end]**"
   ]
  },
  {
   "cell_type": "code",
   "execution_count": 362,
   "id": "f421e4e1-5977-4852-b8ea-87644b8f34d6",
   "metadata": {},
   "outputs": [],
   "source": [
    "x = np.arange(10)"
   ]
  },
  {
   "cell_type": "code",
   "execution_count": 363,
   "id": "5f540b5c-5b8f-49e9-b2d7-0515f86dbece",
   "metadata": {},
   "outputs": [
    {
     "name": "stdout",
     "output_type": "stream",
     "text": [
      "[0 1 2 3 4 5 6 7 8 9]\n"
     ]
    }
   ],
   "source": [
    "print(x)"
   ]
  },
  {
   "cell_type": "code",
   "execution_count": 365,
   "id": "39206b8c-e1ca-481a-95db-402cb2828575",
   "metadata": {},
   "outputs": [
    {
     "name": "stdout",
     "output_type": "stream",
     "text": [
      "[2 3 4 5]\n"
     ]
    }
   ],
   "source": [
    "print(x[2:6])"
   ]
  },
  {
   "cell_type": "code",
   "execution_count": 366,
   "id": "04dc86b1-17e2-46cd-b2f3-5bb41dfcec25",
   "metadata": {},
   "outputs": [
    {
     "name": "stdout",
     "output_type": "stream",
     "text": [
      "[4 5 6 7 8 9]\n"
     ]
    }
   ],
   "source": [
    "print(x[4:])"
   ]
  },
  {
   "cell_type": "code",
   "execution_count": 367,
   "id": "6abe168e-4484-421e-a191-ff13cd229a41",
   "metadata": {},
   "outputs": [
    {
     "name": "stdout",
     "output_type": "stream",
     "text": [
      "[0 1 2 3 4 5]\n"
     ]
    }
   ],
   "source": [
    "print(x[:6])"
   ]
  },
  {
   "cell_type": "code",
   "execution_count": 368,
   "id": "75d0c144-2e65-4b36-9bcd-d76cbf8cfc56",
   "metadata": {},
   "outputs": [
    {
     "name": "stdout",
     "output_type": "stream",
     "text": [
      "[0 1 2 3 4 5 6 7 8]\n"
     ]
    }
   ],
   "source": [
    "print(x[:-1])"
   ]
  },
  {
   "cell_type": "code",
   "execution_count": 369,
   "id": "82150e2a-9452-4b5e-9e3d-bc0d5541189f",
   "metadata": {},
   "outputs": [
    {
     "name": "stdout",
     "output_type": "stream",
     "text": [
      "[0 1 2 3 4]\n"
     ]
    }
   ],
   "source": [
    "print(x[:-5])"
   ]
  },
  {
   "cell_type": "code",
   "execution_count": 370,
   "id": "e6e5205e-483f-4b1c-a9c4-f725fb7445f0",
   "metadata": {},
   "outputs": [
    {
     "name": "stdout",
     "output_type": "stream",
     "text": [
      "[8 9]\n"
     ]
    }
   ],
   "source": [
    "print(x[-2:])"
   ]
  },
  {
   "cell_type": "code",
   "execution_count": 371,
   "id": "e4294c2f-362d-40f8-be34-b75634ab38c4",
   "metadata": {},
   "outputs": [
    {
     "name": "stdout",
     "output_type": "stream",
     "text": [
      "[7 8 9]\n"
     ]
    }
   ],
   "source": [
    "print(x[-3:])"
   ]
  },
  {
   "cell_type": "code",
   "execution_count": 374,
   "id": "61e2f098-b449-450f-b997-a922d2ab40e3",
   "metadata": {},
   "outputs": [
    {
     "name": "stdout",
     "output_type": "stream",
     "text": [
      "[6 7]\n"
     ]
    }
   ],
   "source": [
    "print(x[-4:-2])"
   ]
  },
  {
   "cell_type": "code",
   "execution_count": 375,
   "id": "fd1e5894-8fb0-4b11-bef0-fdb2cf2230bc",
   "metadata": {},
   "outputs": [
    {
     "name": "stdout",
     "output_type": "stream",
     "text": [
      "[4 5 6 7 8]\n"
     ]
    }
   ],
   "source": [
    "print(x[-6:-1])"
   ]
  },
  {
   "cell_type": "markdown",
   "id": "84ece4bb-e7b4-428b-a711-ab0148739a20",
   "metadata": {},
   "source": [
    "***2d array slicing***"
   ]
  },
  {
   "cell_type": "code",
   "execution_count": 376,
   "id": "49bd37d9-746a-4dd2-ae66-73b163dda8db",
   "metadata": {},
   "outputs": [],
   "source": [
    "x = np.arange(25).reshape(5,5)"
   ]
  },
  {
   "cell_type": "code",
   "execution_count": 377,
   "id": "174745ce-76b4-499f-afd0-85b03a7d3f1d",
   "metadata": {},
   "outputs": [
    {
     "name": "stdout",
     "output_type": "stream",
     "text": [
      "[[ 0  1  2  3  4]\n",
      " [ 5  6  7  8  9]\n",
      " [10 11 12 13 14]\n",
      " [15 16 17 18 19]\n",
      " [20 21 22 23 24]]\n"
     ]
    }
   ],
   "source": [
    "print(x)"
   ]
  },
  {
   "cell_type": "code",
   "execution_count": 378,
   "id": "05be249a-1d94-4003-97f4-b39d0dd706f0",
   "metadata": {},
   "outputs": [
    {
     "name": "stdout",
     "output_type": "stream",
     "text": [
      "[[ 1  2  3]\n",
      " [ 6  7  8]\n",
      " [11 12 13]]\n"
     ]
    }
   ],
   "source": [
    "y = x[0:3, 1:4]\n",
    "print(y)"
   ]
  },
  {
   "cell_type": "code",
   "execution_count": 379,
   "id": "f4311cc0-8cb1-4c80-9465-05c0c76451d5",
   "metadata": {},
   "outputs": [
    {
     "name": "stdout",
     "output_type": "stream",
     "text": [
      "[[10 11 12 13 14]\n",
      " [15 16 17 18 19]\n",
      " [20 21 22 23 24]]\n"
     ]
    }
   ],
   "source": [
    "z = x[2:]\n",
    "print(z)"
   ]
  },
  {
   "cell_type": "code",
   "execution_count": 380,
   "id": "502ed25d-f443-4a0a-86cb-5f205c8728f8",
   "metadata": {},
   "outputs": [
    {
     "name": "stdout",
     "output_type": "stream",
     "text": [
      "[[ 0  1  2  3  4]\n",
      " [ 5  6  7  8  9]\n",
      " [10 11 12 13 14]\n",
      " [15 16 17 18 19]\n",
      " [20 21 22 23 24]]\n"
     ]
    }
   ],
   "source": [
    "t = x[::]\n",
    "print(t)"
   ]
  },
  {
   "cell_type": "code",
   "execution_count": 381,
   "id": "ecb8a6c0-735e-4c99-a7fc-5773311c0d2f",
   "metadata": {},
   "outputs": [
    {
     "name": "stdout",
     "output_type": "stream",
     "text": [
      "[[ 3  4]\n",
      " [ 8  9]\n",
      " [13 14]\n",
      " [18 19]\n",
      " [23 24]]\n"
     ]
    }
   ],
   "source": [
    "v = x[:,3:]\n",
    "print(v)"
   ]
  },
  {
   "cell_type": "code",
   "execution_count": 382,
   "id": "55f002d2-53c3-41a2-9bb3-f44274343d2e",
   "metadata": {},
   "outputs": [],
   "source": [
    "x =  np.arange(9).reshape(3,3)"
   ]
  },
  {
   "cell_type": "code",
   "execution_count": 383,
   "id": "8a084236-239f-45b8-8edc-d542bc8ceaf4",
   "metadata": {},
   "outputs": [
    {
     "name": "stdout",
     "output_type": "stream",
     "text": [
      "[[0 1 2]\n",
      " [3 4 5]\n",
      " [6 7 8]]\n"
     ]
    }
   ],
   "source": [
    "print(x)"
   ]
  },
  {
   "cell_type": "code",
   "execution_count": 384,
   "id": "8350d7bc-65f5-47d6-9d78-f83d6918fba0",
   "metadata": {},
   "outputs": [],
   "source": [
    "y = x[1:2, 0:2]"
   ]
  },
  {
   "cell_type": "code",
   "execution_count": 385,
   "id": "7055bc3d-9b93-4b0e-95f3-a25b1c65cc24",
   "metadata": {},
   "outputs": [
    {
     "name": "stdout",
     "output_type": "stream",
     "text": [
      "[[3 4]]\n"
     ]
    }
   ],
   "source": [
    "print(y)"
   ]
  },
  {
   "cell_type": "code",
   "execution_count": 386,
   "id": "d339fa49-30bf-42cc-b656-4a68a5fb59c4",
   "metadata": {},
   "outputs": [
    {
     "name": "stdout",
     "output_type": "stream",
     "text": [
      "[[100   4]]\n"
     ]
    }
   ],
   "source": [
    "y[0,0] = 100\n",
    "print(y)"
   ]
  },
  {
   "cell_type": "code",
   "execution_count": 387,
   "id": "dd6c7862-70b8-4bfe-903d-d641f939b991",
   "metadata": {},
   "outputs": [
    {
     "name": "stdout",
     "output_type": "stream",
     "text": [
      "[[  0   1   2]\n",
      " [100   4   5]\n",
      " [  6   7   8]]\n"
     ]
    }
   ],
   "source": [
    "print(x)"
   ]
  },
  {
   "cell_type": "code",
   "execution_count": 388,
   "id": "8c05bae1-20eb-4d3b-9e89-6985d47b29c2",
   "metadata": {},
   "outputs": [
    {
     "name": "stdout",
     "output_type": "stream",
     "text": [
      "True\n"
     ]
    }
   ],
   "source": [
    "print(np.shares_memory(x,y))"
   ]
  },
  {
   "cell_type": "code",
   "execution_count": 389,
   "id": "001ef1fd-2515-459f-8105-deb73d2cda3f",
   "metadata": {},
   "outputs": [],
   "source": [
    "x= np.arange(16).reshape(4,4)"
   ]
  },
  {
   "cell_type": "code",
   "execution_count": 390,
   "id": "d2d3fae5-297c-4334-9bdc-3028dff8597c",
   "metadata": {},
   "outputs": [
    {
     "name": "stdout",
     "output_type": "stream",
     "text": [
      "[[ 0  1  2  3]\n",
      " [ 4  5  6  7]\n",
      " [ 8  9 10 11]\n",
      " [12 13 14 15]]\n"
     ]
    }
   ],
   "source": [
    "print(x)"
   ]
  },
  {
   "cell_type": "code",
   "execution_count": 391,
   "id": "60af2a8c-4321-4946-98f2-5d57d3fcd9bd",
   "metadata": {},
   "outputs": [],
   "source": [
    "y = np.copy(x[0:3, 1:3]) "
   ]
  },
  {
   "cell_type": "code",
   "execution_count": 392,
   "id": "9f6c144f-78fe-4789-a325-e7378e461eb3",
   "metadata": {},
   "outputs": [
    {
     "name": "stdout",
     "output_type": "stream",
     "text": [
      "[[ 1  2]\n",
      " [ 5  6]\n",
      " [ 9 10]]\n"
     ]
    }
   ],
   "source": [
    "print(y)"
   ]
  },
  {
   "cell_type": "code",
   "execution_count": 394,
   "id": "30198476-62f2-4018-becf-7aa8ec591e0c",
   "metadata": {},
   "outputs": [
    {
     "name": "stdout",
     "output_type": "stream",
     "text": [
      "False\n"
     ]
    }
   ],
   "source": [
    "print(np.shares_memory(x,y)) ## It shows us both of us shared different memory."
   ]
  },
  {
   "cell_type": "code",
   "execution_count": 395,
   "id": "0a5973d1-28d3-4325-b3c9-159c62f9cebe",
   "metadata": {},
   "outputs": [
    {
     "name": "stdout",
     "output_type": "stream",
     "text": [
      "[[100   2]\n",
      " [  5   6]\n",
      " [  9  10]]\n",
      "[[ 0  1  2  3]\n",
      " [ 4  5  6  7]\n",
      " [ 8  9 10 11]\n",
      " [12 13 14 15]]\n"
     ]
    }
   ],
   "source": [
    "y[0,0] = 100\n",
    "print(y)\n",
    "print(x)"
   ]
  },
  {
   "cell_type": "code",
   "execution_count": 396,
   "id": "5c14985e-dce2-4844-b81e-799800559b15",
   "metadata": {},
   "outputs": [
    {
     "name": "stdout",
     "output_type": "stream",
     "text": [
      "[[5]]\n"
     ]
    }
   ],
   "source": [
    "z = x[1:2, 1:2].copy()\n",
    "print(z)"
   ]
  },
  {
   "cell_type": "code",
   "execution_count": 397,
   "id": "79806b37-3ba1-40c6-b205-2b2327939808",
   "metadata": {},
   "outputs": [
    {
     "name": "stdout",
     "output_type": "stream",
     "text": [
      "False\n"
     ]
    }
   ],
   "source": [
    "print(np.shares_memory(x,z))"
   ]
  },
  {
   "cell_type": "code",
   "execution_count": 398,
   "id": "9fd05da1-eaa6-493d-97ea-fd78e06585d2",
   "metadata": {},
   "outputs": [],
   "source": [
    "x = np.linspace(1,21,11) "
   ]
  },
  {
   "cell_type": "code",
   "execution_count": 399,
   "id": "ab9fbdbb-0dd0-40b1-901b-a18a46729c22",
   "metadata": {},
   "outputs": [
    {
     "name": "stdout",
     "output_type": "stream",
     "text": [
      "[ 1.  3.  5.  7.  9. 11. 13. 15. 17. 19. 21.]\n"
     ]
    }
   ],
   "source": [
    "print(x)"
   ]
  },
  {
   "cell_type": "code",
   "execution_count": 400,
   "id": "960db769-ae86-4e1c-a6c3-c35c3ee7906a",
   "metadata": {},
   "outputs": [],
   "source": [
    "y = np.array([2,4,7]) "
   ]
  },
  {
   "cell_type": "code",
   "execution_count": 401,
   "id": "c90c4534-bf34-4472-8464-1c469f24c0f0",
   "metadata": {},
   "outputs": [
    {
     "name": "stdout",
     "output_type": "stream",
     "text": [
      "[2 4 7]\n"
     ]
    }
   ],
   "source": [
    "print(y)"
   ]
  },
  {
   "cell_type": "code",
   "execution_count": 403,
   "id": "03b0c6c3-952c-4408-81ca-8e5c72d7b150",
   "metadata": {},
   "outputs": [
    {
     "name": "stdout",
     "output_type": "stream",
     "text": [
      "[ 5.  9. 15.]\n"
     ]
    }
   ],
   "source": [
    "print(x[y]) ### 2,4,7 INDEX NUMBER ARRAY WILL COME FROM ARRAY X."
   ]
  },
  {
   "cell_type": "markdown",
   "id": "c7253c3e-f187-4e39-a313-c9ee8306d1a0",
   "metadata": {},
   "source": [
    "### Fancy Indexing"
   ]
  },
  {
   "cell_type": "code",
   "execution_count": 404,
   "id": "42729967-767a-4610-a89a-89f68b2aa8d2",
   "metadata": {},
   "outputs": [],
   "source": [
    "x = np.arange(25).reshape(5,5) "
   ]
  },
  {
   "cell_type": "code",
   "execution_count": 405,
   "id": "9a1c45e1-0bd6-4aca-90f8-30a4d44d36d9",
   "metadata": {},
   "outputs": [
    {
     "name": "stdout",
     "output_type": "stream",
     "text": [
      "[[ 0  1  2  3  4]\n",
      " [ 5  6  7  8  9]\n",
      " [10 11 12 13 14]\n",
      " [15 16 17 18 19]\n",
      " [20 21 22 23 24]]\n"
     ]
    }
   ],
   "source": [
    "print(x)"
   ]
  },
  {
   "cell_type": "code",
   "execution_count": 406,
   "id": "05f42a74-12cc-4327-a48c-f3c1f0c1e22c",
   "metadata": {},
   "outputs": [
    {
     "name": "stdout",
     "output_type": "stream",
     "text": [
      "[1 2]\n"
     ]
    }
   ],
   "source": [
    "y = np.array([1,2])\n",
    "print(y)"
   ]
  },
  {
   "cell_type": "code",
   "execution_count": 407,
   "id": "b336ae89-cec9-4082-80b8-8a4b4572b318",
   "metadata": {},
   "outputs": [
    {
     "name": "stdout",
     "output_type": "stream",
     "text": [
      "[[ 5  6  7  8  9]\n",
      " [10 11 12 13 14]]\n"
     ]
    }
   ],
   "source": [
    "print(x[y,:])"
   ]
  },
  {
   "cell_type": "code",
   "execution_count": 408,
   "id": "f77cb5e9-45ae-44f2-8528-b308abc7688d",
   "metadata": {},
   "outputs": [],
   "source": [
    "z = np.array([2,3])"
   ]
  },
  {
   "cell_type": "code",
   "execution_count": 409,
   "id": "5db54efe-c6e1-442e-8f2d-09f1060ec3dd",
   "metadata": {},
   "outputs": [
    {
     "name": "stdout",
     "output_type": "stream",
     "text": [
      "[2 3]\n"
     ]
    }
   ],
   "source": [
    "print(z)"
   ]
  },
  {
   "cell_type": "code",
   "execution_count": 410,
   "id": "aa84303c-ae2f-4145-98aa-6883d46ac692",
   "metadata": {},
   "outputs": [
    {
     "name": "stdout",
     "output_type": "stream",
     "text": [
      "[[10 11 12 13 14]\n",
      " [15 16 17 18 19]]\n"
     ]
    }
   ],
   "source": [
    "print(x[z,:])"
   ]
  },
  {
   "cell_type": "code",
   "execution_count": 411,
   "id": "7cc9ec0d-ffc2-46d4-97c4-41531142f0d3",
   "metadata": {},
   "outputs": [
    {
     "name": "stdout",
     "output_type": "stream",
     "text": [
      "[[12 13 14]\n",
      " [17 18 19]]\n"
     ]
    }
   ],
   "source": [
    "print(x[z,2:])"
   ]
  },
  {
   "cell_type": "code",
   "execution_count": 412,
   "id": "54ef427f-734e-43e1-886b-f879f542f55f",
   "metadata": {},
   "outputs": [
    {
     "name": "stdout",
     "output_type": "stream",
     "text": [
      "[[10 11]\n",
      " [15 16]]\n"
     ]
    }
   ],
   "source": [
    "print(x[z,:2])"
   ]
  },
  {
   "cell_type": "code",
   "execution_count": 414,
   "id": "5e8368ad-f520-4436-bc61-1b807186c253",
   "metadata": {},
   "outputs": [
    {
     "name": "stdout",
     "output_type": "stream",
     "text": [
      "[[ 2  3]\n",
      " [ 7  8]\n",
      " [12 13]\n",
      " [17 18]\n",
      " [22 23]]\n"
     ]
    }
   ],
   "source": [
    "print(x[:,z]) "
   ]
  },
  {
   "cell_type": "code",
   "execution_count": 415,
   "id": "7220d25f-edcd-44a9-ba8b-4dc821102b42",
   "metadata": {},
   "outputs": [],
   "source": [
    "w = x[z,:]"
   ]
  },
  {
   "cell_type": "code",
   "execution_count": 416,
   "id": "a25ef2b5-fc82-4995-b466-224f84b385ca",
   "metadata": {},
   "outputs": [
    {
     "name": "stdout",
     "output_type": "stream",
     "text": [
      "[[10 11 12 13 14]\n",
      " [15 16 17 18 19]]\n"
     ]
    }
   ],
   "source": [
    "print(w)"
   ]
  },
  {
   "cell_type": "code",
   "execution_count": 417,
   "id": "63bbdbf0-67fa-4151-972f-793ea569968f",
   "metadata": {},
   "outputs": [
    {
     "name": "stdout",
     "output_type": "stream",
     "text": [
      "[[100  11  12  13  14]\n",
      " [ 15  16  17  18  19]]\n"
     ]
    }
   ],
   "source": [
    "w[0,0] = 100\n",
    "print(w)"
   ]
  },
  {
   "cell_type": "code",
   "execution_count": 419,
   "id": "e9d26d63-623c-4edd-81b2-98aa4555bf2a",
   "metadata": {},
   "outputs": [
    {
     "name": "stdout",
     "output_type": "stream",
     "text": [
      "[[ 0  1  2  3  4]\n",
      " [ 5  6  7  8  9]\n",
      " [10 11 12 13 14]\n",
      " [15 16 17 18 19]\n",
      " [20 21 22 23 24]]\n"
     ]
    }
   ],
   "source": [
    "print(x) ## if you use sub array with using another array, it doesn't effect main array. Its called Fancy indexing."
   ]
  },
  {
   "cell_type": "code",
   "execution_count": 420,
   "id": "60fe4ae0-9e85-499c-857c-5f47618206a4",
   "metadata": {},
   "outputs": [
    {
     "name": "stdout",
     "output_type": "stream",
     "text": [
      "False\n"
     ]
    }
   ],
   "source": [
    "print(np.shares_memory(x,w))"
   ]
  },
  {
   "cell_type": "markdown",
   "id": "6f5cc036-5128-4da6-b48e-211ffef63d92",
   "metadata": {},
   "source": [
    "### Boolean indexing"
   ]
  },
  {
   "cell_type": "code",
   "execution_count": 421,
   "id": "9ae178e7-0fa9-4bc8-a9da-8e2c146c43a1",
   "metadata": {},
   "outputs": [],
   "source": [
    " x = np.arange(10)"
   ]
  },
  {
   "cell_type": "code",
   "execution_count": 422,
   "id": "93190651-15d5-4cee-999f-a438a5682da7",
   "metadata": {},
   "outputs": [
    {
     "name": "stdout",
     "output_type": "stream",
     "text": [
      "[0 1 2 3 4 5 6 7 8 9]\n"
     ]
    }
   ],
   "source": [
    "print(x)"
   ]
  },
  {
   "cell_type": "code",
   "execution_count": 423,
   "id": "4b20431b-f7c9-422a-81d5-f5a8e63c8623",
   "metadata": {},
   "outputs": [
    {
     "name": "stdout",
     "output_type": "stream",
     "text": [
      "[0 2 4 6 8]\n"
     ]
    }
   ],
   "source": [
    "print(x[x %2 == 0])"
   ]
  },
  {
   "cell_type": "code",
   "execution_count": 424,
   "id": "3843914a-4091-4fa4-85dc-1f36f69eda82",
   "metadata": {},
   "outputs": [
    {
     "name": "stdout",
     "output_type": "stream",
     "text": [
      "[0 3 6 9]\n"
     ]
    }
   ],
   "source": [
    "print(x[x % 3 == 0])"
   ]
  },
  {
   "cell_type": "code",
   "execution_count": 426,
   "id": "bff53881-729c-4735-9da1-d8c5ade1c5ef",
   "metadata": {},
   "outputs": [
    {
     "name": "stdout",
     "output_type": "stream",
     "text": [
      "[3]\n"
     ]
    }
   ],
   "source": [
    "print(x[x+1 == 4])"
   ]
  },
  {
   "cell_type": "code",
   "execution_count": 427,
   "id": "6508fd79-2908-4318-92d3-bc45c436b938",
   "metadata": {},
   "outputs": [],
   "source": [
    "z = x[(x % 5 == 0)] "
   ]
  },
  {
   "cell_type": "code",
   "execution_count": 428,
   "id": "a813772d-59c5-42a2-8afe-4579970c28e3",
   "metadata": {},
   "outputs": [
    {
     "name": "stdout",
     "output_type": "stream",
     "text": [
      "[0 5]\n"
     ]
    }
   ],
   "source": [
    "print(z)"
   ]
  },
  {
   "cell_type": "code",
   "execution_count": 429,
   "id": "208bbf82-fc9a-4594-b4d6-e93b902d527e",
   "metadata": {},
   "outputs": [],
   "source": [
    "z[0] = 100"
   ]
  },
  {
   "cell_type": "code",
   "execution_count": 430,
   "id": "a64ab6a2-ffea-42c3-8330-9daf984e6ce1",
   "metadata": {},
   "outputs": [
    {
     "name": "stdout",
     "output_type": "stream",
     "text": [
      "[100   5]\n"
     ]
    }
   ],
   "source": [
    "print(z)"
   ]
  },
  {
   "cell_type": "code",
   "execution_count": 431,
   "id": "b8fb182a-1a4f-44b7-9f9a-9d0fa80f7ef8",
   "metadata": {},
   "outputs": [
    {
     "name": "stdout",
     "output_type": "stream",
     "text": [
      "[0 1 2 3 4 5 6 7 8 9]\n"
     ]
    }
   ],
   "source": [
    "print(x)"
   ]
  },
  {
   "cell_type": "code",
   "execution_count": 432,
   "id": "c233b480-c8da-4b6d-a689-038899925552",
   "metadata": {},
   "outputs": [
    {
     "name": "stdout",
     "output_type": "stream",
     "text": [
      "False\n"
     ]
    }
   ],
   "source": [
    "print(np.shares_memory(x,z))"
   ]
  },
  {
   "cell_type": "code",
   "execution_count": 433,
   "id": "e518efae-db65-4c6c-a633-e4a2ac281182",
   "metadata": {},
   "outputs": [],
   "source": [
    "x = np.random.randint(10, size = 10)\n",
    "y = np.random.randint(10, size = 10)"
   ]
  },
  {
   "cell_type": "code",
   "execution_count": 434,
   "id": "a53950df-a307-41a4-8cb9-2eeb1d2723bb",
   "metadata": {},
   "outputs": [
    {
     "name": "stdout",
     "output_type": "stream",
     "text": [
      "[5 3 6 9 6 8 7 0 8 7]\n",
      "[2 0 7 6 9 4 1 0 6 5]\n"
     ]
    }
   ],
   "source": [
    "print(x)\n",
    "print(y)"
   ]
  },
  {
   "cell_type": "code",
   "execution_count": 440,
   "id": "b9fc479b-5699-4fff-a5c8-c2bc63cc70fe",
   "metadata": {},
   "outputs": [
    {
     "name": "stdout",
     "output_type": "stream",
     "text": [
      "[ True  True False  True False  True  True False  True  True]\n"
     ]
    }
   ],
   "source": [
    "print(x>y) ## It will check in side of array elements. if x is greater than y, boolean will return true otherwise will return zero(False)."
   ]
  },
  {
   "cell_type": "code",
   "execution_count": 437,
   "id": "142e6199-1828-4504-8ff5-579e3a0f80ce",
   "metadata": {},
   "outputs": [
    {
     "name": "stdout",
     "output_type": "stream",
     "text": [
      "<class 'numpy.ndarray'>\n"
     ]
    }
   ],
   "source": [
    "print(type(x>y))"
   ]
  },
  {
   "cell_type": "code",
   "execution_count": 439,
   "id": "05541750-4b7b-4e47-8bfc-060ae525167c",
   "metadata": {},
   "outputs": [
    {
     "name": "stdout",
     "output_type": "stream",
     "text": [
      "bool\n"
     ]
    }
   ],
   "source": [
    "print((x>y).dtype)"
   ]
  },
  {
   "cell_type": "code",
   "execution_count": 441,
   "id": "bd19a329-46a5-4575-be22-8d34de6511b5",
   "metadata": {},
   "outputs": [
    {
     "name": "stdout",
     "output_type": "stream",
     "text": [
      "False\n"
     ]
    }
   ],
   "source": [
    "print(np.all(x>y)) # Check all elements are same condition."
   ]
  },
  {
   "cell_type": "code",
   "execution_count": 442,
   "id": "c6bec778-3c6e-4271-ab7a-bed18e39e7c3",
   "metadata": {},
   "outputs": [
    {
     "name": "stdout",
     "output_type": "stream",
     "text": [
      "True\n"
     ]
    }
   ],
   "source": [
    "print(np.any(x>y)) # Check any elements are same condition"
   ]
  },
  {
   "cell_type": "code",
   "execution_count": 443,
   "id": "a1378d74-4dca-4dc4-9f46-81c2683b4a9c",
   "metadata": {},
   "outputs": [],
   "source": [
    "x = np.linspace(1,21,11)"
   ]
  },
  {
   "cell_type": "code",
   "execution_count": 444,
   "id": "b9e398e5-7c8f-449d-b50c-29e55bf84d1b",
   "metadata": {},
   "outputs": [
    {
     "name": "stdout",
     "output_type": "stream",
     "text": [
      "[ 1.  3.  5.  7.  9. 11. 13. 15. 17. 19. 21.]\n"
     ]
    }
   ],
   "source": [
    "print(x)"
   ]
  },
  {
   "cell_type": "code",
   "execution_count": 447,
   "id": "cf43f229-2aee-4c07-a5a4-efecb92ca021",
   "metadata": {},
   "outputs": [],
   "source": [
    "mask = (x % 3 == 0)"
   ]
  },
  {
   "cell_type": "code",
   "execution_count": 448,
   "id": "a70abfd9-625a-458d-9d1f-eb50bd446a3c",
   "metadata": {},
   "outputs": [
    {
     "name": "stdout",
     "output_type": "stream",
     "text": [
      "[False  True False False  True False False  True False False  True]\n"
     ]
    }
   ],
   "source": [
    "print(mask)"
   ]
  },
  {
   "cell_type": "code",
   "execution_count": 449,
   "id": "1d552388-ef43-4307-a68a-139222207f00",
   "metadata": {},
   "outputs": [
    {
     "name": "stdout",
     "output_type": "stream",
     "text": [
      "<class 'numpy.ndarray'>\n"
     ]
    }
   ],
   "source": [
    "print(type(mask))"
   ]
  },
  {
   "cell_type": "code",
   "execution_count": 450,
   "id": "06be67ed-815a-4335-8db5-892c599b3e92",
   "metadata": {},
   "outputs": [
    {
     "name": "stdout",
     "output_type": "stream",
     "text": [
      "bool\n"
     ]
    }
   ],
   "source": [
    "print((mask).dtype)"
   ]
  },
  {
   "cell_type": "code",
   "execution_count": 451,
   "id": "7e1c6bbd-4b9e-4e76-80ff-f8acbc2051e1",
   "metadata": {},
   "outputs": [
    {
     "name": "stdout",
     "output_type": "stream",
     "text": [
      "[ 3.  9. 15. 21.]\n"
     ]
    }
   ],
   "source": [
    "print(x[mask])"
   ]
  },
  {
   "cell_type": "code",
   "execution_count": 452,
   "id": "4498bfc5-14e7-42fe-b7da-01422354a81a",
   "metadata": {},
   "outputs": [
    {
     "name": "stdout",
     "output_type": "stream",
     "text": [
      "[ 1. -3.  5.  7. -3. 11. 13. -3. 17. 19. -3.]\n"
     ]
    }
   ],
   "source": [
    "x[mask] = -3\n",
    "print(x)"
   ]
  },
  {
   "cell_type": "code",
   "execution_count": null,
   "id": "362f79ea-816f-47e6-81ee-38db4557195f",
   "metadata": {},
   "outputs": [],
   "source": []
  },
  {
   "cell_type": "code",
   "execution_count": 453,
   "id": "5b37f572-3d69-420e-a0ae-3421cd48977e",
   "metadata": {},
   "outputs": [],
   "source": [
    "x = np.array([2,5,3,6,9]) "
   ]
  },
  {
   "cell_type": "code",
   "execution_count": 454,
   "id": "d90b866e-db4a-49cc-9ce7-5f6be07cf535",
   "metadata": {},
   "outputs": [],
   "source": [
    "y = np.array([6,1,8,7,3])"
   ]
  },
  {
   "cell_type": "code",
   "execution_count": 457,
   "id": "e7124d6e-2f0e-49a7-b2ef-91d11f91e071",
   "metadata": {},
   "outputs": [
    {
     "name": "stdout",
     "output_type": "stream",
     "text": [
      "[3 6]\n"
     ]
    }
   ],
   "source": [
    "print(np.intersect1d(x,y)) ## np.intersect1d() will bring from two different arrays which are same elements as 1d array..."
   ]
  },
  {
   "cell_type": "code",
   "execution_count": 458,
   "id": "041c81ef-5a35-4651-b176-d191e3966b8a",
   "metadata": {},
   "outputs": [],
   "source": [
    "z = np.intersect1d(x,y)"
   ]
  },
  {
   "cell_type": "code",
   "execution_count": 459,
   "id": "9962c714-ebd3-4adb-af04-cefddecb640a",
   "metadata": {},
   "outputs": [
    {
     "name": "stdout",
     "output_type": "stream",
     "text": [
      "[3 6]\n"
     ]
    }
   ],
   "source": [
    "print(z)"
   ]
  },
  {
   "cell_type": "code",
   "execution_count": 465,
   "id": "d59148d9-95c0-49ab-aa25-abd372e054fd",
   "metadata": {},
   "outputs": [
    {
     "name": "stdout",
     "output_type": "stream",
     "text": [
      "[2 5 9]\n",
      "[2 5 9]\n"
     ]
    }
   ],
   "source": [
    "print(np.setdiff1d(x,y))# bring differences between x to y.\n",
    "x_diff = np.setdiff1d(x,y)\n",
    "print(x_diff)"
   ]
  },
  {
   "cell_type": "code",
   "execution_count": 466,
   "id": "e879d31e-0bf4-4b2d-81b3-420c0e07ca8d",
   "metadata": {},
   "outputs": [
    {
     "name": "stdout",
     "output_type": "stream",
     "text": [
      "[1 7 8]\n",
      "[1 7 8]\n"
     ]
    }
   ],
   "source": [
    "print(np.setdiff1d(y,x)) # bring differences between y to x.\n",
    "y_diff = np.setdiff1d(y,x)\n",
    "print(y_diff)"
   ]
  },
  {
   "cell_type": "code",
   "execution_count": 467,
   "id": "dade00b1-f58b-4a26-9a6d-bca3fbc54576",
   "metadata": {},
   "outputs": [
    {
     "name": "stdout",
     "output_type": "stream",
     "text": [
      "[1 2 3 5 6 7 8 9]\n"
     ]
    }
   ],
   "source": [
    "print(np.union1d(x,y))"
   ]
  },
  {
   "cell_type": "code",
   "execution_count": 470,
   "id": "ef0c1862-6acb-4a75-a158-11004c97c539",
   "metadata": {},
   "outputs": [
    {
     "name": "stdout",
     "output_type": "stream",
     "text": [
      "[1 2 3 5 6 7 8 9]\n"
     ]
    }
   ],
   "source": [
    "nod_elements= np.union1d(x,y) ## Bring all non duplicate element if it is duplicated take one of those.\n",
    "print(nod_elements)"
   ]
  },
  {
   "cell_type": "code",
   "execution_count": 472,
   "id": "6faa3582-b70d-4259-9c1d-585551bbb035",
   "metadata": {},
   "outputs": [
    {
     "name": "stdout",
     "output_type": "stream",
     "text": [
      "[False False  True  True False]\n"
     ]
    }
   ],
   "source": [
    "print(np.in1d(x,y)) ## It will compare two array if the same values both of them take elements order by x."
   ]
  },
  {
   "cell_type": "code",
   "execution_count": 473,
   "id": "1b344e68-0ca7-4b24-a657-201debafd451",
   "metadata": {},
   "outputs": [
    {
     "name": "stdout",
     "output_type": "stream",
     "text": [
      "[ True False False False  True]\n"
     ]
    }
   ],
   "source": [
    "print(np.in1d(y,x)) ## It will compare two array if the same values both of them take elements order by y."
   ]
  },
  {
   "cell_type": "code",
   "execution_count": 475,
   "id": "f5c1a0c5-e59b-41c2-aa52-fbd908505072",
   "metadata": {},
   "outputs": [
    {
     "name": "stdout",
     "output_type": "stream",
     "text": [
      "[0 2 3 5 6 9]\n"
     ]
    }
   ],
   "source": [
    "x = np.array([2,5,3,6,9,3,6,5,0]) ## It will bring all unique one. Not copy of elementss!!\n",
    "print(np.unique(x))"
   ]
  },
  {
   "cell_type": "markdown",
   "id": "6def7b79-8b70-4812-8a91-3486b42c357e",
   "metadata": {},
   "source": [
    "## Sort"
   ]
  },
  {
   "cell_type": "code",
   "execution_count": 476,
   "id": "d1239dcf-f879-4db1-9a38-0250f900ddbc",
   "metadata": {},
   "outputs": [],
   "source": [
    "x = np.random.randint(1, 10, size = (10,))"
   ]
  },
  {
   "cell_type": "code",
   "execution_count": 477,
   "id": "29b465d6-77d3-4f86-a7da-c2789a1a9db3",
   "metadata": {},
   "outputs": [
    {
     "name": "stdout",
     "output_type": "stream",
     "text": [
      "[9 5 9 5 4 6 1 8 4 8]\n"
     ]
    }
   ],
   "source": [
    "print(x)"
   ]
  },
  {
   "cell_type": "code",
   "execution_count": 478,
   "id": "b25dbbe7-d760-42cf-9169-43ecd5efc304",
   "metadata": {},
   "outputs": [
    {
     "name": "stdout",
     "output_type": "stream",
     "text": [
      "[1 4 4 5 5 6 8 8 9 9]\n"
     ]
    }
   ],
   "source": [
    "print(np.sort(x)) ## it will sort by assending."
   ]
  },
  {
   "cell_type": "code",
   "execution_count": 479,
   "id": "766b963b-dd77-4c33-aa75-058460ce16d2",
   "metadata": {},
   "outputs": [
    {
     "name": "stdout",
     "output_type": "stream",
     "text": [
      "[9 5 9 5 4 6 1 8 4 8]\n"
     ]
    }
   ],
   "source": [
    "print(x)"
   ]
  },
  {
   "cell_type": "code",
   "execution_count": 480,
   "id": "84557f41-7526-48e8-9a84-baa6cf4b1d5b",
   "metadata": {},
   "outputs": [],
   "source": [
    "y = np.random.randint(1, 10, size = (10,))"
   ]
  },
  {
   "cell_type": "code",
   "execution_count": 481,
   "id": "13a56104-0864-44d1-99e8-0751b0edfe93",
   "metadata": {},
   "outputs": [
    {
     "name": "stdout",
     "output_type": "stream",
     "text": [
      "[1 1 8 6 1 4 3 1 1 1]\n"
     ]
    }
   ],
   "source": [
    "print(y)"
   ]
  },
  {
   "cell_type": "code",
   "execution_count": 484,
   "id": "54d73c6f-a500-49fa-8445-8ed655fde6be",
   "metadata": {},
   "outputs": [],
   "source": [
    "y.sort()"
   ]
  },
  {
   "cell_type": "code",
   "execution_count": 485,
   "id": "c24cd17d-70f7-448b-9254-a1c0296e9fa6",
   "metadata": {},
   "outputs": [
    {
     "name": "stdout",
     "output_type": "stream",
     "text": [
      "[1 1 1 1 1 1 3 4 6 8]\n"
     ]
    }
   ],
   "source": [
    "print(y)"
   ]
  },
  {
   "cell_type": "code",
   "execution_count": 486,
   "id": "c27e73b1-013a-431b-bcea-669c4b2a6613",
   "metadata": {},
   "outputs": [],
   "source": [
    "## 2-D ARRAY"
   ]
  },
  {
   "cell_type": "code",
   "execution_count": 497,
   "id": "10a08119-d9f0-4f9b-89c0-34df1d21d3c4",
   "metadata": {},
   "outputs": [],
   "source": [
    "d = np.random.randint(1,10, size=(5,5)) "
   ]
  },
  {
   "cell_type": "raw",
   "id": "8f60b1dc-c84a-4f71-a80a-ff0270a25ebf",
   "metadata": {},
   "source": [
    "print(d)"
   ]
  },
  {
   "cell_type": "code",
   "execution_count": 498,
   "id": "567a3f67-47d0-4952-a912-09f11f586d42",
   "metadata": {},
   "outputs": [
    {
     "name": "stdout",
     "output_type": "stream",
     "text": [
      "[[1 2 3 4 3]\n",
      " [5 2 5 5 6]\n",
      " [5 3 5 6 6]\n",
      " [5 5 6 6 7]\n",
      " [7 5 7 6 8]]\n",
      "[[2 3 5 6 6]\n",
      " [3 5 5 6 7]\n",
      " [1 3 6 7 7]\n",
      " [4 5 5 5 6]\n",
      " [2 5 5 6 8]]\n"
     ]
    }
   ],
   "source": [
    "print(np.sort(d, axis = 0)) # axis= 0  means sorted by rows.\n",
    "print(np.sort(d, axis = 1)) # axis= 1  means sorted by columns."
   ]
  },
  {
   "cell_type": "markdown",
   "id": "566eb15c-ea21-46c6-a045-8480ab332955",
   "metadata": {},
   "source": [
    "## Element - Wise, Array - Wise"
   ]
  },
  {
   "cell_type": "code",
   "execution_count": 500,
   "id": "580d99dd-2cc9-41ee-a251-3acd5b98ea1f",
   "metadata": {},
   "outputs": [],
   "source": [
    "x = np.random.randint(1,10, size= (5,))"
   ]
  },
  {
   "cell_type": "code",
   "execution_count": 501,
   "id": "827f6dc2-d397-4516-a80b-8e4ab79f3636",
   "metadata": {},
   "outputs": [
    {
     "name": "stdout",
     "output_type": "stream",
     "text": [
      "[6 8 7 9 7]\n"
     ]
    }
   ],
   "source": [
    "print(x)"
   ]
  },
  {
   "cell_type": "code",
   "execution_count": 502,
   "id": "ebbc7983-0365-4f96-903e-f5b8305e5490",
   "metadata": {},
   "outputs": [],
   "source": [
    "y = np.random.randint(1,10, size= (5,))"
   ]
  },
  {
   "cell_type": "code",
   "execution_count": 503,
   "id": "51c5dd1d-4467-442e-a97a-c66ce145e4b2",
   "metadata": {},
   "outputs": [
    {
     "name": "stdout",
     "output_type": "stream",
     "text": [
      "[8 3 4 1 6]\n"
     ]
    }
   ],
   "source": [
    "print(y)"
   ]
  },
  {
   "cell_type": "code",
   "execution_count": 504,
   "id": "12830f70-3bc6-4f64-8168-2b4a0b5df878",
   "metadata": {},
   "outputs": [
    {
     "name": "stdout",
     "output_type": "stream",
     "text": [
      "[14 11 11 10 13]\n"
     ]
    }
   ],
   "source": [
    "print(x + y)"
   ]
  },
  {
   "cell_type": "code",
   "execution_count": 505,
   "id": "d356faf1-117d-497c-b062-01ee6ca8101c",
   "metadata": {},
   "outputs": [
    {
     "name": "stdout",
     "output_type": "stream",
     "text": [
      "[14 11 11 10 13]\n"
     ]
    }
   ],
   "source": [
    "print(np.add(x,y))"
   ]
  },
  {
   "cell_type": "code",
   "execution_count": 506,
   "id": "5b420e7f-15a2-4eb7-9fd8-084c42beeb59",
   "metadata": {},
   "outputs": [
    {
     "name": "stdout",
     "output_type": "stream",
     "text": [
      "<class 'numpy.ndarray'>\n"
     ]
    }
   ],
   "source": [
    "print(type(x + y))"
   ]
  },
  {
   "cell_type": "code",
   "execution_count": 507,
   "id": "73fd28b5-7805-442e-8fe7-f14e97757016",
   "metadata": {},
   "outputs": [
    {
     "name": "stdout",
     "output_type": "stream",
     "text": [
      "<class 'numpy.ndarray'>\n"
     ]
    }
   ],
   "source": [
    "print(type(np.add(x,y)))"
   ]
  },
  {
   "cell_type": "code",
   "execution_count": 508,
   "id": "73e95864-9586-4dde-8cab-08244a66c181",
   "metadata": {},
   "outputs": [
    {
     "name": "stdout",
     "output_type": "stream",
     "text": [
      "[-2  5  3  8  1]\n",
      "[-2  5  3  8  1]\n"
     ]
    }
   ],
   "source": [
    "print(x - y)\n",
    "print(np.subtract(x,y))"
   ]
  },
  {
   "cell_type": "code",
   "execution_count": 509,
   "id": "cb223442-16e2-4f35-b31e-331f93b520a9",
   "metadata": {},
   "outputs": [
    {
     "name": "stdout",
     "output_type": "stream",
     "text": [
      "[48 24 28  9 42]\n",
      "[48 24 28  9 42]\n"
     ]
    }
   ],
   "source": [
    "print(x * y)\n",
    "print(np.multiply(x,y))"
   ]
  },
  {
   "cell_type": "code",
   "execution_count": 510,
   "id": "c0b9e5a4-f0f7-4c11-99a8-1d7a5e5b72ab",
   "metadata": {},
   "outputs": [
    {
     "name": "stdout",
     "output_type": "stream",
     "text": [
      "[0.75       2.66666667 1.75       9.         1.16666667]\n",
      "[0.75       2.66666667 1.75       9.         1.16666667]\n"
     ]
    }
   ],
   "source": [
    "print(x/y)\n",
    "print(np.divide(x,y))"
   ]
  },
  {
   "cell_type": "code",
   "execution_count": 511,
   "id": "4ca21872-bf6f-4663-ae19-a4c7c5c89df3",
   "metadata": {},
   "outputs": [
    {
     "name": "stdout",
     "output_type": "stream",
     "text": [
      "[ 9 11 10 12 10]\n",
      "[3 5 4 6 4]\n",
      "[18 24 21 27 21]\n",
      "[2.         2.66666667 2.33333333 3.         2.33333333]\n"
     ]
    }
   ],
   "source": [
    "print(x+3)\n",
    "print(x-3)\n",
    "print(x*3)\n",
    "print(x/3)"
   ]
  },
  {
   "cell_type": "raw",
   "id": "ffa414e1-2ddd-4541-b5e8-d95c6f11089a",
   "metadata": {},
   "source": []
  },
  {
   "cell_type": "code",
   "execution_count": 512,
   "id": "282bed22-209e-4619-8e75-0d6ce36dbc97",
   "metadata": {},
   "outputs": [
    {
     "name": "stdout",
     "output_type": "stream",
     "text": [
      "[False False False False False]\n"
     ]
    }
   ],
   "source": [
    "print(x==y)"
   ]
  },
  {
   "cell_type": "code",
   "execution_count": 515,
   "id": "fae42828-b4d2-461b-8eba-957bf01e2e73",
   "metadata": {},
   "outputs": [],
   "source": [
    "z =np.random.randint(1,10 , size = (6,))"
   ]
  },
  {
   "cell_type": "code",
   "execution_count": 516,
   "id": "6b4ab801-7fbf-466e-b384-db416df091c5",
   "metadata": {},
   "outputs": [
    {
     "name": "stdout",
     "output_type": "stream",
     "text": [
      "[6 8 8 3 8 7]\n"
     ]
    }
   ],
   "source": [
    "print(z)"
   ]
  },
  {
   "cell_type": "code",
   "execution_count": 517,
   "id": "fe2557a5-0c79-451b-a164-1fe4e5d97f37",
   "metadata": {},
   "outputs": [
    {
     "ename": "ValueError",
     "evalue": "operands could not be broadcast together with shapes (5,) (6,) ",
     "output_type": "error",
     "traceback": [
      "\u001b[1;31m---------------------------------------------------------------------------\u001b[0m",
      "\u001b[1;31mValueError\u001b[0m                                Traceback (most recent call last)",
      "\u001b[1;32m~\\AppData\\Local\\Temp\\ipykernel_21012\\2617505358.py\u001b[0m in \u001b[0;36m<module>\u001b[1;34m\u001b[0m\n\u001b[1;32m----> 1\u001b[1;33m \u001b[0mprint\u001b[0m\u001b[1;33m(\u001b[0m\u001b[0mx\u001b[0m\u001b[1;33m+\u001b[0m\u001b[0mz\u001b[0m\u001b[1;33m)\u001b[0m\u001b[1;33m\u001b[0m\u001b[1;33m\u001b[0m\u001b[0m\n\u001b[0m",
      "\u001b[1;31mValueError\u001b[0m: operands could not be broadcast together with shapes (5,) (6,) "
     ]
    }
   ],
   "source": [
    "print(x+z) ### arithmatic values  size need to be same. example (1-d=1-d and also size = size)or need to be broadcast."
   ]
  },
  {
   "cell_type": "code",
   "execution_count": 518,
   "id": "5cb5993c-a3e7-49c4-b2ca-8b1956a4fa71",
   "metadata": {},
   "outputs": [
    {
     "name": "stdout",
     "output_type": "stream",
     "text": [
      "False\n"
     ]
    }
   ],
   "source": [
    "print(np.array_equal(x,y))"
   ]
  },
  {
   "cell_type": "code",
   "execution_count": 519,
   "id": "f4cc4329-ad78-45d2-8972-2e3ad1665e56",
   "metadata": {},
   "outputs": [],
   "source": [
    "t = np.array([1,2,3])\n",
    "d = np.array([1,2,3])"
   ]
  },
  {
   "cell_type": "code",
   "execution_count": 520,
   "id": "3e188070-d71c-48fe-af55-bac0382fcceb",
   "metadata": {},
   "outputs": [
    {
     "name": "stdout",
     "output_type": "stream",
     "text": [
      "True\n"
     ]
    }
   ],
   "source": [
    "print(np.array_equal(t,d))"
   ]
  },
  {
   "cell_type": "markdown",
   "id": "2d3e849a-927e-493a-9930-69fec5fb2647",
   "metadata": {},
   "source": [
    "## Mathmetical Functions"
   ]
  },
  {
   "cell_type": "code",
   "execution_count": 528,
   "id": "23c3364d-d2b5-41f4-b174-948f01078150",
   "metadata": {
    "tags": []
   },
   "outputs": [
    {
     "name": "stdout",
     "output_type": "stream",
     "text": [
      "[2.44948974 2.82842712 2.64575131 3.         2.64575131]\n"
     ]
    }
   ],
   "source": [
    "print(np.sqrt(x))"
   ]
  },
  {
   "cell_type": "code",
   "execution_count": 523,
   "id": "2cba5cb0-4c50-4775-abde-910090fcc31c",
   "metadata": {},
   "outputs": [
    {
     "name": "stdout",
     "output_type": "stream",
     "text": [
      "[216 512 343 729 343]\n"
     ]
    }
   ],
   "source": [
    "print(np.power(x,3))"
   ]
  },
  {
   "cell_type": "code",
   "execution_count": 524,
   "id": "e60ec205-360f-4d27-8326-fc93f02ff729",
   "metadata": {},
   "outputs": [
    {
     "name": "stdout",
     "output_type": "stream",
     "text": [
      "[ 403.42879349 2980.95798704 1096.63315843 8103.08392758 1096.63315843]\n"
     ]
    }
   ],
   "source": [
    "print(np.exp(x))"
   ]
  },
  {
   "cell_type": "code",
   "execution_count": 525,
   "id": "da246ffe-f572-420b-9cd6-a0296334b620",
   "metadata": {},
   "outputs": [
    {
     "name": "stdout",
     "output_type": "stream",
     "text": [
      "[1.79175947 2.07944154 1.94591015 2.19722458 1.94591015]\n"
     ]
    }
   ],
   "source": [
    "print(np.log(x))"
   ]
  },
  {
   "cell_type": "code",
   "execution_count": 530,
   "id": "236dfe5f-8071-4143-acbe-b910468f0ec0",
   "metadata": {},
   "outputs": [
    {
     "name": "stdout",
     "output_type": "stream",
     "text": [
      "[ 0.96017029 -0.14550003  0.75390225 -0.91113026  0.75390225]\n"
     ]
    }
   ],
   "source": [
    "print(np.cos(x))"
   ]
  },
  {
   "cell_type": "code",
   "execution_count": 531,
   "id": "61393237-0a68-4adc-a6e4-de1ff5aabdfd",
   "metadata": {},
   "outputs": [
    {
     "name": "stdout",
     "output_type": "stream",
     "text": [
      "37\n"
     ]
    }
   ],
   "source": [
    "print(np.sum(x))"
   ]
  },
  {
   "cell_type": "code",
   "execution_count": 536,
   "id": "b594f6aa-a819-4db8-a459-fc0a840f5809",
   "metadata": {},
   "outputs": [],
   "source": [
    "x = np.random.randint(1,10, size = (9,)).reshape(3,3)"
   ]
  },
  {
   "cell_type": "code",
   "execution_count": 537,
   "id": "570a4458-8719-4118-8f77-34782a81c0e4",
   "metadata": {},
   "outputs": [
    {
     "name": "stdout",
     "output_type": "stream",
     "text": [
      "[[1 2 8]\n",
      " [7 2 8]\n",
      " [4 6 1]]\n"
     ]
    }
   ],
   "source": [
    "print(x)"
   ]
  },
  {
   "cell_type": "code",
   "execution_count": 539,
   "id": "0d23e4fa-705e-4a51-a6a7-3946ee65a69c",
   "metadata": {},
   "outputs": [
    {
     "name": "stdout",
     "output_type": "stream",
     "text": [
      "39\n"
     ]
    }
   ],
   "source": [
    "print(np.sum(x)) ## Total elements number in array..."
   ]
  },
  {
   "cell_type": "code",
   "execution_count": 540,
   "id": "0c384847-3537-42e4-bdae-b1b3fd3cab78",
   "metadata": {},
   "outputs": [
    {
     "name": "stdout",
     "output_type": "stream",
     "text": [
      "[12 10 17]\n"
     ]
    }
   ],
   "source": [
    "print(x.sum(axis=0)) # rows"
   ]
  },
  {
   "cell_type": "code",
   "execution_count": 541,
   "id": "596b18ec-f280-4833-8a2e-4fa940d8ce8f",
   "metadata": {},
   "outputs": [
    {
     "name": "stdout",
     "output_type": "stream",
     "text": [
      "[11 17 11]\n"
     ]
    }
   ],
   "source": [
    "print(x.sum(axis=1)) #columns"
   ]
  },
  {
   "cell_type": "code",
   "execution_count": 542,
   "id": "2abd575b-5a49-4dd7-bf1c-e206c861a65c",
   "metadata": {},
   "outputs": [
    {
     "name": "stdout",
     "output_type": "stream",
     "text": [
      "1\n"
     ]
    }
   ],
   "source": [
    "print(x.min())"
   ]
  },
  {
   "cell_type": "code",
   "execution_count": 543,
   "id": "a750ca3c-1d29-4ab4-bad0-479ac1faec9a",
   "metadata": {},
   "outputs": [
    {
     "name": "stdout",
     "output_type": "stream",
     "text": [
      "8\n"
     ]
    }
   ],
   "source": [
    "print(x.max())"
   ]
  },
  {
   "cell_type": "code",
   "execution_count": 544,
   "id": "9f07024d-07df-4c1a-925e-86db1d4aa40e",
   "metadata": {},
   "outputs": [
    {
     "name": "stdout",
     "output_type": "stream",
     "text": [
      "4.333333333333333\n"
     ]
    }
   ],
   "source": [
    "print(x.mean())"
   ]
  },
  {
   "cell_type": "code",
   "execution_count": 545,
   "id": "853d7f6f-1960-47be-af2f-db9eba5bae27",
   "metadata": {},
   "outputs": [
    {
     "name": "stdout",
     "output_type": "stream",
     "text": [
      "2.788866755113585\n"
     ]
    }
   ],
   "source": [
    "print(x.std())"
   ]
  },
  {
   "cell_type": "code",
   "execution_count": 550,
   "id": "46595acf-96b2-4486-ba8e-a834c2298e87",
   "metadata": {},
   "outputs": [
    {
     "name": "stdout",
     "output_type": "stream",
     "text": [
      "0\n"
     ]
    }
   ],
   "source": [
    "print(x.argmin()) ## Min element ordered Index number"
   ]
  },
  {
   "cell_type": "code",
   "execution_count": 551,
   "id": "f6882e1c-4b76-43f8-88e9-27988aae2ffd",
   "metadata": {},
   "outputs": [
    {
     "name": "stdout",
     "output_type": "stream",
     "text": [
      "2\n"
     ]
    }
   ],
   "source": [
    "print(x.argmax()) ## Max element index Number"
   ]
  },
  {
   "cell_type": "markdown",
   "id": "144fdd2f-edf9-4538-b6a2-c454633f3fb0",
   "metadata": {},
   "source": [
    "## Statistical Functions"
   ]
  },
  {
   "cell_type": "code",
   "execution_count": 552,
   "id": "03933aaa-147f-46e5-9761-e69b526575cd",
   "metadata": {},
   "outputs": [],
   "source": [
    "x= np.random.randint(1,10, size= (8,))"
   ]
  },
  {
   "cell_type": "code",
   "execution_count": 553,
   "id": "b4aef3e9-19a3-4543-bddd-e012ee37f417",
   "metadata": {},
   "outputs": [
    {
     "name": "stdout",
     "output_type": "stream",
     "text": [
      "[5 9 4 5 3 1 9 3]\n"
     ]
    }
   ],
   "source": [
    "print(x)"
   ]
  },
  {
   "cell_type": "code",
   "execution_count": 554,
   "id": "ddac999f-aacd-4d92-80a0-586cf5414d34",
   "metadata": {},
   "outputs": [
    {
     "name": "stdout",
     "output_type": "stream",
     "text": [
      "4.875\n"
     ]
    }
   ],
   "source": [
    "print(x.mean())"
   ]
  },
  {
   "cell_type": "code",
   "execution_count": 556,
   "id": "3cf10fdf-6c4e-40b8-b61a-7843dca9691d",
   "metadata": {},
   "outputs": [
    {
     "name": "stdout",
     "output_type": "stream",
     "text": [
      "4.5\n"
     ]
    }
   ],
   "source": [
    "print(np.median(x))"
   ]
  },
  {
   "cell_type": "code",
   "execution_count": 557,
   "id": "cd0a182a-8ff8-41fa-9011-ed3bb88a5b1c",
   "metadata": {},
   "outputs": [
    {
     "name": "stdout",
     "output_type": "stream",
     "text": [
      "2.666341125962693\n"
     ]
    }
   ],
   "source": [
    "print(x.std())"
   ]
  },
  {
   "cell_type": "code",
   "execution_count": 558,
   "id": "10ffd113-5d48-4e74-8d46-47d8d0be8665",
   "metadata": {},
   "outputs": [
    {
     "name": "stdout",
     "output_type": "stream",
     "text": [
      "[[2 9 5]\n",
      " [4 9 2]\n",
      " [3 4 3]\n",
      " [3 8 3]]\n"
     ]
    }
   ],
   "source": [
    "y= np.random.randint(1,10, size= (4,3))\n",
    "print(y)"
   ]
  },
  {
   "cell_type": "code",
   "execution_count": 559,
   "id": "293bce48-9697-4ae9-a6fb-5d199f88d8a5",
   "metadata": {},
   "outputs": [
    {
     "name": "stdout",
     "output_type": "stream",
     "text": [
      "[3.   7.5  3.25]\n"
     ]
    }
   ],
   "source": [
    "print(y.mean(axis = 0)) # rows mean"
   ]
  },
  {
   "cell_type": "code",
   "execution_count": 560,
   "id": "cd86a522-b597-4459-9adc-268256116421",
   "metadata": {},
   "outputs": [
    {
     "name": "stdout",
     "output_type": "stream",
     "text": [
      "[5.33333333 5.         3.33333333 4.66666667]\n"
     ]
    }
   ],
   "source": [
    "print(y.mean(axis = 1)) # columns mean"
   ]
  },
  {
   "cell_type": "code",
   "execution_count": 561,
   "id": "2297bd98-846a-4b5b-9f78-d306ebdcdc7a",
   "metadata": {},
   "outputs": [
    {
     "name": "stdout",
     "output_type": "stream",
     "text": [
      "[3.  8.5 3. ]\n"
     ]
    }
   ],
   "source": [
    "print(np.median(y, axis = 0)) # rows median"
   ]
  },
  {
   "cell_type": "code",
   "execution_count": 562,
   "id": "144b2853-d972-4464-ac7e-a5080a166b0a",
   "metadata": {},
   "outputs": [
    {
     "name": "stdout",
     "output_type": "stream",
     "text": [
      "[5. 4. 3. 3.]\n"
     ]
    }
   ],
   "source": [
    "print(np.median(y, axis =1)) # columns median"
   ]
  },
  {
   "cell_type": "code",
   "execution_count": 563,
   "id": "ed648ab9-0c44-445c-bc41-5707a4edeaab",
   "metadata": {},
   "outputs": [
    {
     "name": "stdout",
     "output_type": "stream",
     "text": [
      "[0.70710678 2.06155281 1.08972474]\n"
     ]
    }
   ],
   "source": [
    "print(y.std (axis = 0)) # rows standard dev."
   ]
  },
  {
   "cell_type": "markdown",
   "id": "cda4deca-b1b0-46ae-adff-760669f5058b",
   "metadata": {},
   "source": [
    "### Broadcasting "
   ]
  },
  {
   "cell_type": "code",
   "execution_count": 569,
   "id": "91d6aa35-fa32-4fcd-8f8a-4ddbb8ff6268",
   "metadata": {},
   "outputs": [
    {
     "name": "stdout",
     "output_type": "stream",
     "text": [
      "[5 7 6]\n",
      "[[3 4]\n",
      " [5 5]\n",
      " [4 6]]\n"
     ]
    }
   ],
   "source": [
    "x= np.random.randint(1,10, size= (3,))\n",
    "print(x)\n",
    "y= np.random.randint(1,10, size= (3,2)) ## We could not able to do this because of we dont have 3. elements in second matrix.\n",
    "print(y)"
   ]
  },
  {
   "cell_type": "code",
   "execution_count": 570,
   "id": "37837d2c-5410-4cc9-b434-939bcb948849",
   "metadata": {},
   "outputs": [
    {
     "ename": "ValueError",
     "evalue": "operands could not be broadcast together with shapes (3,) (3,2) ",
     "output_type": "error",
     "traceback": [
      "\u001b[1;31m---------------------------------------------------------------------------\u001b[0m",
      "\u001b[1;31mValueError\u001b[0m                                Traceback (most recent call last)",
      "\u001b[1;32m~\\AppData\\Local\\Temp\\ipykernel_21012\\832466004.py\u001b[0m in \u001b[0;36m<module>\u001b[1;34m\u001b[0m\n\u001b[1;32m----> 1\u001b[1;33m \u001b[0mprint\u001b[0m\u001b[1;33m(\u001b[0m\u001b[0mx\u001b[0m \u001b[1;33m+\u001b[0m\u001b[0my\u001b[0m\u001b[1;33m)\u001b[0m\u001b[1;33m\u001b[0m\u001b[1;33m\u001b[0m\u001b[0m\n\u001b[0m",
      "\u001b[1;31mValueError\u001b[0m: operands could not be broadcast together with shapes (3,) (3,2) "
     ]
    }
   ],
   "source": [
    "print(x +y)"
   ]
  },
  {
   "cell_type": "code",
   "execution_count": 571,
   "id": "3b1eaa46-c851-4fa4-a2de-243ed3f41e7b",
   "metadata": {},
   "outputs": [
    {
     "name": "stdout",
     "output_type": "stream",
     "text": [
      "[[7]\n",
      " [9]\n",
      " [2]]\n",
      "[[3 4 5]]\n"
     ]
    }
   ],
   "source": [
    "x= np.random.randint(1,10, size= (3,1))\n",
    "print(x)\n",
    "y= np.random.randint(1,10, size= (1,3)) \n",
    "print(y) ## We can do this because it will come with 3x3 matrix."
   ]
  },
  {
   "cell_type": "code",
   "execution_count": 572,
   "id": "be002fbc-6463-418c-b064-4f6d94ed6813",
   "metadata": {},
   "outputs": [
    {
     "name": "stdout",
     "output_type": "stream",
     "text": [
      "[[10 11 12]\n",
      " [12 13 14]\n",
      " [ 5  6  7]]\n"
     ]
    }
   ],
   "source": [
    "print(x+y)"
   ]
  },
  {
   "cell_type": "code",
   "execution_count": null,
   "id": "68b0e904-f16d-4909-96a6-044c7423e357",
   "metadata": {},
   "outputs": [],
   "source": []
  },
  {
   "cell_type": "code",
   "execution_count": null,
   "id": "db45fffb-e32b-417c-a3a5-e83b6114eb7e",
   "metadata": {},
   "outputs": [],
   "source": []
  }
 ],
 "metadata": {
  "kernelspec": {
   "display_name": "Python 3 (ipykernel)",
   "language": "python",
   "name": "python3"
  },
  "language_info": {
   "codemirror_mode": {
    "name": "ipython",
    "version": 3
   },
   "file_extension": ".py",
   "mimetype": "text/x-python",
   "name": "python",
   "nbconvert_exporter": "python",
   "pygments_lexer": "ipython3",
   "version": "3.9.13"
  }
 },
 "nbformat": 4,
 "nbformat_minor": 5
}
