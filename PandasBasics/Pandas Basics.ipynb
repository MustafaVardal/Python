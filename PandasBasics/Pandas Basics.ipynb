{
 "cells": [
  {
   "cell_type": "code",
   "execution_count": 9,
   "id": "1db2c969-9022-41b1-a46e-d9ec0fff4aaf",
   "metadata": {},
   "outputs": [],
   "source": [
    "import pandas as pd\n",
    "import numpy as np"
   ]
  },
  {
   "cell_type": "markdown",
   "id": "603367de-e846-4249-b989-c854551011e3",
   "metadata": {},
   "source": [
    "## Numpy vs Pandas Creating array "
   ]
  },
  {
   "cell_type": "code",
   "execution_count": 14,
   "id": "382198b6-0311-4a26-ad59-f947125af77f",
   "metadata": {},
   "outputs": [],
   "source": [
    "a = np.array([1,2,3,4,5,6,7,8,9])"
   ]
  },
  {
   "cell_type": "code",
   "execution_count": 15,
   "id": "c5bc7809-09e6-4f57-9b0b-0cb739f3f421",
   "metadata": {},
   "outputs": [],
   "source": [
    "x = pd.Series([1,2,3,4,5,6])"
   ]
  },
  {
   "cell_type": "code",
   "execution_count": 16,
   "id": "72d594cb-076c-493c-ab3b-f2a9760466f5",
   "metadata": {},
   "outputs": [
    {
     "data": {
      "text/plain": [
       "0    1\n",
       "1    2\n",
       "2    3\n",
       "3    4\n",
       "4    5\n",
       "5    6\n",
       "dtype: int64"
      ]
     },
     "execution_count": 16,
     "metadata": {},
     "output_type": "execute_result"
    }
   ],
   "source": [
    "x"
   ]
  },
  {
   "cell_type": "code",
   "execution_count": 17,
   "id": "5ccb74e9-0667-4422-98c3-33d0ac6e8e6f",
   "metadata": {},
   "outputs": [
    {
     "data": {
      "text/plain": [
       "array([1, 2, 3, 4, 5, 6, 7, 8, 9])"
      ]
     },
     "execution_count": 17,
     "metadata": {},
     "output_type": "execute_result"
    }
   ],
   "source": [
    "a"
   ]
  },
  {
   "cell_type": "code",
   "execution_count": 20,
   "id": "3e013cbb-c576-4d7d-a1ea-0d6063435018",
   "metadata": {},
   "outputs": [],
   "source": [
    "serie1= pd.Series([\"TX\",\"OH\", \"LA\", \"NC\"])"
   ]
  },
  {
   "cell_type": "code",
   "execution_count": 21,
   "id": "abd3c07b-4a18-403c-80ec-84403f35820b",
   "metadata": {},
   "outputs": [
    {
     "data": {
      "text/plain": [
       "0    TX\n",
       "1    OH\n",
       "2    LA\n",
       "3    NC\n",
       "dtype: object"
      ]
     },
     "execution_count": 21,
     "metadata": {},
     "output_type": "execute_result"
    }
   ],
   "source": [
    "serie1"
   ]
  },
  {
   "cell_type": "code",
   "execution_count": 25,
   "id": "58db68e1-c798-4c52-8fdc-b369792fd577",
   "metadata": {},
   "outputs": [
    {
     "data": {
      "text/plain": [
       "0    1\n",
       "1    2\n",
       "2    3\n",
       "3    4\n",
       "4    5\n",
       "5    6\n",
       "dtype: int64"
      ]
     },
     "execution_count": 25,
     "metadata": {},
     "output_type": "execute_result"
    }
   ],
   "source": [
    "lists = [1,2,3,4,5,6]\n",
    "series3 = pd.Series(lists)\n",
    "series3"
   ]
  },
  {
   "cell_type": "code",
   "execution_count": 26,
   "id": "b2381e83-9d5a-4b68-af0b-5a4527d53dff",
   "metadata": {},
   "outputs": [],
   "source": [
    "a = np.arange(1,10)"
   ]
  },
  {
   "cell_type": "code",
   "execution_count": 27,
   "id": "4c337469-a382-4cf2-abab-a5a65be01852",
   "metadata": {},
   "outputs": [
    {
     "data": {
      "text/plain": [
       "array([1, 2, 3, 4, 5, 6, 7, 8, 9])"
      ]
     },
     "execution_count": 27,
     "metadata": {},
     "output_type": "execute_result"
    }
   ],
   "source": [
    "a"
   ]
  },
  {
   "cell_type": "code",
   "execution_count": 28,
   "id": "4e141e9b-4acf-4a10-9c63-a111bf3b405e",
   "metadata": {},
   "outputs": [],
   "source": [
    "series3 = pd.Series(a)"
   ]
  },
  {
   "cell_type": "code",
   "execution_count": 29,
   "id": "f3dbb071-690f-4a44-9257-a2c8dc648ac5",
   "metadata": {},
   "outputs": [
    {
     "data": {
      "text/plain": [
       "0    1\n",
       "1    2\n",
       "2    3\n",
       "3    4\n",
       "4    5\n",
       "5    6\n",
       "6    7\n",
       "7    8\n",
       "8    9\n",
       "dtype: int32"
      ]
     },
     "execution_count": 29,
     "metadata": {},
     "output_type": "execute_result"
    }
   ],
   "source": [
    "series3"
   ]
  },
  {
   "cell_type": "code",
   "execution_count": 30,
   "id": "628da48e-5e3f-4949-9bd8-b6070eb4c9b1",
   "metadata": {},
   "outputs": [
    {
     "data": {
      "text/plain": [
       "pandas.core.series.Series"
      ]
     },
     "execution_count": 30,
     "metadata": {},
     "output_type": "execute_result"
    }
   ],
   "source": [
    "type(series3)"
   ]
  },
  {
   "cell_type": "code",
   "execution_count": 31,
   "id": "a50afcee-876f-4264-95f0-1d1f6e19f9da",
   "metadata": {},
   "outputs": [
    {
     "data": {
      "text/plain": [
       "[RangeIndex(start=0, stop=9, step=1)]"
      ]
     },
     "execution_count": 31,
     "metadata": {},
     "output_type": "execute_result"
    }
   ],
   "source": [
    "series3.axes"
   ]
  },
  {
   "cell_type": "code",
   "execution_count": 32,
   "id": "8602be55-a0a2-41fd-afad-c0c5c4f9839b",
   "metadata": {},
   "outputs": [
    {
     "data": {
      "text/plain": [
       "dtype('int32')"
      ]
     },
     "execution_count": 32,
     "metadata": {},
     "output_type": "execute_result"
    }
   ],
   "source": [
    "series3.dtype"
   ]
  },
  {
   "cell_type": "code",
   "execution_count": 33,
   "id": "ef28a0f5-12fa-43d0-a8fe-52004cbb2de3",
   "metadata": {},
   "outputs": [
    {
     "data": {
      "text/plain": [
       "1"
      ]
     },
     "execution_count": 33,
     "metadata": {},
     "output_type": "execute_result"
    }
   ],
   "source": [
    "series3.ndim"
   ]
  },
  {
   "cell_type": "code",
   "execution_count": 34,
   "id": "b688b357-e66d-40e4-a461-d9556272d256",
   "metadata": {},
   "outputs": [
    {
     "data": {
      "text/plain": [
       "(9,)"
      ]
     },
     "execution_count": 34,
     "metadata": {},
     "output_type": "execute_result"
    }
   ],
   "source": [
    "series3.shape"
   ]
  },
  {
   "cell_type": "code",
   "execution_count": 43,
   "id": "cf56b961-9a23-486f-ac1c-44e84b9042c3",
   "metadata": {},
   "outputs": [
    {
     "data": {
      "text/plain": [
       "array([1, 2, 3, 4, 5, 6, 7, 8, 9])"
      ]
     },
     "execution_count": 43,
     "metadata": {},
     "output_type": "execute_result"
    }
   ],
   "source": [
    "series3.values ## We can see here all those kinds of values in series3!! "
   ]
  },
  {
   "cell_type": "code",
   "execution_count": 41,
   "id": "70d709ec-cc91-4d34-9c41-3e3b9ab50a75",
   "metadata": {},
   "outputs": [
    {
     "data": {
      "text/plain": [
       "0    1\n",
       "1    2\n",
       "2    3\n",
       "3    4\n",
       "4    5\n",
       "dtype: int32"
      ]
     },
     "execution_count": 41,
     "metadata": {},
     "output_type": "execute_result"
    }
   ],
   "source": [
    "series3.head() ## first 5 values we can see!!"
   ]
  },
  {
   "cell_type": "code",
   "execution_count": 42,
   "id": "6861a11c-37e0-4656-b1e9-417c3e2e711c",
   "metadata": {},
   "outputs": [
    {
     "data": {
      "text/plain": [
       "4    5\n",
       "5    6\n",
       "6    7\n",
       "7    8\n",
       "8    9\n",
       "dtype: int32"
      ]
     },
     "execution_count": 42,
     "metadata": {},
     "output_type": "execute_result"
    }
   ],
   "source": [
    "series3.tail() ## last 5 values we can see!! "
   ]
  },
  {
   "cell_type": "code",
   "execution_count": 44,
   "id": "3e5d95d2-8828-4b98-8817-bc72253633d1",
   "metadata": {},
   "outputs": [
    {
     "data": {
      "text/plain": [
       "4"
      ]
     },
     "execution_count": 44,
     "metadata": {},
     "output_type": "execute_result"
    }
   ],
   "source": [
    "series3[3]"
   ]
  },
  {
   "cell_type": "code",
   "execution_count": 48,
   "id": "1ce81bf6-73ed-462f-bcf3-1027594bea19",
   "metadata": {},
   "outputs": [],
   "source": [
    "series3[3] = 100 ## we can also change index value!! "
   ]
  },
  {
   "cell_type": "code",
   "execution_count": 47,
   "id": "9278515d-6ed9-4268-a072-298a1de86c88",
   "metadata": {},
   "outputs": [
    {
     "data": {
      "text/plain": [
       "0      1\n",
       "1      2\n",
       "2      3\n",
       "3    100\n",
       "4      5\n",
       "5      6\n",
       "6      7\n",
       "7      8\n",
       "8      9\n",
       "dtype: int32"
      ]
     },
     "execution_count": 47,
     "metadata": {},
     "output_type": "execute_result"
    }
   ],
   "source": [
    "series3"
   ]
  },
  {
   "cell_type": "code",
   "execution_count": 51,
   "id": "d3dceb13-ad63-4b4f-b4d6-4ea6e285f9fc",
   "metadata": {},
   "outputs": [],
   "source": [
    "series4= pd.Series([10,20,30,40,50,60], index = (0,2,4,6,8,10)) ## We can also modify the index numbers"
   ]
  },
  {
   "cell_type": "code",
   "execution_count": 52,
   "id": "208d339e-e4df-4ed5-b039-73e89f4aafb4",
   "metadata": {},
   "outputs": [
    {
     "data": {
      "text/plain": [
       "0     10\n",
       "2     20\n",
       "4     30\n",
       "6     40\n",
       "8     50\n",
       "10    60\n",
       "dtype: int64"
      ]
     },
     "execution_count": 52,
     "metadata": {},
     "output_type": "execute_result"
    }
   ],
   "source": [
    "series4"
   ]
  },
  {
   "cell_type": "code",
   "execution_count": 53,
   "id": "b9474b12-4487-4add-8853-401be82bc3c6",
   "metadata": {},
   "outputs": [],
   "source": [
    "series4 = pd.Series([1,2,3,4,5,6], index = (\"a\",\"b\",\"c\",\"d\",\"e\",\"f\"))\n"
   ]
  },
  {
   "cell_type": "code",
   "execution_count": 54,
   "id": "8c991857-cc9a-4e76-96f3-0a0df26205a6",
   "metadata": {},
   "outputs": [
    {
     "data": {
      "text/plain": [
       "a    1\n",
       "b    2\n",
       "c    3\n",
       "d    4\n",
       "e    5\n",
       "f    6\n",
       "dtype: int64"
      ]
     },
     "execution_count": 54,
     "metadata": {},
     "output_type": "execute_result"
    }
   ],
   "source": [
    "series4"
   ]
  },
  {
   "cell_type": "code",
   "execution_count": 55,
   "id": "bf4d548a-79ca-44d0-b299-2e27954d9364",
   "metadata": {},
   "outputs": [
    {
     "data": {
      "text/plain": [
       "2"
      ]
     },
     "execution_count": 55,
     "metadata": {},
     "output_type": "execute_result"
    }
   ],
   "source": [
    "series4[\"b\"]"
   ]
  },
  {
   "cell_type": "code",
   "execution_count": 56,
   "id": "37cf7ed9-deb3-4ec2-84fe-a99fab9eb6ff",
   "metadata": {},
   "outputs": [
    {
     "data": {
      "text/plain": [
       "3"
      ]
     },
     "execution_count": 56,
     "metadata": {},
     "output_type": "execute_result"
    }
   ],
   "source": [
    "series4.c"
   ]
  },
  {
   "cell_type": "code",
   "execution_count": 58,
   "id": "30650b59-88a1-4aa5-9d47-aa2e279bb790",
   "metadata": {},
   "outputs": [
    {
     "data": {
      "text/plain": [
       "2"
      ]
     },
     "execution_count": 58,
     "metadata": {},
     "output_type": "execute_result"
    }
   ],
   "source": [
    "series4.b"
   ]
  },
  {
   "cell_type": "code",
   "execution_count": 59,
   "id": "4435e25f-a501-41d7-a4e8-2752f0053c44",
   "metadata": {},
   "outputs": [
    {
     "data": {
      "text/plain": [
       "3"
      ]
     },
     "execution_count": 59,
     "metadata": {},
     "output_type": "execute_result"
    }
   ],
   "source": [
    "series4[2]"
   ]
  },
  {
   "cell_type": "code",
   "execution_count": 60,
   "id": "c32af47f-e6b2-4629-a85b-2bfffe417cf9",
   "metadata": {},
   "outputs": [
    {
     "data": {
      "text/plain": [
       "4"
      ]
     },
     "execution_count": 60,
     "metadata": {},
     "output_type": "execute_result"
    }
   ],
   "source": [
    "series4[3]"
   ]
  },
  {
   "cell_type": "code",
   "execution_count": 61,
   "id": "1b603569-5a7b-4e11-9efd-2ef7f53f48d5",
   "metadata": {},
   "outputs": [
    {
     "data": {
      "text/plain": [
       "2"
      ]
     },
     "execution_count": 61,
     "metadata": {},
     "output_type": "execute_result"
    }
   ],
   "source": [
    "series4[1]"
   ]
  },
  {
   "cell_type": "code",
   "execution_count": 65,
   "id": "4f6bc215-58c0-488e-a058-e764d470a030",
   "metadata": {},
   "outputs": [
    {
     "ename": "KeyError",
     "evalue": "2",
     "output_type": "error",
     "traceback": [
      "\u001b[1;31m---------------------------------------------------------------------------\u001b[0m",
      "\u001b[1;31mKeyError\u001b[0m                                  Traceback (most recent call last)",
      "\u001b[1;32m~\\anaconda3\\lib\\site-packages\\pandas\\core\\indexes\\base.py\u001b[0m in \u001b[0;36mget_loc\u001b[1;34m(self, key, method, tolerance)\u001b[0m\n\u001b[0;32m   3628\u001b[0m             \u001b[1;32mtry\u001b[0m\u001b[1;33m:\u001b[0m\u001b[1;33m\u001b[0m\u001b[1;33m\u001b[0m\u001b[0m\n\u001b[1;32m-> 3629\u001b[1;33m                 \u001b[1;32mreturn\u001b[0m \u001b[0mself\u001b[0m\u001b[1;33m.\u001b[0m\u001b[0m_engine\u001b[0m\u001b[1;33m.\u001b[0m\u001b[0mget_loc\u001b[0m\u001b[1;33m(\u001b[0m\u001b[0mcasted_key\u001b[0m\u001b[1;33m)\u001b[0m\u001b[1;33m\u001b[0m\u001b[1;33m\u001b[0m\u001b[0m\n\u001b[0m\u001b[0;32m   3630\u001b[0m             \u001b[1;32mexcept\u001b[0m \u001b[0mKeyError\u001b[0m \u001b[1;32mas\u001b[0m \u001b[0merr\u001b[0m\u001b[1;33m:\u001b[0m\u001b[1;33m\u001b[0m\u001b[1;33m\u001b[0m\u001b[0m\n",
      "\u001b[1;32m~\\anaconda3\\lib\\site-packages\\pandas\\_libs\\index.pyx\u001b[0m in \u001b[0;36mpandas._libs.index.IndexEngine.get_loc\u001b[1;34m()\u001b[0m\n",
      "\u001b[1;32m~\\anaconda3\\lib\\site-packages\\pandas\\_libs\\index.pyx\u001b[0m in \u001b[0;36mpandas._libs.index.IndexEngine.get_loc\u001b[1;34m()\u001b[0m\n",
      "\u001b[1;32mpandas\\_libs\\hashtable_class_helper.pxi\u001b[0m in \u001b[0;36mpandas._libs.hashtable.Int64HashTable.get_item\u001b[1;34m()\u001b[0m\n",
      "\u001b[1;32mpandas\\_libs\\hashtable_class_helper.pxi\u001b[0m in \u001b[0;36mpandas._libs.hashtable.Int64HashTable.get_item\u001b[1;34m()\u001b[0m\n",
      "\u001b[1;31mKeyError\u001b[0m: 2",
      "\nThe above exception was the direct cause of the following exception:\n",
      "\u001b[1;31mKeyError\u001b[0m                                  Traceback (most recent call last)",
      "\u001b[1;32m~\\AppData\\Local\\Temp\\ipykernel_23720\\495171109.py\u001b[0m in \u001b[0;36m<module>\u001b[1;34m\u001b[0m\n\u001b[0;32m      1\u001b[0m \u001b[0mseries5\u001b[0m \u001b[1;33m=\u001b[0m \u001b[0mpd\u001b[0m\u001b[1;33m.\u001b[0m\u001b[0mSeries\u001b[0m\u001b[1;33m(\u001b[0m\u001b[1;33m(\u001b[0m\u001b[1;36m1\u001b[0m\u001b[1;33m,\u001b[0m\u001b[1;36m2\u001b[0m\u001b[1;33m,\u001b[0m\u001b[1;36m3\u001b[0m\u001b[1;33m,\u001b[0m\u001b[1;36m4\u001b[0m\u001b[1;33m,\u001b[0m\u001b[1;36m5\u001b[0m\u001b[1;33m,\u001b[0m\u001b[1;36m6\u001b[0m\u001b[1;33m)\u001b[0m\u001b[1;33m,\u001b[0m \u001b[0mindex\u001b[0m \u001b[1;33m=\u001b[0m \u001b[1;33m(\u001b[0m\u001b[1;36m10\u001b[0m\u001b[1;33m,\u001b[0m\u001b[1;36m20\u001b[0m\u001b[1;33m,\u001b[0m\u001b[1;36m30\u001b[0m\u001b[1;33m,\u001b[0m\u001b[1;36m40\u001b[0m\u001b[1;33m,\u001b[0m\u001b[1;36m50\u001b[0m\u001b[1;33m,\u001b[0m\u001b[1;36m60\u001b[0m\u001b[1;33m)\u001b[0m\u001b[1;33m)\u001b[0m \u001b[1;31m## If you use tuple not using the regular index numberss\u001b[0m\u001b[1;33m\u001b[0m\u001b[1;33m\u001b[0m\u001b[0m\n\u001b[0;32m      2\u001b[0m \u001b[0mseries5\u001b[0m\u001b[1;33m[\u001b[0m\u001b[1;36m20\u001b[0m\u001b[1;33m]\u001b[0m\u001b[1;33m\u001b[0m\u001b[1;33m\u001b[0m\u001b[0m\n\u001b[1;32m----> 3\u001b[1;33m \u001b[0mseries5\u001b[0m\u001b[1;33m[\u001b[0m\u001b[1;36m2\u001b[0m\u001b[1;33m]\u001b[0m\u001b[1;33m\u001b[0m\u001b[1;33m\u001b[0m\u001b[0m\n\u001b[0m",
      "\u001b[1;32m~\\anaconda3\\lib\\site-packages\\pandas\\core\\series.py\u001b[0m in \u001b[0;36m__getitem__\u001b[1;34m(self, key)\u001b[0m\n\u001b[0;32m    956\u001b[0m \u001b[1;33m\u001b[0m\u001b[0m\n\u001b[0;32m    957\u001b[0m         \u001b[1;32melif\u001b[0m \u001b[0mkey_is_scalar\u001b[0m\u001b[1;33m:\u001b[0m\u001b[1;33m\u001b[0m\u001b[1;33m\u001b[0m\u001b[0m\n\u001b[1;32m--> 958\u001b[1;33m             \u001b[1;32mreturn\u001b[0m \u001b[0mself\u001b[0m\u001b[1;33m.\u001b[0m\u001b[0m_get_value\u001b[0m\u001b[1;33m(\u001b[0m\u001b[0mkey\u001b[0m\u001b[1;33m)\u001b[0m\u001b[1;33m\u001b[0m\u001b[1;33m\u001b[0m\u001b[0m\n\u001b[0m\u001b[0;32m    959\u001b[0m \u001b[1;33m\u001b[0m\u001b[0m\n\u001b[0;32m    960\u001b[0m         \u001b[1;32mif\u001b[0m \u001b[0mis_hashable\u001b[0m\u001b[1;33m(\u001b[0m\u001b[0mkey\u001b[0m\u001b[1;33m)\u001b[0m\u001b[1;33m:\u001b[0m\u001b[1;33m\u001b[0m\u001b[1;33m\u001b[0m\u001b[0m\n",
      "\u001b[1;32m~\\anaconda3\\lib\\site-packages\\pandas\\core\\series.py\u001b[0m in \u001b[0;36m_get_value\u001b[1;34m(self, label, takeable)\u001b[0m\n\u001b[0;32m   1067\u001b[0m \u001b[1;33m\u001b[0m\u001b[0m\n\u001b[0;32m   1068\u001b[0m         \u001b[1;31m# Similar to Index.get_value, but we do not fall back to positional\u001b[0m\u001b[1;33m\u001b[0m\u001b[1;33m\u001b[0m\u001b[0m\n\u001b[1;32m-> 1069\u001b[1;33m         \u001b[0mloc\u001b[0m \u001b[1;33m=\u001b[0m \u001b[0mself\u001b[0m\u001b[1;33m.\u001b[0m\u001b[0mindex\u001b[0m\u001b[1;33m.\u001b[0m\u001b[0mget_loc\u001b[0m\u001b[1;33m(\u001b[0m\u001b[0mlabel\u001b[0m\u001b[1;33m)\u001b[0m\u001b[1;33m\u001b[0m\u001b[1;33m\u001b[0m\u001b[0m\n\u001b[0m\u001b[0;32m   1070\u001b[0m         \u001b[1;32mreturn\u001b[0m \u001b[0mself\u001b[0m\u001b[1;33m.\u001b[0m\u001b[0mindex\u001b[0m\u001b[1;33m.\u001b[0m\u001b[0m_get_values_for_loc\u001b[0m\u001b[1;33m(\u001b[0m\u001b[0mself\u001b[0m\u001b[1;33m,\u001b[0m \u001b[0mloc\u001b[0m\u001b[1;33m,\u001b[0m \u001b[0mlabel\u001b[0m\u001b[1;33m)\u001b[0m\u001b[1;33m\u001b[0m\u001b[1;33m\u001b[0m\u001b[0m\n\u001b[0;32m   1071\u001b[0m \u001b[1;33m\u001b[0m\u001b[0m\n",
      "\u001b[1;32m~\\anaconda3\\lib\\site-packages\\pandas\\core\\indexes\\base.py\u001b[0m in \u001b[0;36mget_loc\u001b[1;34m(self, key, method, tolerance)\u001b[0m\n\u001b[0;32m   3629\u001b[0m                 \u001b[1;32mreturn\u001b[0m \u001b[0mself\u001b[0m\u001b[1;33m.\u001b[0m\u001b[0m_engine\u001b[0m\u001b[1;33m.\u001b[0m\u001b[0mget_loc\u001b[0m\u001b[1;33m(\u001b[0m\u001b[0mcasted_key\u001b[0m\u001b[1;33m)\u001b[0m\u001b[1;33m\u001b[0m\u001b[1;33m\u001b[0m\u001b[0m\n\u001b[0;32m   3630\u001b[0m             \u001b[1;32mexcept\u001b[0m \u001b[0mKeyError\u001b[0m \u001b[1;32mas\u001b[0m \u001b[0merr\u001b[0m\u001b[1;33m:\u001b[0m\u001b[1;33m\u001b[0m\u001b[1;33m\u001b[0m\u001b[0m\n\u001b[1;32m-> 3631\u001b[1;33m                 \u001b[1;32mraise\u001b[0m \u001b[0mKeyError\u001b[0m\u001b[1;33m(\u001b[0m\u001b[0mkey\u001b[0m\u001b[1;33m)\u001b[0m \u001b[1;32mfrom\u001b[0m \u001b[0merr\u001b[0m\u001b[1;33m\u001b[0m\u001b[1;33m\u001b[0m\u001b[0m\n\u001b[0m\u001b[0;32m   3632\u001b[0m             \u001b[1;32mexcept\u001b[0m \u001b[0mTypeError\u001b[0m\u001b[1;33m:\u001b[0m\u001b[1;33m\u001b[0m\u001b[1;33m\u001b[0m\u001b[0m\n\u001b[0;32m   3633\u001b[0m                 \u001b[1;31m# If we have a listlike key, _check_indexing_error will raise\u001b[0m\u001b[1;33m\u001b[0m\u001b[1;33m\u001b[0m\u001b[0m\n",
      "\u001b[1;31mKeyError\u001b[0m: 2"
     ]
    }
   ],
   "source": [
    "series5 = pd.Series((1,2,3,4,5,6), index = (10,20,30,40,50,60)) ## If you use tuple not using the regular index numberss \n",
    "\n",
    "series5[2]"
   ]
  },
  {
   "cell_type": "code",
   "execution_count": 66,
   "id": "6e78d456-dbb0-41c8-9d52-f441bf725178",
   "metadata": {},
   "outputs": [
    {
     "data": {
      "text/plain": [
       "2"
      ]
     },
     "execution_count": 66,
     "metadata": {},
     "output_type": "execute_result"
    }
   ],
   "source": [
    "series5[20]"
   ]
  },
  {
   "cell_type": "code",
   "execution_count": 67,
   "id": "dddb84f2-551f-49b0-a8e6-f7b66f66d3d7",
   "metadata": {},
   "outputs": [
    {
     "data": {
      "text/plain": [
       "20    2\n",
       "30    3\n",
       "40    4\n",
       "50    5\n",
       "dtype: int64"
      ]
     },
     "execution_count": 67,
     "metadata": {},
     "output_type": "execute_result"
    }
   ],
   "source": [
    "series5.loc[20:50]"
   ]
  },
  {
   "cell_type": "code",
   "execution_count": 68,
   "id": "267d9e3d-9c6a-4e24-bee5-7fb76820a69f",
   "metadata": {},
   "outputs": [
    {
     "data": {
      "text/plain": [
       "20    2\n",
       "30    3\n",
       "40    4\n",
       "50    5\n",
       "60    6\n",
       "dtype: int64"
      ]
     },
     "execution_count": 68,
     "metadata": {},
     "output_type": "execute_result"
    }
   ],
   "source": [
    "series5.loc[20:90]"
   ]
  },
  {
   "cell_type": "code",
   "execution_count": 71,
   "id": "c8ddc4a2-2361-49a3-90df-31caaecb46af",
   "metadata": {},
   "outputs": [
    {
     "data": {
      "text/plain": [
       "10    1\n",
       "20    2\n",
       "30    3\n",
       "40    4\n",
       "50    5\n",
       "60    6\n",
       "dtype: int64"
      ]
     },
     "execution_count": 71,
     "metadata": {},
     "output_type": "execute_result"
    }
   ],
   "source": [
    "series5.loc[10:70] ## It is not common useful method .loc"
   ]
  },
  {
   "cell_type": "code",
   "execution_count": 72,
   "id": "31da77ea-a471-4929-8adb-8c798d6ba7d9",
   "metadata": {},
   "outputs": [
    {
     "data": {
      "text/plain": [
       "10    1\n",
       "20    2\n",
       "30    3\n",
       "40    4\n",
       "50    5\n",
       "60    6\n",
       "dtype: int64"
      ]
     },
     "execution_count": 72,
     "metadata": {},
     "output_type": "execute_result"
    }
   ],
   "source": [
    "series5"
   ]
  },
  {
   "cell_type": "code",
   "execution_count": 73,
   "id": "9ce7a785-660c-4b49-b6af-bf3d9fe972cf",
   "metadata": {},
   "outputs": [
    {
     "data": {
      "text/plain": [
       "4"
      ]
     },
     "execution_count": 73,
     "metadata": {},
     "output_type": "execute_result"
    }
   ],
   "source": [
    "series5.iloc[3]"
   ]
  },
  {
   "cell_type": "code",
   "execution_count": 106,
   "id": "0cd60feb-1af4-471a-9084-4453cac0712c",
   "metadata": {},
   "outputs": [
    {
     "data": {
      "text/html": [
       "<div>\n",
       "<style scoped>\n",
       "    .dataframe tbody tr th:only-of-type {\n",
       "        vertical-align: middle;\n",
       "    }\n",
       "\n",
       "    .dataframe tbody tr th {\n",
       "        vertical-align: top;\n",
       "    }\n",
       "\n",
       "    .dataframe thead th {\n",
       "        text-align: right;\n",
       "    }\n",
       "</style>\n",
       "<table border=\"1\" class=\"dataframe\">\n",
       "  <thead>\n",
       "    <tr style=\"text-align: right;\">\n",
       "      <th></th>\n",
       "      <th>Index Numbers</th>\n",
       "    </tr>\n",
       "  </thead>\n",
       "  <tbody>\n",
       "    <tr>\n",
       "      <th>0</th>\n",
       "      <td>0</td>\n",
       "    </tr>\n",
       "    <tr>\n",
       "      <th>1</th>\n",
       "      <td>1</td>\n",
       "    </tr>\n",
       "    <tr>\n",
       "      <th>2</th>\n",
       "      <td>2</td>\n",
       "    </tr>\n",
       "    <tr>\n",
       "      <th>3</th>\n",
       "      <td>3</td>\n",
       "    </tr>\n",
       "    <tr>\n",
       "      <th>4</th>\n",
       "      <td>4</td>\n",
       "    </tr>\n",
       "    <tr>\n",
       "      <th>5</th>\n",
       "      <td>5</td>\n",
       "    </tr>\n",
       "  </tbody>\n",
       "</table>\n",
       "</div>"
      ],
      "text/plain": [
       "   Index Numbers\n",
       "0              0\n",
       "1              1\n",
       "2              2\n",
       "3              3\n",
       "4              4\n",
       "5              5"
      ]
     },
     "execution_count": 106,
     "metadata": {},
     "output_type": "execute_result"
    }
   ],
   "source": [
    "ar =pd.DataFrame([0,1,2,3,4,5], columns= [\"Index Numbers\"])\n",
    "ar"
   ]
  },
  {
   "cell_type": "code",
   "execution_count": 86,
   "id": "e99e4353-8911-4ad2-acf1-11f54afe3548",
   "metadata": {},
   "outputs": [
    {
     "data": {
      "text/html": [
       "<div>\n",
       "<style scoped>\n",
       "    .dataframe tbody tr th:only-of-type {\n",
       "        vertical-align: middle;\n",
       "    }\n",
       "\n",
       "    .dataframe tbody tr th {\n",
       "        vertical-align: top;\n",
       "    }\n",
       "\n",
       "    .dataframe thead th {\n",
       "        text-align: right;\n",
       "    }\n",
       "</style>\n",
       "<table border=\"1\" class=\"dataframe\">\n",
       "  <thead>\n",
       "    <tr style=\"text-align: right;\">\n",
       "      <th></th>\n",
       "      <th>col1</th>\n",
       "      <th>col2</th>\n",
       "    </tr>\n",
       "  </thead>\n",
       "  <tbody>\n",
       "    <tr>\n",
       "      <th>0</th>\n",
       "      <td>1</td>\n",
       "      <td>3</td>\n",
       "    </tr>\n",
       "    <tr>\n",
       "      <th>1</th>\n",
       "      <td>2</td>\n",
       "      <td>4</td>\n",
       "    </tr>\n",
       "  </tbody>\n",
       "</table>\n",
       "</div>"
      ],
      "text/plain": [
       "   col1  col2\n",
       "0     1     3\n",
       "1     2     4"
      ]
     },
     "execution_count": 86,
     "metadata": {},
     "output_type": "execute_result"
    }
   ],
   "source": [
    "d = {'col1': [1, 2], 'col2': [3, 4]}\n",
    "df = pd.DataFrame(data=d)\n",
    "df"
   ]
  },
  {
   "cell_type": "code",
   "execution_count": 87,
   "id": "7fe532c3-ce2c-4144-909a-5a5be06f0f2e",
   "metadata": {},
   "outputs": [
    {
     "data": {
      "text/html": [
       "<div>\n",
       "<style scoped>\n",
       "    .dataframe tbody tr th:only-of-type {\n",
       "        vertical-align: middle;\n",
       "    }\n",
       "\n",
       "    .dataframe tbody tr th {\n",
       "        vertical-align: top;\n",
       "    }\n",
       "\n",
       "    .dataframe thead th {\n",
       "        text-align: right;\n",
       "    }\n",
       "</style>\n",
       "<table border=\"1\" class=\"dataframe\">\n",
       "  <thead>\n",
       "    <tr style=\"text-align: right;\">\n",
       "      <th></th>\n",
       "      <th>State</th>\n",
       "      <th>License Plate</th>\n",
       "    </tr>\n",
       "  </thead>\n",
       "  <tbody>\n",
       "    <tr>\n",
       "      <th>0</th>\n",
       "      <td>TX</td>\n",
       "      <td>1</td>\n",
       "    </tr>\n",
       "    <tr>\n",
       "      <th>1</th>\n",
       "      <td>OH</td>\n",
       "      <td>2</td>\n",
       "    </tr>\n",
       "    <tr>\n",
       "      <th>2</th>\n",
       "      <td>LA</td>\n",
       "      <td>3</td>\n",
       "    </tr>\n",
       "  </tbody>\n",
       "</table>\n",
       "</div>"
      ],
      "text/plain": [
       "  State  License Plate\n",
       "0    TX              1\n",
       "1    OH              2\n",
       "2    LA              3"
      ]
     },
     "execution_count": 87,
     "metadata": {},
     "output_type": "execute_result"
    }
   ],
   "source": [
    "x = {'State' :[\"TX\",\"OH\", \"LA\"], 'License Plate':[1,2,3]}\n",
    "define = pd.DataFrame(data=x)\n",
    "define"
   ]
  },
  {
   "cell_type": "code",
   "execution_count": 90,
   "id": "7b4e180c-16e4-44ff-9e2a-ee7984b47d3e",
   "metadata": {},
   "outputs": [
    {
     "data": {
      "text/plain": [
       "dict"
      ]
     },
     "execution_count": 90,
     "metadata": {},
     "output_type": "execute_result"
    }
   ],
   "source": [
    "type(x)"
   ]
  },
  {
   "cell_type": "code",
   "execution_count": 97,
   "id": "8aba34de-b895-4744-b8db-b3ddc6e9f79e",
   "metadata": {},
   "outputs": [
    {
     "data": {
      "text/plain": [
       "pandas.core.frame.DataFrame"
      ]
     },
     "execution_count": 97,
     "metadata": {},
     "output_type": "execute_result"
    }
   ],
   "source": [
    "type(ar)"
   ]
  },
  {
   "cell_type": "code",
   "execution_count": 98,
   "id": "2cbb77ea-9d07-423b-84a7-1dcf660885cc",
   "metadata": {},
   "outputs": [
    {
     "data": {
      "text/plain": [
       "[RangeIndex(start=0, stop=6, step=1), Index(['Index Numbers'], dtype='object')]"
      ]
     },
     "execution_count": 98,
     "metadata": {},
     "output_type": "execute_result"
    }
   ],
   "source": [
    "ar.axes"
   ]
  },
  {
   "cell_type": "code",
   "execution_count": 99,
   "id": "c21859ae-9968-4963-8996-84500ef07af9",
   "metadata": {},
   "outputs": [
    {
     "ename": "AttributeError",
     "evalue": "'dict' object has no attribute 'axes'",
     "output_type": "error",
     "traceback": [
      "\u001b[1;31m---------------------------------------------------------------------------\u001b[0m",
      "\u001b[1;31mAttributeError\u001b[0m                            Traceback (most recent call last)",
      "\u001b[1;32m~\\AppData\\Local\\Temp\\ipykernel_23720\\1104403926.py\u001b[0m in \u001b[0;36m<module>\u001b[1;34m\u001b[0m\n\u001b[1;32m----> 1\u001b[1;33m \u001b[0mx\u001b[0m\u001b[1;33m.\u001b[0m\u001b[0maxes\u001b[0m\u001b[1;33m\u001b[0m\u001b[1;33m\u001b[0m\u001b[0m\n\u001b[0m",
      "\u001b[1;31mAttributeError\u001b[0m: 'dict' object has no attribute 'axes'"
     ]
    }
   ],
   "source": [
    "x.axes"
   ]
  },
  {
   "cell_type": "code",
   "execution_count": 108,
   "id": "bbec1137-e5ae-429b-9e53-f37e46dc38a8",
   "metadata": {},
   "outputs": [
    {
     "data": {
      "text/plain": [
       "(6, 1)"
      ]
     },
     "execution_count": 108,
     "metadata": {},
     "output_type": "execute_result"
    }
   ],
   "source": [
    "ar.shape"
   ]
  },
  {
   "cell_type": "code",
   "execution_count": 111,
   "id": "f431ff6f-22f3-42c1-aca1-9796d339b210",
   "metadata": {},
   "outputs": [],
   "source": [
    "a = np.random.randint(10,size=6)\n",
    "b = np.random.randint(10,size=6)\n",
    "c = np.random.randint(10,size=6)\n",
    "data = pd.DataFrame({ \"s1\" : a ,\" s2\" : b ,\" s3\" : c})"
   ]
  },
  {
   "cell_type": "code",
   "execution_count": 125,
   "id": "f3256df2-3964-4e49-adfa-f203ed856825",
   "metadata": {},
   "outputs": [
    {
     "data": {
      "text/html": [
       "<div>\n",
       "<style scoped>\n",
       "    .dataframe tbody tr th:only-of-type {\n",
       "        vertical-align: middle;\n",
       "    }\n",
       "\n",
       "    .dataframe tbody tr th {\n",
       "        vertical-align: top;\n",
       "    }\n",
       "\n",
       "    .dataframe thead th {\n",
       "        text-align: right;\n",
       "    }\n",
       "</style>\n",
       "<table border=\"1\" class=\"dataframe\">\n",
       "  <thead>\n",
       "    <tr style=\"text-align: right;\">\n",
       "      <th></th>\n",
       "      <th>s2</th>\n",
       "      <th>s3</th>\n",
       "    </tr>\n",
       "  </thead>\n",
       "  <tbody>\n",
       "    <tr>\n",
       "      <th>0</th>\n",
       "      <td>4</td>\n",
       "      <td>8</td>\n",
       "    </tr>\n",
       "    <tr>\n",
       "      <th>1</th>\n",
       "      <td>7</td>\n",
       "      <td>4</td>\n",
       "    </tr>\n",
       "    <tr>\n",
       "      <th>2</th>\n",
       "      <td>9</td>\n",
       "      <td>8</td>\n",
       "    </tr>\n",
       "    <tr>\n",
       "      <th>3</th>\n",
       "      <td>9</td>\n",
       "      <td>9</td>\n",
       "    </tr>\n",
       "    <tr>\n",
       "      <th>4</th>\n",
       "      <td>3</td>\n",
       "      <td>8</td>\n",
       "    </tr>\n",
       "    <tr>\n",
       "      <th>5</th>\n",
       "      <td>9</td>\n",
       "      <td>9</td>\n",
       "    </tr>\n",
       "  </tbody>\n",
       "</table>\n",
       "</div>"
      ],
      "text/plain": [
       "    s2   s3\n",
       "0    4    8\n",
       "1    7    4\n",
       "2    9    8\n",
       "3    9    9\n",
       "4    3    8\n",
       "5    9    9"
      ]
     },
     "execution_count": 125,
     "metadata": {},
     "output_type": "execute_result"
    }
   ],
   "source": [
    "data"
   ]
  },
  {
   "cell_type": "code",
   "execution_count": 127,
   "id": "05eb4206-db2e-42f9-ab55-1325b65a1ea0",
   "metadata": {},
   "outputs": [
    {
     "ename": "KeyError",
     "evalue": "\"['s2'] not found in axis\"",
     "output_type": "error",
     "traceback": [
      "\u001b[1;31m---------------------------------------------------------------------------\u001b[0m",
      "\u001b[1;31mKeyError\u001b[0m                                  Traceback (most recent call last)",
      "\u001b[1;32m~\\AppData\\Local\\Temp\\ipykernel_23720\\1938469851.py\u001b[0m in \u001b[0;36m<module>\u001b[1;34m\u001b[0m\n\u001b[1;32m----> 1\u001b[1;33m \u001b[0mdata\u001b[0m\u001b[1;33m.\u001b[0m\u001b[0mdrop\u001b[0m\u001b[1;33m(\u001b[0m\u001b[1;34m\"s2\"\u001b[0m\u001b[1;33m,\u001b[0m\u001b[0maxis\u001b[0m\u001b[1;33m=\u001b[0m\u001b[1;36m0\u001b[0m\u001b[1;33m,\u001b[0m \u001b[0minplace\u001b[0m\u001b[1;33m=\u001b[0m\u001b[1;32mTrue\u001b[0m\u001b[1;33m)\u001b[0m\u001b[1;33m\u001b[0m\u001b[1;33m\u001b[0m\u001b[0m\n\u001b[0m",
      "\u001b[1;32m~\\anaconda3\\lib\\site-packages\\pandas\\util\\_decorators.py\u001b[0m in \u001b[0;36mwrapper\u001b[1;34m(*args, **kwargs)\u001b[0m\n\u001b[0;32m    309\u001b[0m                     \u001b[0mstacklevel\u001b[0m\u001b[1;33m=\u001b[0m\u001b[0mstacklevel\u001b[0m\u001b[1;33m,\u001b[0m\u001b[1;33m\u001b[0m\u001b[1;33m\u001b[0m\u001b[0m\n\u001b[0;32m    310\u001b[0m                 )\n\u001b[1;32m--> 311\u001b[1;33m             \u001b[1;32mreturn\u001b[0m \u001b[0mfunc\u001b[0m\u001b[1;33m(\u001b[0m\u001b[1;33m*\u001b[0m\u001b[0margs\u001b[0m\u001b[1;33m,\u001b[0m \u001b[1;33m**\u001b[0m\u001b[0mkwargs\u001b[0m\u001b[1;33m)\u001b[0m\u001b[1;33m\u001b[0m\u001b[1;33m\u001b[0m\u001b[0m\n\u001b[0m\u001b[0;32m    312\u001b[0m \u001b[1;33m\u001b[0m\u001b[0m\n\u001b[0;32m    313\u001b[0m         \u001b[1;32mreturn\u001b[0m \u001b[0mwrapper\u001b[0m\u001b[1;33m\u001b[0m\u001b[1;33m\u001b[0m\u001b[0m\n",
      "\u001b[1;32m~\\anaconda3\\lib\\site-packages\\pandas\\core\\frame.py\u001b[0m in \u001b[0;36mdrop\u001b[1;34m(self, labels, axis, index, columns, level, inplace, errors)\u001b[0m\n\u001b[0;32m   4955\u001b[0m                 \u001b[0mweight\u001b[0m  \u001b[1;36m1.0\u001b[0m     \u001b[1;36m0.8\u001b[0m\u001b[1;33m\u001b[0m\u001b[1;33m\u001b[0m\u001b[0m\n\u001b[0;32m   4956\u001b[0m         \"\"\"\n\u001b[1;32m-> 4957\u001b[1;33m         return super().drop(\n\u001b[0m\u001b[0;32m   4958\u001b[0m             \u001b[0mlabels\u001b[0m\u001b[1;33m=\u001b[0m\u001b[0mlabels\u001b[0m\u001b[1;33m,\u001b[0m\u001b[1;33m\u001b[0m\u001b[1;33m\u001b[0m\u001b[0m\n\u001b[0;32m   4959\u001b[0m             \u001b[0maxis\u001b[0m\u001b[1;33m=\u001b[0m\u001b[0maxis\u001b[0m\u001b[1;33m,\u001b[0m\u001b[1;33m\u001b[0m\u001b[1;33m\u001b[0m\u001b[0m\n",
      "\u001b[1;32m~\\anaconda3\\lib\\site-packages\\pandas\\core\\generic.py\u001b[0m in \u001b[0;36mdrop\u001b[1;34m(self, labels, axis, index, columns, level, inplace, errors)\u001b[0m\n\u001b[0;32m   4265\u001b[0m         \u001b[1;32mfor\u001b[0m \u001b[0maxis\u001b[0m\u001b[1;33m,\u001b[0m \u001b[0mlabels\u001b[0m \u001b[1;32min\u001b[0m \u001b[0maxes\u001b[0m\u001b[1;33m.\u001b[0m\u001b[0mitems\u001b[0m\u001b[1;33m(\u001b[0m\u001b[1;33m)\u001b[0m\u001b[1;33m:\u001b[0m\u001b[1;33m\u001b[0m\u001b[1;33m\u001b[0m\u001b[0m\n\u001b[0;32m   4266\u001b[0m             \u001b[1;32mif\u001b[0m \u001b[0mlabels\u001b[0m \u001b[1;32mis\u001b[0m \u001b[1;32mnot\u001b[0m \u001b[1;32mNone\u001b[0m\u001b[1;33m:\u001b[0m\u001b[1;33m\u001b[0m\u001b[1;33m\u001b[0m\u001b[0m\n\u001b[1;32m-> 4267\u001b[1;33m                 \u001b[0mobj\u001b[0m \u001b[1;33m=\u001b[0m \u001b[0mobj\u001b[0m\u001b[1;33m.\u001b[0m\u001b[0m_drop_axis\u001b[0m\u001b[1;33m(\u001b[0m\u001b[0mlabels\u001b[0m\u001b[1;33m,\u001b[0m \u001b[0maxis\u001b[0m\u001b[1;33m,\u001b[0m \u001b[0mlevel\u001b[0m\u001b[1;33m=\u001b[0m\u001b[0mlevel\u001b[0m\u001b[1;33m,\u001b[0m \u001b[0merrors\u001b[0m\u001b[1;33m=\u001b[0m\u001b[0merrors\u001b[0m\u001b[1;33m)\u001b[0m\u001b[1;33m\u001b[0m\u001b[1;33m\u001b[0m\u001b[0m\n\u001b[0m\u001b[0;32m   4268\u001b[0m \u001b[1;33m\u001b[0m\u001b[0m\n\u001b[0;32m   4269\u001b[0m         \u001b[1;32mif\u001b[0m \u001b[0minplace\u001b[0m\u001b[1;33m:\u001b[0m\u001b[1;33m\u001b[0m\u001b[1;33m\u001b[0m\u001b[0m\n",
      "\u001b[1;32m~\\anaconda3\\lib\\site-packages\\pandas\\core\\generic.py\u001b[0m in \u001b[0;36m_drop_axis\u001b[1;34m(self, labels, axis, level, errors, consolidate, only_slice)\u001b[0m\n\u001b[0;32m   4309\u001b[0m                 \u001b[0mnew_axis\u001b[0m \u001b[1;33m=\u001b[0m \u001b[0maxis\u001b[0m\u001b[1;33m.\u001b[0m\u001b[0mdrop\u001b[0m\u001b[1;33m(\u001b[0m\u001b[0mlabels\u001b[0m\u001b[1;33m,\u001b[0m \u001b[0mlevel\u001b[0m\u001b[1;33m=\u001b[0m\u001b[0mlevel\u001b[0m\u001b[1;33m,\u001b[0m \u001b[0merrors\u001b[0m\u001b[1;33m=\u001b[0m\u001b[0merrors\u001b[0m\u001b[1;33m)\u001b[0m\u001b[1;33m\u001b[0m\u001b[1;33m\u001b[0m\u001b[0m\n\u001b[0;32m   4310\u001b[0m             \u001b[1;32melse\u001b[0m\u001b[1;33m:\u001b[0m\u001b[1;33m\u001b[0m\u001b[1;33m\u001b[0m\u001b[0m\n\u001b[1;32m-> 4311\u001b[1;33m                 \u001b[0mnew_axis\u001b[0m \u001b[1;33m=\u001b[0m \u001b[0maxis\u001b[0m\u001b[1;33m.\u001b[0m\u001b[0mdrop\u001b[0m\u001b[1;33m(\u001b[0m\u001b[0mlabels\u001b[0m\u001b[1;33m,\u001b[0m \u001b[0merrors\u001b[0m\u001b[1;33m=\u001b[0m\u001b[0merrors\u001b[0m\u001b[1;33m)\u001b[0m\u001b[1;33m\u001b[0m\u001b[1;33m\u001b[0m\u001b[0m\n\u001b[0m\u001b[0;32m   4312\u001b[0m             \u001b[0mindexer\u001b[0m \u001b[1;33m=\u001b[0m \u001b[0maxis\u001b[0m\u001b[1;33m.\u001b[0m\u001b[0mget_indexer\u001b[0m\u001b[1;33m(\u001b[0m\u001b[0mnew_axis\u001b[0m\u001b[1;33m)\u001b[0m\u001b[1;33m\u001b[0m\u001b[1;33m\u001b[0m\u001b[0m\n\u001b[0;32m   4313\u001b[0m \u001b[1;33m\u001b[0m\u001b[0m\n",
      "\u001b[1;32m~\\anaconda3\\lib\\site-packages\\pandas\\core\\indexes\\base.py\u001b[0m in \u001b[0;36mdrop\u001b[1;34m(self, labels, errors)\u001b[0m\n\u001b[0;32m   6659\u001b[0m         \u001b[1;32mif\u001b[0m \u001b[0mmask\u001b[0m\u001b[1;33m.\u001b[0m\u001b[0many\u001b[0m\u001b[1;33m(\u001b[0m\u001b[1;33m)\u001b[0m\u001b[1;33m:\u001b[0m\u001b[1;33m\u001b[0m\u001b[1;33m\u001b[0m\u001b[0m\n\u001b[0;32m   6660\u001b[0m             \u001b[1;32mif\u001b[0m \u001b[0merrors\u001b[0m \u001b[1;33m!=\u001b[0m \u001b[1;34m\"ignore\"\u001b[0m\u001b[1;33m:\u001b[0m\u001b[1;33m\u001b[0m\u001b[1;33m\u001b[0m\u001b[0m\n\u001b[1;32m-> 6661\u001b[1;33m                 \u001b[1;32mraise\u001b[0m \u001b[0mKeyError\u001b[0m\u001b[1;33m(\u001b[0m\u001b[1;34mf\"{list(labels[mask])} not found in axis\"\u001b[0m\u001b[1;33m)\u001b[0m\u001b[1;33m\u001b[0m\u001b[1;33m\u001b[0m\u001b[0m\n\u001b[0m\u001b[0;32m   6662\u001b[0m             \u001b[0mindexer\u001b[0m \u001b[1;33m=\u001b[0m \u001b[0mindexer\u001b[0m\u001b[1;33m[\u001b[0m\u001b[1;33m~\u001b[0m\u001b[0mmask\u001b[0m\u001b[1;33m]\u001b[0m\u001b[1;33m\u001b[0m\u001b[1;33m\u001b[0m\u001b[0m\n\u001b[0;32m   6663\u001b[0m         \u001b[1;32mreturn\u001b[0m \u001b[0mself\u001b[0m\u001b[1;33m.\u001b[0m\u001b[0mdelete\u001b[0m\u001b[1;33m(\u001b[0m\u001b[0mindexer\u001b[0m\u001b[1;33m)\u001b[0m\u001b[1;33m\u001b[0m\u001b[1;33m\u001b[0m\u001b[0m\n",
      "\u001b[1;31mKeyError\u001b[0m: \"['s2'] not found in axis\""
     ]
    }
   ],
   "source": [
    "data.drop(\"s2\",axis=0, inplace=True)"
   ]
  },
  {
   "cell_type": "code",
   "execution_count": 128,
   "id": "f14a37b7-7c4e-4990-b1c9-d57c79980c03",
   "metadata": {},
   "outputs": [
    {
     "data": {
      "text/html": [
       "<div>\n",
       "<style scoped>\n",
       "    .dataframe tbody tr th:only-of-type {\n",
       "        vertical-align: middle;\n",
       "    }\n",
       "\n",
       "    .dataframe tbody tr th {\n",
       "        vertical-align: top;\n",
       "    }\n",
       "\n",
       "    .dataframe thead th {\n",
       "        text-align: right;\n",
       "    }\n",
       "</style>\n",
       "<table border=\"1\" class=\"dataframe\">\n",
       "  <thead>\n",
       "    <tr style=\"text-align: right;\">\n",
       "      <th></th>\n",
       "      <th>s2</th>\n",
       "      <th>s3</th>\n",
       "    </tr>\n",
       "  </thead>\n",
       "  <tbody>\n",
       "    <tr>\n",
       "      <th>0</th>\n",
       "      <td>4</td>\n",
       "      <td>8</td>\n",
       "    </tr>\n",
       "    <tr>\n",
       "      <th>1</th>\n",
       "      <td>7</td>\n",
       "      <td>4</td>\n",
       "    </tr>\n",
       "    <tr>\n",
       "      <th>2</th>\n",
       "      <td>9</td>\n",
       "      <td>8</td>\n",
       "    </tr>\n",
       "    <tr>\n",
       "      <th>3</th>\n",
       "      <td>9</td>\n",
       "      <td>9</td>\n",
       "    </tr>\n",
       "    <tr>\n",
       "      <th>4</th>\n",
       "      <td>3</td>\n",
       "      <td>8</td>\n",
       "    </tr>\n",
       "    <tr>\n",
       "      <th>5</th>\n",
       "      <td>9</td>\n",
       "      <td>9</td>\n",
       "    </tr>\n",
       "  </tbody>\n",
       "</table>\n",
       "</div>"
      ],
      "text/plain": [
       "    s2   s3\n",
       "0    4    8\n",
       "1    7    4\n",
       "2    9    8\n",
       "3    9    9\n",
       "4    3    8\n",
       "5    9    9"
      ]
     },
     "execution_count": 128,
     "metadata": {},
     "output_type": "execute_result"
    }
   ],
   "source": [
    "data"
   ]
  },
  {
   "cell_type": "markdown",
   "id": "c50e0042-cf33-41d7-bc2a-5a1db14f27da",
   "metadata": {},
   "source": [
    "## Pandas"
   ]
  },
  {
   "cell_type": "markdown",
   "id": "cb32c244-248b-4bbb-b3b5-14c43716a339",
   "metadata": {},
   "source": [
    "**Pandas converts data into data consisting of rows and columns objects.**\n",
    "\n",
    "***If the one of the objects is 1-d, it called pandas series. If the one of the objects is more than one dimention or we can say multi-dimention, it called pandas DataFrameWork objects.***\n",
    "\n",
    "*It is working faster than regular python lists!!*"
   ]
  },
  {
   "cell_type": "markdown",
   "id": "b1a09ca7-c2e6-45c8-9584-6108c2e04baa",
   "metadata": {},
   "source": [
    "### Pandas Series Structure"
   ]
  },
  {
   "cell_type": "code",
   "execution_count": 129,
   "id": "65818a8e-4234-4ef4-900b-36f1d6fac519",
   "metadata": {},
   "outputs": [],
   "source": [
    "student = ['Eren', 23, 'CS']"
   ]
  },
  {
   "cell_type": "code",
   "execution_count": 130,
   "id": "362c2a13-dcd1-41f3-bc99-caf64504c00f",
   "metadata": {},
   "outputs": [
    {
     "name": "stdout",
     "output_type": "stream",
     "text": [
      "['Eren', 23, 'CS']\n"
     ]
    }
   ],
   "source": [
    "print(student)"
   ]
  },
  {
   "cell_type": "code",
   "execution_count": 131,
   "id": "b867eb04-035a-4ae9-84a3-93c4511fae19",
   "metadata": {},
   "outputs": [
    {
     "data": {
      "text/plain": [
       "['Eren', 23, 'CS']"
      ]
     },
     "execution_count": 131,
     "metadata": {},
     "output_type": "execute_result"
    }
   ],
   "source": [
    "student"
   ]
  },
  {
   "cell_type": "code",
   "execution_count": 133,
   "id": "90702f1a-c2fa-4e48-b693-79c81e21ae26",
   "metadata": {},
   "outputs": [
    {
     "data": {
      "text/plain": [
       "list"
      ]
     },
     "execution_count": 133,
     "metadata": {},
     "output_type": "execute_result"
    }
   ],
   "source": [
    "type(student)"
   ]
  },
  {
   "cell_type": "code",
   "execution_count": 137,
   "id": "a61647d4-156e-455c-ab44-2a60438b1a6c",
   "metadata": {},
   "outputs": [
    {
     "data": {
      "text/plain": [
       "0    Eren\n",
       "1      23\n",
       "2      CS\n",
       "dtype: object"
      ]
     },
     "execution_count": 137,
     "metadata": {},
     "output_type": "execute_result"
    }
   ],
   "source": [
    "ps_student = pd.Series(student) ## Create pandas series\n",
    "ps_student ## 1-d pandas series object!!"
   ]
  },
  {
   "cell_type": "code",
   "execution_count": 140,
   "id": "cba798f8-417e-4565-bcdb-2369c38a16af",
   "metadata": {},
   "outputs": [
    {
     "data": {
      "text/plain": [
       "pandas.core.series.Series"
      ]
     },
     "execution_count": 140,
     "metadata": {},
     "output_type": "execute_result"
    }
   ],
   "source": [
    "type(ps_student) ## Series class automatically bringing index nums."
   ]
  },
  {
   "cell_type": "code",
   "execution_count": 148,
   "id": "a6358137-3e5b-4c3d-9800-732aa17f00da",
   "metadata": {},
   "outputs": [],
   "source": [
    "student =  {\n",
    "    'name' : 'Eren',\n",
    "    'age' : 23,\n",
    "    'discipline' : 'CS'\n",
    "}"
   ]
  },
  {
   "cell_type": "code",
   "execution_count": 150,
   "id": "521aff6c-068e-47b6-be3b-ed4654d69028",
   "metadata": {},
   "outputs": [
    {
     "data": {
      "text/plain": [
       "{'name': 'Eren', 'age': 23, 'discipline': 'CS'}"
      ]
     },
     "execution_count": 150,
     "metadata": {},
     "output_type": "execute_result"
    }
   ],
   "source": [
    "student ## Key value will return index in pandas dic."
   ]
  },
  {
   "cell_type": "code",
   "execution_count": 151,
   "id": "9bbe026a-9c77-4729-8943-0624f52e9ec5",
   "metadata": {},
   "outputs": [
    {
     "data": {
      "text/plain": [
       "dict"
      ]
     },
     "execution_count": 151,
     "metadata": {},
     "output_type": "execute_result"
    }
   ],
   "source": [
    "type(student)"
   ]
  },
  {
   "cell_type": "code",
   "execution_count": 152,
   "id": "9d8cb57e-daf5-43b9-b020-4724789e1ce6",
   "metadata": {},
   "outputs": [
    {
     "data": {
      "text/plain": [
       "name          Eren\n",
       "age             23\n",
       "discipline      CS\n",
       "dtype: object"
      ]
     },
     "execution_count": 152,
     "metadata": {},
     "output_type": "execute_result"
    }
   ],
   "source": [
    "ps_student = pd.Series(student)\n",
    "ps_student\n"
   ]
  },
  {
   "cell_type": "code",
   "execution_count": 153,
   "id": "5b92cc4e-3ebf-4208-9508-1aefb45fc776",
   "metadata": {},
   "outputs": [
    {
     "data": {
      "text/plain": [
       "pandas.core.series.Series"
      ]
     },
     "execution_count": 153,
     "metadata": {},
     "output_type": "execute_result"
    }
   ],
   "source": [
    "type(ps_student)"
   ]
  },
  {
   "cell_type": "code",
   "execution_count": null,
   "id": "446d1dd8-a27d-4c8a-bdf2-5e7f5e5fcd6a",
   "metadata": {},
   "outputs": [],
   "source": []
  },
  {
   "cell_type": "code",
   "execution_count": 154,
   "id": "e445f401-914f-4921-8bb6-ef958a97eff1",
   "metadata": {},
   "outputs": [],
   "source": [
    "student = pd.Series(['Eren', 23, 'CS'])"
   ]
  },
  {
   "cell_type": "code",
   "execution_count": 155,
   "id": "12dda2ba-b760-4fcc-b318-65947e97d9e8",
   "metadata": {},
   "outputs": [
    {
     "data": {
      "text/plain": [
       "0    Eren\n",
       "1      23\n",
       "2      CS\n",
       "dtype: object"
      ]
     },
     "execution_count": 155,
     "metadata": {},
     "output_type": "execute_result"
    }
   ],
   "source": [
    "student"
   ]
  },
  {
   "cell_type": "code",
   "execution_count": 156,
   "id": "c227533e-4a92-4f66-b0cb-6904ac9923b3",
   "metadata": {},
   "outputs": [
    {
     "data": {
      "text/plain": [
       "pandas.core.series.Series"
      ]
     },
     "execution_count": 156,
     "metadata": {},
     "output_type": "execute_result"
    }
   ],
   "source": [
    "type(student)"
   ]
  },
  {
   "cell_type": "code",
   "execution_count": 157,
   "id": "9ee9024a-d823-4780-83ff-c4e03b791459",
   "metadata": {},
   "outputs": [
    {
     "data": {
      "text/plain": [
       "0    24\n",
       "1    37\n",
       "2    43\n",
       "dtype: int64"
      ]
     },
     "execution_count": 157,
     "metadata": {},
     "output_type": "execute_result"
    }
   ],
   "source": [
    "numbers = pd.Series([24, 37, 43])\n",
    "numbers"
   ]
  },
  {
   "cell_type": "code",
   "execution_count": 158,
   "id": "b9438299-90ea-4df2-b2f5-68710bc31960",
   "metadata": {},
   "outputs": [
    {
     "data": {
      "text/plain": [
       "pandas.core.series.Series"
      ]
     },
     "execution_count": 158,
     "metadata": {},
     "output_type": "execute_result"
    }
   ],
   "source": [
    "type(numbers)"
   ]
  },
  {
   "cell_type": "code",
   "execution_count": 159,
   "id": "fb1bd491-489d-46b0-9372-d948ab660872",
   "metadata": {},
   "outputs": [],
   "source": [
    "booleans= pd.Series ([True, False, True])"
   ]
  },
  {
   "cell_type": "code",
   "execution_count": 160,
   "id": "d007bdad-1c15-468d-9719-3de1adec1c0b",
   "metadata": {},
   "outputs": [
    {
     "data": {
      "text/plain": [
       "0     True\n",
       "1    False\n",
       "2     True\n",
       "dtype: bool"
      ]
     },
     "execution_count": 160,
     "metadata": {},
     "output_type": "execute_result"
    }
   ],
   "source": [
    "booleans"
   ]
  },
  {
   "cell_type": "code",
   "execution_count": 161,
   "id": "be2737d6-ee38-49e0-828a-94eefdf42cc6",
   "metadata": {},
   "outputs": [
    {
     "data": {
      "text/plain": [
       "pandas.core.series.Series"
      ]
     },
     "execution_count": 161,
     "metadata": {},
     "output_type": "execute_result"
    }
   ],
   "source": [
    "type(booleans)"
   ]
  },
  {
   "cell_type": "code",
   "execution_count": 162,
   "id": "7209f4d1-3f0b-48aa-b309-d0d233e77afe",
   "metadata": {},
   "outputs": [],
   "source": [
    "student = pd.Series(data = ['Eren', 25, 'CS'], index = ['name' ,'age', 'department'])\n"
   ]
  },
  {
   "cell_type": "code",
   "execution_count": 163,
   "id": "587640a8-146d-460d-91c9-e4b9466b2c86",
   "metadata": {},
   "outputs": [
    {
     "data": {
      "text/plain": [
       "name          Eren\n",
       "age             25\n",
       "department      CS\n",
       "dtype: object"
      ]
     },
     "execution_count": 163,
     "metadata": {},
     "output_type": "execute_result"
    }
   ],
   "source": [
    "student"
   ]
  },
  {
   "cell_type": "code",
   "execution_count": 164,
   "id": "b3a17ff1-59dd-416e-a8b0-31a38f8de5f6",
   "metadata": {},
   "outputs": [
    {
     "data": {
      "text/plain": [
       "pandas.core.series.Series"
      ]
     },
     "execution_count": 164,
     "metadata": {},
     "output_type": "execute_result"
    }
   ],
   "source": [
    "type(student)"
   ]
  },
  {
   "cell_type": "code",
   "execution_count": 165,
   "id": "8205d53b-e631-4658-a48d-9af981eb1f58",
   "metadata": {},
   "outputs": [
    {
     "data": {
      "text/plain": [
       "array(['Eren', 25, 'CS'], dtype=object)"
      ]
     },
     "execution_count": 165,
     "metadata": {},
     "output_type": "execute_result"
    }
   ],
   "source": [
    "student.values"
   ]
  },
  {
   "cell_type": "code",
   "execution_count": 166,
   "id": "861389c8-dbf3-4323-a4aa-0d1ae8e6c152",
   "metadata": {},
   "outputs": [
    {
     "data": {
      "text/plain": [
       "Index(['name', 'age', 'department'], dtype='object')"
      ]
     },
     "execution_count": 166,
     "metadata": {},
     "output_type": "execute_result"
    }
   ],
   "source": [
    "student.index"
   ]
  },
  {
   "cell_type": "code",
   "execution_count": 167,
   "id": "cc2bd70d-32e8-4673-9a71-b9a1e747eaf5",
   "metadata": {},
   "outputs": [
    {
     "data": {
      "text/plain": [
       "<pandas.core.indexing._iLocIndexer at 0x2244339f8b0>"
      ]
     },
     "execution_count": 167,
     "metadata": {},
     "output_type": "execute_result"
    }
   ],
   "source": [
    "student.iloc"
   ]
  },
  {
   "cell_type": "code",
   "execution_count": 168,
   "id": "1c62fa6d-82b5-4c52-9a3d-d843008ef6e5",
   "metadata": {},
   "outputs": [
    {
     "data": {
      "text/plain": [
       "<pandas.core.indexing._LocIndexer at 0x2244339f9f0>"
      ]
     },
     "execution_count": 168,
     "metadata": {},
     "output_type": "execute_result"
    }
   ],
   "source": [
    "student.loc"
   ]
  },
  {
   "cell_type": "code",
   "execution_count": 169,
   "id": "f27f1524-4e37-4e00-9754-c3ec832a261d",
   "metadata": {},
   "outputs": [
    {
     "data": {
      "text/plain": [
       "(3,)"
      ]
     },
     "execution_count": 169,
     "metadata": {},
     "output_type": "execute_result"
    }
   ],
   "source": [
    "student.shape"
   ]
  },
  {
   "cell_type": "code",
   "execution_count": 170,
   "id": "1badb7e6-5d07-48bd-b49d-62377be1ed91",
   "metadata": {},
   "outputs": [
    {
     "data": {
      "text/plain": [
       "1"
      ]
     },
     "execution_count": 170,
     "metadata": {},
     "output_type": "execute_result"
    }
   ],
   "source": [
    "student.ndim"
   ]
  },
  {
   "cell_type": "code",
   "execution_count": 171,
   "id": "9c7a28ba-3408-473e-ab55-6534418177c8",
   "metadata": {},
   "outputs": [
    {
     "data": {
      "text/plain": [
       "3"
      ]
     },
     "execution_count": 171,
     "metadata": {},
     "output_type": "execute_result"
    }
   ],
   "source": [
    "student.size"
   ]
  },
  {
   "cell_type": "code",
   "execution_count": 172,
   "id": "062a123e-6db3-4b09-a547-6984920cab11",
   "metadata": {},
   "outputs": [],
   "source": [
    "student.name"
   ]
  },
  {
   "cell_type": "code",
   "execution_count": 173,
   "id": "cff957f7-4af5-4463-8045-7f59da8e6ef1",
   "metadata": {},
   "outputs": [
    {
     "data": {
      "text/plain": [
       "dtype('O')"
      ]
     },
     "execution_count": 173,
     "metadata": {},
     "output_type": "execute_result"
    }
   ],
   "source": [
    "student.dtype"
   ]
  },
  {
   "cell_type": "code",
   "execution_count": 174,
   "id": "d2cdeae2-ba3a-48f6-a0d5-49cdfee91301",
   "metadata": {},
   "outputs": [],
   "source": [
    "student.name= 'Maradona'"
   ]
  },
  {
   "cell_type": "code",
   "execution_count": 175,
   "id": "9022edd9-319c-4ffd-ae72-454b5b196c1d",
   "metadata": {},
   "outputs": [
    {
     "data": {
      "text/plain": [
       "'Maradona'"
      ]
     },
     "execution_count": 175,
     "metadata": {},
     "output_type": "execute_result"
    }
   ],
   "source": [
    "student.name"
   ]
  },
  {
   "cell_type": "code",
   "execution_count": 176,
   "id": "f79eb8c4-a9d6-4bcf-ba1d-3a2141ca30ac",
   "metadata": {},
   "outputs": [],
   "source": [
    "student.name = 'Pearl'"
   ]
  },
  {
   "cell_type": "code",
   "execution_count": 177,
   "id": "df04ffe2-cd0d-4c1e-ae1f-344199abc154",
   "metadata": {},
   "outputs": [
    {
     "data": {
      "text/plain": [
       "'Pearl'"
      ]
     },
     "execution_count": 177,
     "metadata": {},
     "output_type": "execute_result"
    }
   ],
   "source": [
    "student.name"
   ]
  },
  {
   "cell_type": "code",
   "execution_count": 178,
   "id": "b1c62983-3c1f-4049-afc5-177e973a0892",
   "metadata": {},
   "outputs": [
    {
     "data": {
      "text/plain": [
       "'Apple'"
      ]
     },
     "execution_count": 178,
     "metadata": {},
     "output_type": "execute_result"
    }
   ],
   "source": [
    "student.name = 'Apple'\n",
    "student.name"
   ]
  },
  {
   "cell_type": "code",
   "execution_count": 188,
   "id": "0b1a83c5-41da-4edb-9ef3-61cc4a8759d5",
   "metadata": {},
   "outputs": [],
   "source": [
    "X = 'name' in student ## Boolean"
   ]
  },
  {
   "cell_type": "code",
   "execution_count": 189,
   "id": "0789d430-abc6-45d1-8ea3-2e62e61780c4",
   "metadata": {},
   "outputs": [
    {
     "data": {
      "text/plain": [
       "True"
      ]
     },
     "execution_count": 189,
     "metadata": {},
     "output_type": "execute_result"
    }
   ],
   "source": [
    "X"
   ]
  },
  {
   "cell_type": "code",
   "execution_count": 183,
   "id": "aa971441-ad5d-404c-be46-7182bf74a104",
   "metadata": {},
   "outputs": [],
   "source": [
    "Y = 'job' in student ## Booolean"
   ]
  },
  {
   "cell_type": "code",
   "execution_count": 184,
   "id": "fdf2cf24-cb32-4dee-8475-d042c8bad224",
   "metadata": {},
   "outputs": [
    {
     "data": {
      "text/plain": [
       "False"
      ]
     },
     "execution_count": 184,
     "metadata": {},
     "output_type": "execute_result"
    }
   ],
   "source": [
    "Y"
   ]
  },
  {
   "cell_type": "code",
   "execution_count": 190,
   "id": "575baf3f-d334-4005-96c9-5e1c69f04967",
   "metadata": {},
   "outputs": [],
   "source": [
    "a = 'Dybala' in student.values "
   ]
  },
  {
   "cell_type": "code",
   "execution_count": 191,
   "id": "7a3f2fa3-1e90-477a-a39c-5b24166f85da",
   "metadata": {},
   "outputs": [
    {
     "data": {
      "text/plain": [
       "False"
      ]
     },
     "execution_count": 191,
     "metadata": {},
     "output_type": "execute_result"
    }
   ],
   "source": [
    "a"
   ]
  },
  {
   "cell_type": "code",
   "execution_count": 192,
   "id": "eb177e4c-7e9c-4220-b493-94ade9d70227",
   "metadata": {},
   "outputs": [],
   "source": [
    "b = 'Eren' in student.values"
   ]
  },
  {
   "cell_type": "code",
   "execution_count": 193,
   "id": "88e0eada-842d-441a-9966-c791cda980ec",
   "metadata": {},
   "outputs": [
    {
     "data": {
      "text/plain": [
       "True"
      ]
     },
     "execution_count": 193,
     "metadata": {},
     "output_type": "execute_result"
    }
   ],
   "source": [
    "b"
   ]
  },
  {
   "cell_type": "code",
   "execution_count": 197,
   "id": "7606a5c4-c3ed-4a2d-ac40-c91c83935edf",
   "metadata": {},
   "outputs": [],
   "source": [
    "numbers = pd.Series([1,2.4,2])"
   ]
  },
  {
   "cell_type": "code",
   "execution_count": 195,
   "id": "6be7dcc9-52ad-4d86-9ffe-48f94742dc01",
   "metadata": {},
   "outputs": [
    {
     "data": {
      "text/plain": [
       "0    1.0\n",
       "1    2.4\n",
       "2    2.0\n",
       "dtype: float64"
      ]
     },
     "execution_count": 195,
     "metadata": {},
     "output_type": "execute_result"
    }
   ],
   "source": [
    "numbers"
   ]
  },
  {
   "cell_type": "code",
   "execution_count": 201,
   "id": "c473ec03-62a1-4286-99f4-688bdcad0c02",
   "metadata": {},
   "outputs": [
    {
     "data": {
      "text/plain": [
       "1.8"
      ]
     },
     "execution_count": 201,
     "metadata": {},
     "output_type": "execute_result"
    }
   ],
   "source": [
    "\n",
    "numbers.mean()\n"
   ]
  },
  {
   "cell_type": "code",
   "execution_count": 204,
   "id": "8accac8c-397a-4c5c-902a-a616d7f41c68",
   "metadata": {},
   "outputs": [
    {
     "data": {
      "text/plain": [
       "4.8"
      ]
     },
     "execution_count": 204,
     "metadata": {},
     "output_type": "execute_result"
    }
   ],
   "source": [
    "numbers.product() ## Regular multiply not dot product."
   ]
  },
  {
   "cell_type": "code",
   "execution_count": 205,
   "id": "99adbffb-b97d-459f-b4e2-e124d31a5c47",
   "metadata": {},
   "outputs": [
    {
     "data": {
      "text/plain": [
       "5.4"
      ]
     },
     "execution_count": 205,
     "metadata": {},
     "output_type": "execute_result"
    }
   ],
   "source": [
    "numbers.sum()"
   ]
  },
  {
   "cell_type": "markdown",
   "id": "8e282f52-a60c-4078-a36d-7ce1c8ca8d9e",
   "metadata": {},
   "source": [
    "### Access | Modify Elements"
   ]
  },
  {
   "cell_type": "code",
   "execution_count": 216,
   "id": "37caf347-9798-4f3c-998e-d30e6e101b6f",
   "metadata": {},
   "outputs": [],
   "source": [
    "vehicles = pd.Series(data = ['Lucid', 'Luxury', 1100, 'EV'], index= ['brand', 'class', 'range', 'type']) "
   ]
  },
  {
   "cell_type": "code",
   "execution_count": 217,
   "id": "c6c1d366-ae4c-4b42-9215-b4e2ac67a5be",
   "metadata": {},
   "outputs": [
    {
     "data": {
      "text/plain": [
       "brand     Lucid\n",
       "class    Luxury\n",
       "range      1100\n",
       "type         EV\n",
       "dtype: object"
      ]
     },
     "execution_count": 217,
     "metadata": {},
     "output_type": "execute_result"
    }
   ],
   "source": [
    "vehicles"
   ]
  },
  {
   "cell_type": "code",
   "execution_count": 218,
   "id": "bfce9354-7d32-439b-88d0-cad6eaf707f2",
   "metadata": {},
   "outputs": [
    {
     "data": {
      "text/plain": [
       "'Lucid'"
      ]
     },
     "execution_count": 218,
     "metadata": {},
     "output_type": "execute_result"
    }
   ],
   "source": [
    "vehicles['brand']"
   ]
  },
  {
   "cell_type": "code",
   "execution_count": 223,
   "id": "a828a386-1b0c-4bb0-bbb6-bcf86c6a15b3",
   "metadata": {},
   "outputs": [
    {
     "data": {
      "text/plain": [
       "brand    Lucid\n",
       "range     1100\n",
       "dtype: object"
      ]
     },
     "execution_count": 223,
     "metadata": {},
     "output_type": "execute_result"
    }
   ],
   "source": [
    "vehicles[['brand', 'range']]"
   ]
  },
  {
   "cell_type": "code",
   "execution_count": 224,
   "id": "d03f34e6-8e8d-4266-a5e6-63a832b5ab28",
   "metadata": {},
   "outputs": [
    {
     "data": {
      "text/plain": [
       "pandas.core.series.Series"
      ]
     },
     "execution_count": 224,
     "metadata": {},
     "output_type": "execute_result"
    }
   ],
   "source": [
    "type(vehicles[['brand', 'range']])"
   ]
  },
  {
   "cell_type": "markdown",
   "id": "96eeaa74-41b1-4331-8b79-f2bbdf057f4f",
   "metadata": {},
   "source": [
    "### Access Series Elements"
   ]
  },
  {
   "cell_type": "code",
   "execution_count": 225,
   "id": "e4913999-19cf-4f9c-9095-a9aeb46ecb77",
   "metadata": {},
   "outputs": [
    {
     "data": {
      "text/plain": [
       "'Eren'"
      ]
     },
     "execution_count": 225,
     "metadata": {},
     "output_type": "execute_result"
    }
   ],
   "source": [
    "student[0]"
   ]
  },
  {
   "cell_type": "code",
   "execution_count": 227,
   "id": "ccf16f86-4503-4d05-8958-4d8890f1e2a0",
   "metadata": {},
   "outputs": [
    {
     "data": {
      "text/plain": [
       "'Lucid'"
      ]
     },
     "execution_count": 227,
     "metadata": {},
     "output_type": "execute_result"
    }
   ],
   "source": [
    "vehicles[0]"
   ]
  },
  {
   "cell_type": "code",
   "execution_count": 230,
   "id": "b443108e-45b4-420b-9f82-f700f7220c27",
   "metadata": {},
   "outputs": [
    {
     "data": {
      "text/plain": [
       "class    Luxury\n",
       "range      1100\n",
       "dtype: object"
      ]
     },
     "execution_count": 230,
     "metadata": {},
     "output_type": "execute_result"
    }
   ],
   "source": [
    "vehicles[[1,2]]"
   ]
  },
  {
   "cell_type": "code",
   "execution_count": 232,
   "id": "ed3889a4-ac84-4eff-8cfd-8cd7d0d771c5",
   "metadata": {},
   "outputs": [
    {
     "data": {
      "text/plain": [
       "class    Luxury\n",
       "range      1100\n",
       "type         EV\n",
       "dtype: object"
      ]
     },
     "execution_count": 232,
     "metadata": {},
     "output_type": "execute_result"
    }
   ],
   "source": [
    "vehicles[[1,2,3]]"
   ]
  },
  {
   "cell_type": "code",
   "execution_count": 234,
   "id": "0753763f-545f-4751-9839-a6b1716ceaac",
   "metadata": {},
   "outputs": [
    {
     "data": {
      "text/plain": [
       "age           25\n",
       "department    CS\n",
       "Name: Apple, dtype: object"
      ]
     },
     "execution_count": 234,
     "metadata": {},
     "output_type": "execute_result"
    }
   ],
   "source": [
    "student[[1,2]]"
   ]
  },
  {
   "cell_type": "code",
   "execution_count": 235,
   "id": "ec45e6cc-ee8d-48fa-bbbc-ad192224d46a",
   "metadata": {},
   "outputs": [
    {
     "data": {
      "text/plain": [
       "name    Eren\n",
       "age       25\n",
       "Name: Apple, dtype: object"
      ]
     },
     "execution_count": 235,
     "metadata": {},
     "output_type": "execute_result"
    }
   ],
   "source": [
    "student[[0,1]]"
   ]
  },
  {
   "cell_type": "code",
   "execution_count": 237,
   "id": "5c97e2c4-b360-4f55-a367-410dbc9b68ee",
   "metadata": {},
   "outputs": [
    {
     "data": {
      "text/plain": [
       "brand     Lucid\n",
       "class    Luxury\n",
       "range      1100\n",
       "type         EV\n",
       "dtype: object"
      ]
     },
     "execution_count": 237,
     "metadata": {},
     "output_type": "execute_result"
    }
   ],
   "source": [
    "vehicles[0:4]"
   ]
  },
  {
   "cell_type": "code",
   "execution_count": 238,
   "id": "ea52264a-851e-4077-b326-26dc8b146bc9",
   "metadata": {},
   "outputs": [
    {
     "data": {
      "text/plain": [
       "'EV'"
      ]
     },
     "execution_count": 238,
     "metadata": {},
     "output_type": "execute_result"
    }
   ],
   "source": [
    "vehicles[-1]"
   ]
  },
  {
   "cell_type": "code",
   "execution_count": 239,
   "id": "0ede60ec-914b-456a-9b7b-d07e4f92408f",
   "metadata": {},
   "outputs": [
    {
     "data": {
      "text/plain": [
       "range    1100\n",
       "dtype: object"
      ]
     },
     "execution_count": 239,
     "metadata": {},
     "output_type": "execute_result"
    }
   ],
   "source": [
    "vehicles[-2:-1]"
   ]
  },
  {
   "cell_type": "code",
   "execution_count": 243,
   "id": "a0f1d4e1-888f-4186-85b5-48b9f5e80ef0",
   "metadata": {},
   "outputs": [
    {
     "data": {
      "text/plain": [
       "name          Eren\n",
       "age             25\n",
       "department      CS\n",
       "Name: Apple, dtype: object"
      ]
     },
     "execution_count": 243,
     "metadata": {},
     "output_type": "execute_result"
    }
   ],
   "source": [
    "student[:]"
   ]
  },
  {
   "cell_type": "code",
   "execution_count": 244,
   "id": "91b5c4dd-5b32-4074-b894-473a3c9df972",
   "metadata": {},
   "outputs": [
    {
     "data": {
      "text/plain": [
       "brand     Lucid\n",
       "class    Luxury\n",
       "range      1100\n",
       "type         EV\n",
       "dtype: object"
      ]
     },
     "execution_count": 244,
     "metadata": {},
     "output_type": "execute_result"
    }
   ],
   "source": [
    "vehicles [:]"
   ]
  },
  {
   "cell_type": "code",
   "execution_count": 245,
   "id": "92414135-61a4-4ae9-af8d-dd446c41bbbd",
   "metadata": {},
   "outputs": [
    {
     "data": {
      "text/plain": [
       "brand     Lucid\n",
       "class    Luxury\n",
       "range      1100\n",
       "type         EV\n",
       "dtype: object"
      ]
     },
     "execution_count": 245,
     "metadata": {},
     "output_type": "execute_result"
    }
   ],
   "source": [
    "vehicles[0:]"
   ]
  },
  {
   "cell_type": "code",
   "execution_count": 248,
   "id": "821d09f9-dcdb-4c5f-82ab-449f32d54964",
   "metadata": {},
   "outputs": [
    {
     "data": {
      "text/plain": [
       "range    1100\n",
       "type       EV\n",
       "dtype: object"
      ]
     },
     "execution_count": 248,
     "metadata": {},
     "output_type": "execute_result"
    }
   ],
   "source": [
    "vehicles[-2:] ## LAST 2 VALUES"
   ]
  },
  {
   "cell_type": "code",
   "execution_count": null,
   "id": "4d85503c-84d6-4ba5-b54f-c14f2cf6153b",
   "metadata": {},
   "outputs": [
    {
     "data": {
      "text/plain": [
       "brand     Lucid\n",
       "class    Luxury\n",
       "range      1100\n",
       "type         EV\n",
       "dtype: object"
      ]
     },
     "execution_count": 249,
     "metadata": {},
     "output_type": "execute_result"
    }
   ],
   "source": [
    "vehicles['brand':'type']  ## we can also bring data using string values."
   ]
  },
  {
   "cell_type": "markdown",
   "id": "14161331-b431-45a5-93b8-4574f3367321",
   "metadata": {},
   "source": [
    "### .loc() = location methods, .iloc()index location methods"
   ]
  },
  {
   "cell_type": "code",
   "execution_count": 251,
   "id": "28232cc0-6541-41c7-861e-a2f57fc7b759",
   "metadata": {},
   "outputs": [
    {
     "data": {
      "text/plain": [
       "'Lucid'"
      ]
     },
     "execution_count": 251,
     "metadata": {},
     "output_type": "execute_result"
    }
   ],
   "source": [
    "vehicles.loc['brand']"
   ]
  },
  {
   "cell_type": "code",
   "execution_count": 252,
   "id": "ebf92b13-8999-44e8-92d7-927b0b5b3608",
   "metadata": {},
   "outputs": [
    {
     "data": {
      "text/plain": [
       "'Luxury'"
      ]
     },
     "execution_count": 252,
     "metadata": {},
     "output_type": "execute_result"
    }
   ],
   "source": [
    "vehicles.loc['class']"
   ]
  },
  {
   "cell_type": "code",
   "execution_count": 258,
   "id": "77e27c82-d7bb-4cdb-8823-7098d815821d",
   "metadata": {},
   "outputs": [
    {
     "data": {
      "text/plain": [
       "1100"
      ]
     },
     "execution_count": 258,
     "metadata": {},
     "output_type": "execute_result"
    }
   ],
   "source": [
    "vehicles.loc['range']## find with string "
   ]
  },
  {
   "cell_type": "code",
   "execution_count": 259,
   "id": "19b816a1-64eb-4d17-8c48-8c23ca48dc11",
   "metadata": {},
   "outputs": [
    {
     "data": {
      "text/plain": [
       "'Luxury'"
      ]
     },
     "execution_count": 259,
     "metadata": {},
     "output_type": "execute_result"
    }
   ],
   "source": [
    "vehicles.iloc[1] "
   ]
  },
  {
   "cell_type": "code",
   "execution_count": 260,
   "id": "03d98377-317b-4eb3-a51d-f8a85f64db50",
   "metadata": {},
   "outputs": [
    {
     "data": {
      "text/plain": [
       "1100"
      ]
     },
     "execution_count": 260,
     "metadata": {},
     "output_type": "execute_result"
    }
   ],
   "source": [
    "vehicles.iloc[2]"
   ]
  },
  {
   "cell_type": "code",
   "execution_count": 261,
   "id": "58efc506-58ce-4a4f-b096-6a9c501e1d4c",
   "metadata": {},
   "outputs": [
    {
     "data": {
      "text/plain": [
       "'Lucid'"
      ]
     },
     "execution_count": 261,
     "metadata": {},
     "output_type": "execute_result"
    }
   ],
   "source": [
    "vehicles.iloc[0]## find index number"
   ]
  },
  {
   "cell_type": "markdown",
   "id": "8ad28cea-e050-42ee-aebd-8de3bb972325",
   "metadata": {},
   "source": [
    "## Modify"
   ]
  },
  {
   "cell_type": "code",
   "execution_count": 262,
   "id": "7bbf13c6-5b99-4142-8f49-bbd1e1362b90",
   "metadata": {},
   "outputs": [
    {
     "data": {
      "text/plain": [
       "brand     Lucid\n",
       "class    Luxury\n",
       "range      1100\n",
       "type         EV\n",
       "dtype: object"
      ]
     },
     "execution_count": 262,
     "metadata": {},
     "output_type": "execute_result"
    }
   ],
   "source": [
    "vehicles"
   ]
  },
  {
   "cell_type": "code",
   "execution_count": 263,
   "id": "396a51c9-37cd-4f94-ba33-f4c8fbe03947",
   "metadata": {},
   "outputs": [
    {
     "data": {
      "text/plain": [
       "brand     model\n",
       "class    Luxury\n",
       "range      1100\n",
       "type         EV\n",
       "dtype: object"
      ]
     },
     "execution_count": 263,
     "metadata": {},
     "output_type": "execute_result"
    }
   ],
   "source": [
    "vehicles['brand'] = 'model'\n",
    "vehicles"
   ]
  },
  {
   "cell_type": "code",
   "execution_count": 264,
   "id": "9e026b93-6202-4729-b289-03c75d101605",
   "metadata": {},
   "outputs": [],
   "source": [
    "vehicles['brand'] = 'Tesla' "
   ]
  },
  {
   "cell_type": "code",
   "execution_count": 265,
   "id": "ee820cb9-03bc-46df-9f18-4081b94e7f30",
   "metadata": {},
   "outputs": [
    {
     "data": {
      "text/plain": [
       "brand     Tesla\n",
       "class    Luxury\n",
       "range      1100\n",
       "type         EV\n",
       "dtype: object"
      ]
     },
     "execution_count": 265,
     "metadata": {},
     "output_type": "execute_result"
    }
   ],
   "source": [
    "vehicles"
   ]
  },
  {
   "cell_type": "code",
   "execution_count": 268,
   "id": "b6dd8183-98a9-433f-bca1-691035156e5e",
   "metadata": {},
   "outputs": [],
   "source": [
    "vehicles.iloc[2] = 650"
   ]
  },
  {
   "cell_type": "code",
   "execution_count": 269,
   "id": "e6ef903e-a3fb-4c90-97b9-c81ba0852615",
   "metadata": {},
   "outputs": [
    {
     "data": {
      "text/plain": [
       "brand     Tesla\n",
       "class    Luxury\n",
       "range       650\n",
       "type         EV\n",
       "dtype: object"
      ]
     },
     "execution_count": 269,
     "metadata": {},
     "output_type": "execute_result"
    }
   ],
   "source": [
    "vehicles"
   ]
  },
  {
   "cell_type": "code",
   "execution_count": 270,
   "id": "b57e7f9f-ce95-4ba8-afda-111fdcc09aa3",
   "metadata": {},
   "outputs": [],
   "source": [
    "## Pandas Series can mutable "
   ]
  },
  {
   "cell_type": "code",
   "execution_count": 273,
   "id": "9eadd6e2-e1bf-4507-b3ec-3a9b60cba42b",
   "metadata": {},
   "outputs": [],
   "source": [
    "student2= student.drop('name') ##There is no changing original data..."
   ]
  },
  {
   "cell_type": "code",
   "execution_count": 274,
   "id": "1a54a931-4e87-42c2-b0d5-1c4f45468f5f",
   "metadata": {},
   "outputs": [
    {
     "data": {
      "text/plain": [
       "name          Eren\n",
       "age             25\n",
       "department      CS\n",
       "Name: Apple, dtype: object"
      ]
     },
     "execution_count": 274,
     "metadata": {},
     "output_type": "execute_result"
    }
   ],
   "source": [
    "student"
   ]
  },
  {
   "cell_type": "code",
   "execution_count": 275,
   "id": "78350f88-1c9d-453b-9cd9-11d5c8f00686",
   "metadata": {},
   "outputs": [
    {
     "data": {
      "text/plain": [
       "age           25\n",
       "department    CS\n",
       "Name: Apple, dtype: object"
      ]
     },
     "execution_count": 275,
     "metadata": {},
     "output_type": "execute_result"
    }
   ],
   "source": [
    "student2"
   ]
  },
  {
   "cell_type": "code",
   "execution_count": 276,
   "id": "b1bf6a82-ac6d-4aaa-b6d5-3d4f1ca2768c",
   "metadata": {},
   "outputs": [],
   "source": [
    "student2.drop('age', inplace=True) ## Directly deleting with this..."
   ]
  },
  {
   "cell_type": "code",
   "execution_count": 277,
   "id": "4fad3f4e-7432-4bb3-9d2a-1a6cabe92de6",
   "metadata": {},
   "outputs": [
    {
     "data": {
      "text/plain": [
       "department    CS\n",
       "Name: Apple, dtype: object"
      ]
     },
     "execution_count": 277,
     "metadata": {},
     "output_type": "execute_result"
    }
   ],
   "source": [
    "student2"
   ]
  },
  {
   "cell_type": "code",
   "execution_count": 278,
   "id": "af206559-fc16-4f3f-9324-2d30d79f101f",
   "metadata": {},
   "outputs": [
    {
     "data": {
      "text/plain": [
       "3"
      ]
     },
     "execution_count": 278,
     "metadata": {},
     "output_type": "execute_result"
    }
   ],
   "source": [
    "len(student)"
   ]
  },
  {
   "cell_type": "code",
   "execution_count": 285,
   "id": "70a75fb2-1a49-4a13-a384-6b33c09d93a8",
   "metadata": {},
   "outputs": [
    {
     "data": {
      "text/plain": [
       "1"
      ]
     },
     "execution_count": 285,
     "metadata": {},
     "output_type": "execute_result"
    }
   ],
   "source": [
    "len(student2)"
   ]
  },
  {
   "cell_type": "code",
   "execution_count": 283,
   "id": "4ad42e05-82e8-495f-ad2a-09723dd14af3",
   "metadata": {},
   "outputs": [
    {
     "data": {
      "text/plain": [
       "{'brand': 'Tesla', 'class': 'Luxury', 'range': 650, 'type': 'EV'}"
      ]
     },
     "execution_count": 283,
     "metadata": {},
     "output_type": "execute_result"
    }
   ],
   "source": [
    "dict(vehicles)"
   ]
  },
  {
   "cell_type": "code",
   "execution_count": 293,
   "id": "80999a22-d6bb-430b-90a8-2eb142551f12",
   "metadata": {},
   "outputs": [],
   "source": [
    "x= pd.Series(['a','b','c'],[1,2,3])"
   ]
  },
  {
   "cell_type": "code",
   "execution_count": 294,
   "id": "c8f4d324-664a-4a54-951c-122f61015700",
   "metadata": {},
   "outputs": [
    {
     "data": {
      "text/plain": [
       "['a', 'b', 'c']"
      ]
     },
     "execution_count": 294,
     "metadata": {},
     "output_type": "execute_result"
    }
   ],
   "source": [
    "sorted(x)"
   ]
  },
  {
   "cell_type": "code",
   "execution_count": 298,
   "id": "55cb23d6-5bbc-4f3a-8fd2-5bcc3318fd13",
   "metadata": {},
   "outputs": [
    {
     "data": {
      "text/plain": [
       "'c'"
      ]
     },
     "execution_count": 298,
     "metadata": {},
     "output_type": "execute_result"
    }
   ],
   "source": [
    "max(x)"
   ]
  },
  {
   "cell_type": "code",
   "execution_count": 299,
   "id": "2645eeb4-41f8-4739-9e49-498b153529c0",
   "metadata": {},
   "outputs": [
    {
     "data": {
      "text/plain": [
       "'a'"
      ]
     },
     "execution_count": 299,
     "metadata": {},
     "output_type": "execute_result"
    }
   ],
   "source": [
    "min(x)"
   ]
  },
  {
   "cell_type": "code",
   "execution_count": 314,
   "id": "e470dfb3-51ac-4cc3-98cd-e413a88e5b3a",
   "metadata": {
    "tags": []
   },
   "outputs": [
    {
     "name": "stderr",
     "output_type": "stream",
     "text": [
      "C:\\Users\\Mustafa\\AppData\\Local\\Temp\\ipykernel_23720\\3950170272.py:1: FutureWarning: The squeeze argument has been deprecated and will be removed in a future version. Append .squeeze(\"columns\") to the call to squeeze.\n",
      "\n",
      "\n",
      "  review_content = pd.read_csv('ReviewContent.csv', usecols=['Review ID'], squeeze= True, encoding='utf-8', engine= 'python')\n"
     ]
    }
   ],
   "source": [
    "review_content = pd.read_csv('ReviewContent.csv', usecols=['Review ID'], squeeze= True, encoding='utf-8', engine= 'python')"
   ]
  },
  {
   "cell_type": "markdown",
   "id": "1873c093-0dc1-4755-a46b-050ba509d3f2",
   "metadata": {},
   "source": [
    "***usecols = which columns are you wanna use it.***\n",
    "\n",
    "***squeeze= Change data with dataFrame or series in this example data looks series because*** **squeeze = False**.\n",
    "***If we write it down squeeze = True it will bring data as a series...***\n"
   ]
  },
  {
   "cell_type": "code",
   "execution_count": 315,
   "id": "00801625-8ed3-4c50-bb2b-ab94281c526e",
   "metadata": {},
   "outputs": [
    {
     "data": {
      "text/plain": [
       "0       4055629\n",
       "1      25329416\n",
       "2      21705849\n",
       "3      41133812\n",
       "4       7465026\n",
       "         ...   \n",
       "995    44498863\n",
       "996    30544438\n",
       "997    46642535\n",
       "998    21403195\n",
       "999    38944752\n",
       "Name: Review ID, Length: 1000, dtype: int64"
      ]
     },
     "execution_count": 315,
     "metadata": {},
     "output_type": "execute_result"
    }
   ],
   "source": [
    "review_content"
   ]
  },
  {
   "cell_type": "code",
   "execution_count": 316,
   "id": "c9e0d365-24a8-4dda-8204-71bd15ffba3c",
   "metadata": {},
   "outputs": [
    {
     "data": {
      "text/plain": [
       "pandas.core.series.Series"
      ]
     },
     "execution_count": 316,
     "metadata": {},
     "output_type": "execute_result"
    }
   ],
   "source": [
    "type(review_content)"
   ]
  },
  {
   "cell_type": "code",
   "execution_count": 322,
   "id": "2579b991-c795-4a19-9219-efe19cfdcd0f",
   "metadata": {},
   "outputs": [
    {
     "data": {
      "text/plain": [
       "0     4055629\n",
       "1    25329416\n",
       "2    21705849\n",
       "3    41133812\n",
       "4     7465026\n",
       "5    11372151\n",
       "6    20417380\n",
       "7    10787310\n",
       "8    37085487\n",
       "9    15542291\n",
       "Name: Review ID, dtype: int64"
      ]
     },
     "execution_count": 322,
     "metadata": {},
     "output_type": "execute_result"
    }
   ],
   "source": [
    "review_content.head(10)"
   ]
  },
  {
   "cell_type": "code",
   "execution_count": 325,
   "id": "5b6b4015-8cac-4bd2-a010-ee9154c28cfb",
   "metadata": {},
   "outputs": [
    {
     "data": {
      "text/plain": [
       "0       4055629\n",
       "1      25329416\n",
       "2      21705849\n",
       "3      41133812\n",
       "4       7465026\n",
       "         ...   \n",
       "995    44498863\n",
       "996    30544438\n",
       "997    46642535\n",
       "998    21403195\n",
       "999    38944752\n",
       "Name: Review ID, Length: 1000, dtype: int64"
      ]
     },
     "execution_count": 325,
     "metadata": {},
     "output_type": "execute_result"
    }
   ],
   "source": [
    "review_content"
   ]
  },
  {
   "cell_type": "code",
   "execution_count": 323,
   "id": "e292614c-4565-4833-98ba-a265cd2cc81f",
   "metadata": {},
   "outputs": [
    {
     "data": {
      "text/plain": [
       "990    32907620\n",
       "991    35585745\n",
       "992    13423090\n",
       "993    27392171\n",
       "994    28605533\n",
       "995    44498863\n",
       "996    30544438\n",
       "997    46642535\n",
       "998    21403195\n",
       "999    38944752\n",
       "Name: Review ID, dtype: int64"
      ]
     },
     "execution_count": 323,
     "metadata": {},
     "output_type": "execute_result"
    }
   ],
   "source": [
    "review_content.tail(10)"
   ]
  },
  {
   "cell_type": "code",
   "execution_count": 324,
   "id": "8a7c24d3-1c2d-4cf4-b4ba-41ae2327b950",
   "metadata": {},
   "outputs": [
    {
     "data": {
      "text/plain": [
       "0       4055629\n",
       "1      25329416\n",
       "2      21705849\n",
       "3      41133812\n",
       "4       7465026\n",
       "         ...   \n",
       "995    44498863\n",
       "996    30544438\n",
       "997    46642535\n",
       "998    21403195\n",
       "999    38944752\n",
       "Name: Review ID, Length: 1000, dtype: int64"
      ]
     },
     "execution_count": 324,
     "metadata": {},
     "output_type": "execute_result"
    }
   ],
   "source": [
    "review_content"
   ]
  },
  {
   "cell_type": "code",
   "execution_count": 326,
   "id": "1e77f802-c529-470d-8e4a-b0443d7cbd50",
   "metadata": {},
   "outputs": [
    {
     "data": {
      "text/plain": [
       "0     4055629\n",
       "1    25329416\n",
       "2    21705849\n",
       "3    41133812\n",
       "4     7465026\n",
       "5    11372151\n",
       "6    20417380\n",
       "7    10787310\n",
       "8    37085487\n",
       "9    15542291\n",
       "Name: Review ID, dtype: int64"
      ]
     },
     "execution_count": 326,
     "metadata": {},
     "output_type": "execute_result"
    }
   ],
   "source": [
    "review_content.head(10)"
   ]
  },
  {
   "cell_type": "code",
   "execution_count": 338,
   "id": "27e20507-b17e-464c-a985-851fe42a0a71",
   "metadata": {},
   "outputs": [],
   "source": [
    "review_content.sort_index(ascending=False, inplace=True) "
   ]
  },
  {
   "cell_type": "code",
   "execution_count": 339,
   "id": "e45ccc6b-fe14-4b34-97af-35596971a59f",
   "metadata": {},
   "outputs": [
    {
     "data": {
      "text/plain": [
       "999    38944752\n",
       "998    21403195\n",
       "997    46642535\n",
       "996    30544438\n",
       "995    44498863\n",
       "         ...   \n",
       "4       7465026\n",
       "3      41133812\n",
       "2      21705849\n",
       "1      25329416\n",
       "0       4055629\n",
       "Name: Review ID, Length: 1000, dtype: int64"
      ]
     },
     "execution_count": 339,
     "metadata": {},
     "output_type": "execute_result"
    }
   ],
   "source": [
    "review_content"
   ]
  },
  {
   "cell_type": "code",
   "execution_count": 329,
   "id": "e2a1044e-e7ff-45f2-a626-b553e355b4d1",
   "metadata": {},
   "outputs": [
    {
     "data": {
      "text/plain": [
       "516     41756\n",
       "535     67176\n",
       "766     97586\n",
       "741    123549\n",
       "560    151811\n",
       "847    205942\n",
       "188    432284\n",
       "65     443786\n",
       "954    499085\n",
       "453    503200\n",
       "Name: Review ID, dtype: int64"
      ]
     },
     "execution_count": 329,
     "metadata": {},
     "output_type": "execute_result"
    }
   ],
   "source": [
    "review_content.sort_values().head(10)"
   ]
  },
  {
   "cell_type": "code",
   "execution_count": 330,
   "id": "3a69060a-2f51-4cce-a0b4-0e4f2fa80984",
   "metadata": {},
   "outputs": [
    {
     "data": {
      "text/plain": [
       "0     4055629\n",
       "1    25329416\n",
       "2    21705849\n",
       "3    41133812\n",
       "4     7465026\n",
       "5    11372151\n",
       "6    20417380\n",
       "7    10787310\n",
       "8    37085487\n",
       "9    15542291\n",
       "Name: Review ID, dtype: int64"
      ]
     },
     "execution_count": 330,
     "metadata": {},
     "output_type": "execute_result"
    }
   ],
   "source": [
    "review_content.head(10) ## there is no chaning in main dataset."
   ]
  },
  {
   "cell_type": "code",
   "execution_count": 334,
   "id": "b95414b5-245e-4244-9384-e0bccfb4428c",
   "metadata": {},
   "outputs": [],
   "source": [
    "review_content.sort_values(inplace= True, ascending=False) ## Now it is permanently saving here. And also we can add ascendin or descending in here.... now it will come bigger to smaller nums. "
   ]
  },
  {
   "cell_type": "code",
   "execution_count": 342,
   "id": "5e53b303-3c1f-41e2-8077-8c168e829ebd",
   "metadata": {},
   "outputs": [
    {
     "data": {
      "text/plain": [
       "999    38944752\n",
       "998    21403195\n",
       "997    46642535\n",
       "996    30544438\n",
       "995    44498863\n",
       "Name: Review ID, dtype: int64"
      ]
     },
     "execution_count": 342,
     "metadata": {},
     "output_type": "execute_result"
    }
   ],
   "source": [
    "review_content.head()"
   ]
  },
  {
   "cell_type": "code",
   "execution_count": 343,
   "id": "8239adc9-e113-42bb-b240-9a2b0a18f4dc",
   "metadata": {},
   "outputs": [],
   "source": [
    "review_content.sort_values(inplace=True)"
   ]
  },
  {
   "cell_type": "code",
   "execution_count": 344,
   "id": "e6608ac3-c3b1-4075-8ea3-b1aea071829f",
   "metadata": {},
   "outputs": [
    {
     "data": {
      "text/plain": [
       "516     41756\n",
       "535     67176\n",
       "766     97586\n",
       "741    123549\n",
       "560    151811\n",
       "847    205942\n",
       "188    432284\n",
       "65     443786\n",
       "954    499085\n",
       "453    503200\n",
       "Name: Review ID, dtype: int64"
      ]
     },
     "execution_count": 344,
     "metadata": {},
     "output_type": "execute_result"
    }
   ],
   "source": [
    "review_content.head(10)"
   ]
  },
  {
   "cell_type": "code",
   "execution_count": 345,
   "id": "e84b7fb5-82bc-43b7-8ba6-2d22b351602c",
   "metadata": {},
   "outputs": [],
   "source": [
    "review_content.sort_index(inplace=True)"
   ]
  },
  {
   "cell_type": "code",
   "execution_count": 346,
   "id": "a0107948-62c0-4f36-a5ad-331bd290e680",
   "metadata": {},
   "outputs": [
    {
     "data": {
      "text/plain": [
       "0     4055629\n",
       "1    25329416\n",
       "2    21705849\n",
       "3    41133812\n",
       "4     7465026\n",
       "5    11372151\n",
       "6    20417380\n",
       "7    10787310\n",
       "8    37085487\n",
       "9    15542291\n",
       "Name: Review ID, dtype: int64"
      ]
     },
     "execution_count": 346,
     "metadata": {},
     "output_type": "execute_result"
    }
   ],
   "source": [
    "review_content.head(10)"
   ]
  },
  {
   "cell_type": "code",
   "execution_count": 348,
   "id": "051b3951-8a35-4d3d-bc75-77892e71d386",
   "metadata": {},
   "outputs": [
    {
     "data": {
      "text/plain": [
       "7465026"
      ]
     },
     "execution_count": 348,
     "metadata": {},
     "output_type": "execute_result"
    }
   ],
   "source": [
    "review_content[4] ## in this way we can reach elements///"
   ]
  },
  {
   "cell_type": "code",
   "execution_count": 350,
   "id": "35d2bffd-de48-4741-ab2f-b083cd2426f0",
   "metadata": {},
   "outputs": [
    {
     "data": {
      "text/plain": [
       "0       4055629\n",
       "1      25329416\n",
       "2      21705849\n",
       "3      41133812\n",
       "4       7465026\n",
       "         ...   \n",
       "995    44498863\n",
       "996    30544438\n",
       "997    46642535\n",
       "998    21403195\n",
       "999    38944752\n",
       "Name: Review ID, Length: 1000, dtype: int64"
      ]
     },
     "execution_count": 350,
     "metadata": {},
     "output_type": "execute_result"
    }
   ],
   "source": [
    "review_content "
   ]
  },
  {
   "cell_type": "code",
   "execution_count": 354,
   "id": "f5cc4334-e863-45c4-87f6-094e784ed8e7",
   "metadata": {},
   "outputs": [
    {
     "name": "stdout",
     "output_type": "stream",
     "text": [
      "Unknown\n"
     ]
    }
   ],
   "source": [
    "print(review_content.get(1004, default='Unknown'))"
   ]
  },
  {
   "cell_type": "code",
   "execution_count": 352,
   "id": "21922710-93da-401c-a5ef-4966515c0bee",
   "metadata": {},
   "outputs": [
    {
     "data": {
      "text/plain": [
       "0       4055629\n",
       "1      25329416\n",
       "2      21705849\n",
       "3      41133812\n",
       "4       7465026\n",
       "         ...   \n",
       "995    44498863\n",
       "996    30544438\n",
       "997    46642535\n",
       "998    21403195\n",
       "999    38944752\n",
       "Name: Review ID, Length: 1000, dtype: int64"
      ]
     },
     "execution_count": 352,
     "metadata": {},
     "output_type": "execute_result"
    }
   ],
   "source": [
    "review_content"
   ]
  },
  {
   "cell_type": "code",
   "execution_count": 355,
   "id": "0228086c-a5cf-4aa4-8207-a5615824b4db",
   "metadata": {},
   "outputs": [
    {
     "name": "stdout",
     "output_type": "stream",
     "text": [
      "<class 'numpy.int64'>\n",
      "<class 'numpy.int64'>\n"
     ]
    }
   ],
   "source": [
    "print(type(review_content.get(4)))\n",
    "print(type(review_content[4]))\n"
   ]
  },
  {
   "cell_type": "code",
   "execution_count": 356,
   "id": "852ac972-1803-4695-99de-5b2ee2923570",
   "metadata": {},
   "outputs": [
    {
     "data": {
      "text/plain": [
       "0    4055629\n",
       "4    7465026\n",
       "Name: Review ID, dtype: int64"
      ]
     },
     "execution_count": 356,
     "metadata": {},
     "output_type": "execute_result"
    }
   ],
   "source": [
    "review_content.get([0,4])"
   ]
  },
  {
   "cell_type": "code",
   "execution_count": 357,
   "id": "5394178b-0a14-4f3b-b48a-846f4ade11df",
   "metadata": {},
   "outputs": [
    {
     "data": {
      "text/plain": [
       "pandas.core.series.Series"
      ]
     },
     "execution_count": 357,
     "metadata": {},
     "output_type": "execute_result"
    }
   ],
   "source": [
    "type(review_content.get([0,4]))"
   ]
  },
  {
   "cell_type": "markdown",
   "id": "866e5281-ac2e-46fd-85eb-43153c7df40c",
   "metadata": {},
   "source": [
    "## Data Frames"
   ]
  },
  {
   "cell_type": "code",
   "execution_count": 4,
   "id": "a7c9932a-ea7f-46ea-a3b7-42e4f609aee8",
   "metadata": {},
   "outputs": [],
   "source": [
    "students = [\n",
    "    {\n",
    "        'name': 'eren',\n",
    "        'age' : 32,\n",
    "        'gender': 'male'\n",
    "    },\n",
    "    {\n",
    "        'name': 'Ram',\n",
    "        'age' : 23,\n",
    "        'gender': 'male'\n",
    "    },\n",
    "    {\n",
    "        'name': 'Ashley',\n",
    "        'age' : 65,\n",
    "        'gender': 'female'\n",
    "    } ]"
   ]
  },
  {
   "cell_type": "code",
   "execution_count": 5,
   "id": "0c5aaf76-f70d-42f6-b93c-4d7f4fbfcc72",
   "metadata": {},
   "outputs": [
    {
     "data": {
      "text/plain": [
       "[{'name': 'eren', 'age': 32, 'gender': 'male'},\n",
       " {'name': 'Ram', 'age': 23, 'gender': 'male'},\n",
       " {'name': 'Ashley', 'age': 65, 'gender': 'female'}]"
      ]
     },
     "execution_count": 5,
     "metadata": {},
     "output_type": "execute_result"
    }
   ],
   "source": [
    "students"
   ]
  },
  {
   "cell_type": "code",
   "execution_count": 6,
   "id": "39635477-a603-4fb4-8806-06402b9b2a54",
   "metadata": {},
   "outputs": [
    {
     "data": {
      "text/plain": [
       "list"
      ]
     },
     "execution_count": 6,
     "metadata": {},
     "output_type": "execute_result"
    }
   ],
   "source": [
    "type(students)"
   ]
  },
  {
   "cell_type": "code",
   "execution_count": 10,
   "id": "9d8e7047-27c3-4298-8082-be0440b85dbe",
   "metadata": {},
   "outputs": [],
   "source": [
    "df_students= pd.DataFrame(students)"
   ]
  },
  {
   "cell_type": "code",
   "execution_count": 11,
   "id": "c29e9322-7d34-4f4e-aa08-746e90bb0920",
   "metadata": {},
   "outputs": [
    {
     "data": {
      "text/html": [
       "<div>\n",
       "<style scoped>\n",
       "    .dataframe tbody tr th:only-of-type {\n",
       "        vertical-align: middle;\n",
       "    }\n",
       "\n",
       "    .dataframe tbody tr th {\n",
       "        vertical-align: top;\n",
       "    }\n",
       "\n",
       "    .dataframe thead th {\n",
       "        text-align: right;\n",
       "    }\n",
       "</style>\n",
       "<table border=\"1\" class=\"dataframe\">\n",
       "  <thead>\n",
       "    <tr style=\"text-align: right;\">\n",
       "      <th></th>\n",
       "      <th>name</th>\n",
       "      <th>age</th>\n",
       "      <th>gender</th>\n",
       "    </tr>\n",
       "  </thead>\n",
       "  <tbody>\n",
       "    <tr>\n",
       "      <th>0</th>\n",
       "      <td>eren</td>\n",
       "      <td>32</td>\n",
       "      <td>male</td>\n",
       "    </tr>\n",
       "    <tr>\n",
       "      <th>1</th>\n",
       "      <td>Ram</td>\n",
       "      <td>23</td>\n",
       "      <td>male</td>\n",
       "    </tr>\n",
       "    <tr>\n",
       "      <th>2</th>\n",
       "      <td>Ashley</td>\n",
       "      <td>65</td>\n",
       "      <td>female</td>\n",
       "    </tr>\n",
       "  </tbody>\n",
       "</table>\n",
       "</div>"
      ],
      "text/plain": [
       "     name  age  gender\n",
       "0    eren   32    male\n",
       "1     Ram   23    male\n",
       "2  Ashley   65  female"
      ]
     },
     "execution_count": 11,
     "metadata": {},
     "output_type": "execute_result"
    }
   ],
   "source": [
    "df_students"
   ]
  },
  {
   "cell_type": "code",
   "execution_count": 12,
   "id": "f03df5dc-a675-49f2-8f86-352d4a839354",
   "metadata": {},
   "outputs": [
    {
     "data": {
      "text/plain": [
       "pandas.core.frame.DataFrame"
      ]
     },
     "execution_count": 12,
     "metadata": {},
     "output_type": "execute_result"
    }
   ],
   "source": [
    "type(df_students)"
   ]
  },
  {
   "cell_type": "code",
   "execution_count": 13,
   "id": "3676908f-e35d-431b-ab8c-d5856728af81",
   "metadata": {},
   "outputs": [],
   "source": [
    "instructors = {\n",
    "    'names': ['Carl','Zack', 'Cho'],\n",
    "    'ages':[41,23,45],\n",
    "    'genders':['m','m','m']\n",
    "} "
   ]
  },
  {
   "cell_type": "code",
   "execution_count": 14,
   "id": "5c168089-c370-4eac-b8ba-6777a842c9f4",
   "metadata": {},
   "outputs": [
    {
     "data": {
      "text/plain": [
       "{'names': ['Carl', 'Zack', 'Cho'],\n",
       " 'ages': [41, 23, 45],\n",
       " 'genders': ['m', 'm', 'm']}"
      ]
     },
     "execution_count": 14,
     "metadata": {},
     "output_type": "execute_result"
    }
   ],
   "source": [
    "instructors"
   ]
  },
  {
   "cell_type": "code",
   "execution_count": 15,
   "id": "f1014dc3-edc0-4222-bb2f-68e6ac70fb75",
   "metadata": {},
   "outputs": [
    {
     "data": {
      "text/plain": [
       "dict"
      ]
     },
     "execution_count": 15,
     "metadata": {},
     "output_type": "execute_result"
    }
   ],
   "source": [
    "type(instructors)"
   ]
  },
  {
   "cell_type": "code",
   "execution_count": 16,
   "id": "e9b6140d-1860-4bca-9c8b-95b47a4d4165",
   "metadata": {},
   "outputs": [],
   "source": [
    "df_instructors = pd.DataFrame(instructors)"
   ]
  },
  {
   "cell_type": "code",
   "execution_count": 18,
   "id": "6bfb08eb-46f1-404e-8728-5c924ca602c5",
   "metadata": {},
   "outputs": [
    {
     "data": {
      "text/html": [
       "<div>\n",
       "<style scoped>\n",
       "    .dataframe tbody tr th:only-of-type {\n",
       "        vertical-align: middle;\n",
       "    }\n",
       "\n",
       "    .dataframe tbody tr th {\n",
       "        vertical-align: top;\n",
       "    }\n",
       "\n",
       "    .dataframe thead th {\n",
       "        text-align: right;\n",
       "    }\n",
       "</style>\n",
       "<table border=\"1\" class=\"dataframe\">\n",
       "  <thead>\n",
       "    <tr style=\"text-align: right;\">\n",
       "      <th></th>\n",
       "      <th>names</th>\n",
       "      <th>ages</th>\n",
       "      <th>genders</th>\n",
       "    </tr>\n",
       "  </thead>\n",
       "  <tbody>\n",
       "    <tr>\n",
       "      <th>0</th>\n",
       "      <td>Carl</td>\n",
       "      <td>41</td>\n",
       "      <td>m</td>\n",
       "    </tr>\n",
       "    <tr>\n",
       "      <th>1</th>\n",
       "      <td>Zack</td>\n",
       "      <td>23</td>\n",
       "      <td>m</td>\n",
       "    </tr>\n",
       "    <tr>\n",
       "      <th>2</th>\n",
       "      <td>Cho</td>\n",
       "      <td>45</td>\n",
       "      <td>m</td>\n",
       "    </tr>\n",
       "  </tbody>\n",
       "</table>\n",
       "</div>"
      ],
      "text/plain": [
       "  names  ages genders\n",
       "0  Carl    41       m\n",
       "1  Zack    23       m\n",
       "2   Cho    45       m"
      ]
     },
     "execution_count": 18,
     "metadata": {},
     "output_type": "execute_result"
    }
   ],
   "source": [
    "df_instructors"
   ]
  },
  {
   "cell_type": "code",
   "execution_count": 19,
   "id": "9a8af70d-9173-4f02-bc1d-59ebb14d4e33",
   "metadata": {},
   "outputs": [
    {
     "data": {
      "text/plain": [
       "pandas.core.frame.DataFrame"
      ]
     },
     "execution_count": 19,
     "metadata": {},
     "output_type": "execute_result"
    }
   ],
   "source": [
    "type(df_instructors)"
   ]
  },
  {
   "cell_type": "code",
   "execution_count": 20,
   "id": "2cf02c61-6659-4b83-b2c1-f2b4567a600b",
   "metadata": {},
   "outputs": [],
   "source": [
    "list_oflist=[\n",
    "    ['Duran','Kevin','Love','Derrick','Rose'],\n",
    "    [32 , 31, 21, 32, 53]]\n"
   ]
  },
  {
   "cell_type": "code",
   "execution_count": 21,
   "id": "d4290aac-6504-482b-8f04-df073468b5ed",
   "metadata": {},
   "outputs": [
    {
     "data": {
      "text/plain": [
       "[['Duran', 'Kevin', 'Love', 'Derrick', 'Rose'], [32, 31, 21, 32, 53]]"
      ]
     },
     "execution_count": 21,
     "metadata": {},
     "output_type": "execute_result"
    }
   ],
   "source": [
    "list_oflist"
   ]
  },
  {
   "cell_type": "code",
   "execution_count": 22,
   "id": "9d4e19a2-c77b-4a85-b50f-fae575237b82",
   "metadata": {},
   "outputs": [],
   "source": [
    "df_list_oflist = pd.DataFrame(list_oflist)"
   ]
  },
  {
   "cell_type": "code",
   "execution_count": 23,
   "id": "e0bf9350-6988-47b5-a56e-00619f3fe6ed",
   "metadata": {},
   "outputs": [
    {
     "data": {
      "text/html": [
       "<div>\n",
       "<style scoped>\n",
       "    .dataframe tbody tr th:only-of-type {\n",
       "        vertical-align: middle;\n",
       "    }\n",
       "\n",
       "    .dataframe tbody tr th {\n",
       "        vertical-align: top;\n",
       "    }\n",
       "\n",
       "    .dataframe thead th {\n",
       "        text-align: right;\n",
       "    }\n",
       "</style>\n",
       "<table border=\"1\" class=\"dataframe\">\n",
       "  <thead>\n",
       "    <tr style=\"text-align: right;\">\n",
       "      <th></th>\n",
       "      <th>0</th>\n",
       "      <th>1</th>\n",
       "      <th>2</th>\n",
       "      <th>3</th>\n",
       "      <th>4</th>\n",
       "    </tr>\n",
       "  </thead>\n",
       "  <tbody>\n",
       "    <tr>\n",
       "      <th>0</th>\n",
       "      <td>Duran</td>\n",
       "      <td>Kevin</td>\n",
       "      <td>Love</td>\n",
       "      <td>Derrick</td>\n",
       "      <td>Rose</td>\n",
       "    </tr>\n",
       "    <tr>\n",
       "      <th>1</th>\n",
       "      <td>32</td>\n",
       "      <td>31</td>\n",
       "      <td>21</td>\n",
       "      <td>32</td>\n",
       "      <td>53</td>\n",
       "    </tr>\n",
       "  </tbody>\n",
       "</table>\n",
       "</div>"
      ],
      "text/plain": [
       "       0      1     2        3     4\n",
       "0  Duran  Kevin  Love  Derrick  Rose\n",
       "1     32     31    21       32    53"
      ]
     },
     "execution_count": 23,
     "metadata": {},
     "output_type": "execute_result"
    }
   ],
   "source": [
    "df_list_oflist"
   ]
  },
  {
   "cell_type": "code",
   "execution_count": 24,
   "id": "58da9fd1-a07b-4f8e-bc41-5f4a919415e8",
   "metadata": {},
   "outputs": [
    {
     "data": {
      "text/plain": [
       "pandas.core.frame.DataFrame"
      ]
     },
     "execution_count": 24,
     "metadata": {},
     "output_type": "execute_result"
    }
   ],
   "source": [
    "type(df_list_oflist)"
   ]
  },
  {
   "cell_type": "code",
   "execution_count": 25,
   "id": "e89155d7-6d36-4c64-860c-0795b5681192",
   "metadata": {},
   "outputs": [],
   "source": [
    "names = ['Duran', 'Kevin', 'Love', 'Derrick', 'Rose']"
   ]
  },
  {
   "cell_type": "code",
   "execution_count": 26,
   "id": "f6a42ca1-a6e6-41f5-ac5f-52e980ec16c8",
   "metadata": {},
   "outputs": [
    {
     "data": {
      "text/plain": [
       "list"
      ]
     },
     "execution_count": 26,
     "metadata": {},
     "output_type": "execute_result"
    }
   ],
   "source": [
    "type(names)"
   ]
  },
  {
   "cell_type": "code",
   "execution_count": 27,
   "id": "9d1c71fc-ce45-498e-ae97-3555740d52da",
   "metadata": {},
   "outputs": [],
   "source": [
    "df_name = pd.DataFrame(names)"
   ]
  },
  {
   "cell_type": "code",
   "execution_count": 28,
   "id": "561dad00-4ad8-49b7-9d9b-12564239bdb7",
   "metadata": {},
   "outputs": [
    {
     "data": {
      "text/html": [
       "<div>\n",
       "<style scoped>\n",
       "    .dataframe tbody tr th:only-of-type {\n",
       "        vertical-align: middle;\n",
       "    }\n",
       "\n",
       "    .dataframe tbody tr th {\n",
       "        vertical-align: top;\n",
       "    }\n",
       "\n",
       "    .dataframe thead th {\n",
       "        text-align: right;\n",
       "    }\n",
       "</style>\n",
       "<table border=\"1\" class=\"dataframe\">\n",
       "  <thead>\n",
       "    <tr style=\"text-align: right;\">\n",
       "      <th></th>\n",
       "      <th>0</th>\n",
       "    </tr>\n",
       "  </thead>\n",
       "  <tbody>\n",
       "    <tr>\n",
       "      <th>0</th>\n",
       "      <td>Duran</td>\n",
       "    </tr>\n",
       "    <tr>\n",
       "      <th>1</th>\n",
       "      <td>Kevin</td>\n",
       "    </tr>\n",
       "    <tr>\n",
       "      <th>2</th>\n",
       "      <td>Love</td>\n",
       "    </tr>\n",
       "    <tr>\n",
       "      <th>3</th>\n",
       "      <td>Derrick</td>\n",
       "    </tr>\n",
       "    <tr>\n",
       "      <th>4</th>\n",
       "      <td>Rose</td>\n",
       "    </tr>\n",
       "  </tbody>\n",
       "</table>\n",
       "</div>"
      ],
      "text/plain": [
       "         0\n",
       "0    Duran\n",
       "1    Kevin\n",
       "2     Love\n",
       "3  Derrick\n",
       "4     Rose"
      ]
     },
     "execution_count": 28,
     "metadata": {},
     "output_type": "execute_result"
    }
   ],
   "source": [
    "df_name"
   ]
  },
  {
   "cell_type": "code",
   "execution_count": 29,
   "id": "a8b7d614-e45a-4c29-a058-1ee05cd5c874",
   "metadata": {},
   "outputs": [
    {
     "data": {
      "text/plain": [
       "pandas.core.frame.DataFrame"
      ]
     },
     "execution_count": 29,
     "metadata": {},
     "output_type": "execute_result"
    }
   ],
   "source": [
    "type(df_name)"
   ]
  },
  {
   "cell_type": "code",
   "execution_count": 30,
   "id": "68b87a05-b48a-470a-a63b-688bba82dbff",
   "metadata": {},
   "outputs": [
    {
     "data": {
      "text/plain": [
       "2"
      ]
     },
     "execution_count": 30,
     "metadata": {},
     "output_type": "execute_result"
    }
   ],
   "source": [
    "df_name.ndim"
   ]
  },
  {
   "cell_type": "code",
   "execution_count": 45,
   "id": "5075f58c-19f6-4af9-8ddc-1a8a50caa0f5",
   "metadata": {},
   "outputs": [],
   "source": [
    "students = {'halen': pd.Series(data= [25, 'F', 'CS',2], index = ['age','gender','discipline','s']),\n",
    "           'Dimitri': pd.Series(data= [24, 'M', 'CS','a'], index = ['age','gender','discipline','a'])\n",
    "           }"
   ]
  },
  {
   "cell_type": "code",
   "execution_count": 46,
   "id": "bf2c476e-e908-4d43-8c16-72edb4fad3a3",
   "metadata": {},
   "outputs": [
    {
     "data": {
      "text/plain": [
       "{'halen': age           25\n",
       " gender         F\n",
       " discipline    CS\n",
       " s              2\n",
       " dtype: object,\n",
       " 'Dimitri': age           24\n",
       " gender         M\n",
       " discipline    CS\n",
       " a              a\n",
       " dtype: object}"
      ]
     },
     "execution_count": 46,
     "metadata": {},
     "output_type": "execute_result"
    }
   ],
   "source": [
    "students"
   ]
  },
  {
   "cell_type": "code",
   "execution_count": 47,
   "id": "0bd148fc-2e0f-4988-be7c-2ec50cd0d95a",
   "metadata": {},
   "outputs": [
    {
     "data": {
      "text/plain": [
       "dict"
      ]
     },
     "execution_count": 47,
     "metadata": {},
     "output_type": "execute_result"
    }
   ],
   "source": [
    "type(students)"
   ]
  },
  {
   "cell_type": "code",
   "execution_count": 48,
   "id": "3b138367-4aa6-4103-b219-ec82e429a696",
   "metadata": {},
   "outputs": [],
   "source": [
    "df_students = pd.DataFrame(students)"
   ]
  },
  {
   "cell_type": "code",
   "execution_count": 49,
   "id": "b57cec7f-56a8-4498-aba8-3a2fef378829",
   "metadata": {},
   "outputs": [
    {
     "data": {
      "text/html": [
       "<div>\n",
       "<style scoped>\n",
       "    .dataframe tbody tr th:only-of-type {\n",
       "        vertical-align: middle;\n",
       "    }\n",
       "\n",
       "    .dataframe tbody tr th {\n",
       "        vertical-align: top;\n",
       "    }\n",
       "\n",
       "    .dataframe thead th {\n",
       "        text-align: right;\n",
       "    }\n",
       "</style>\n",
       "<table border=\"1\" class=\"dataframe\">\n",
       "  <thead>\n",
       "    <tr style=\"text-align: right;\">\n",
       "      <th></th>\n",
       "      <th>halen</th>\n",
       "      <th>Dimitri</th>\n",
       "    </tr>\n",
       "  </thead>\n",
       "  <tbody>\n",
       "    <tr>\n",
       "      <th>a</th>\n",
       "      <td>NaN</td>\n",
       "      <td>a</td>\n",
       "    </tr>\n",
       "    <tr>\n",
       "      <th>age</th>\n",
       "      <td>25</td>\n",
       "      <td>24</td>\n",
       "    </tr>\n",
       "    <tr>\n",
       "      <th>discipline</th>\n",
       "      <td>CS</td>\n",
       "      <td>CS</td>\n",
       "    </tr>\n",
       "    <tr>\n",
       "      <th>gender</th>\n",
       "      <td>F</td>\n",
       "      <td>M</td>\n",
       "    </tr>\n",
       "    <tr>\n",
       "      <th>s</th>\n",
       "      <td>2</td>\n",
       "      <td>NaN</td>\n",
       "    </tr>\n",
       "  </tbody>\n",
       "</table>\n",
       "</div>"
      ],
      "text/plain": [
       "           halen Dimitri\n",
       "a            NaN       a\n",
       "age           25      24\n",
       "discipline    CS      CS\n",
       "gender         F       M\n",
       "s              2     NaN"
      ]
     },
     "execution_count": 49,
     "metadata": {},
     "output_type": "execute_result"
    }
   ],
   "source": [
    "df_students\n"
   ]
  },
  {
   "cell_type": "code",
   "execution_count": 50,
   "id": "c1e30ddb-9316-484f-aef4-8df40fa18d52",
   "metadata": {},
   "outputs": [
    {
     "data": {
      "text/plain": [
       "pandas.core.frame.DataFrame"
      ]
     },
     "execution_count": 50,
     "metadata": {},
     "output_type": "execute_result"
    }
   ],
   "source": [
    "type(df_students)"
   ]
  },
  {
   "cell_type": "code",
   "execution_count": 52,
   "id": "e30f01fc-f6d7-452b-a544-0dcac6be8278",
   "metadata": {},
   "outputs": [],
   "source": [
    "students = {'Halen': pd.Series(data= [25, 'F', 'CS',2], index = ['age','gender','discipline','a']),\n",
    "           'Dimitri': pd.Series(data= [24, 'M', 'CS',3], index = ['age','gender','discipline','a']),\n",
    "            'Zack': pd.Series(data= [24, 'M', 'CS',4], index = ['age','gender','discipline','a'])\n",
    "           }"
   ]
  },
  {
   "cell_type": "code",
   "execution_count": 53,
   "id": "cd928aac-cd18-4307-841c-0f74a18d94e5",
   "metadata": {},
   "outputs": [],
   "source": [
    "df_students= pd.DataFrame(students)"
   ]
  },
  {
   "cell_type": "code",
   "execution_count": 54,
   "id": "bbca0949-2af0-4c35-ae2e-cd45466df718",
   "metadata": {},
   "outputs": [
    {
     "data": {
      "text/html": [
       "<div>\n",
       "<style scoped>\n",
       "    .dataframe tbody tr th:only-of-type {\n",
       "        vertical-align: middle;\n",
       "    }\n",
       "\n",
       "    .dataframe tbody tr th {\n",
       "        vertical-align: top;\n",
       "    }\n",
       "\n",
       "    .dataframe thead th {\n",
       "        text-align: right;\n",
       "    }\n",
       "</style>\n",
       "<table border=\"1\" class=\"dataframe\">\n",
       "  <thead>\n",
       "    <tr style=\"text-align: right;\">\n",
       "      <th></th>\n",
       "      <th>Halen</th>\n",
       "      <th>Dimitri</th>\n",
       "      <th>Zack</th>\n",
       "    </tr>\n",
       "  </thead>\n",
       "  <tbody>\n",
       "    <tr>\n",
       "      <th>age</th>\n",
       "      <td>25</td>\n",
       "      <td>24</td>\n",
       "      <td>24</td>\n",
       "    </tr>\n",
       "    <tr>\n",
       "      <th>gender</th>\n",
       "      <td>F</td>\n",
       "      <td>M</td>\n",
       "      <td>M</td>\n",
       "    </tr>\n",
       "    <tr>\n",
       "      <th>discipline</th>\n",
       "      <td>CS</td>\n",
       "      <td>CS</td>\n",
       "      <td>CS</td>\n",
       "    </tr>\n",
       "    <tr>\n",
       "      <th>a</th>\n",
       "      <td>2</td>\n",
       "      <td>3</td>\n",
       "      <td>4</td>\n",
       "    </tr>\n",
       "  </tbody>\n",
       "</table>\n",
       "</div>"
      ],
      "text/plain": [
       "           Halen Dimitri Zack\n",
       "age           25      24   24\n",
       "gender         F       M    M\n",
       "discipline    CS      CS   CS\n",
       "a              2       3    4"
      ]
     },
     "execution_count": 54,
     "metadata": {},
     "output_type": "execute_result"
    }
   ],
   "source": [
    "df_students"
   ]
  },
  {
   "cell_type": "code",
   "execution_count": 55,
   "id": "6f552bcf-451e-45b1-b5b9-fb568374eb74",
   "metadata": {},
   "outputs": [
    {
     "data": {
      "text/plain": [
       "pandas.core.frame.DataFrame"
      ]
     },
     "execution_count": 55,
     "metadata": {},
     "output_type": "execute_result"
    }
   ],
   "source": [
    "type(df_students)"
   ]
  },
  {
   "cell_type": "code",
   "execution_count": 61,
   "id": "73e288bb-d2b5-4ac5-9780-9b9a09e7a764",
   "metadata": {},
   "outputs": [],
   "source": [
    "df_students2 = pd.DataFrame (students, columns=['Halen' ,'Dimitri'])"
   ]
  },
  {
   "cell_type": "code",
   "execution_count": 62,
   "id": "1f68cda5-e009-4322-aace-7fe20f2bdf00",
   "metadata": {},
   "outputs": [
    {
     "data": {
      "text/html": [
       "<div>\n",
       "<style scoped>\n",
       "    .dataframe tbody tr th:only-of-type {\n",
       "        vertical-align: middle;\n",
       "    }\n",
       "\n",
       "    .dataframe tbody tr th {\n",
       "        vertical-align: top;\n",
       "    }\n",
       "\n",
       "    .dataframe thead th {\n",
       "        text-align: right;\n",
       "    }\n",
       "</style>\n",
       "<table border=\"1\" class=\"dataframe\">\n",
       "  <thead>\n",
       "    <tr style=\"text-align: right;\">\n",
       "      <th></th>\n",
       "      <th>Halen</th>\n",
       "      <th>Dimitri</th>\n",
       "    </tr>\n",
       "  </thead>\n",
       "  <tbody>\n",
       "    <tr>\n",
       "      <th>age</th>\n",
       "      <td>25</td>\n",
       "      <td>24</td>\n",
       "    </tr>\n",
       "    <tr>\n",
       "      <th>gender</th>\n",
       "      <td>F</td>\n",
       "      <td>M</td>\n",
       "    </tr>\n",
       "    <tr>\n",
       "      <th>discipline</th>\n",
       "      <td>CS</td>\n",
       "      <td>CS</td>\n",
       "    </tr>\n",
       "    <tr>\n",
       "      <th>a</th>\n",
       "      <td>2</td>\n",
       "      <td>3</td>\n",
       "    </tr>\n",
       "  </tbody>\n",
       "</table>\n",
       "</div>"
      ],
      "text/plain": [
       "           Halen Dimitri\n",
       "age           25      24\n",
       "gender         F       M\n",
       "discipline    CS      CS\n",
       "a              2       3"
      ]
     },
     "execution_count": 62,
     "metadata": {},
     "output_type": "execute_result"
    }
   ],
   "source": [
    "df_students2"
   ]
  },
  {
   "cell_type": "code",
   "execution_count": 65,
   "id": "262bae1d-08c5-40b9-8d33-4f2ab827443d",
   "metadata": {},
   "outputs": [],
   "source": [
    "df_students3 = pd.DataFrame(students, index = ['age', 'gender'])"
   ]
  },
  {
   "cell_type": "code",
   "execution_count": 66,
   "id": "4b407345-5810-4c96-bbfc-8006a6a9f245",
   "metadata": {},
   "outputs": [
    {
     "data": {
      "text/html": [
       "<div>\n",
       "<style scoped>\n",
       "    .dataframe tbody tr th:only-of-type {\n",
       "        vertical-align: middle;\n",
       "    }\n",
       "\n",
       "    .dataframe tbody tr th {\n",
       "        vertical-align: top;\n",
       "    }\n",
       "\n",
       "    .dataframe thead th {\n",
       "        text-align: right;\n",
       "    }\n",
       "</style>\n",
       "<table border=\"1\" class=\"dataframe\">\n",
       "  <thead>\n",
       "    <tr style=\"text-align: right;\">\n",
       "      <th></th>\n",
       "      <th>Halen</th>\n",
       "      <th>Dimitri</th>\n",
       "      <th>Zack</th>\n",
       "    </tr>\n",
       "  </thead>\n",
       "  <tbody>\n",
       "    <tr>\n",
       "      <th>age</th>\n",
       "      <td>25</td>\n",
       "      <td>24</td>\n",
       "      <td>24</td>\n",
       "    </tr>\n",
       "    <tr>\n",
       "      <th>gender</th>\n",
       "      <td>F</td>\n",
       "      <td>M</td>\n",
       "      <td>M</td>\n",
       "    </tr>\n",
       "  </tbody>\n",
       "</table>\n",
       "</div>"
      ],
      "text/plain": [
       "       Halen Dimitri Zack\n",
       "age       25      24   24\n",
       "gender     F       M    M"
      ]
     },
     "execution_count": 66,
     "metadata": {},
     "output_type": "execute_result"
    }
   ],
   "source": [
    "df_students3"
   ]
  },
  {
   "cell_type": "code",
   "execution_count": 67,
   "id": "623a63a6-643e-4e45-8b8f-daf64536bdbe",
   "metadata": {},
   "outputs": [],
   "source": [
    "df_students = pd.DataFrame(students, columns = ['Halen', 'Dimitri'], index = ['age','gender'])"
   ]
  },
  {
   "cell_type": "code",
   "execution_count": 68,
   "id": "afcc3078-e538-48f3-92aa-2a99012451df",
   "metadata": {},
   "outputs": [
    {
     "data": {
      "text/html": [
       "<div>\n",
       "<style scoped>\n",
       "    .dataframe tbody tr th:only-of-type {\n",
       "        vertical-align: middle;\n",
       "    }\n",
       "\n",
       "    .dataframe tbody tr th {\n",
       "        vertical-align: top;\n",
       "    }\n",
       "\n",
       "    .dataframe thead th {\n",
       "        text-align: right;\n",
       "    }\n",
       "</style>\n",
       "<table border=\"1\" class=\"dataframe\">\n",
       "  <thead>\n",
       "    <tr style=\"text-align: right;\">\n",
       "      <th></th>\n",
       "      <th>Halen</th>\n",
       "      <th>Dimitri</th>\n",
       "    </tr>\n",
       "  </thead>\n",
       "  <tbody>\n",
       "    <tr>\n",
       "      <th>age</th>\n",
       "      <td>25</td>\n",
       "      <td>24</td>\n",
       "    </tr>\n",
       "    <tr>\n",
       "      <th>gender</th>\n",
       "      <td>F</td>\n",
       "      <td>M</td>\n",
       "    </tr>\n",
       "  </tbody>\n",
       "</table>\n",
       "</div>"
      ],
      "text/plain": [
       "       Halen Dimitri\n",
       "age       25      24\n",
       "gender     F       M"
      ]
     },
     "execution_count": 68,
     "metadata": {},
     "output_type": "execute_result"
    }
   ],
   "source": [
    "df_students"
   ]
  },
  {
   "cell_type": "code",
   "execution_count": 69,
   "id": "bcdb3d81-bb1f-492f-b944-9d3c6c917d35",
   "metadata": {},
   "outputs": [
    {
     "data": {
      "text/plain": [
       "age       25\n",
       "gender     F\n",
       "Name: Halen, dtype: object"
      ]
     },
     "execution_count": 69,
     "metadata": {},
     "output_type": "execute_result"
    }
   ],
   "source": [
    "df_students ['Halen']"
   ]
  },
  {
   "cell_type": "code",
   "execution_count": 70,
   "id": "d5b68d5a-d6a8-4f53-bb56-4c5002bfa6de",
   "metadata": {},
   "outputs": [
    {
     "data": {
      "text/plain": [
       "pandas.core.frame.DataFrame"
      ]
     },
     "execution_count": 70,
     "metadata": {},
     "output_type": "execute_result"
    }
   ],
   "source": [
    "type(df_students)"
   ]
  },
  {
   "cell_type": "code",
   "execution_count": 71,
   "id": "9a061506-a583-47ed-8f03-56cb07c823f1",
   "metadata": {},
   "outputs": [
    {
     "data": {
      "text/html": [
       "<div>\n",
       "<style scoped>\n",
       "    .dataframe tbody tr th:only-of-type {\n",
       "        vertical-align: middle;\n",
       "    }\n",
       "\n",
       "    .dataframe tbody tr th {\n",
       "        vertical-align: top;\n",
       "    }\n",
       "\n",
       "    .dataframe thead th {\n",
       "        text-align: right;\n",
       "    }\n",
       "</style>\n",
       "<table border=\"1\" class=\"dataframe\">\n",
       "  <thead>\n",
       "    <tr style=\"text-align: right;\">\n",
       "      <th></th>\n",
       "      <th>Halen</th>\n",
       "    </tr>\n",
       "  </thead>\n",
       "  <tbody>\n",
       "    <tr>\n",
       "      <th>age</th>\n",
       "      <td>25</td>\n",
       "    </tr>\n",
       "    <tr>\n",
       "      <th>gender</th>\n",
       "      <td>F</td>\n",
       "    </tr>\n",
       "  </tbody>\n",
       "</table>\n",
       "</div>"
      ],
      "text/plain": [
       "       Halen\n",
       "age       25\n",
       "gender     F"
      ]
     },
     "execution_count": 71,
     "metadata": {},
     "output_type": "execute_result"
    }
   ],
   "source": [
    "df_students[['Halen']]"
   ]
  },
  {
   "cell_type": "code",
   "execution_count": 72,
   "id": "959f2655-052a-4992-b144-9c94f766f278",
   "metadata": {},
   "outputs": [
    {
     "data": {
      "text/plain": [
       "pandas.core.frame.DataFrame"
      ]
     },
     "execution_count": 72,
     "metadata": {},
     "output_type": "execute_result"
    }
   ],
   "source": [
    "type(df_students)"
   ]
  },
  {
   "cell_type": "code",
   "execution_count": 73,
   "id": "ca020965-f3c6-4641-90b8-d1dbdbc958ca",
   "metadata": {},
   "outputs": [
    {
     "data": {
      "text/html": [
       "<div>\n",
       "<style scoped>\n",
       "    .dataframe tbody tr th:only-of-type {\n",
       "        vertical-align: middle;\n",
       "    }\n",
       "\n",
       "    .dataframe tbody tr th {\n",
       "        vertical-align: top;\n",
       "    }\n",
       "\n",
       "    .dataframe thead th {\n",
       "        text-align: right;\n",
       "    }\n",
       "</style>\n",
       "<table border=\"1\" class=\"dataframe\">\n",
       "  <thead>\n",
       "    <tr style=\"text-align: right;\">\n",
       "      <th></th>\n",
       "      <th>Halen</th>\n",
       "      <th>Dimitri</th>\n",
       "    </tr>\n",
       "  </thead>\n",
       "  <tbody>\n",
       "    <tr>\n",
       "      <th>age</th>\n",
       "      <td>25</td>\n",
       "      <td>24</td>\n",
       "    </tr>\n",
       "    <tr>\n",
       "      <th>gender</th>\n",
       "      <td>F</td>\n",
       "      <td>M</td>\n",
       "    </tr>\n",
       "  </tbody>\n",
       "</table>\n",
       "</div>"
      ],
      "text/plain": [
       "       Halen Dimitri\n",
       "age       25      24\n",
       "gender     F       M"
      ]
     },
     "execution_count": 73,
     "metadata": {},
     "output_type": "execute_result"
    }
   ],
   "source": [
    "df_students"
   ]
  },
  {
   "cell_type": "code",
   "execution_count": 74,
   "id": "dd3922df-952d-461e-af5e-ab791b85525e",
   "metadata": {},
   "outputs": [
    {
     "data": {
      "text/html": [
       "<div>\n",
       "<style scoped>\n",
       "    .dataframe tbody tr th:only-of-type {\n",
       "        vertical-align: middle;\n",
       "    }\n",
       "\n",
       "    .dataframe tbody tr th {\n",
       "        vertical-align: top;\n",
       "    }\n",
       "\n",
       "    .dataframe thead th {\n",
       "        text-align: right;\n",
       "    }\n",
       "</style>\n",
       "<table border=\"1\" class=\"dataframe\">\n",
       "  <thead>\n",
       "    <tr style=\"text-align: right;\">\n",
       "      <th></th>\n",
       "      <th>Halen</th>\n",
       "      <th>Dimitri</th>\n",
       "    </tr>\n",
       "  </thead>\n",
       "  <tbody>\n",
       "    <tr>\n",
       "      <th>age</th>\n",
       "      <td>25</td>\n",
       "      <td>24</td>\n",
       "    </tr>\n",
       "    <tr>\n",
       "      <th>gender</th>\n",
       "      <td>F</td>\n",
       "      <td>M</td>\n",
       "    </tr>\n",
       "  </tbody>\n",
       "</table>\n",
       "</div>"
      ],
      "text/plain": [
       "       Halen Dimitri\n",
       "age       25      24\n",
       "gender     F       M"
      ]
     },
     "execution_count": 74,
     "metadata": {},
     "output_type": "execute_result"
    }
   ],
   "source": [
    "df_students[['Halen', 'Dimitri']]"
   ]
  },
  {
   "cell_type": "code",
   "execution_count": 75,
   "id": "c6660186-5174-49e2-9995-556b8f0a977b",
   "metadata": {},
   "outputs": [
    {
     "data": {
      "text/plain": [
       "pandas.core.frame.DataFrame"
      ]
     },
     "execution_count": 75,
     "metadata": {},
     "output_type": "execute_result"
    }
   ],
   "source": [
    "type(df_students)"
   ]
  },
  {
   "cell_type": "markdown",
   "id": "cfc57991-9304-4bf7-9b94-332f600d849f",
   "metadata": {},
   "source": [
    "### .loc,.iloc"
   ]
  },
  {
   "cell_type": "code",
   "execution_count": 77,
   "id": "118b0154-0bb2-4ccd-ad03-2f38c2e07ba7",
   "metadata": {},
   "outputs": [
    {
     "data": {
      "text/html": [
       "<div>\n",
       "<style scoped>\n",
       "    .dataframe tbody tr th:only-of-type {\n",
       "        vertical-align: middle;\n",
       "    }\n",
       "\n",
       "    .dataframe tbody tr th {\n",
       "        vertical-align: top;\n",
       "    }\n",
       "\n",
       "    .dataframe thead th {\n",
       "        text-align: right;\n",
       "    }\n",
       "</style>\n",
       "<table border=\"1\" class=\"dataframe\">\n",
       "  <thead>\n",
       "    <tr style=\"text-align: right;\">\n",
       "      <th></th>\n",
       "      <th>Halen</th>\n",
       "      <th>Dimitri</th>\n",
       "      <th>Zack</th>\n",
       "    </tr>\n",
       "  </thead>\n",
       "  <tbody>\n",
       "    <tr>\n",
       "      <th>age</th>\n",
       "      <td>25</td>\n",
       "      <td>24</td>\n",
       "      <td>24</td>\n",
       "    </tr>\n",
       "    <tr>\n",
       "      <th>gender</th>\n",
       "      <td>F</td>\n",
       "      <td>M</td>\n",
       "      <td>M</td>\n",
       "    </tr>\n",
       "    <tr>\n",
       "      <th>discipline</th>\n",
       "      <td>CS</td>\n",
       "      <td>CS</td>\n",
       "      <td>CS</td>\n",
       "    </tr>\n",
       "    <tr>\n",
       "      <th>a</th>\n",
       "      <td>2</td>\n",
       "      <td>3</td>\n",
       "      <td>4</td>\n",
       "    </tr>\n",
       "  </tbody>\n",
       "</table>\n",
       "</div>"
      ],
      "text/plain": [
       "           Halen Dimitri Zack\n",
       "age           25      24   24\n",
       "gender         F       M    M\n",
       "discipline    CS      CS   CS\n",
       "a              2       3    4"
      ]
     },
     "execution_count": 77,
     "metadata": {},
     "output_type": "execute_result"
    }
   ],
   "source": [
    "students = {'Halen': pd.Series(data= [25, 'F', 'CS',2], index = ['age','gender','discipline','a']),\n",
    "           'Dimitri': pd.Series(data= [24, 'M', 'CS',3], index = ['age','gender','discipline','a']),\n",
    "            'Zack': pd.Series(data= [24, 'M', 'CS',4], index = ['age','gender','discipline','a'])\n",
    "           }\n",
    "\n",
    "df_students= pd.DataFrame(students)\n",
    "df_students"
   ]
  },
  {
   "cell_type": "code",
   "execution_count": 79,
   "id": "bb7a5353-19ba-4633-b618-a196b5173272",
   "metadata": {},
   "outputs": [
    {
     "data": {
      "text/plain": [
       "Halen      25\n",
       "Dimitri    24\n",
       "Zack       24\n",
       "Name: age, dtype: object"
      ]
     },
     "execution_count": 79,
     "metadata": {},
     "output_type": "execute_result"
    }
   ],
   "source": [
    "df_students.loc['age']"
   ]
  },
  {
   "cell_type": "code",
   "execution_count": 80,
   "id": "eefd3b78-e505-4268-96ba-66265e355b4c",
   "metadata": {},
   "outputs": [
    {
     "data": {
      "text/plain": [
       "pandas.core.series.Series"
      ]
     },
     "execution_count": 80,
     "metadata": {},
     "output_type": "execute_result"
    }
   ],
   "source": [
    "type(df_students.loc['age'])"
   ]
  },
  {
   "cell_type": "code",
   "execution_count": 82,
   "id": "1329120d-ba8f-4815-a59a-c0f7529a5b5f",
   "metadata": {},
   "outputs": [
    {
     "data": {
      "text/html": [
       "<div>\n",
       "<style scoped>\n",
       "    .dataframe tbody tr th:only-of-type {\n",
       "        vertical-align: middle;\n",
       "    }\n",
       "\n",
       "    .dataframe tbody tr th {\n",
       "        vertical-align: top;\n",
       "    }\n",
       "\n",
       "    .dataframe thead th {\n",
       "        text-align: right;\n",
       "    }\n",
       "</style>\n",
       "<table border=\"1\" class=\"dataframe\">\n",
       "  <thead>\n",
       "    <tr style=\"text-align: right;\">\n",
       "      <th></th>\n",
       "      <th>Halen</th>\n",
       "      <th>Dimitri</th>\n",
       "      <th>Zack</th>\n",
       "    </tr>\n",
       "  </thead>\n",
       "  <tbody>\n",
       "    <tr>\n",
       "      <th>age</th>\n",
       "      <td>25</td>\n",
       "      <td>24</td>\n",
       "      <td>24</td>\n",
       "    </tr>\n",
       "    <tr>\n",
       "      <th>gender</th>\n",
       "      <td>F</td>\n",
       "      <td>M</td>\n",
       "      <td>M</td>\n",
       "    </tr>\n",
       "  </tbody>\n",
       "</table>\n",
       "</div>"
      ],
      "text/plain": [
       "       Halen Dimitri Zack\n",
       "age       25      24   24\n",
       "gender     F       M    M"
      ]
     },
     "execution_count": 82,
     "metadata": {},
     "output_type": "execute_result"
    }
   ],
   "source": [
    "df_students.loc[['age','gender']]"
   ]
  },
  {
   "cell_type": "code",
   "execution_count": 83,
   "id": "b4c5abb1-c725-4037-89c5-f2db0f35ac67",
   "metadata": {},
   "outputs": [
    {
     "data": {
      "text/plain": [
       "pandas.core.frame.DataFrame"
      ]
     },
     "execution_count": 83,
     "metadata": {},
     "output_type": "execute_result"
    }
   ],
   "source": [
    "type(df_students)"
   ]
  },
  {
   "cell_type": "markdown",
   "id": "e4c2de30-3f6c-49d9-a5f4-18bb6bff7cee",
   "metadata": {},
   "source": [
    "### DF [COL],[ROW]"
   ]
  },
  {
   "cell_type": "code",
   "execution_count": 85,
   "id": "92c8e771-f8f4-4883-a464-1b640f96670b",
   "metadata": {},
   "outputs": [
    {
     "data": {
      "text/html": [
       "<div>\n",
       "<style scoped>\n",
       "    .dataframe tbody tr th:only-of-type {\n",
       "        vertical-align: middle;\n",
       "    }\n",
       "\n",
       "    .dataframe tbody tr th {\n",
       "        vertical-align: top;\n",
       "    }\n",
       "\n",
       "    .dataframe thead th {\n",
       "        text-align: right;\n",
       "    }\n",
       "</style>\n",
       "<table border=\"1\" class=\"dataframe\">\n",
       "  <thead>\n",
       "    <tr style=\"text-align: right;\">\n",
       "      <th></th>\n",
       "      <th>Halen</th>\n",
       "      <th>Dimitri</th>\n",
       "      <th>Zack</th>\n",
       "    </tr>\n",
       "  </thead>\n",
       "  <tbody>\n",
       "    <tr>\n",
       "      <th>age</th>\n",
       "      <td>25</td>\n",
       "      <td>24</td>\n",
       "      <td>24</td>\n",
       "    </tr>\n",
       "    <tr>\n",
       "      <th>gender</th>\n",
       "      <td>F</td>\n",
       "      <td>M</td>\n",
       "      <td>M</td>\n",
       "    </tr>\n",
       "    <tr>\n",
       "      <th>discipline</th>\n",
       "      <td>CS</td>\n",
       "      <td>CS</td>\n",
       "      <td>CS</td>\n",
       "    </tr>\n",
       "    <tr>\n",
       "      <th>a</th>\n",
       "      <td>2</td>\n",
       "      <td>3</td>\n",
       "      <td>4</td>\n",
       "    </tr>\n",
       "  </tbody>\n",
       "</table>\n",
       "</div>"
      ],
      "text/plain": [
       "           Halen Dimitri Zack\n",
       "age           25      24   24\n",
       "gender         F       M    M\n",
       "discipline    CS      CS   CS\n",
       "a              2       3    4"
      ]
     },
     "execution_count": 85,
     "metadata": {},
     "output_type": "execute_result"
    }
   ],
   "source": [
    "df_students"
   ]
  },
  {
   "cell_type": "code",
   "execution_count": 89,
   "id": "a54893c0-ee3c-41a6-84dd-12459b87283d",
   "metadata": {},
   "outputs": [
    {
     "data": {
      "text/plain": [
       "25"
      ]
     },
     "execution_count": 89,
     "metadata": {},
     "output_type": "execute_result"
    }
   ],
   "source": [
    "df_students['Halen']['age']"
   ]
  },
  {
   "cell_type": "code",
   "execution_count": 90,
   "id": "e707d90e-a229-4215-be5b-160226d714cc",
   "metadata": {},
   "outputs": [
    {
     "data": {
      "text/plain": [
       "'CS'"
      ]
     },
     "execution_count": 90,
     "metadata": {},
     "output_type": "execute_result"
    }
   ],
   "source": [
    "df_students['Dimitri']['discipline']"
   ]
  },
  {
   "cell_type": "code",
   "execution_count": 91,
   "id": "df7aa303-9327-4941-ae6e-db7ef628bd86",
   "metadata": {},
   "outputs": [
    {
     "data": {
      "text/plain": [
       "'M'"
      ]
     },
     "execution_count": 91,
     "metadata": {},
     "output_type": "execute_result"
    }
   ],
   "source": [
    "df_students['Zack']['gender']"
   ]
  },
  {
   "cell_type": "code",
   "execution_count": 94,
   "id": "ed454a6c-ebe8-4140-b183-f4851e880843",
   "metadata": {},
   "outputs": [
    {
     "data": {
      "text/plain": [
       "'M'"
      ]
     },
     "execution_count": 94,
     "metadata": {},
     "output_type": "execute_result"
    }
   ],
   "source": [
    "df_students['Zack'][1]"
   ]
  },
  {
   "cell_type": "markdown",
   "id": "df218c1f-2a0e-4a81-b211-169c2398cc37",
   "metadata": {},
   "source": [
    "### Add new columns and cells infos"
   ]
  },
  {
   "cell_type": "code",
   "execution_count": 95,
   "id": "977f1a21-c977-4bd7-b467-9fddd3ab66d0",
   "metadata": {},
   "outputs": [],
   "source": [
    "df_students['Mario'] = [18, 'M', 'CE', 5]"
   ]
  },
  {
   "cell_type": "code",
   "execution_count": 96,
   "id": "9ce729ac-29a1-41b5-9cb5-ec66d218d20b",
   "metadata": {},
   "outputs": [
    {
     "data": {
      "text/html": [
       "<div>\n",
       "<style scoped>\n",
       "    .dataframe tbody tr th:only-of-type {\n",
       "        vertical-align: middle;\n",
       "    }\n",
       "\n",
       "    .dataframe tbody tr th {\n",
       "        vertical-align: top;\n",
       "    }\n",
       "\n",
       "    .dataframe thead th {\n",
       "        text-align: right;\n",
       "    }\n",
       "</style>\n",
       "<table border=\"1\" class=\"dataframe\">\n",
       "  <thead>\n",
       "    <tr style=\"text-align: right;\">\n",
       "      <th></th>\n",
       "      <th>Halen</th>\n",
       "      <th>Dimitri</th>\n",
       "      <th>Zack</th>\n",
       "      <th>Mario</th>\n",
       "    </tr>\n",
       "  </thead>\n",
       "  <tbody>\n",
       "    <tr>\n",
       "      <th>age</th>\n",
       "      <td>25</td>\n",
       "      <td>24</td>\n",
       "      <td>24</td>\n",
       "      <td>18</td>\n",
       "    </tr>\n",
       "    <tr>\n",
       "      <th>gender</th>\n",
       "      <td>F</td>\n",
       "      <td>M</td>\n",
       "      <td>M</td>\n",
       "      <td>M</td>\n",
       "    </tr>\n",
       "    <tr>\n",
       "      <th>discipline</th>\n",
       "      <td>CS</td>\n",
       "      <td>CS</td>\n",
       "      <td>CS</td>\n",
       "      <td>CE</td>\n",
       "    </tr>\n",
       "    <tr>\n",
       "      <th>a</th>\n",
       "      <td>2</td>\n",
       "      <td>3</td>\n",
       "      <td>4</td>\n",
       "      <td>5</td>\n",
       "    </tr>\n",
       "  </tbody>\n",
       "</table>\n",
       "</div>"
      ],
      "text/plain": [
       "           Halen Dimitri Zack Mario\n",
       "age           25      24   24    18\n",
       "gender         F       M    M     M\n",
       "discipline    CS      CS   CS    CE\n",
       "a              2       3    4     5"
      ]
     },
     "execution_count": 96,
     "metadata": {},
     "output_type": "execute_result"
    }
   ],
   "source": [
    "df_students"
   ]
  },
  {
   "cell_type": "code",
   "execution_count": 98,
   "id": "bce3db35-0ca2-4730-89c9-5c8877091183",
   "metadata": {},
   "outputs": [],
   "source": [
    "df_students['Mario and Zack'] = df_students['Zack'] +  df_students['Mario'] "
   ]
  },
  {
   "cell_type": "code",
   "execution_count": 99,
   "id": "786ad65a-bbf5-4871-8820-31b1d02346bd",
   "metadata": {},
   "outputs": [
    {
     "data": {
      "text/html": [
       "<div>\n",
       "<style scoped>\n",
       "    .dataframe tbody tr th:only-of-type {\n",
       "        vertical-align: middle;\n",
       "    }\n",
       "\n",
       "    .dataframe tbody tr th {\n",
       "        vertical-align: top;\n",
       "    }\n",
       "\n",
       "    .dataframe thead th {\n",
       "        text-align: right;\n",
       "    }\n",
       "</style>\n",
       "<table border=\"1\" class=\"dataframe\">\n",
       "  <thead>\n",
       "    <tr style=\"text-align: right;\">\n",
       "      <th></th>\n",
       "      <th>Halen</th>\n",
       "      <th>Dimitri</th>\n",
       "      <th>Zack</th>\n",
       "      <th>Mario</th>\n",
       "      <th>Mario and Zack</th>\n",
       "    </tr>\n",
       "  </thead>\n",
       "  <tbody>\n",
       "    <tr>\n",
       "      <th>age</th>\n",
       "      <td>25</td>\n",
       "      <td>24</td>\n",
       "      <td>24</td>\n",
       "      <td>18</td>\n",
       "      <td>42</td>\n",
       "    </tr>\n",
       "    <tr>\n",
       "      <th>gender</th>\n",
       "      <td>F</td>\n",
       "      <td>M</td>\n",
       "      <td>M</td>\n",
       "      <td>M</td>\n",
       "      <td>MM</td>\n",
       "    </tr>\n",
       "    <tr>\n",
       "      <th>discipline</th>\n",
       "      <td>CS</td>\n",
       "      <td>CS</td>\n",
       "      <td>CS</td>\n",
       "      <td>CE</td>\n",
       "      <td>CSCE</td>\n",
       "    </tr>\n",
       "    <tr>\n",
       "      <th>a</th>\n",
       "      <td>2</td>\n",
       "      <td>3</td>\n",
       "      <td>4</td>\n",
       "      <td>5</td>\n",
       "      <td>9</td>\n",
       "    </tr>\n",
       "  </tbody>\n",
       "</table>\n",
       "</div>"
      ],
      "text/plain": [
       "           Halen Dimitri Zack Mario Mario and Zack\n",
       "age           25      24   24    18             42\n",
       "gender         F       M    M     M             MM\n",
       "discipline    CS      CS   CS    CE           CSCE\n",
       "a              2       3    4     5              9"
      ]
     },
     "execution_count": 99,
     "metadata": {},
     "output_type": "execute_result"
    }
   ],
   "source": [
    "df_students"
   ]
  },
  {
   "cell_type": "code",
   "execution_count": 103,
   "id": "539661a2-2747-420f-b2bf-da31ac12650f",
   "metadata": {},
   "outputs": [],
   "source": [
    "new_row = pd.DataFrame({'Halen':'Sad','Dimitri': 'Happy', 'Zack':'Excited'}, index = ['emotion'])"
   ]
  },
  {
   "cell_type": "code",
   "execution_count": 104,
   "id": "f35c9d46-3138-43c6-9ebf-f44c766152c1",
   "metadata": {},
   "outputs": [
    {
     "name": "stderr",
     "output_type": "stream",
     "text": [
      "C:\\Users\\Mustafa\\AppData\\Local\\Temp\\ipykernel_31588\\2105326438.py:1: FutureWarning: The frame.append method is deprecated and will be removed from pandas in a future version. Use pandas.concat instead.\n",
      "  df_students =  df_students.append(new_row)\n"
     ]
    }
   ],
   "source": [
    "df_students =  df_students.append(new_row)"
   ]
  },
  {
   "cell_type": "code",
   "execution_count": 105,
   "id": "36fc8873-c692-4cff-9b45-0b61b8af3893",
   "metadata": {},
   "outputs": [
    {
     "data": {
      "text/html": [
       "<div>\n",
       "<style scoped>\n",
       "    .dataframe tbody tr th:only-of-type {\n",
       "        vertical-align: middle;\n",
       "    }\n",
       "\n",
       "    .dataframe tbody tr th {\n",
       "        vertical-align: top;\n",
       "    }\n",
       "\n",
       "    .dataframe thead th {\n",
       "        text-align: right;\n",
       "    }\n",
       "</style>\n",
       "<table border=\"1\" class=\"dataframe\">\n",
       "  <thead>\n",
       "    <tr style=\"text-align: right;\">\n",
       "      <th></th>\n",
       "      <th>Halen</th>\n",
       "      <th>Dimitri</th>\n",
       "      <th>Zack</th>\n",
       "      <th>Mario</th>\n",
       "      <th>Mario and Zack</th>\n",
       "    </tr>\n",
       "  </thead>\n",
       "  <tbody>\n",
       "    <tr>\n",
       "      <th>age</th>\n",
       "      <td>25</td>\n",
       "      <td>24</td>\n",
       "      <td>24</td>\n",
       "      <td>18</td>\n",
       "      <td>42</td>\n",
       "    </tr>\n",
       "    <tr>\n",
       "      <th>gender</th>\n",
       "      <td>F</td>\n",
       "      <td>M</td>\n",
       "      <td>M</td>\n",
       "      <td>M</td>\n",
       "      <td>MM</td>\n",
       "    </tr>\n",
       "    <tr>\n",
       "      <th>discipline</th>\n",
       "      <td>CS</td>\n",
       "      <td>CS</td>\n",
       "      <td>CS</td>\n",
       "      <td>CE</td>\n",
       "      <td>CSCE</td>\n",
       "    </tr>\n",
       "    <tr>\n",
       "      <th>a</th>\n",
       "      <td>2</td>\n",
       "      <td>3</td>\n",
       "      <td>4</td>\n",
       "      <td>5</td>\n",
       "      <td>9</td>\n",
       "    </tr>\n",
       "    <tr>\n",
       "      <th>emotion</th>\n",
       "      <td>Sad</td>\n",
       "      <td>Happy</td>\n",
       "      <td>Dilemma</td>\n",
       "      <td>NaN</td>\n",
       "      <td>NaN</td>\n",
       "    </tr>\n",
       "    <tr>\n",
       "      <th>emotion</th>\n",
       "      <td>Sad</td>\n",
       "      <td>Happy</td>\n",
       "      <td>Excited</td>\n",
       "      <td>NaN</td>\n",
       "      <td>NaN</td>\n",
       "    </tr>\n",
       "  </tbody>\n",
       "</table>\n",
       "</div>"
      ],
      "text/plain": [
       "           Halen Dimitri     Zack Mario Mario and Zack\n",
       "age           25      24       24    18             42\n",
       "gender         F       M        M     M             MM\n",
       "discipline    CS      CS       CS    CE           CSCE\n",
       "a              2       3        4     5              9\n",
       "emotion      Sad   Happy  Dilemma   NaN            NaN\n",
       "emotion      Sad   Happy  Excited   NaN            NaN"
      ]
     },
     "execution_count": 105,
     "metadata": {},
     "output_type": "execute_result"
    }
   ],
   "source": [
    "df_students"
   ]
  },
  {
   "cell_type": "markdown",
   "id": "865ab42a-5af6-409e-9632-1f85a1215375",
   "metadata": {},
   "source": [
    "### pop >col , drop > col- row(axis)"
   ]
  },
  {
   "cell_type": "code",
   "execution_count": 106,
   "id": "25630f95-bcab-4727-bae1-f7a21741ccbd",
   "metadata": {},
   "outputs": [
    {
     "data": {
      "text/html": [
       "<div>\n",
       "<style scoped>\n",
       "    .dataframe tbody tr th:only-of-type {\n",
       "        vertical-align: middle;\n",
       "    }\n",
       "\n",
       "    .dataframe tbody tr th {\n",
       "        vertical-align: top;\n",
       "    }\n",
       "\n",
       "    .dataframe thead th {\n",
       "        text-align: right;\n",
       "    }\n",
       "</style>\n",
       "<table border=\"1\" class=\"dataframe\">\n",
       "  <thead>\n",
       "    <tr style=\"text-align: right;\">\n",
       "      <th></th>\n",
       "      <th>Halen</th>\n",
       "      <th>Dimitri</th>\n",
       "      <th>Zack</th>\n",
       "      <th>Mario</th>\n",
       "      <th>Mario and Zack</th>\n",
       "    </tr>\n",
       "  </thead>\n",
       "  <tbody>\n",
       "    <tr>\n",
       "      <th>age</th>\n",
       "      <td>25</td>\n",
       "      <td>24</td>\n",
       "      <td>24</td>\n",
       "      <td>18</td>\n",
       "      <td>42</td>\n",
       "    </tr>\n",
       "    <tr>\n",
       "      <th>gender</th>\n",
       "      <td>F</td>\n",
       "      <td>M</td>\n",
       "      <td>M</td>\n",
       "      <td>M</td>\n",
       "      <td>MM</td>\n",
       "    </tr>\n",
       "    <tr>\n",
       "      <th>discipline</th>\n",
       "      <td>CS</td>\n",
       "      <td>CS</td>\n",
       "      <td>CS</td>\n",
       "      <td>CE</td>\n",
       "      <td>CSCE</td>\n",
       "    </tr>\n",
       "    <tr>\n",
       "      <th>a</th>\n",
       "      <td>2</td>\n",
       "      <td>3</td>\n",
       "      <td>4</td>\n",
       "      <td>5</td>\n",
       "      <td>9</td>\n",
       "    </tr>\n",
       "    <tr>\n",
       "      <th>emotion</th>\n",
       "      <td>Sad</td>\n",
       "      <td>Happy</td>\n",
       "      <td>Dilemma</td>\n",
       "      <td>NaN</td>\n",
       "      <td>NaN</td>\n",
       "    </tr>\n",
       "    <tr>\n",
       "      <th>emotion</th>\n",
       "      <td>Sad</td>\n",
       "      <td>Happy</td>\n",
       "      <td>Excited</td>\n",
       "      <td>NaN</td>\n",
       "      <td>NaN</td>\n",
       "    </tr>\n",
       "  </tbody>\n",
       "</table>\n",
       "</div>"
      ],
      "text/plain": [
       "           Halen Dimitri     Zack Mario Mario and Zack\n",
       "age           25      24       24    18             42\n",
       "gender         F       M        M     M             MM\n",
       "discipline    CS      CS       CS    CE           CSCE\n",
       "a              2       3        4     5              9\n",
       "emotion      Sad   Happy  Dilemma   NaN            NaN\n",
       "emotion      Sad   Happy  Excited   NaN            NaN"
      ]
     },
     "execution_count": 106,
     "metadata": {},
     "output_type": "execute_result"
    }
   ],
   "source": [
    "df_students"
   ]
  },
  {
   "cell_type": "code",
   "execution_count": 107,
   "id": "1860b9c6-5b3a-4ce0-992b-f90b33a804ad",
   "metadata": {},
   "outputs": [
    {
     "data": {
      "text/plain": [
       "age            25\n",
       "gender          F\n",
       "discipline     CS\n",
       "a               2\n",
       "emotion       Sad\n",
       "emotion       Sad\n",
       "Name: Halen, dtype: object"
      ]
     },
     "execution_count": 107,
     "metadata": {},
     "output_type": "execute_result"
    }
   ],
   "source": [
    "df_students.pop('Halen') ## Delete column"
   ]
  },
  {
   "cell_type": "code",
   "execution_count": 108,
   "id": "a27a9316-1ff5-4951-8f7d-418f40093aa2",
   "metadata": {},
   "outputs": [
    {
     "data": {
      "text/html": [
       "<div>\n",
       "<style scoped>\n",
       "    .dataframe tbody tr th:only-of-type {\n",
       "        vertical-align: middle;\n",
       "    }\n",
       "\n",
       "    .dataframe tbody tr th {\n",
       "        vertical-align: top;\n",
       "    }\n",
       "\n",
       "    .dataframe thead th {\n",
       "        text-align: right;\n",
       "    }\n",
       "</style>\n",
       "<table border=\"1\" class=\"dataframe\">\n",
       "  <thead>\n",
       "    <tr style=\"text-align: right;\">\n",
       "      <th></th>\n",
       "      <th>Dimitri</th>\n",
       "      <th>Zack</th>\n",
       "      <th>Mario</th>\n",
       "      <th>Mario and Zack</th>\n",
       "    </tr>\n",
       "  </thead>\n",
       "  <tbody>\n",
       "    <tr>\n",
       "      <th>age</th>\n",
       "      <td>24</td>\n",
       "      <td>24</td>\n",
       "      <td>18</td>\n",
       "      <td>42</td>\n",
       "    </tr>\n",
       "    <tr>\n",
       "      <th>gender</th>\n",
       "      <td>M</td>\n",
       "      <td>M</td>\n",
       "      <td>M</td>\n",
       "      <td>MM</td>\n",
       "    </tr>\n",
       "    <tr>\n",
       "      <th>discipline</th>\n",
       "      <td>CS</td>\n",
       "      <td>CS</td>\n",
       "      <td>CE</td>\n",
       "      <td>CSCE</td>\n",
       "    </tr>\n",
       "    <tr>\n",
       "      <th>a</th>\n",
       "      <td>3</td>\n",
       "      <td>4</td>\n",
       "      <td>5</td>\n",
       "      <td>9</td>\n",
       "    </tr>\n",
       "    <tr>\n",
       "      <th>emotion</th>\n",
       "      <td>Happy</td>\n",
       "      <td>Dilemma</td>\n",
       "      <td>NaN</td>\n",
       "      <td>NaN</td>\n",
       "    </tr>\n",
       "    <tr>\n",
       "      <th>emotion</th>\n",
       "      <td>Happy</td>\n",
       "      <td>Excited</td>\n",
       "      <td>NaN</td>\n",
       "      <td>NaN</td>\n",
       "    </tr>\n",
       "  </tbody>\n",
       "</table>\n",
       "</div>"
      ],
      "text/plain": [
       "           Dimitri     Zack Mario Mario and Zack\n",
       "age             24       24    18             42\n",
       "gender           M        M     M             MM\n",
       "discipline      CS       CS    CE           CSCE\n",
       "a                3        4     5              9\n",
       "emotion      Happy  Dilemma   NaN            NaN\n",
       "emotion      Happy  Excited   NaN            NaN"
      ]
     },
     "execution_count": 108,
     "metadata": {},
     "output_type": "execute_result"
    }
   ],
   "source": [
    "df_students"
   ]
  },
  {
   "cell_type": "code",
   "execution_count": 114,
   "id": "1c23b84b-5f1a-4244-b887-ce819692f136",
   "metadata": {},
   "outputs": [],
   "source": [
    "df_students = df_students.drop(['Zack','Mario and Zack'], axis=1) ## Delete column axis =1 "
   ]
  },
  {
   "cell_type": "code",
   "execution_count": 115,
   "id": "25596158-2d48-4354-81f2-78a640b28f92",
   "metadata": {},
   "outputs": [
    {
     "data": {
      "text/html": [
       "<div>\n",
       "<style scoped>\n",
       "    .dataframe tbody tr th:only-of-type {\n",
       "        vertical-align: middle;\n",
       "    }\n",
       "\n",
       "    .dataframe tbody tr th {\n",
       "        vertical-align: top;\n",
       "    }\n",
       "\n",
       "    .dataframe thead th {\n",
       "        text-align: right;\n",
       "    }\n",
       "</style>\n",
       "<table border=\"1\" class=\"dataframe\">\n",
       "  <thead>\n",
       "    <tr style=\"text-align: right;\">\n",
       "      <th></th>\n",
       "      <th>Mario</th>\n",
       "    </tr>\n",
       "  </thead>\n",
       "  <tbody>\n",
       "    <tr>\n",
       "      <th>age</th>\n",
       "      <td>18</td>\n",
       "    </tr>\n",
       "    <tr>\n",
       "      <th>gender</th>\n",
       "      <td>M</td>\n",
       "    </tr>\n",
       "    <tr>\n",
       "      <th>discipline</th>\n",
       "      <td>CE</td>\n",
       "    </tr>\n",
       "    <tr>\n",
       "      <th>a</th>\n",
       "      <td>5</td>\n",
       "    </tr>\n",
       "    <tr>\n",
       "      <th>emotion</th>\n",
       "      <td>NaN</td>\n",
       "    </tr>\n",
       "    <tr>\n",
       "      <th>emotion</th>\n",
       "      <td>NaN</td>\n",
       "    </tr>\n",
       "  </tbody>\n",
       "</table>\n",
       "</div>"
      ],
      "text/plain": [
       "           Mario\n",
       "age           18\n",
       "gender         M\n",
       "discipline    CE\n",
       "a              5\n",
       "emotion      NaN\n",
       "emotion      NaN"
      ]
     },
     "execution_count": 115,
     "metadata": {},
     "output_type": "execute_result"
    }
   ],
   "source": [
    "df_students"
   ]
  },
  {
   "cell_type": "code",
   "execution_count": null,
   "id": "ccc82050-f090-425d-ac4d-1f94228f801d",
   "metadata": {},
   "outputs": [],
   "source": [
    "df_students = df_students.drop(['discipline','a'], axis =0) ## we can delete entire  axis row"
   ]
  },
  {
   "cell_type": "code",
   "execution_count": 120,
   "id": "e7ddd30f-53c8-4744-9953-fd8903b531cd",
   "metadata": {},
   "outputs": [
    {
     "data": {
      "text/html": [
       "<div>\n",
       "<style scoped>\n",
       "    .dataframe tbody tr th:only-of-type {\n",
       "        vertical-align: middle;\n",
       "    }\n",
       "\n",
       "    .dataframe tbody tr th {\n",
       "        vertical-align: top;\n",
       "    }\n",
       "\n",
       "    .dataframe thead th {\n",
       "        text-align: right;\n",
       "    }\n",
       "</style>\n",
       "<table border=\"1\" class=\"dataframe\">\n",
       "  <thead>\n",
       "    <tr style=\"text-align: right;\">\n",
       "      <th></th>\n",
       "      <th>Mario</th>\n",
       "    </tr>\n",
       "  </thead>\n",
       "  <tbody>\n",
       "    <tr>\n",
       "      <th>age</th>\n",
       "      <td>18</td>\n",
       "    </tr>\n",
       "    <tr>\n",
       "      <th>gender</th>\n",
       "      <td>M</td>\n",
       "    </tr>\n",
       "  </tbody>\n",
       "</table>\n",
       "</div>"
      ],
      "text/plain": [
       "       Mario\n",
       "age       18\n",
       "gender     M"
      ]
     },
     "execution_count": 122,
     "metadata": {},
     "output_type": "execute_result"
    }
   ],
   "source": [
    "df_students"
   ]
  },
  {
   "cell_type": "code",
   "execution_count": 124,
   "id": "dff25163-6c7a-4042-94b0-4fa0485e6ea6",
   "metadata": {},
   "outputs": [
    {
     "data": {
      "text/html": [
       "<div>\n",
       "<style scoped>\n",
       "    .dataframe tbody tr th:only-of-type {\n",
       "        vertical-align: middle;\n",
       "    }\n",
       "\n",
       "    .dataframe tbody tr th {\n",
       "        vertical-align: top;\n",
       "    }\n",
       "\n",
       "    .dataframe thead th {\n",
       "        text-align: right;\n",
       "    }\n",
       "</style>\n",
       "<table border=\"1\" class=\"dataframe\">\n",
       "  <thead>\n",
       "    <tr style=\"text-align: right;\">\n",
       "      <th></th>\n",
       "      <th>Halen</th>\n",
       "      <th>Dimitri</th>\n",
       "      <th>Zack</th>\n",
       "    </tr>\n",
       "  </thead>\n",
       "  <tbody>\n",
       "    <tr>\n",
       "      <th>a</th>\n",
       "      <td>2</td>\n",
       "      <td>NaN</td>\n",
       "      <td>4</td>\n",
       "    </tr>\n",
       "    <tr>\n",
       "      <th>age</th>\n",
       "      <td>25</td>\n",
       "      <td>24</td>\n",
       "      <td>24</td>\n",
       "    </tr>\n",
       "    <tr>\n",
       "      <th>d</th>\n",
       "      <td>NaN</td>\n",
       "      <td>30</td>\n",
       "      <td>NaN</td>\n",
       "    </tr>\n",
       "    <tr>\n",
       "      <th>discipline</th>\n",
       "      <td>CS</td>\n",
       "      <td>CS</td>\n",
       "      <td>CS</td>\n",
       "    </tr>\n",
       "    <tr>\n",
       "      <th>gender</th>\n",
       "      <td>NaN</td>\n",
       "      <td>M</td>\n",
       "      <td>M</td>\n",
       "    </tr>\n",
       "    <tr>\n",
       "      <th>surname</th>\n",
       "      <td>Daymond</td>\n",
       "      <td>NaN</td>\n",
       "      <td>NaN</td>\n",
       "    </tr>\n",
       "  </tbody>\n",
       "</table>\n",
       "</div>"
      ],
      "text/plain": [
       "              Halen Dimitri Zack\n",
       "a                 2     NaN    4\n",
       "age              25      24   24\n",
       "d               NaN      30  NaN\n",
       "discipline       CS      CS   CS\n",
       "gender          NaN       M    M\n",
       "surname     Daymond     NaN  NaN"
      ]
     },
     "execution_count": 124,
     "metadata": {},
     "output_type": "execute_result"
    }
   ],
   "source": [
    "students = {'Halen': pd.Series(data= [25, 'Daymond', 'CS',2], index = ['age','surname','discipline','a']),\n",
    "           'Dimitri': pd.Series(data= [24, 'M', 'CS',30], index = ['age','gender','discipline','d']),\n",
    "            'Zack': pd.Series(data= [24, 'M', 'CS',4], index = ['age','gender','discipline','a'])\n",
    "           }\n",
    "\n",
    "df_students= pd.DataFrame(students)\n",
    "df_students"
   ]
  },
  {
   "cell_type": "code",
   "execution_count": 127,
   "id": "806b0ab8-8729-40b7-8b84-dc5003ccf9fd",
   "metadata": {},
   "outputs": [],
   "source": [
    "x = df_students.isnull()"
   ]
  },
  {
   "cell_type": "code",
   "execution_count": 128,
   "id": "c020f76f-cf6d-4189-83e9-4219fca2917d",
   "metadata": {},
   "outputs": [
    {
     "data": {
      "text/html": [
       "<div>\n",
       "<style scoped>\n",
       "    .dataframe tbody tr th:only-of-type {\n",
       "        vertical-align: middle;\n",
       "    }\n",
       "\n",
       "    .dataframe tbody tr th {\n",
       "        vertical-align: top;\n",
       "    }\n",
       "\n",
       "    .dataframe thead th {\n",
       "        text-align: right;\n",
       "    }\n",
       "</style>\n",
       "<table border=\"1\" class=\"dataframe\">\n",
       "  <thead>\n",
       "    <tr style=\"text-align: right;\">\n",
       "      <th></th>\n",
       "      <th>Halen</th>\n",
       "      <th>Dimitri</th>\n",
       "      <th>Zack</th>\n",
       "    </tr>\n",
       "  </thead>\n",
       "  <tbody>\n",
       "    <tr>\n",
       "      <th>a</th>\n",
       "      <td>False</td>\n",
       "      <td>True</td>\n",
       "      <td>False</td>\n",
       "    </tr>\n",
       "    <tr>\n",
       "      <th>age</th>\n",
       "      <td>False</td>\n",
       "      <td>False</td>\n",
       "      <td>False</td>\n",
       "    </tr>\n",
       "    <tr>\n",
       "      <th>d</th>\n",
       "      <td>True</td>\n",
       "      <td>False</td>\n",
       "      <td>True</td>\n",
       "    </tr>\n",
       "    <tr>\n",
       "      <th>discipline</th>\n",
       "      <td>False</td>\n",
       "      <td>False</td>\n",
       "      <td>False</td>\n",
       "    </tr>\n",
       "    <tr>\n",
       "      <th>gender</th>\n",
       "      <td>True</td>\n",
       "      <td>False</td>\n",
       "      <td>False</td>\n",
       "    </tr>\n",
       "    <tr>\n",
       "      <th>surname</th>\n",
       "      <td>False</td>\n",
       "      <td>True</td>\n",
       "      <td>True</td>\n",
       "    </tr>\n",
       "  </tbody>\n",
       "</table>\n",
       "</div>"
      ],
      "text/plain": [
       "            Halen  Dimitri   Zack\n",
       "a           False     True  False\n",
       "age         False    False  False\n",
       "d            True    False   True\n",
       "discipline  False    False  False\n",
       "gender       True    False  False\n",
       "surname     False     True   True"
      ]
     },
     "execution_count": 128,
     "metadata": {},
     "output_type": "execute_result"
    }
   ],
   "source": [
    "x"
   ]
  },
  {
   "cell_type": "code",
   "execution_count": 129,
   "id": "acddac07-444f-4d54-9a8f-a66937f4a5bb",
   "metadata": {},
   "outputs": [
    {
     "data": {
      "text/plain": [
       "pandas.core.frame.DataFrame"
      ]
     },
     "execution_count": 129,
     "metadata": {},
     "output_type": "execute_result"
    }
   ],
   "source": [
    "type(x)"
   ]
  },
  {
   "cell_type": "code",
   "execution_count": 130,
   "id": "91453ebf-f3ac-448a-8c10-74d9263ca5a7",
   "metadata": {},
   "outputs": [],
   "source": [
    "y = df_students.isnull().sum() ## Count how many non value we have in each columns"
   ]
  },
  {
   "cell_type": "code",
   "execution_count": 131,
   "id": "4f0ff0cb-8b97-4244-bf19-afaca63ea1ad",
   "metadata": {},
   "outputs": [
    {
     "data": {
      "text/plain": [
       "Halen      2\n",
       "Dimitri    2\n",
       "Zack       2\n",
       "dtype: int64"
      ]
     },
     "execution_count": 131,
     "metadata": {},
     "output_type": "execute_result"
    }
   ],
   "source": [
    "y"
   ]
  },
  {
   "cell_type": "code",
   "execution_count": 132,
   "id": "5a5db7fd-53e0-4778-8720-386c334d3d82",
   "metadata": {},
   "outputs": [
    {
     "data": {
      "text/plain": [
       "pandas.core.series.Series"
      ]
     },
     "execution_count": 132,
     "metadata": {},
     "output_type": "execute_result"
    }
   ],
   "source": [
    "type(y)"
   ]
  },
  {
   "cell_type": "code",
   "execution_count": 136,
   "id": "4e42f465-c9b2-41de-a489-9fbb077fc315",
   "metadata": {},
   "outputs": [],
   "source": [
    "z = df_students.isnull().sum().sum() ## Total number of nan"
   ]
  },
  {
   "cell_type": "code",
   "execution_count": 137,
   "id": "cd833a15-f95a-4f81-b563-0d37e1134768",
   "metadata": {},
   "outputs": [
    {
     "data": {
      "text/plain": [
       "6"
      ]
     },
     "execution_count": 137,
     "metadata": {},
     "output_type": "execute_result"
    }
   ],
   "source": [
    "z"
   ]
  },
  {
   "cell_type": "code",
   "execution_count": 138,
   "id": "fb808495-9a81-464b-ade0-275040905f5f",
   "metadata": {},
   "outputs": [
    {
     "data": {
      "text/plain": [
       "numpy.int64"
      ]
     },
     "execution_count": 138,
     "metadata": {},
     "output_type": "execute_result"
    }
   ],
   "source": [
    "type(z)"
   ]
  },
  {
   "cell_type": "code",
   "execution_count": 139,
   "id": "0886c104-332d-4ae6-a436-ea4cb953954e",
   "metadata": {},
   "outputs": [],
   "source": [
    "x = df_students.notnull()"
   ]
  },
  {
   "cell_type": "code",
   "execution_count": 140,
   "id": "246ceaf8-533f-4656-a602-af9037e92a5f",
   "metadata": {},
   "outputs": [
    {
     "data": {
      "text/html": [
       "<div>\n",
       "<style scoped>\n",
       "    .dataframe tbody tr th:only-of-type {\n",
       "        vertical-align: middle;\n",
       "    }\n",
       "\n",
       "    .dataframe tbody tr th {\n",
       "        vertical-align: top;\n",
       "    }\n",
       "\n",
       "    .dataframe thead th {\n",
       "        text-align: right;\n",
       "    }\n",
       "</style>\n",
       "<table border=\"1\" class=\"dataframe\">\n",
       "  <thead>\n",
       "    <tr style=\"text-align: right;\">\n",
       "      <th></th>\n",
       "      <th>Halen</th>\n",
       "      <th>Dimitri</th>\n",
       "      <th>Zack</th>\n",
       "    </tr>\n",
       "  </thead>\n",
       "  <tbody>\n",
       "    <tr>\n",
       "      <th>a</th>\n",
       "      <td>True</td>\n",
       "      <td>False</td>\n",
       "      <td>True</td>\n",
       "    </tr>\n",
       "    <tr>\n",
       "      <th>age</th>\n",
       "      <td>True</td>\n",
       "      <td>True</td>\n",
       "      <td>True</td>\n",
       "    </tr>\n",
       "    <tr>\n",
       "      <th>d</th>\n",
       "      <td>False</td>\n",
       "      <td>True</td>\n",
       "      <td>False</td>\n",
       "    </tr>\n",
       "    <tr>\n",
       "      <th>discipline</th>\n",
       "      <td>True</td>\n",
       "      <td>True</td>\n",
       "      <td>True</td>\n",
       "    </tr>\n",
       "    <tr>\n",
       "      <th>gender</th>\n",
       "      <td>False</td>\n",
       "      <td>True</td>\n",
       "      <td>True</td>\n",
       "    </tr>\n",
       "    <tr>\n",
       "      <th>surname</th>\n",
       "      <td>True</td>\n",
       "      <td>False</td>\n",
       "      <td>False</td>\n",
       "    </tr>\n",
       "  </tbody>\n",
       "</table>\n",
       "</div>"
      ],
      "text/plain": [
       "            Halen  Dimitri   Zack\n",
       "a            True    False   True\n",
       "age          True     True   True\n",
       "d           False     True  False\n",
       "discipline   True     True   True\n",
       "gender      False     True   True\n",
       "surname      True    False  False"
      ]
     },
     "execution_count": 140,
     "metadata": {},
     "output_type": "execute_result"
    }
   ],
   "source": [
    "x"
   ]
  },
  {
   "cell_type": "code",
   "execution_count": 141,
   "id": "00305071-f014-473e-8ebe-6b805f816501",
   "metadata": {},
   "outputs": [],
   "source": [
    "y = df_students.notnull().sum()"
   ]
  },
  {
   "cell_type": "code",
   "execution_count": 142,
   "id": "9595e5e6-5b15-4cc5-9237-0f98d7d74b4e",
   "metadata": {},
   "outputs": [
    {
     "data": {
      "text/plain": [
       "Halen      4\n",
       "Dimitri    4\n",
       "Zack       4\n",
       "dtype: int64"
      ]
     },
     "execution_count": 142,
     "metadata": {},
     "output_type": "execute_result"
    }
   ],
   "source": [
    "y"
   ]
  },
  {
   "cell_type": "code",
   "execution_count": 143,
   "id": "7cf414c7-766e-4fec-8f86-fbe1389aca4e",
   "metadata": {},
   "outputs": [],
   "source": [
    "z = df_students.notnull().sum().sum()"
   ]
  },
  {
   "cell_type": "code",
   "execution_count": 144,
   "id": "2be01046-b01c-4f28-bd1b-153ff7e041ea",
   "metadata": {},
   "outputs": [
    {
     "data": {
      "text/plain": [
       "12"
      ]
     },
     "execution_count": 144,
     "metadata": {},
     "output_type": "execute_result"
    }
   ],
   "source": [
    "z"
   ]
  },
  {
   "cell_type": "code",
   "execution_count": 145,
   "id": "8c08885e-a511-4018-9c65-e68ecb5de059",
   "metadata": {},
   "outputs": [],
   "source": [
    "x = df_students.count()"
   ]
  },
  {
   "cell_type": "code",
   "execution_count": 146,
   "id": "825511ca-e344-474c-9634-956acc1f4501",
   "metadata": {},
   "outputs": [
    {
     "data": {
      "text/plain": [
       "Halen      4\n",
       "Dimitri    4\n",
       "Zack       4\n",
       "dtype: int64"
      ]
     },
     "execution_count": 146,
     "metadata": {},
     "output_type": "execute_result"
    }
   ],
   "source": [
    "x"
   ]
  },
  {
   "cell_type": "code",
   "execution_count": 147,
   "id": "8b1036ec-09ee-44bd-83db-789841ab71e7",
   "metadata": {},
   "outputs": [],
   "source": [
    "y = df_students.count().sum()"
   ]
  },
  {
   "cell_type": "code",
   "execution_count": 148,
   "id": "cc95647f-64e3-4a77-83f3-b25854b2cdce",
   "metadata": {},
   "outputs": [
    {
     "data": {
      "text/plain": [
       "12"
      ]
     },
     "execution_count": 148,
     "metadata": {},
     "output_type": "execute_result"
    }
   ],
   "source": [
    "y"
   ]
  },
  {
   "cell_type": "markdown",
   "id": "b44f476b-a100-4bd2-9796-90446242f8eb",
   "metadata": {},
   "source": [
    "### How to clean data from nons"
   ]
  },
  {
   "cell_type": "code",
   "execution_count": 153,
   "id": "61abe5f0-17c3-4edf-bc29-06a602fe4067",
   "metadata": {},
   "outputs": [
    {
     "data": {
      "text/html": [
       "<div>\n",
       "<style scoped>\n",
       "    .dataframe tbody tr th:only-of-type {\n",
       "        vertical-align: middle;\n",
       "    }\n",
       "\n",
       "    .dataframe tbody tr th {\n",
       "        vertical-align: top;\n",
       "    }\n",
       "\n",
       "    .dataframe thead th {\n",
       "        text-align: right;\n",
       "    }\n",
       "</style>\n",
       "<table border=\"1\" class=\"dataframe\">\n",
       "  <thead>\n",
       "    <tr style=\"text-align: right;\">\n",
       "      <th></th>\n",
       "      <th>Halen</th>\n",
       "      <th>Dimitri</th>\n",
       "      <th>Zack</th>\n",
       "    </tr>\n",
       "  </thead>\n",
       "  <tbody>\n",
       "    <tr>\n",
       "      <th>a</th>\n",
       "      <td>2</td>\n",
       "      <td>NaN</td>\n",
       "      <td>4</td>\n",
       "    </tr>\n",
       "    <tr>\n",
       "      <th>age</th>\n",
       "      <td>25</td>\n",
       "      <td>24</td>\n",
       "      <td>24</td>\n",
       "    </tr>\n",
       "    <tr>\n",
       "      <th>d</th>\n",
       "      <td>NaN</td>\n",
       "      <td>30</td>\n",
       "      <td>NaN</td>\n",
       "    </tr>\n",
       "    <tr>\n",
       "      <th>discipline</th>\n",
       "      <td>CS</td>\n",
       "      <td>CS</td>\n",
       "      <td>CS</td>\n",
       "    </tr>\n",
       "    <tr>\n",
       "      <th>gender</th>\n",
       "      <td>NaN</td>\n",
       "      <td>M</td>\n",
       "      <td>M</td>\n",
       "    </tr>\n",
       "    <tr>\n",
       "      <th>surname</th>\n",
       "      <td>Daymond</td>\n",
       "      <td>NaN</td>\n",
       "      <td>NaN</td>\n",
       "    </tr>\n",
       "  </tbody>\n",
       "</table>\n",
       "</div>"
      ],
      "text/plain": [
       "              Halen Dimitri Zack\n",
       "a                 2     NaN    4\n",
       "age              25      24   24\n",
       "d               NaN      30  NaN\n",
       "discipline       CS      CS   CS\n",
       "gender          NaN       M    M\n",
       "surname     Daymond     NaN  NaN"
      ]
     },
     "execution_count": 153,
     "metadata": {},
     "output_type": "execute_result"
    }
   ],
   "source": [
    "df_students"
   ]
  },
  {
   "cell_type": "markdown",
   "id": "f0d0ac35-5216-4070-981c-c834f4ab107c",
   "metadata": {},
   "source": [
    "#### dropna()"
   ]
  },
  {
   "cell_type": "code",
   "execution_count": 156,
   "id": "4fe06f50-15e6-40f8-9c90-b12814fa3a93",
   "metadata": {},
   "outputs": [],
   "source": [
    "x = df_students.dropna() ## Which rows have non value, it will remove entire row."
   ]
  },
  {
   "cell_type": "code",
   "execution_count": 157,
   "id": "91c4164a-f700-43e3-b144-c2385db02556",
   "metadata": {},
   "outputs": [
    {
     "data": {
      "text/html": [
       "<div>\n",
       "<style scoped>\n",
       "    .dataframe tbody tr th:only-of-type {\n",
       "        vertical-align: middle;\n",
       "    }\n",
       "\n",
       "    .dataframe tbody tr th {\n",
       "        vertical-align: top;\n",
       "    }\n",
       "\n",
       "    .dataframe thead th {\n",
       "        text-align: right;\n",
       "    }\n",
       "</style>\n",
       "<table border=\"1\" class=\"dataframe\">\n",
       "  <thead>\n",
       "    <tr style=\"text-align: right;\">\n",
       "      <th></th>\n",
       "      <th>Halen</th>\n",
       "      <th>Dimitri</th>\n",
       "      <th>Zack</th>\n",
       "    </tr>\n",
       "  </thead>\n",
       "  <tbody>\n",
       "    <tr>\n",
       "      <th>age</th>\n",
       "      <td>25</td>\n",
       "      <td>24</td>\n",
       "      <td>24</td>\n",
       "    </tr>\n",
       "    <tr>\n",
       "      <th>discipline</th>\n",
       "      <td>CS</td>\n",
       "      <td>CS</td>\n",
       "      <td>CS</td>\n",
       "    </tr>\n",
       "  </tbody>\n",
       "</table>\n",
       "</div>"
      ],
      "text/plain": [
       "           Halen Dimitri Zack\n",
       "age           25      24   24\n",
       "discipline    CS      CS   CS"
      ]
     },
     "execution_count": 157,
     "metadata": {},
     "output_type": "execute_result"
    }
   ],
   "source": [
    "x"
   ]
  },
  {
   "cell_type": "code",
   "execution_count": 159,
   "id": "e5bf4be2-da88-4863-b6fc-0fb524858b47",
   "metadata": {},
   "outputs": [
    {
     "data": {
      "text/html": [
       "<div>\n",
       "<style scoped>\n",
       "    .dataframe tbody tr th:only-of-type {\n",
       "        vertical-align: middle;\n",
       "    }\n",
       "\n",
       "    .dataframe tbody tr th {\n",
       "        vertical-align: top;\n",
       "    }\n",
       "\n",
       "    .dataframe thead th {\n",
       "        text-align: right;\n",
       "    }\n",
       "</style>\n",
       "<table border=\"1\" class=\"dataframe\">\n",
       "  <thead>\n",
       "    <tr style=\"text-align: right;\">\n",
       "      <th></th>\n",
       "      <th>Halen</th>\n",
       "      <th>Dimitri</th>\n",
       "      <th>Zack</th>\n",
       "    </tr>\n",
       "  </thead>\n",
       "  <tbody>\n",
       "    <tr>\n",
       "      <th>a</th>\n",
       "      <td>2</td>\n",
       "      <td>NaN</td>\n",
       "      <td>4</td>\n",
       "    </tr>\n",
       "    <tr>\n",
       "      <th>age</th>\n",
       "      <td>25</td>\n",
       "      <td>24</td>\n",
       "      <td>24</td>\n",
       "    </tr>\n",
       "    <tr>\n",
       "      <th>d</th>\n",
       "      <td>NaN</td>\n",
       "      <td>30</td>\n",
       "      <td>NaN</td>\n",
       "    </tr>\n",
       "    <tr>\n",
       "      <th>discipline</th>\n",
       "      <td>CS</td>\n",
       "      <td>CS</td>\n",
       "      <td>CS</td>\n",
       "    </tr>\n",
       "    <tr>\n",
       "      <th>gender</th>\n",
       "      <td>NaN</td>\n",
       "      <td>M</td>\n",
       "      <td>M</td>\n",
       "    </tr>\n",
       "    <tr>\n",
       "      <th>surname</th>\n",
       "      <td>Daymond</td>\n",
       "      <td>NaN</td>\n",
       "      <td>NaN</td>\n",
       "    </tr>\n",
       "  </tbody>\n",
       "</table>\n",
       "</div>"
      ],
      "text/plain": [
       "              Halen Dimitri Zack\n",
       "a                 2     NaN    4\n",
       "age              25      24   24\n",
       "d               NaN      30  NaN\n",
       "discipline       CS      CS   CS\n",
       "gender          NaN       M    M\n",
       "surname     Daymond     NaN  NaN"
      ]
     },
     "execution_count": 159,
     "metadata": {},
     "output_type": "execute_result"
    }
   ],
   "source": [
    "df_students ## never change original data sets."
   ]
  },
  {
   "cell_type": "code",
   "execution_count": 165,
   "id": "0dfbff77-10b6-4f74-915e-a4ac276b915e",
   "metadata": {},
   "outputs": [],
   "source": [
    "y = df_students.dropna(how=\"all\") # If all data is nan then delete entire row. otherwise does not work"
   ]
  },
  {
   "cell_type": "code",
   "execution_count": 166,
   "id": "a23d758e-b1fe-4756-beef-f4c0a3c8730b",
   "metadata": {},
   "outputs": [
    {
     "data": {
      "text/html": [
       "<div>\n",
       "<style scoped>\n",
       "    .dataframe tbody tr th:only-of-type {\n",
       "        vertical-align: middle;\n",
       "    }\n",
       "\n",
       "    .dataframe tbody tr th {\n",
       "        vertical-align: top;\n",
       "    }\n",
       "\n",
       "    .dataframe thead th {\n",
       "        text-align: right;\n",
       "    }\n",
       "</style>\n",
       "<table border=\"1\" class=\"dataframe\">\n",
       "  <thead>\n",
       "    <tr style=\"text-align: right;\">\n",
       "      <th></th>\n",
       "      <th>Halen</th>\n",
       "      <th>Dimitri</th>\n",
       "      <th>Zack</th>\n",
       "    </tr>\n",
       "  </thead>\n",
       "  <tbody>\n",
       "    <tr>\n",
       "      <th>a</th>\n",
       "      <td>2</td>\n",
       "      <td>NaN</td>\n",
       "      <td>4</td>\n",
       "    </tr>\n",
       "    <tr>\n",
       "      <th>age</th>\n",
       "      <td>25</td>\n",
       "      <td>24</td>\n",
       "      <td>24</td>\n",
       "    </tr>\n",
       "    <tr>\n",
       "      <th>d</th>\n",
       "      <td>NaN</td>\n",
       "      <td>30</td>\n",
       "      <td>NaN</td>\n",
       "    </tr>\n",
       "    <tr>\n",
       "      <th>discipline</th>\n",
       "      <td>CS</td>\n",
       "      <td>CS</td>\n",
       "      <td>CS</td>\n",
       "    </tr>\n",
       "    <tr>\n",
       "      <th>gender</th>\n",
       "      <td>NaN</td>\n",
       "      <td>M</td>\n",
       "      <td>M</td>\n",
       "    </tr>\n",
       "    <tr>\n",
       "      <th>surname</th>\n",
       "      <td>Daymond</td>\n",
       "      <td>NaN</td>\n",
       "      <td>NaN</td>\n",
       "    </tr>\n",
       "  </tbody>\n",
       "</table>\n",
       "</div>"
      ],
      "text/plain": [
       "              Halen Dimitri Zack\n",
       "a                 2     NaN    4\n",
       "age              25      24   24\n",
       "d               NaN      30  NaN\n",
       "discipline       CS      CS   CS\n",
       "gender          NaN       M    M\n",
       "surname     Daymond     NaN  NaN"
      ]
     },
     "execution_count": 166,
     "metadata": {},
     "output_type": "execute_result"
    }
   ],
   "source": [
    "y"
   ]
  },
  {
   "cell_type": "code",
   "execution_count": 173,
   "id": "a22c9d31-5c25-4186-8aed-62b25cad1db4",
   "metadata": {},
   "outputs": [],
   "source": [
    "y = df_students.dropna(thresh=1)  ## thresh=1 parameters if row has 1 non, no need to give any reaction. but we write tresh =2, it will delete which rows have 2 non value"
   ]
  },
  {
   "cell_type": "code",
   "execution_count": 174,
   "id": "1ec01405-ea29-445b-b80a-1dc443fb1344",
   "metadata": {},
   "outputs": [
    {
     "data": {
      "text/html": [
       "<div>\n",
       "<style scoped>\n",
       "    .dataframe tbody tr th:only-of-type {\n",
       "        vertical-align: middle;\n",
       "    }\n",
       "\n",
       "    .dataframe tbody tr th {\n",
       "        vertical-align: top;\n",
       "    }\n",
       "\n",
       "    .dataframe thead th {\n",
       "        text-align: right;\n",
       "    }\n",
       "</style>\n",
       "<table border=\"1\" class=\"dataframe\">\n",
       "  <thead>\n",
       "    <tr style=\"text-align: right;\">\n",
       "      <th></th>\n",
       "      <th>Halen</th>\n",
       "      <th>Dimitri</th>\n",
       "      <th>Zack</th>\n",
       "    </tr>\n",
       "  </thead>\n",
       "  <tbody>\n",
       "    <tr>\n",
       "      <th>a</th>\n",
       "      <td>2</td>\n",
       "      <td>NaN</td>\n",
       "      <td>4</td>\n",
       "    </tr>\n",
       "    <tr>\n",
       "      <th>age</th>\n",
       "      <td>25</td>\n",
       "      <td>24</td>\n",
       "      <td>24</td>\n",
       "    </tr>\n",
       "    <tr>\n",
       "      <th>d</th>\n",
       "      <td>NaN</td>\n",
       "      <td>30</td>\n",
       "      <td>NaN</td>\n",
       "    </tr>\n",
       "    <tr>\n",
       "      <th>discipline</th>\n",
       "      <td>CS</td>\n",
       "      <td>CS</td>\n",
       "      <td>CS</td>\n",
       "    </tr>\n",
       "    <tr>\n",
       "      <th>gender</th>\n",
       "      <td>NaN</td>\n",
       "      <td>M</td>\n",
       "      <td>M</td>\n",
       "    </tr>\n",
       "    <tr>\n",
       "      <th>surname</th>\n",
       "      <td>Daymond</td>\n",
       "      <td>NaN</td>\n",
       "      <td>NaN</td>\n",
       "    </tr>\n",
       "  </tbody>\n",
       "</table>\n",
       "</div>"
      ],
      "text/plain": [
       "              Halen Dimitri Zack\n",
       "a                 2     NaN    4\n",
       "age              25      24   24\n",
       "d               NaN      30  NaN\n",
       "discipline       CS      CS   CS\n",
       "gender          NaN       M    M\n",
       "surname     Daymond     NaN  NaN"
      ]
     },
     "execution_count": 174,
     "metadata": {},
     "output_type": "execute_result"
    }
   ],
   "source": [
    "y"
   ]
  },
  {
   "cell_type": "code",
   "execution_count": 182,
   "id": "b7f59c15-a59c-4bc5-aa0e-932649cf553b",
   "metadata": {},
   "outputs": [],
   "source": [
    "y = df_students.dropna(axis=1) ## which columns have non, delete all non columns."
   ]
  },
  {
   "cell_type": "code",
   "execution_count": 180,
   "id": "bb466bb4-0fb0-4a5c-a001-153b34779776",
   "metadata": {},
   "outputs": [
    {
     "data": {
      "text/html": [
       "<div>\n",
       "<style scoped>\n",
       "    .dataframe tbody tr th:only-of-type {\n",
       "        vertical-align: middle;\n",
       "    }\n",
       "\n",
       "    .dataframe tbody tr th {\n",
       "        vertical-align: top;\n",
       "    }\n",
       "\n",
       "    .dataframe thead th {\n",
       "        text-align: right;\n",
       "    }\n",
       "</style>\n",
       "<table border=\"1\" class=\"dataframe\">\n",
       "  <thead>\n",
       "    <tr style=\"text-align: right;\">\n",
       "      <th></th>\n",
       "    </tr>\n",
       "  </thead>\n",
       "  <tbody>\n",
       "    <tr>\n",
       "      <th>a</th>\n",
       "    </tr>\n",
       "    <tr>\n",
       "      <th>age</th>\n",
       "    </tr>\n",
       "    <tr>\n",
       "      <th>d</th>\n",
       "    </tr>\n",
       "    <tr>\n",
       "      <th>discipline</th>\n",
       "    </tr>\n",
       "    <tr>\n",
       "      <th>gender</th>\n",
       "    </tr>\n",
       "    <tr>\n",
       "      <th>surname</th>\n",
       "    </tr>\n",
       "  </tbody>\n",
       "</table>\n",
       "</div>"
      ],
      "text/plain": [
       "Empty DataFrame\n",
       "Columns: []\n",
       "Index: [a, age, d, discipline, gender, surname]"
      ]
     },
     "execution_count": 180,
     "metadata": {},
     "output_type": "execute_result"
    }
   ],
   "source": [
    "y"
   ]
  },
  {
   "cell_type": "code",
   "execution_count": 190,
   "id": "f6a6281a-bdd4-4554-b3f2-d241f7459dcc",
   "metadata": {},
   "outputs": [
    {
     "data": {
      "text/html": [
       "<div>\n",
       "<style scoped>\n",
       "    .dataframe tbody tr th:only-of-type {\n",
       "        vertical-align: middle;\n",
       "    }\n",
       "\n",
       "    .dataframe tbody tr th {\n",
       "        vertical-align: top;\n",
       "    }\n",
       "\n",
       "    .dataframe thead th {\n",
       "        text-align: right;\n",
       "    }\n",
       "</style>\n",
       "<table border=\"1\" class=\"dataframe\">\n",
       "  <thead>\n",
       "    <tr style=\"text-align: right;\">\n",
       "      <th></th>\n",
       "      <th>Halen</th>\n",
       "      <th>Dimitri</th>\n",
       "      <th>Zack</th>\n",
       "    </tr>\n",
       "  </thead>\n",
       "  <tbody>\n",
       "    <tr>\n",
       "      <th>a</th>\n",
       "      <td>2</td>\n",
       "      <td>NaN</td>\n",
       "      <td>4</td>\n",
       "    </tr>\n",
       "    <tr>\n",
       "      <th>age</th>\n",
       "      <td>25</td>\n",
       "      <td>24</td>\n",
       "      <td>24</td>\n",
       "    </tr>\n",
       "    <tr>\n",
       "      <th>d</th>\n",
       "      <td>NaN</td>\n",
       "      <td>30</td>\n",
       "      <td>NaN</td>\n",
       "    </tr>\n",
       "    <tr>\n",
       "      <th>discipline</th>\n",
       "      <td>CS</td>\n",
       "      <td>CS</td>\n",
       "      <td>CS</td>\n",
       "    </tr>\n",
       "    <tr>\n",
       "      <th>gender</th>\n",
       "      <td>NaN</td>\n",
       "      <td>M</td>\n",
       "      <td>M</td>\n",
       "    </tr>\n",
       "    <tr>\n",
       "      <th>surname</th>\n",
       "      <td>Daymond</td>\n",
       "      <td>NaN</td>\n",
       "      <td>NaN</td>\n",
       "    </tr>\n",
       "  </tbody>\n",
       "</table>\n",
       "</div>"
      ],
      "text/plain": [
       "              Halen Dimitri Zack\n",
       "a                 2     NaN    4\n",
       "age              25      24   24\n",
       "d               NaN      30  NaN\n",
       "discipline       CS      CS   CS\n",
       "gender          NaN       M    M\n",
       "surname     Daymond     NaN  NaN"
      ]
     },
     "execution_count": 190,
     "metadata": {},
     "output_type": "execute_result"
    }
   ],
   "source": [
    "students = {'Halen': pd.Series(data= [25, 'Daymond', 'CS',2], index = ['age','surname','discipline','a']),\n",
    "           'Dimitri': pd.Series(data= [24, 'M', 'CS',30], index = ['age','gender','discipline','d']),\n",
    "            'Zack': pd.Series(data= [24, 'M', 'CS',4], index = ['age','gender','discipline','a'])\n",
    "           }\n",
    "\n",
    "df_students= pd.DataFrame(students)\n",
    "df_students"
   ]
  },
  {
   "cell_type": "code",
   "execution_count": 191,
   "id": "1ebb627e-eaa6-409a-93af-5f9989f45cb1",
   "metadata": {},
   "outputs": [],
   "source": [
    "x = df_students.fillna(method = 'ffill', axis=0) ## fillna if the nan value seee in the rows, copy before columns value. ffill means forward fill. if you wantyou can also put backfill value."
   ]
  },
  {
   "cell_type": "code",
   "execution_count": 192,
   "id": "42351335-129a-488b-a7cf-ce872df9aa98",
   "metadata": {},
   "outputs": [
    {
     "data": {
      "text/html": [
       "<div>\n",
       "<style scoped>\n",
       "    .dataframe tbody tr th:only-of-type {\n",
       "        vertical-align: middle;\n",
       "    }\n",
       "\n",
       "    .dataframe tbody tr th {\n",
       "        vertical-align: top;\n",
       "    }\n",
       "\n",
       "    .dataframe thead th {\n",
       "        text-align: right;\n",
       "    }\n",
       "</style>\n",
       "<table border=\"1\" class=\"dataframe\">\n",
       "  <thead>\n",
       "    <tr style=\"text-align: right;\">\n",
       "      <th></th>\n",
       "      <th>Halen</th>\n",
       "      <th>Dimitri</th>\n",
       "      <th>Zack</th>\n",
       "    </tr>\n",
       "  </thead>\n",
       "  <tbody>\n",
       "    <tr>\n",
       "      <th>a</th>\n",
       "      <td>2</td>\n",
       "      <td>NaN</td>\n",
       "      <td>4</td>\n",
       "    </tr>\n",
       "    <tr>\n",
       "      <th>age</th>\n",
       "      <td>25</td>\n",
       "      <td>24</td>\n",
       "      <td>24</td>\n",
       "    </tr>\n",
       "    <tr>\n",
       "      <th>d</th>\n",
       "      <td>25</td>\n",
       "      <td>30</td>\n",
       "      <td>24</td>\n",
       "    </tr>\n",
       "    <tr>\n",
       "      <th>discipline</th>\n",
       "      <td>CS</td>\n",
       "      <td>CS</td>\n",
       "      <td>CS</td>\n",
       "    </tr>\n",
       "    <tr>\n",
       "      <th>gender</th>\n",
       "      <td>CS</td>\n",
       "      <td>M</td>\n",
       "      <td>M</td>\n",
       "    </tr>\n",
       "    <tr>\n",
       "      <th>surname</th>\n",
       "      <td>Daymond</td>\n",
       "      <td>M</td>\n",
       "      <td>M</td>\n",
       "    </tr>\n",
       "  </tbody>\n",
       "</table>\n",
       "</div>"
      ],
      "text/plain": [
       "              Halen Dimitri Zack\n",
       "a                 2     NaN    4\n",
       "age              25      24   24\n",
       "d                25      30   24\n",
       "discipline       CS      CS   CS\n",
       "gender           CS       M    M\n",
       "surname     Daymond       M    M"
      ]
     },
     "execution_count": 192,
     "metadata": {},
     "output_type": "execute_result"
    }
   ],
   "source": [
    "x\n"
   ]
  },
  {
   "cell_type": "code",
   "execution_count": 195,
   "id": "5cc4d15c-b3ae-44f4-81c1-a8801ce82552",
   "metadata": {},
   "outputs": [],
   "source": [
    "x = df_students.fillna(method = 'ffill', axis=1)## it will change with columns"
   ]
  },
  {
   "cell_type": "code",
   "execution_count": 196,
   "id": "702a02f1-7f46-4077-9766-4880d3293a87",
   "metadata": {},
   "outputs": [
    {
     "data": {
      "text/html": [
       "<div>\n",
       "<style scoped>\n",
       "    .dataframe tbody tr th:only-of-type {\n",
       "        vertical-align: middle;\n",
       "    }\n",
       "\n",
       "    .dataframe tbody tr th {\n",
       "        vertical-align: top;\n",
       "    }\n",
       "\n",
       "    .dataframe thead th {\n",
       "        text-align: right;\n",
       "    }\n",
       "</style>\n",
       "<table border=\"1\" class=\"dataframe\">\n",
       "  <thead>\n",
       "    <tr style=\"text-align: right;\">\n",
       "      <th></th>\n",
       "      <th>Halen</th>\n",
       "      <th>Dimitri</th>\n",
       "      <th>Zack</th>\n",
       "    </tr>\n",
       "  </thead>\n",
       "  <tbody>\n",
       "    <tr>\n",
       "      <th>a</th>\n",
       "      <td>2</td>\n",
       "      <td>2</td>\n",
       "      <td>4</td>\n",
       "    </tr>\n",
       "    <tr>\n",
       "      <th>age</th>\n",
       "      <td>25</td>\n",
       "      <td>24</td>\n",
       "      <td>24</td>\n",
       "    </tr>\n",
       "    <tr>\n",
       "      <th>d</th>\n",
       "      <td>NaN</td>\n",
       "      <td>30</td>\n",
       "      <td>30</td>\n",
       "    </tr>\n",
       "    <tr>\n",
       "      <th>discipline</th>\n",
       "      <td>CS</td>\n",
       "      <td>CS</td>\n",
       "      <td>CS</td>\n",
       "    </tr>\n",
       "    <tr>\n",
       "      <th>gender</th>\n",
       "      <td>NaN</td>\n",
       "      <td>M</td>\n",
       "      <td>M</td>\n",
       "    </tr>\n",
       "    <tr>\n",
       "      <th>surname</th>\n",
       "      <td>Daymond</td>\n",
       "      <td>Daymond</td>\n",
       "      <td>Daymond</td>\n",
       "    </tr>\n",
       "  </tbody>\n",
       "</table>\n",
       "</div>"
      ],
      "text/plain": [
       "              Halen  Dimitri     Zack\n",
       "a                 2        2        4\n",
       "age              25       24       24\n",
       "d               NaN       30       30\n",
       "discipline       CS       CS       CS\n",
       "gender          NaN        M        M\n",
       "surname     Daymond  Daymond  Daymond"
      ]
     },
     "execution_count": 196,
     "metadata": {},
     "output_type": "execute_result"
    }
   ],
   "source": [
    "x"
   ]
  },
  {
   "cell_type": "code",
   "execution_count": 199,
   "id": "906d5ca8-b819-4e8f-9c1a-5623c5a00d0f",
   "metadata": {},
   "outputs": [],
   "source": [
    "review = pd.read_csv('ReviewContent.csv')"
   ]
  },
  {
   "cell_type": "code",
   "execution_count": 200,
   "id": "4ed0209c-3e85-4e2b-955b-7dde5995f3ae",
   "metadata": {},
   "outputs": [
    {
     "data": {
      "text/html": [
       "<div>\n",
       "<style scoped>\n",
       "    .dataframe tbody tr th:only-of-type {\n",
       "        vertical-align: middle;\n",
       "    }\n",
       "\n",
       "    .dataframe tbody tr th {\n",
       "        vertical-align: top;\n",
       "    }\n",
       "\n",
       "    .dataframe thead th {\n",
       "        text-align: right;\n",
       "    }\n",
       "</style>\n",
       "<table border=\"1\" class=\"dataframe\">\n",
       "  <thead>\n",
       "    <tr style=\"text-align: right;\">\n",
       "      <th></th>\n",
       "      <th>Review ID</th>\n",
       "      <th>Review Date</th>\n",
       "      <th>Review Content</th>\n",
       "      <th>Listing Title</th>\n",
       "      <th>Neighbourhood</th>\n",
       "      <th>City</th>\n",
       "      <th>State</th>\n",
       "      <th>Country</th>\n",
       "      <th>Room Type</th>\n",
       "      <th>Room Price</th>\n",
       "      <th>Room Availability</th>\n",
       "    </tr>\n",
       "  </thead>\n",
       "  <tbody>\n",
       "    <tr>\n",
       "      <th>0</th>\n",
       "      <td>4055629</td>\n",
       "      <td>2012-10-06</td>\n",
       "      <td>Very nice accommodation in an aesthetically pl...</td>\n",
       "      <td>Nottinghill Portobello  Artist Flat</td>\n",
       "      <td>Kensington and Chelsea</td>\n",
       "      <td>London</td>\n",
       "      <td>England</td>\n",
       "      <td>United Kingdom</td>\n",
       "      <td>Entire home/apt</td>\n",
       "      <td>100</td>\n",
       "      <td>338</td>\n",
       "    </tr>\n",
       "    <tr>\n",
       "      <th>1</th>\n",
       "      <td>25329416</td>\n",
       "      <td>2013-11-03</td>\n",
       "      <td>Me and my friends had such a nice time at Dott...</td>\n",
       "      <td>Quiet Pink Studio in the PIJP area</td>\n",
       "      <td>De Pijp - Rivierenbuurt</td>\n",
       "      <td>Amsterdam</td>\n",
       "      <td>North Holland</td>\n",
       "      <td>The Netherlands</td>\n",
       "      <td>Private room</td>\n",
       "      <td>80</td>\n",
       "      <td>10</td>\n",
       "    </tr>\n",
       "    <tr>\n",
       "      <th>2</th>\n",
       "      <td>21705849</td>\n",
       "      <td>2014-11-27</td>\n",
       "      <td>I stayed for 4night.She gave us a lot of snuck...</td>\n",
       "      <td>PRIVATE Room in Spacious, Quiet Apt</td>\n",
       "      <td>Harlem</td>\n",
       "      <td>New York City</td>\n",
       "      <td>New York</td>\n",
       "      <td>United States</td>\n",
       "      <td>Private room</td>\n",
       "      <td>57</td>\n",
       "      <td>268</td>\n",
       "    </tr>\n",
       "    <tr>\n",
       "      <th>3</th>\n",
       "      <td>41133812</td>\n",
       "      <td>2012-05-08</td>\n",
       "      <td>The apartment was situated on the first floor ...</td>\n",
       "      <td>Bonito estudio en pleno centro</td>\n",
       "      <td>Universidad</td>\n",
       "      <td>Madrid</td>\n",
       "      <td>Comunidad de Madrid</td>\n",
       "      <td>Spain</td>\n",
       "      <td>Entire home/apt</td>\n",
       "      <td>38</td>\n",
       "      <td>274</td>\n",
       "    </tr>\n",
       "    <tr>\n",
       "      <th>4</th>\n",
       "      <td>7465026</td>\n",
       "      <td>2013-08-16</td>\n",
       "      <td>Even though it was only for one night, we had ...</td>\n",
       "      <td>Acropolis Apartment brand new</td>\n",
       "      <td>ΑΚΡΟΠΟΛΗ</td>\n",
       "      <td>Athens</td>\n",
       "      <td>Attica</td>\n",
       "      <td>Greece</td>\n",
       "      <td>Entire home/apt</td>\n",
       "      <td>62</td>\n",
       "      <td>281</td>\n",
       "    </tr>\n",
       "    <tr>\n",
       "      <th>...</th>\n",
       "      <td>...</td>\n",
       "      <td>...</td>\n",
       "      <td>...</td>\n",
       "      <td>...</td>\n",
       "      <td>...</td>\n",
       "      <td>...</td>\n",
       "      <td>...</td>\n",
       "      <td>...</td>\n",
       "      <td>...</td>\n",
       "      <td>...</td>\n",
       "      <td>...</td>\n",
       "    </tr>\n",
       "    <tr>\n",
       "      <th>995</th>\n",
       "      <td>44498863</td>\n",
       "      <td>2012-08-30</td>\n",
       "      <td>I loved staying here during my time in Paris. ...</td>\n",
       "      <td>A typical parisian flat</td>\n",
       "      <td>Buttes-Montmartre</td>\n",
       "      <td>Paris</td>\n",
       "      <td>Île-de-France</td>\n",
       "      <td>France</td>\n",
       "      <td>Private room</td>\n",
       "      <td>35</td>\n",
       "      <td>329</td>\n",
       "    </tr>\n",
       "    <tr>\n",
       "      <th>996</th>\n",
       "      <td>30544438</td>\n",
       "      <td>2013-02-28</td>\n",
       "      <td>Highly recommend this as a place to stay if yo...</td>\n",
       "      <td>The Venice Roost on Abbot Kinney</td>\n",
       "      <td>Venice</td>\n",
       "      <td>Los Angeles</td>\n",
       "      <td>California</td>\n",
       "      <td>United States</td>\n",
       "      <td>Entire home/apt</td>\n",
       "      <td>191</td>\n",
       "      <td>309</td>\n",
       "    </tr>\n",
       "    <tr>\n",
       "      <th>997</th>\n",
       "      <td>46642535</td>\n",
       "      <td>2014-08-30</td>\n",
       "      <td>John was a great host.  I came in on a red eye...</td>\n",
       "      <td>Top Floor Renovated 1 BR / 1BA</td>\n",
       "      <td>West Roxbury</td>\n",
       "      <td>Boston</td>\n",
       "      <td>Massachusetts</td>\n",
       "      <td>United States</td>\n",
       "      <td>Entire home/apt</td>\n",
       "      <td>95</td>\n",
       "      <td>10</td>\n",
       "    </tr>\n",
       "    <tr>\n",
       "      <th>998</th>\n",
       "      <td>21403195</td>\n",
       "      <td>2014-12-26</td>\n",
       "      <td>Very good experiance had a comfortable stay. V...</td>\n",
       "      <td>NR LGA/JFK &amp; City Studio W/Bathroom</td>\n",
       "      <td>Jackson Heights</td>\n",
       "      <td>New York City</td>\n",
       "      <td>New York</td>\n",
       "      <td>United States</td>\n",
       "      <td>Private room</td>\n",
       "      <td>75</td>\n",
       "      <td>357</td>\n",
       "    </tr>\n",
       "    <tr>\n",
       "      <th>999</th>\n",
       "      <td>38944752</td>\n",
       "      <td>2013-10-15</td>\n",
       "      <td>Thank you for the wonderful stay!   It was a c...</td>\n",
       "      <td>15 Minutes from Manhattan</td>\n",
       "      <td>Woodside</td>\n",
       "      <td>New York City</td>\n",
       "      <td>New York</td>\n",
       "      <td>United States</td>\n",
       "      <td>Private room</td>\n",
       "      <td>110</td>\n",
       "      <td>329</td>\n",
       "    </tr>\n",
       "  </tbody>\n",
       "</table>\n",
       "<p>1000 rows × 11 columns</p>\n",
       "</div>"
      ],
      "text/plain": [
       "     Review ID Review Date                                     Review Content  \\\n",
       "0      4055629  2012-10-06  Very nice accommodation in an aesthetically pl...   \n",
       "1     25329416  2013-11-03  Me and my friends had such a nice time at Dott...   \n",
       "2     21705849  2014-11-27  I stayed for 4night.She gave us a lot of snuck...   \n",
       "3     41133812  2012-05-08  The apartment was situated on the first floor ...   \n",
       "4      7465026  2013-08-16  Even though it was only for one night, we had ...   \n",
       "..         ...         ...                                                ...   \n",
       "995   44498863  2012-08-30  I loved staying here during my time in Paris. ...   \n",
       "996   30544438  2013-02-28  Highly recommend this as a place to stay if yo...   \n",
       "997   46642535  2014-08-30  John was a great host.  I came in on a red eye...   \n",
       "998   21403195  2014-12-26  Very good experiance had a comfortable stay. V...   \n",
       "999   38944752  2013-10-15  Thank you for the wonderful stay!   It was a c...   \n",
       "\n",
       "                           Listing Title            Neighbourhood  \\\n",
       "0    Nottinghill Portobello  Artist Flat   Kensington and Chelsea   \n",
       "1     Quiet Pink Studio in the PIJP area  De Pijp - Rivierenbuurt   \n",
       "2    PRIVATE Room in Spacious, Quiet Apt                   Harlem   \n",
       "3         Bonito estudio en pleno centro              Universidad   \n",
       "4          Acropolis Apartment brand new                 ΑΚΡΟΠΟΛΗ   \n",
       "..                                   ...                      ...   \n",
       "995              A typical parisian flat        Buttes-Montmartre   \n",
       "996     The Venice Roost on Abbot Kinney                   Venice   \n",
       "997      Top Floor Renovated 1 BR / 1BA              West Roxbury   \n",
       "998  NR LGA/JFK & City Studio W/Bathroom          Jackson Heights   \n",
       "999            15 Minutes from Manhattan                 Woodside   \n",
       "\n",
       "              City                State          Country        Room Type  \\\n",
       "0           London              England   United Kingdom  Entire home/apt   \n",
       "1        Amsterdam        North Holland  The Netherlands     Private room   \n",
       "2    New York City             New York    United States     Private room   \n",
       "3           Madrid  Comunidad de Madrid            Spain  Entire home/apt   \n",
       "4           Athens               Attica           Greece  Entire home/apt   \n",
       "..             ...                  ...              ...              ...   \n",
       "995          Paris        Île-de-France           France     Private room   \n",
       "996    Los Angeles           California    United States  Entire home/apt   \n",
       "997         Boston        Massachusetts    United States  Entire home/apt   \n",
       "998  New York City             New York    United States     Private room   \n",
       "999  New York City             New York    United States     Private room   \n",
       "\n",
       "     Room Price  Room Availability  \n",
       "0           100                338  \n",
       "1            80                 10  \n",
       "2            57                268  \n",
       "3            38                274  \n",
       "4            62                281  \n",
       "..          ...                ...  \n",
       "995          35                329  \n",
       "996         191                309  \n",
       "997          95                 10  \n",
       "998          75                357  \n",
       "999         110                329  \n",
       "\n",
       "[1000 rows x 11 columns]"
      ]
     },
     "execution_count": 200,
     "metadata": {},
     "output_type": "execute_result"
    }
   ],
   "source": [
    "review"
   ]
  },
  {
   "cell_type": "code",
   "execution_count": 201,
   "id": "73d594fa-c2b8-4b9c-bfb8-72c6952d26cd",
   "metadata": {},
   "outputs": [
    {
     "data": {
      "text/plain": [
       "pandas.core.frame.DataFrame"
      ]
     },
     "execution_count": 201,
     "metadata": {},
     "output_type": "execute_result"
    }
   ],
   "source": [
    "type(review)"
   ]
  },
  {
   "cell_type": "code",
   "execution_count": 202,
   "id": "760b9e2f-9207-45ba-bf5b-b1dfae5a8c90",
   "metadata": {},
   "outputs": [
    {
     "name": "stdout",
     "output_type": "stream",
     "text": [
      "<class 'pandas.core.frame.DataFrame'>\n",
      "RangeIndex: 1000 entries, 0 to 999\n",
      "Data columns (total 11 columns):\n",
      " #   Column             Non-Null Count  Dtype \n",
      "---  ------             --------------  ----- \n",
      " 0   Review ID          1000 non-null   int64 \n",
      " 1   Review Date        1000 non-null   object\n",
      " 2   Review Content     999 non-null    object\n",
      " 3   Listing Title      1000 non-null   object\n",
      " 4   Neighbourhood      1000 non-null   object\n",
      " 5   City               1000 non-null   object\n",
      " 6   State              1000 non-null   object\n",
      " 7   Country            1000 non-null   object\n",
      " 8   Room Type          1000 non-null   object\n",
      " 9   Room Price         1000 non-null   int64 \n",
      " 10  Room Availability  1000 non-null   int64 \n",
      "dtypes: int64(3), object(8)\n",
      "memory usage: 86.1+ KB\n"
     ]
    }
   ],
   "source": [
    "review.info()"
   ]
  },
  {
   "cell_type": "code",
   "execution_count": 203,
   "id": "8c12f223-4bc5-4c7a-b8ae-6745d71844d4",
   "metadata": {},
   "outputs": [
    {
     "data": {
      "text/html": [
       "<div>\n",
       "<style scoped>\n",
       "    .dataframe tbody tr th:only-of-type {\n",
       "        vertical-align: middle;\n",
       "    }\n",
       "\n",
       "    .dataframe tbody tr th {\n",
       "        vertical-align: top;\n",
       "    }\n",
       "\n",
       "    .dataframe thead th {\n",
       "        text-align: right;\n",
       "    }\n",
       "</style>\n",
       "<table border=\"1\" class=\"dataframe\">\n",
       "  <thead>\n",
       "    <tr style=\"text-align: right;\">\n",
       "      <th></th>\n",
       "      <th>Review ID</th>\n",
       "      <th>Review Date</th>\n",
       "      <th>Review Content</th>\n",
       "      <th>Listing Title</th>\n",
       "      <th>Neighbourhood</th>\n",
       "      <th>City</th>\n",
       "      <th>State</th>\n",
       "      <th>Country</th>\n",
       "      <th>Room Type</th>\n",
       "      <th>Room Price</th>\n",
       "      <th>Room Availability</th>\n",
       "    </tr>\n",
       "  </thead>\n",
       "  <tbody>\n",
       "    <tr>\n",
       "      <th>0</th>\n",
       "      <td>4055629</td>\n",
       "      <td>2012-10-06</td>\n",
       "      <td>Very nice accommodation in an aesthetically pl...</td>\n",
       "      <td>Nottinghill Portobello  Artist Flat</td>\n",
       "      <td>Kensington and Chelsea</td>\n",
       "      <td>London</td>\n",
       "      <td>England</td>\n",
       "      <td>United Kingdom</td>\n",
       "      <td>Entire home/apt</td>\n",
       "      <td>100</td>\n",
       "      <td>338</td>\n",
       "    </tr>\n",
       "    <tr>\n",
       "      <th>1</th>\n",
       "      <td>25329416</td>\n",
       "      <td>2013-11-03</td>\n",
       "      <td>Me and my friends had such a nice time at Dott...</td>\n",
       "      <td>Quiet Pink Studio in the PIJP area</td>\n",
       "      <td>De Pijp - Rivierenbuurt</td>\n",
       "      <td>Amsterdam</td>\n",
       "      <td>North Holland</td>\n",
       "      <td>The Netherlands</td>\n",
       "      <td>Private room</td>\n",
       "      <td>80</td>\n",
       "      <td>10</td>\n",
       "    </tr>\n",
       "    <tr>\n",
       "      <th>2</th>\n",
       "      <td>21705849</td>\n",
       "      <td>2014-11-27</td>\n",
       "      <td>I stayed for 4night.She gave us a lot of snuck...</td>\n",
       "      <td>PRIVATE Room in Spacious, Quiet Apt</td>\n",
       "      <td>Harlem</td>\n",
       "      <td>New York City</td>\n",
       "      <td>New York</td>\n",
       "      <td>United States</td>\n",
       "      <td>Private room</td>\n",
       "      <td>57</td>\n",
       "      <td>268</td>\n",
       "    </tr>\n",
       "    <tr>\n",
       "      <th>3</th>\n",
       "      <td>41133812</td>\n",
       "      <td>2012-05-08</td>\n",
       "      <td>The apartment was situated on the first floor ...</td>\n",
       "      <td>Bonito estudio en pleno centro</td>\n",
       "      <td>Universidad</td>\n",
       "      <td>Madrid</td>\n",
       "      <td>Comunidad de Madrid</td>\n",
       "      <td>Spain</td>\n",
       "      <td>Entire home/apt</td>\n",
       "      <td>38</td>\n",
       "      <td>274</td>\n",
       "    </tr>\n",
       "    <tr>\n",
       "      <th>4</th>\n",
       "      <td>7465026</td>\n",
       "      <td>2013-08-16</td>\n",
       "      <td>Even though it was only for one night, we had ...</td>\n",
       "      <td>Acropolis Apartment brand new</td>\n",
       "      <td>ΑΚΡΟΠΟΛΗ</td>\n",
       "      <td>Athens</td>\n",
       "      <td>Attica</td>\n",
       "      <td>Greece</td>\n",
       "      <td>Entire home/apt</td>\n",
       "      <td>62</td>\n",
       "      <td>281</td>\n",
       "    </tr>\n",
       "  </tbody>\n",
       "</table>\n",
       "</div>"
      ],
      "text/plain": [
       "   Review ID Review Date                                     Review Content  \\\n",
       "0    4055629  2012-10-06  Very nice accommodation in an aesthetically pl...   \n",
       "1   25329416  2013-11-03  Me and my friends had such a nice time at Dott...   \n",
       "2   21705849  2014-11-27  I stayed for 4night.She gave us a lot of snuck...   \n",
       "3   41133812  2012-05-08  The apartment was situated on the first floor ...   \n",
       "4    7465026  2013-08-16  Even though it was only for one night, we had ...   \n",
       "\n",
       "                         Listing Title            Neighbourhood  \\\n",
       "0  Nottinghill Portobello  Artist Flat   Kensington and Chelsea   \n",
       "1   Quiet Pink Studio in the PIJP area  De Pijp - Rivierenbuurt   \n",
       "2  PRIVATE Room in Spacious, Quiet Apt                   Harlem   \n",
       "3       Bonito estudio en pleno centro              Universidad   \n",
       "4        Acropolis Apartment brand new                 ΑΚΡΟΠΟΛΗ   \n",
       "\n",
       "            City                State          Country        Room Type  \\\n",
       "0         London              England   United Kingdom  Entire home/apt   \n",
       "1      Amsterdam        North Holland  The Netherlands     Private room   \n",
       "2  New York City             New York    United States     Private room   \n",
       "3         Madrid  Comunidad de Madrid            Spain  Entire home/apt   \n",
       "4         Athens               Attica           Greece  Entire home/apt   \n",
       "\n",
       "   Room Price  Room Availability  \n",
       "0         100                338  \n",
       "1          80                 10  \n",
       "2          57                268  \n",
       "3          38                274  \n",
       "4          62                281  "
      ]
     },
     "execution_count": 203,
     "metadata": {},
     "output_type": "execute_result"
    }
   ],
   "source": [
    "review.head()"
   ]
  },
  {
   "cell_type": "code",
   "execution_count": 204,
   "id": "7569d257-a986-49fe-a9ce-761fc797ff8e",
   "metadata": {},
   "outputs": [
    {
     "data": {
      "text/html": [
       "<div>\n",
       "<style scoped>\n",
       "    .dataframe tbody tr th:only-of-type {\n",
       "        vertical-align: middle;\n",
       "    }\n",
       "\n",
       "    .dataframe tbody tr th {\n",
       "        vertical-align: top;\n",
       "    }\n",
       "\n",
       "    .dataframe thead th {\n",
       "        text-align: right;\n",
       "    }\n",
       "</style>\n",
       "<table border=\"1\" class=\"dataframe\">\n",
       "  <thead>\n",
       "    <tr style=\"text-align: right;\">\n",
       "      <th></th>\n",
       "      <th>Review ID</th>\n",
       "      <th>Review Date</th>\n",
       "      <th>Review Content</th>\n",
       "      <th>Listing Title</th>\n",
       "      <th>Neighbourhood</th>\n",
       "      <th>City</th>\n",
       "      <th>State</th>\n",
       "      <th>Country</th>\n",
       "      <th>Room Type</th>\n",
       "      <th>Room Price</th>\n",
       "      <th>Room Availability</th>\n",
       "    </tr>\n",
       "  </thead>\n",
       "  <tbody>\n",
       "    <tr>\n",
       "      <th>995</th>\n",
       "      <td>44498863</td>\n",
       "      <td>2012-08-30</td>\n",
       "      <td>I loved staying here during my time in Paris. ...</td>\n",
       "      <td>A typical parisian flat</td>\n",
       "      <td>Buttes-Montmartre</td>\n",
       "      <td>Paris</td>\n",
       "      <td>Île-de-France</td>\n",
       "      <td>France</td>\n",
       "      <td>Private room</td>\n",
       "      <td>35</td>\n",
       "      <td>329</td>\n",
       "    </tr>\n",
       "    <tr>\n",
       "      <th>996</th>\n",
       "      <td>30544438</td>\n",
       "      <td>2013-02-28</td>\n",
       "      <td>Highly recommend this as a place to stay if yo...</td>\n",
       "      <td>The Venice Roost on Abbot Kinney</td>\n",
       "      <td>Venice</td>\n",
       "      <td>Los Angeles</td>\n",
       "      <td>California</td>\n",
       "      <td>United States</td>\n",
       "      <td>Entire home/apt</td>\n",
       "      <td>191</td>\n",
       "      <td>309</td>\n",
       "    </tr>\n",
       "    <tr>\n",
       "      <th>997</th>\n",
       "      <td>46642535</td>\n",
       "      <td>2014-08-30</td>\n",
       "      <td>John was a great host.  I came in on a red eye...</td>\n",
       "      <td>Top Floor Renovated 1 BR / 1BA</td>\n",
       "      <td>West Roxbury</td>\n",
       "      <td>Boston</td>\n",
       "      <td>Massachusetts</td>\n",
       "      <td>United States</td>\n",
       "      <td>Entire home/apt</td>\n",
       "      <td>95</td>\n",
       "      <td>10</td>\n",
       "    </tr>\n",
       "    <tr>\n",
       "      <th>998</th>\n",
       "      <td>21403195</td>\n",
       "      <td>2014-12-26</td>\n",
       "      <td>Very good experiance had a comfortable stay. V...</td>\n",
       "      <td>NR LGA/JFK &amp; City Studio W/Bathroom</td>\n",
       "      <td>Jackson Heights</td>\n",
       "      <td>New York City</td>\n",
       "      <td>New York</td>\n",
       "      <td>United States</td>\n",
       "      <td>Private room</td>\n",
       "      <td>75</td>\n",
       "      <td>357</td>\n",
       "    </tr>\n",
       "    <tr>\n",
       "      <th>999</th>\n",
       "      <td>38944752</td>\n",
       "      <td>2013-10-15</td>\n",
       "      <td>Thank you for the wonderful stay!   It was a c...</td>\n",
       "      <td>15 Minutes from Manhattan</td>\n",
       "      <td>Woodside</td>\n",
       "      <td>New York City</td>\n",
       "      <td>New York</td>\n",
       "      <td>United States</td>\n",
       "      <td>Private room</td>\n",
       "      <td>110</td>\n",
       "      <td>329</td>\n",
       "    </tr>\n",
       "  </tbody>\n",
       "</table>\n",
       "</div>"
      ],
      "text/plain": [
       "     Review ID Review Date                                     Review Content  \\\n",
       "995   44498863  2012-08-30  I loved staying here during my time in Paris. ...   \n",
       "996   30544438  2013-02-28  Highly recommend this as a place to stay if yo...   \n",
       "997   46642535  2014-08-30  John was a great host.  I came in on a red eye...   \n",
       "998   21403195  2014-12-26  Very good experiance had a comfortable stay. V...   \n",
       "999   38944752  2013-10-15  Thank you for the wonderful stay!   It was a c...   \n",
       "\n",
       "                           Listing Title      Neighbourhood           City  \\\n",
       "995              A typical parisian flat  Buttes-Montmartre          Paris   \n",
       "996     The Venice Roost on Abbot Kinney             Venice    Los Angeles   \n",
       "997      Top Floor Renovated 1 BR / 1BA        West Roxbury         Boston   \n",
       "998  NR LGA/JFK & City Studio W/Bathroom    Jackson Heights  New York City   \n",
       "999            15 Minutes from Manhattan           Woodside  New York City   \n",
       "\n",
       "             State        Country        Room Type  Room Price  \\\n",
       "995  Île-de-France         France     Private room          35   \n",
       "996     California  United States  Entire home/apt         191   \n",
       "997  Massachusetts  United States  Entire home/apt          95   \n",
       "998       New York  United States     Private room          75   \n",
       "999       New York  United States     Private room         110   \n",
       "\n",
       "     Room Availability  \n",
       "995                329  \n",
       "996                309  \n",
       "997                 10  \n",
       "998                357  \n",
       "999                329  "
      ]
     },
     "execution_count": 204,
     "metadata": {},
     "output_type": "execute_result"
    }
   ],
   "source": [
    "review.tail()"
   ]
  },
  {
   "cell_type": "code",
   "execution_count": 207,
   "id": "bf4d1a44-a494-4c86-bef6-8bd874005864",
   "metadata": {},
   "outputs": [
    {
     "data": {
      "text/plain": [
       "Review ID             int64\n",
       "Review Date          object\n",
       "Review Content       object\n",
       "Listing Title        object\n",
       "Neighbourhood        object\n",
       "City                 object\n",
       "State                object\n",
       "Country              object\n",
       "Room Type            object\n",
       "Room Price            int64\n",
       "Room Availability     int64\n",
       "dtype: object"
      ]
     },
     "execution_count": 207,
     "metadata": {},
     "output_type": "execute_result"
    }
   ],
   "source": [
    "review.dtypes"
   ]
  },
  {
   "cell_type": "code",
   "execution_count": 208,
   "id": "59a7d846-e641-49c9-b919-b40c95b7e112",
   "metadata": {},
   "outputs": [
    {
     "data": {
      "text/plain": [
       "2"
      ]
     },
     "execution_count": 208,
     "metadata": {},
     "output_type": "execute_result"
    }
   ],
   "source": [
    "review.ndim"
   ]
  },
  {
   "cell_type": "code",
   "execution_count": 209,
   "id": "6af3f91a-31fa-4c39-ab40-20b4c053719c",
   "metadata": {},
   "outputs": [
    {
     "data": {
      "text/plain": [
       "Index(['Review ID', 'Review Date', 'Review Content', 'Listing Title',\n",
       "       'Neighbourhood', 'City', 'State', 'Country', 'Room Type', 'Room Price',\n",
       "       'Room Availability'],\n",
       "      dtype='object')"
      ]
     },
     "execution_count": 209,
     "metadata": {},
     "output_type": "execute_result"
    }
   ],
   "source": [
    "review.columns"
   ]
  },
  {
   "cell_type": "code",
   "execution_count": 211,
   "id": "cf76c547-bf9a-45e5-9c48-c33a06557d23",
   "metadata": {},
   "outputs": [
    {
     "data": {
      "text/plain": [
       "Index                 128\n",
       "Review ID            8000\n",
       "Review Date          8000\n",
       "Review Content       8000\n",
       "Listing Title        8000\n",
       "Neighbourhood        8000\n",
       "City                 8000\n",
       "State                8000\n",
       "Country              8000\n",
       "Room Type            8000\n",
       "Room Price           8000\n",
       "Room Availability    8000\n",
       "dtype: int64"
      ]
     },
     "execution_count": 211,
     "metadata": {},
     "output_type": "execute_result"
    }
   ],
   "source": [
    "review.memory_usage()"
   ]
  },
  {
   "cell_type": "code",
   "execution_count": 212,
   "id": "ed0ca68a-5a40-4b31-8f6c-7b59a29e2013",
   "metadata": {},
   "outputs": [
    {
     "data": {
      "text/html": [
       "<div>\n",
       "<style scoped>\n",
       "    .dataframe tbody tr th:only-of-type {\n",
       "        vertical-align: middle;\n",
       "    }\n",
       "\n",
       "    .dataframe tbody tr th {\n",
       "        vertical-align: top;\n",
       "    }\n",
       "\n",
       "    .dataframe thead th {\n",
       "        text-align: right;\n",
       "    }\n",
       "</style>\n",
       "<table border=\"1\" class=\"dataframe\">\n",
       "  <thead>\n",
       "    <tr style=\"text-align: right;\">\n",
       "      <th></th>\n",
       "      <th>Review ID</th>\n",
       "      <th>Room Price</th>\n",
       "      <th>Room Availability</th>\n",
       "    </tr>\n",
       "  </thead>\n",
       "  <tbody>\n",
       "    <tr>\n",
       "      <th>count</th>\n",
       "      <td>1.000000e+03</td>\n",
       "      <td>1000.000000</td>\n",
       "      <td>1000.000000</td>\n",
       "    </tr>\n",
       "    <tr>\n",
       "      <th>mean</th>\n",
       "      <td>2.375850e+07</td>\n",
       "      <td>118.048000</td>\n",
       "      <td>253.651000</td>\n",
       "    </tr>\n",
       "    <tr>\n",
       "      <th>std</th>\n",
       "      <td>1.320179e+07</td>\n",
       "      <td>101.410975</td>\n",
       "      <td>109.209404</td>\n",
       "    </tr>\n",
       "    <tr>\n",
       "      <th>min</th>\n",
       "      <td>4.175600e+04</td>\n",
       "      <td>16.000000</td>\n",
       "      <td>0.000000</td>\n",
       "    </tr>\n",
       "    <tr>\n",
       "      <th>25%</th>\n",
       "      <td>1.212871e+07</td>\n",
       "      <td>60.000000</td>\n",
       "      <td>193.750000</td>\n",
       "    </tr>\n",
       "    <tr>\n",
       "      <th>50%</th>\n",
       "      <td>2.439248e+07</td>\n",
       "      <td>95.000000</td>\n",
       "      <td>300.000000</td>\n",
       "    </tr>\n",
       "    <tr>\n",
       "      <th>75%</th>\n",
       "      <td>3.456738e+07</td>\n",
       "      <td>140.000000</td>\n",
       "      <td>335.000000</td>\n",
       "    </tr>\n",
       "    <tr>\n",
       "      <th>max</th>\n",
       "      <td>5.310338e+07</td>\n",
       "      <td>1500.000000</td>\n",
       "      <td>365.000000</td>\n",
       "    </tr>\n",
       "  </tbody>\n",
       "</table>\n",
       "</div>"
      ],
      "text/plain": [
       "          Review ID   Room Price  Room Availability\n",
       "count  1.000000e+03  1000.000000        1000.000000\n",
       "mean   2.375850e+07   118.048000         253.651000\n",
       "std    1.320179e+07   101.410975         109.209404\n",
       "min    4.175600e+04    16.000000           0.000000\n",
       "25%    1.212871e+07    60.000000         193.750000\n",
       "50%    2.439248e+07    95.000000         300.000000\n",
       "75%    3.456738e+07   140.000000         335.000000\n",
       "max    5.310338e+07  1500.000000         365.000000"
      ]
     },
     "execution_count": 212,
     "metadata": {},
     "output_type": "execute_result"
    }
   ],
   "source": [
    "review.describe()"
   ]
  },
  {
   "cell_type": "code",
   "execution_count": 213,
   "id": "39d177ec-9321-4021-a9b1-853480e5daaa",
   "metadata": {},
   "outputs": [
    {
     "data": {
      "text/plain": [
       "118048"
      ]
     },
     "execution_count": 213,
     "metadata": {},
     "output_type": "execute_result"
    }
   ],
   "source": [
    "review['Room Price'].sum()"
   ]
  },
  {
   "cell_type": "code",
   "execution_count": 214,
   "id": "a31842ed-042a-4657-83f7-b057a40c1788",
   "metadata": {},
   "outputs": [
    {
     "name": "stderr",
     "output_type": "stream",
     "text": [
      "C:\\Users\\Mustafa\\AppData\\Local\\Temp\\ipykernel_31588\\3697626260.py:1: FutureWarning: Dropping of nuisance columns in DataFrame reductions (with 'numeric_only=None') is deprecated; in a future version this will raise TypeError.  Select only valid columns before calling the reduction.\n",
      "  review.sum()\n"
     ]
    },
    {
     "data": {
      "text/plain": [
       "Review ID                                                  23758497050\n",
       "Review Date          2012-10-062013-11-032014-11-272012-05-082013-0...\n",
       "Listing Title        Nottinghill Portobello  Artist FlatQuiet Pink ...\n",
       "Neighbourhood        Kensington and ChelseaDe Pijp - RivierenbuurtH...\n",
       "City                 LondonAmsterdamNew York CityMadridAthensPortla...\n",
       "State                EnglandNorth HollandNew YorkComunidad de Madri...\n",
       "Country              United KingdomThe NetherlandsUnited StatesSpai...\n",
       "Room Type            Entire home/aptPrivate roomPrivate roomEntire ...\n",
       "Room Price                                                      118048\n",
       "Room Availability                                               253651\n",
       "dtype: object"
      ]
     },
     "execution_count": 214,
     "metadata": {},
     "output_type": "execute_result"
    }
   ],
   "source": [
    "review.sum()"
   ]
  },
  {
   "cell_type": "code",
   "execution_count": 215,
   "id": "7fe1341b-e077-4f46-ad3f-146d318163ae",
   "metadata": {},
   "outputs": [
    {
     "data": {
      "text/plain": [
       "0      338\n",
       "1       10\n",
       "2      268\n",
       "3      274\n",
       "4      281\n",
       "      ... \n",
       "995    329\n",
       "996    309\n",
       "997     10\n",
       "998    357\n",
       "999    329\n",
       "Name: Room Availability, Length: 1000, dtype: int64"
      ]
     },
     "execution_count": 215,
     "metadata": {},
     "output_type": "execute_result"
    }
   ],
   "source": [
    "review[\"Room Availability\"]"
   ]
  },
  {
   "cell_type": "code",
   "execution_count": 220,
   "id": "5d3799f4-4611-4571-a15c-81dfa0fb286d",
   "metadata": {},
   "outputs": [
    {
     "data": {
      "text/plain": [
       "0      348\n",
       "1       20\n",
       "2      278\n",
       "3      284\n",
       "4      291\n",
       "      ... \n",
       "995    339\n",
       "996    319\n",
       "997     20\n",
       "998    367\n",
       "999    339\n",
       "Name: Room Availability, Length: 1000, dtype: int64"
      ]
     },
     "execution_count": 220,
     "metadata": {},
     "output_type": "execute_result"
    }
   ],
   "source": [
    "review[\"Room Availability\"].add(10) ## It will increase each data value +10"
   ]
  },
  {
   "cell_type": "code",
   "execution_count": 221,
   "id": "542ec043-7b82-48db-b0f7-7d75069c007e",
   "metadata": {},
   "outputs": [
    {
     "data": {
      "text/plain": [
       "0      348\n",
       "1       20\n",
       "2      278\n",
       "3      284\n",
       "4      291\n",
       "      ... \n",
       "995    339\n",
       "996    319\n",
       "997     20\n",
       "998    367\n",
       "999    339\n",
       "Name: Room Availability, Length: 1000, dtype: int64"
      ]
     },
     "execution_count": 221,
     "metadata": {},
     "output_type": "execute_result"
    }
   ],
   "source": [
    "review[\"Room Availability\"] + 10 # We can calculate series value with integer nums.  "
   ]
  },
  {
   "cell_type": "code",
   "execution_count": 223,
   "id": "82a32091-01c6-4b9f-a293-3bc34892a254",
   "metadata": {},
   "outputs": [
    {
     "data": {
      "text/plain": [
       "New York City    135\n",
       "London           104\n",
       "Paris            101\n",
       "Los Angeles       68\n",
       "Barcelona         61\n",
       "San Francisco     59\n",
       "Berlin            56\n",
       "Amsterdam         45\n",
       "Sydney            33\n",
       "Madrid            28\n",
       "Portland          28\n",
       "Montreal          27\n",
       "Brussels          23\n",
       "Toronto           23\n",
       "Seattle           23\n",
       "New Orleans       22\n",
       "Austin            22\n",
       "Chicago           21\n",
       "Venice            21\n",
       "Boston            21\n",
       "Washington        18\n",
       "Vienna            14\n",
       "Melbourne         14\n",
       "Nashville         13\n",
       "Athens            10\n",
       "Antwerp            5\n",
       "Oakland            5\n",
       "Name: City, dtype: int64"
      ]
     },
     "execution_count": 223,
     "metadata": {},
     "output_type": "execute_result"
    }
   ],
   "source": [
    "review[\"City\"].value_counts() "
   ]
  },
  {
   "cell_type": "code",
   "execution_count": 226,
   "id": "cd622b0a-3565-4bb1-a58a-dd2438d349f9",
   "metadata": {},
   "outputs": [
    {
     "data": {
      "text/plain": [
       "Entire home/apt    648\n",
       "Private room       340\n",
       "Shared room         12\n",
       "Name: Room Type, dtype: int64"
      ]
     },
     "execution_count": 226,
     "metadata": {},
     "output_type": "execute_result"
    }
   ],
   "source": [
    "review['Room Type'].value_counts()"
   ]
  },
  {
   "cell_type": "code",
   "execution_count": 230,
   "id": "bc57d96f-ad1e-4310-8458-03a5f6859a24",
   "metadata": {},
   "outputs": [
    {
     "data": {
      "text/plain": [
       "80     32\n",
       "120    31\n",
       "75     27\n",
       "95     27\n",
       "55     26\n",
       "Name: Room Price, dtype: int64"
      ]
     },
     "execution_count": 230,
     "metadata": {},
     "output_type": "execute_result"
    }
   ],
   "source": [
    "review[\"Room Price\"].value_counts().head()"
   ]
  },
  {
   "cell_type": "code",
   "execution_count": 233,
   "id": "f5158457-e68b-42d7-998a-aeb445baff82",
   "metadata": {},
   "outputs": [
    {
     "data": {
      "text/plain": [
       "799    1500\n",
       "489     800\n",
       "518     775\n",
       "613     725\n",
       "555     650\n",
       "       ... \n",
       "576      22\n",
       "452      19\n",
       "306      19\n",
       "718      16\n",
       "740      16\n",
       "Name: Room Price, Length: 1000, dtype: int64"
      ]
     },
     "execution_count": 233,
     "metadata": {},
     "output_type": "execute_result"
    }
   ],
   "source": [
    "review[\"Room Price\"].sort_values(ascending= False) ## Ordered by room price"
   ]
  },
  {
   "cell_type": "code",
   "execution_count": 234,
   "id": "efd52110-dfa6-42ca-b806-60c11e03b978",
   "metadata": {},
   "outputs": [
    {
     "data": {
      "text/plain": [
       "409     Amsterdam\n",
       "912     Amsterdam\n",
       "770     Amsterdam\n",
       "168     Amsterdam\n",
       "782     Amsterdam\n",
       "          ...    \n",
       "839    Washington\n",
       "139    Washington\n",
       "128    Washington\n",
       "589    Washington\n",
       "437    Washington\n",
       "Name: City, Length: 1000, dtype: object"
      ]
     },
     "execution_count": 234,
     "metadata": {},
     "output_type": "execute_result"
    }
   ],
   "source": [
    "review[\"City\"].sort_values()"
   ]
  },
  {
   "cell_type": "code",
   "execution_count": 235,
   "id": "966532be-4001-40d4-9e74-f92d1cf63b22",
   "metadata": {},
   "outputs": [
    {
     "data": {
      "text/plain": [
       "235    Washington\n",
       "450    Washington\n",
       "139    Washington\n",
       "921    Washington\n",
       "697    Washington\n",
       "          ...    \n",
       "970     Amsterdam\n",
       "58      Amsterdam\n",
       "831     Amsterdam\n",
       "530     Amsterdam\n",
       "722     Amsterdam\n",
       "Name: City, Length: 1000, dtype: object"
      ]
     },
     "execution_count": 235,
     "metadata": {},
     "output_type": "execute_result"
    }
   ],
   "source": [
    "review[\"City\"].sort_values(ascending=False)"
   ]
  },
  {
   "cell_type": "code",
   "execution_count": 237,
   "id": "e1cd09fd-634b-4194-9f4a-4a27cac3f439",
   "metadata": {},
   "outputs": [
    {
     "data": {
      "text/html": [
       "<div>\n",
       "<style scoped>\n",
       "    .dataframe tbody tr th:only-of-type {\n",
       "        vertical-align: middle;\n",
       "    }\n",
       "\n",
       "    .dataframe tbody tr th {\n",
       "        vertical-align: top;\n",
       "    }\n",
       "\n",
       "    .dataframe thead th {\n",
       "        text-align: right;\n",
       "    }\n",
       "</style>\n",
       "<table border=\"1\" class=\"dataframe\">\n",
       "  <thead>\n",
       "    <tr style=\"text-align: right;\">\n",
       "      <th></th>\n",
       "      <th>Review ID</th>\n",
       "      <th>Review Date</th>\n",
       "      <th>Review Content</th>\n",
       "      <th>Listing Title</th>\n",
       "      <th>Neighbourhood</th>\n",
       "      <th>City</th>\n",
       "      <th>State</th>\n",
       "      <th>Country</th>\n",
       "      <th>Room Type</th>\n",
       "      <th>Room Price</th>\n",
       "      <th>Room Availability</th>\n",
       "    </tr>\n",
       "  </thead>\n",
       "  <tbody>\n",
       "    <tr>\n",
       "      <th>799</th>\n",
       "      <td>5239947</td>\n",
       "      <td>2013-01-15</td>\n",
       "      <td>The only issue that we had was that the elevat...</td>\n",
       "      <td>Amazing hillside 4 bdrm 4k  sq ft</td>\n",
       "      <td>Monterey Park</td>\n",
       "      <td>Los Angeles</td>\n",
       "      <td>California</td>\n",
       "      <td>United States</td>\n",
       "      <td>Entire home/apt</td>\n",
       "      <td>1500</td>\n",
       "      <td>365</td>\n",
       "    </tr>\n",
       "    <tr>\n",
       "      <th>489</th>\n",
       "      <td>25836446</td>\n",
       "      <td>2012-03-05</td>\n",
       "      <td>The reservation was canceled 79 days before ar...</td>\n",
       "      <td>Mansion In The Sky-Duplex Penthouse</td>\n",
       "      <td>Loop</td>\n",
       "      <td>Chicago</td>\n",
       "      <td>Illinois</td>\n",
       "      <td>United States</td>\n",
       "      <td>Entire home/apt</td>\n",
       "      <td>800</td>\n",
       "      <td>359</td>\n",
       "    </tr>\n",
       "    <tr>\n",
       "      <th>518</th>\n",
       "      <td>29952932</td>\n",
       "      <td>2013-06-15</td>\n",
       "      <td>Very beautiful apartment in a great location.</td>\n",
       "      <td>Stunning Townhouse - West Village</td>\n",
       "      <td>West Village</td>\n",
       "      <td>New York City</td>\n",
       "      <td>New York</td>\n",
       "      <td>United States</td>\n",
       "      <td>Entire home/apt</td>\n",
       "      <td>775</td>\n",
       "      <td>316</td>\n",
       "    </tr>\n",
       "    <tr>\n",
       "      <th>613</th>\n",
       "      <td>41553198</td>\n",
       "      <td>2014-12-10</td>\n",
       "      <td>Brian and his team were great! We had a group ...</td>\n",
       "      <td>Chic Massive 4 Bed Room Duplex!</td>\n",
       "      <td>Lower East Side</td>\n",
       "      <td>New York City</td>\n",
       "      <td>New York</td>\n",
       "      <td>United States</td>\n",
       "      <td>Entire home/apt</td>\n",
       "      <td>725</td>\n",
       "      <td>316</td>\n",
       "    </tr>\n",
       "    <tr>\n",
       "      <th>555</th>\n",
       "      <td>8381199</td>\n",
       "      <td>2014-10-25</td>\n",
       "      <td>This was my first Airbnb experience.  We were ...</td>\n",
       "      <td>SPACIOUS &amp; LUXURIOUS 2-LEVEL CONDO</td>\n",
       "      <td>Haight Ashbury</td>\n",
       "      <td>San Francisco</td>\n",
       "      <td>California</td>\n",
       "      <td>United States</td>\n",
       "      <td>Entire home/apt</td>\n",
       "      <td>650</td>\n",
       "      <td>327</td>\n",
       "    </tr>\n",
       "    <tr>\n",
       "      <th>...</th>\n",
       "      <td>...</td>\n",
       "      <td>...</td>\n",
       "      <td>...</td>\n",
       "      <td>...</td>\n",
       "      <td>...</td>\n",
       "      <td>...</td>\n",
       "      <td>...</td>\n",
       "      <td>...</td>\n",
       "      <td>...</td>\n",
       "      <td>...</td>\n",
       "      <td>...</td>\n",
       "    </tr>\n",
       "    <tr>\n",
       "      <th>576</th>\n",
       "      <td>7795982</td>\n",
       "      <td>2013-05-10</td>\n",
       "      <td>We had a great time in Berlin! Jamie is a very...</td>\n",
       "      <td>Charming 20m² room Prenzlauer Berg</td>\n",
       "      <td>Prenzlauer Berg Nord</td>\n",
       "      <td>Berlin</td>\n",
       "      <td>Berlin</td>\n",
       "      <td>Germany</td>\n",
       "      <td>Private room</td>\n",
       "      <td>22</td>\n",
       "      <td>344</td>\n",
       "    </tr>\n",
       "    <tr>\n",
       "      <th>452</th>\n",
       "      <td>11937812</td>\n",
       "      <td>2012-05-28</td>\n",
       "      <td>I just had a wonderfull time in there: good co...</td>\n",
       "      <td>Camp Nou, Sants Staciò &amp; University</td>\n",
       "      <td>la Maternitat i Sant Ramon</td>\n",
       "      <td>Barcelona</td>\n",
       "      <td>Catalonia</td>\n",
       "      <td>Spain</td>\n",
       "      <td>Private room</td>\n",
       "      <td>19</td>\n",
       "      <td>333</td>\n",
       "    </tr>\n",
       "    <tr>\n",
       "      <th>306</th>\n",
       "      <td>44838729</td>\n",
       "      <td>2012-06-03</td>\n",
       "      <td>It was easy to find and the room was clean. Ve...</td>\n",
       "      <td>COSY ROOM-center-5 mn RAMBLAS</td>\n",
       "      <td>el Poble Sec</td>\n",
       "      <td>Barcelona</td>\n",
       "      <td>Catalonia</td>\n",
       "      <td>Spain</td>\n",
       "      <td>Private room</td>\n",
       "      <td>19</td>\n",
       "      <td>336</td>\n",
       "    </tr>\n",
       "    <tr>\n",
       "      <th>718</th>\n",
       "      <td>47355526</td>\n",
       "      <td>2012-08-05</td>\n",
       "      <td>Manuel was very sweet and helpful! Very nice a...</td>\n",
       "      <td>Bernabéu, Twin Bedroom, Breakfast</td>\n",
       "      <td>Berruguete</td>\n",
       "      <td>Madrid</td>\n",
       "      <td>Comunidad de Madrid</td>\n",
       "      <td>Spain</td>\n",
       "      <td>Private room</td>\n",
       "      <td>16</td>\n",
       "      <td>112</td>\n",
       "    </tr>\n",
       "    <tr>\n",
       "      <th>740</th>\n",
       "      <td>37117583</td>\n",
       "      <td>2012-04-20</td>\n",
       "      <td>Alex is a very considerate airbnb host. He mad...</td>\n",
       "      <td>Good Vibes in the heart of BXL !</td>\n",
       "      <td>Ixelles</td>\n",
       "      <td>Brussels</td>\n",
       "      <td>Brussels</td>\n",
       "      <td>Belgium</td>\n",
       "      <td>Shared room</td>\n",
       "      <td>16</td>\n",
       "      <td>326</td>\n",
       "    </tr>\n",
       "  </tbody>\n",
       "</table>\n",
       "<p>1000 rows × 11 columns</p>\n",
       "</div>"
      ],
      "text/plain": [
       "     Review ID Review Date                                     Review Content  \\\n",
       "799    5239947  2013-01-15  The only issue that we had was that the elevat...   \n",
       "489   25836446  2012-03-05  The reservation was canceled 79 days before ar...   \n",
       "518   29952932  2013-06-15      Very beautiful apartment in a great location.   \n",
       "613   41553198  2014-12-10  Brian and his team were great! We had a group ...   \n",
       "555    8381199  2014-10-25  This was my first Airbnb experience.  We were ...   \n",
       "..         ...         ...                                                ...   \n",
       "576    7795982  2013-05-10  We had a great time in Berlin! Jamie is a very...   \n",
       "452   11937812  2012-05-28  I just had a wonderfull time in there: good co...   \n",
       "306   44838729  2012-06-03  It was easy to find and the room was clean. Ve...   \n",
       "718   47355526  2012-08-05  Manuel was very sweet and helpful! Very nice a...   \n",
       "740   37117583  2012-04-20  Alex is a very considerate airbnb host. He mad...   \n",
       "\n",
       "                           Listing Title               Neighbourhood  \\\n",
       "799    Amazing hillside 4 bdrm 4k  sq ft               Monterey Park   \n",
       "489  Mansion In The Sky-Duplex Penthouse                        Loop   \n",
       "518    Stunning Townhouse - West Village                West Village   \n",
       "613      Chic Massive 4 Bed Room Duplex!             Lower East Side   \n",
       "555   SPACIOUS & LUXURIOUS 2-LEVEL CONDO              Haight Ashbury   \n",
       "..                                   ...                         ...   \n",
       "576   Charming 20m² room Prenzlauer Berg        Prenzlauer Berg Nord   \n",
       "452  Camp Nou, Sants Staciò & University  la Maternitat i Sant Ramon   \n",
       "306        COSY ROOM-center-5 mn RAMBLAS                el Poble Sec   \n",
       "718    Bernabéu, Twin Bedroom, Breakfast                  Berruguete   \n",
       "740     Good Vibes in the heart of BXL !                     Ixelles   \n",
       "\n",
       "              City                State        Country        Room Type  \\\n",
       "799    Los Angeles           California  United States  Entire home/apt   \n",
       "489        Chicago             Illinois  United States  Entire home/apt   \n",
       "518  New York City             New York  United States  Entire home/apt   \n",
       "613  New York City             New York  United States  Entire home/apt   \n",
       "555  San Francisco           California  United States  Entire home/apt   \n",
       "..             ...                  ...            ...              ...   \n",
       "576         Berlin               Berlin        Germany     Private room   \n",
       "452      Barcelona            Catalonia          Spain     Private room   \n",
       "306      Barcelona            Catalonia          Spain     Private room   \n",
       "718         Madrid  Comunidad de Madrid          Spain     Private room   \n",
       "740       Brussels             Brussels        Belgium      Shared room   \n",
       "\n",
       "     Room Price  Room Availability  \n",
       "799        1500                365  \n",
       "489         800                359  \n",
       "518         775                316  \n",
       "613         725                316  \n",
       "555         650                327  \n",
       "..          ...                ...  \n",
       "576          22                344  \n",
       "452          19                333  \n",
       "306          19                336  \n",
       "718          16                112  \n",
       "740          16                326  \n",
       "\n",
       "[1000 rows x 11 columns]"
      ]
     },
     "execution_count": 237,
     "metadata": {},
     "output_type": "execute_result"
    }
   ],
   "source": [
    "review.sort_values('Room Price', ascending= False)"
   ]
  },
  {
   "cell_type": "code",
   "execution_count": 238,
   "id": "1a29c739-07ff-4dd9-a1df-181f19c40f75",
   "metadata": {},
   "outputs": [
    {
     "data": {
      "text/html": [
       "<div>\n",
       "<style scoped>\n",
       "    .dataframe tbody tr th:only-of-type {\n",
       "        vertical-align: middle;\n",
       "    }\n",
       "\n",
       "    .dataframe tbody tr th {\n",
       "        vertical-align: top;\n",
       "    }\n",
       "\n",
       "    .dataframe thead th {\n",
       "        text-align: right;\n",
       "    }\n",
       "</style>\n",
       "<table border=\"1\" class=\"dataframe\">\n",
       "  <thead>\n",
       "    <tr style=\"text-align: right;\">\n",
       "      <th></th>\n",
       "      <th>Review ID</th>\n",
       "      <th>Review Date</th>\n",
       "      <th>Review Content</th>\n",
       "      <th>Listing Title</th>\n",
       "      <th>Neighbourhood</th>\n",
       "      <th>City</th>\n",
       "      <th>State</th>\n",
       "      <th>Country</th>\n",
       "      <th>Room Type</th>\n",
       "      <th>Room Price</th>\n",
       "      <th>Room Availability</th>\n",
       "    </tr>\n",
       "  </thead>\n",
       "  <tbody>\n",
       "    <tr>\n",
       "      <th>0</th>\n",
       "      <td>4055629</td>\n",
       "      <td>2012-10-06</td>\n",
       "      <td>Very nice accommodation in an aesthetically pl...</td>\n",
       "      <td>Nottinghill Portobello  Artist Flat</td>\n",
       "      <td>Kensington and Chelsea</td>\n",
       "      <td>London</td>\n",
       "      <td>England</td>\n",
       "      <td>United Kingdom</td>\n",
       "      <td>Entire home/apt</td>\n",
       "      <td>100</td>\n",
       "      <td>338</td>\n",
       "    </tr>\n",
       "    <tr>\n",
       "      <th>1</th>\n",
       "      <td>25329416</td>\n",
       "      <td>2013-11-03</td>\n",
       "      <td>Me and my friends had such a nice time at Dott...</td>\n",
       "      <td>Quiet Pink Studio in the PIJP area</td>\n",
       "      <td>De Pijp - Rivierenbuurt</td>\n",
       "      <td>Amsterdam</td>\n",
       "      <td>North Holland</td>\n",
       "      <td>The Netherlands</td>\n",
       "      <td>Private room</td>\n",
       "      <td>80</td>\n",
       "      <td>10</td>\n",
       "    </tr>\n",
       "    <tr>\n",
       "      <th>2</th>\n",
       "      <td>21705849</td>\n",
       "      <td>2014-11-27</td>\n",
       "      <td>I stayed for 4night.She gave us a lot of snuck...</td>\n",
       "      <td>PRIVATE Room in Spacious, Quiet Apt</td>\n",
       "      <td>Harlem</td>\n",
       "      <td>New York City</td>\n",
       "      <td>New York</td>\n",
       "      <td>United States</td>\n",
       "      <td>Private room</td>\n",
       "      <td>57</td>\n",
       "      <td>268</td>\n",
       "    </tr>\n",
       "    <tr>\n",
       "      <th>3</th>\n",
       "      <td>41133812</td>\n",
       "      <td>2012-05-08</td>\n",
       "      <td>The apartment was situated on the first floor ...</td>\n",
       "      <td>Bonito estudio en pleno centro</td>\n",
       "      <td>Universidad</td>\n",
       "      <td>Madrid</td>\n",
       "      <td>Comunidad de Madrid</td>\n",
       "      <td>Spain</td>\n",
       "      <td>Entire home/apt</td>\n",
       "      <td>38</td>\n",
       "      <td>274</td>\n",
       "    </tr>\n",
       "    <tr>\n",
       "      <th>4</th>\n",
       "      <td>7465026</td>\n",
       "      <td>2013-08-16</td>\n",
       "      <td>Even though it was only for one night, we had ...</td>\n",
       "      <td>Acropolis Apartment brand new</td>\n",
       "      <td>ΑΚΡΟΠΟΛΗ</td>\n",
       "      <td>Athens</td>\n",
       "      <td>Attica</td>\n",
       "      <td>Greece</td>\n",
       "      <td>Entire home/apt</td>\n",
       "      <td>62</td>\n",
       "      <td>281</td>\n",
       "    </tr>\n",
       "    <tr>\n",
       "      <th>...</th>\n",
       "      <td>...</td>\n",
       "      <td>...</td>\n",
       "      <td>...</td>\n",
       "      <td>...</td>\n",
       "      <td>...</td>\n",
       "      <td>...</td>\n",
       "      <td>...</td>\n",
       "      <td>...</td>\n",
       "      <td>...</td>\n",
       "      <td>...</td>\n",
       "      <td>...</td>\n",
       "    </tr>\n",
       "    <tr>\n",
       "      <th>995</th>\n",
       "      <td>44498863</td>\n",
       "      <td>2012-08-30</td>\n",
       "      <td>I loved staying here during my time in Paris. ...</td>\n",
       "      <td>A typical parisian flat</td>\n",
       "      <td>Buttes-Montmartre</td>\n",
       "      <td>Paris</td>\n",
       "      <td>Île-de-France</td>\n",
       "      <td>France</td>\n",
       "      <td>Private room</td>\n",
       "      <td>35</td>\n",
       "      <td>329</td>\n",
       "    </tr>\n",
       "    <tr>\n",
       "      <th>996</th>\n",
       "      <td>30544438</td>\n",
       "      <td>2013-02-28</td>\n",
       "      <td>Highly recommend this as a place to stay if yo...</td>\n",
       "      <td>The Venice Roost on Abbot Kinney</td>\n",
       "      <td>Venice</td>\n",
       "      <td>Los Angeles</td>\n",
       "      <td>California</td>\n",
       "      <td>United States</td>\n",
       "      <td>Entire home/apt</td>\n",
       "      <td>191</td>\n",
       "      <td>309</td>\n",
       "    </tr>\n",
       "    <tr>\n",
       "      <th>997</th>\n",
       "      <td>46642535</td>\n",
       "      <td>2014-08-30</td>\n",
       "      <td>John was a great host.  I came in on a red eye...</td>\n",
       "      <td>Top Floor Renovated 1 BR / 1BA</td>\n",
       "      <td>West Roxbury</td>\n",
       "      <td>Boston</td>\n",
       "      <td>Massachusetts</td>\n",
       "      <td>United States</td>\n",
       "      <td>Entire home/apt</td>\n",
       "      <td>95</td>\n",
       "      <td>10</td>\n",
       "    </tr>\n",
       "    <tr>\n",
       "      <th>998</th>\n",
       "      <td>21403195</td>\n",
       "      <td>2014-12-26</td>\n",
       "      <td>Very good experiance had a comfortable stay. V...</td>\n",
       "      <td>NR LGA/JFK &amp; City Studio W/Bathroom</td>\n",
       "      <td>Jackson Heights</td>\n",
       "      <td>New York City</td>\n",
       "      <td>New York</td>\n",
       "      <td>United States</td>\n",
       "      <td>Private room</td>\n",
       "      <td>75</td>\n",
       "      <td>357</td>\n",
       "    </tr>\n",
       "    <tr>\n",
       "      <th>999</th>\n",
       "      <td>38944752</td>\n",
       "      <td>2013-10-15</td>\n",
       "      <td>Thank you for the wonderful stay!   It was a c...</td>\n",
       "      <td>15 Minutes from Manhattan</td>\n",
       "      <td>Woodside</td>\n",
       "      <td>New York City</td>\n",
       "      <td>New York</td>\n",
       "      <td>United States</td>\n",
       "      <td>Private room</td>\n",
       "      <td>110</td>\n",
       "      <td>329</td>\n",
       "    </tr>\n",
       "  </tbody>\n",
       "</table>\n",
       "<p>1000 rows × 11 columns</p>\n",
       "</div>"
      ],
      "text/plain": [
       "     Review ID Review Date                                     Review Content  \\\n",
       "0      4055629  2012-10-06  Very nice accommodation in an aesthetically pl...   \n",
       "1     25329416  2013-11-03  Me and my friends had such a nice time at Dott...   \n",
       "2     21705849  2014-11-27  I stayed for 4night.She gave us a lot of snuck...   \n",
       "3     41133812  2012-05-08  The apartment was situated on the first floor ...   \n",
       "4      7465026  2013-08-16  Even though it was only for one night, we had ...   \n",
       "..         ...         ...                                                ...   \n",
       "995   44498863  2012-08-30  I loved staying here during my time in Paris. ...   \n",
       "996   30544438  2013-02-28  Highly recommend this as a place to stay if yo...   \n",
       "997   46642535  2014-08-30  John was a great host.  I came in on a red eye...   \n",
       "998   21403195  2014-12-26  Very good experiance had a comfortable stay. V...   \n",
       "999   38944752  2013-10-15  Thank you for the wonderful stay!   It was a c...   \n",
       "\n",
       "                           Listing Title            Neighbourhood  \\\n",
       "0    Nottinghill Portobello  Artist Flat   Kensington and Chelsea   \n",
       "1     Quiet Pink Studio in the PIJP area  De Pijp - Rivierenbuurt   \n",
       "2    PRIVATE Room in Spacious, Quiet Apt                   Harlem   \n",
       "3         Bonito estudio en pleno centro              Universidad   \n",
       "4          Acropolis Apartment brand new                 ΑΚΡΟΠΟΛΗ   \n",
       "..                                   ...                      ...   \n",
       "995              A typical parisian flat        Buttes-Montmartre   \n",
       "996     The Venice Roost on Abbot Kinney                   Venice   \n",
       "997      Top Floor Renovated 1 BR / 1BA              West Roxbury   \n",
       "998  NR LGA/JFK & City Studio W/Bathroom          Jackson Heights   \n",
       "999            15 Minutes from Manhattan                 Woodside   \n",
       "\n",
       "              City                State          Country        Room Type  \\\n",
       "0           London              England   United Kingdom  Entire home/apt   \n",
       "1        Amsterdam        North Holland  The Netherlands     Private room   \n",
       "2    New York City             New York    United States     Private room   \n",
       "3           Madrid  Comunidad de Madrid            Spain  Entire home/apt   \n",
       "4           Athens               Attica           Greece  Entire home/apt   \n",
       "..             ...                  ...              ...              ...   \n",
       "995          Paris        Île-de-France           France     Private room   \n",
       "996    Los Angeles           California    United States  Entire home/apt   \n",
       "997         Boston        Massachusetts    United States  Entire home/apt   \n",
       "998  New York City             New York    United States     Private room   \n",
       "999  New York City             New York    United States     Private room   \n",
       "\n",
       "     Room Price  Room Availability  \n",
       "0           100                338  \n",
       "1            80                 10  \n",
       "2            57                268  \n",
       "3            38                274  \n",
       "4            62                281  \n",
       "..          ...                ...  \n",
       "995          35                329  \n",
       "996         191                309  \n",
       "997          95                 10  \n",
       "998          75                357  \n",
       "999         110                329  \n",
       "\n",
       "[1000 rows x 11 columns]"
      ]
     },
     "execution_count": 238,
     "metadata": {},
     "output_type": "execute_result"
    }
   ],
   "source": [
    "review"
   ]
  },
  {
   "cell_type": "code",
   "execution_count": 239,
   "id": "a7dca703-15bb-4cb8-8695-a220a3b88641",
   "metadata": {},
   "outputs": [
    {
     "data": {
      "text/plain": [
       "0             London\n",
       "1          Amsterdam\n",
       "2      New York City\n",
       "3             Madrid\n",
       "4             Athens\n",
       "           ...      \n",
       "995            Paris\n",
       "996      Los Angeles\n",
       "997           Boston\n",
       "998    New York City\n",
       "999    New York City\n",
       "Name: City, Length: 1000, dtype: object"
      ]
     },
     "execution_count": 239,
     "metadata": {},
     "output_type": "execute_result"
    }
   ],
   "source": [
    "review[\"City\"]"
   ]
  },
  {
   "cell_type": "code",
   "execution_count": 308,
   "id": "2dbc11e8-fdd1-4233-8467-059a26d33d21",
   "metadata": {},
   "outputs": [],
   "source": [
    "##mask = review[\"City\"]== 'London' "
   ]
  },
  {
   "cell_type": "code",
   "execution_count": 309,
   "id": "cd26a92b-68f1-494f-8d12-b3836cfc268f",
   "metadata": {},
   "outputs": [],
   "source": [
    "##review[mask]"
   ]
  },
  {
   "cell_type": "code",
   "execution_count": 252,
   "id": "b508acf9-15d1-4857-9e76-cd09414b05b5",
   "metadata": {},
   "outputs": [
    {
     "data": {
      "text/plain": [
       "0      False\n",
       "1       True\n",
       "2       True\n",
       "3      False\n",
       "4      False\n",
       "       ...  \n",
       "995     True\n",
       "996    False\n",
       "997    False\n",
       "998     True\n",
       "999     True\n",
       "Name: Room Type, Length: 1000, dtype: bool"
      ]
     },
     "execution_count": 252,
     "metadata": {},
     "output_type": "execute_result"
    }
   ],
   "source": [
    "mask = review[\"Room Type\"] == 'Private room'\n",
    "mask"
   ]
  },
  {
   "cell_type": "code",
   "execution_count": 253,
   "id": "03b6dd0f-f7c7-407b-999d-f3f853648825",
   "metadata": {},
   "outputs": [
    {
     "data": {
      "text/html": [
       "<div>\n",
       "<style scoped>\n",
       "    .dataframe tbody tr th:only-of-type {\n",
       "        vertical-align: middle;\n",
       "    }\n",
       "\n",
       "    .dataframe tbody tr th {\n",
       "        vertical-align: top;\n",
       "    }\n",
       "\n",
       "    .dataframe thead th {\n",
       "        text-align: right;\n",
       "    }\n",
       "</style>\n",
       "<table border=\"1\" class=\"dataframe\">\n",
       "  <thead>\n",
       "    <tr style=\"text-align: right;\">\n",
       "      <th></th>\n",
       "      <th>Review ID</th>\n",
       "      <th>Review Date</th>\n",
       "      <th>Review Content</th>\n",
       "      <th>Listing Title</th>\n",
       "      <th>Neighbourhood</th>\n",
       "      <th>City</th>\n",
       "      <th>State</th>\n",
       "      <th>Country</th>\n",
       "      <th>Room Type</th>\n",
       "      <th>Room Price</th>\n",
       "      <th>Room Availability</th>\n",
       "    </tr>\n",
       "  </thead>\n",
       "  <tbody>\n",
       "    <tr>\n",
       "      <th>1</th>\n",
       "      <td>25329416</td>\n",
       "      <td>2013-11-03</td>\n",
       "      <td>Me and my friends had such a nice time at Dott...</td>\n",
       "      <td>Quiet Pink Studio in the PIJP area</td>\n",
       "      <td>De Pijp - Rivierenbuurt</td>\n",
       "      <td>London</td>\n",
       "      <td>North Holland</td>\n",
       "      <td>The Netherlands</td>\n",
       "      <td>Private room</td>\n",
       "      <td>80</td>\n",
       "      <td>10</td>\n",
       "    </tr>\n",
       "    <tr>\n",
       "      <th>2</th>\n",
       "      <td>21705849</td>\n",
       "      <td>2014-11-27</td>\n",
       "      <td>I stayed for 4night.She gave us a lot of snuck...</td>\n",
       "      <td>PRIVATE Room in Spacious, Quiet Apt</td>\n",
       "      <td>Harlem</td>\n",
       "      <td>London</td>\n",
       "      <td>New York</td>\n",
       "      <td>United States</td>\n",
       "      <td>Private room</td>\n",
       "      <td>57</td>\n",
       "      <td>268</td>\n",
       "    </tr>\n",
       "    <tr>\n",
       "      <th>5</th>\n",
       "      <td>11372151</td>\n",
       "      <td>2014-11-19</td>\n",
       "      <td>We spent four days at Shane's place. The locat...</td>\n",
       "      <td>Great Light-filled Alberta Arts Rm</td>\n",
       "      <td>King</td>\n",
       "      <td>London</td>\n",
       "      <td>Oregon</td>\n",
       "      <td>United States</td>\n",
       "      <td>Private room</td>\n",
       "      <td>55</td>\n",
       "      <td>121</td>\n",
       "    </tr>\n",
       "    <tr>\n",
       "      <th>7</th>\n",
       "      <td>10787310</td>\n",
       "      <td>2013-06-02</td>\n",
       "      <td>Carolines room is perfectly located to discove...</td>\n",
       "      <td>Private room - Central London</td>\n",
       "      <td>Westminster</td>\n",
       "      <td>London</td>\n",
       "      <td>England</td>\n",
       "      <td>United Kingdom</td>\n",
       "      <td>Private room</td>\n",
       "      <td>60</td>\n",
       "      <td>351</td>\n",
       "    </tr>\n",
       "    <tr>\n",
       "      <th>8</th>\n",
       "      <td>37085487</td>\n",
       "      <td>2014-06-27</td>\n",
       "      <td>We had a great stay in Tyler's apartment. The ...</td>\n",
       "      <td>Privacy + Free Beer</td>\n",
       "      <td>Marigny</td>\n",
       "      <td>London</td>\n",
       "      <td>Louisiana</td>\n",
       "      <td>United States</td>\n",
       "      <td>Private room</td>\n",
       "      <td>79</td>\n",
       "      <td>330</td>\n",
       "    </tr>\n",
       "    <tr>\n",
       "      <th>...</th>\n",
       "      <td>...</td>\n",
       "      <td>...</td>\n",
       "      <td>...</td>\n",
       "      <td>...</td>\n",
       "      <td>...</td>\n",
       "      <td>...</td>\n",
       "      <td>...</td>\n",
       "      <td>...</td>\n",
       "      <td>...</td>\n",
       "      <td>...</td>\n",
       "      <td>...</td>\n",
       "    </tr>\n",
       "    <tr>\n",
       "      <th>985</th>\n",
       "      <td>29498170</td>\n",
       "      <td>2013-12-17</td>\n",
       "      <td>The neighborhood was pretty central and my fri...</td>\n",
       "      <td>Great Room at the Gran Via</td>\n",
       "      <td>Palacio</td>\n",
       "      <td>London</td>\n",
       "      <td>Comunidad de Madrid</td>\n",
       "      <td>Spain</td>\n",
       "      <td>Private room</td>\n",
       "      <td>30</td>\n",
       "      <td>338</td>\n",
       "    </tr>\n",
       "    <tr>\n",
       "      <th>989</th>\n",
       "      <td>48665633</td>\n",
       "      <td>2012-11-19</td>\n",
       "      <td>Very nice place in a nice neighborhood. Not fa...</td>\n",
       "      <td>North Austin garden haven</td>\n",
       "      <td>78753</td>\n",
       "      <td>London</td>\n",
       "      <td>Texas</td>\n",
       "      <td>United States</td>\n",
       "      <td>Private room</td>\n",
       "      <td>65</td>\n",
       "      <td>364</td>\n",
       "    </tr>\n",
       "    <tr>\n",
       "      <th>995</th>\n",
       "      <td>44498863</td>\n",
       "      <td>2012-08-30</td>\n",
       "      <td>I loved staying here during my time in Paris. ...</td>\n",
       "      <td>A typical parisian flat</td>\n",
       "      <td>Buttes-Montmartre</td>\n",
       "      <td>London</td>\n",
       "      <td>Île-de-France</td>\n",
       "      <td>France</td>\n",
       "      <td>Private room</td>\n",
       "      <td>35</td>\n",
       "      <td>329</td>\n",
       "    </tr>\n",
       "    <tr>\n",
       "      <th>998</th>\n",
       "      <td>21403195</td>\n",
       "      <td>2014-12-26</td>\n",
       "      <td>Very good experiance had a comfortable stay. V...</td>\n",
       "      <td>NR LGA/JFK &amp; City Studio W/Bathroom</td>\n",
       "      <td>Jackson Heights</td>\n",
       "      <td>London</td>\n",
       "      <td>New York</td>\n",
       "      <td>United States</td>\n",
       "      <td>Private room</td>\n",
       "      <td>75</td>\n",
       "      <td>357</td>\n",
       "    </tr>\n",
       "    <tr>\n",
       "      <th>999</th>\n",
       "      <td>38944752</td>\n",
       "      <td>2013-10-15</td>\n",
       "      <td>Thank you for the wonderful stay!   It was a c...</td>\n",
       "      <td>15 Minutes from Manhattan</td>\n",
       "      <td>Woodside</td>\n",
       "      <td>London</td>\n",
       "      <td>New York</td>\n",
       "      <td>United States</td>\n",
       "      <td>Private room</td>\n",
       "      <td>110</td>\n",
       "      <td>329</td>\n",
       "    </tr>\n",
       "  </tbody>\n",
       "</table>\n",
       "<p>340 rows × 11 columns</p>\n",
       "</div>"
      ],
      "text/plain": [
       "     Review ID Review Date                                     Review Content  \\\n",
       "1     25329416  2013-11-03  Me and my friends had such a nice time at Dott...   \n",
       "2     21705849  2014-11-27  I stayed for 4night.She gave us a lot of snuck...   \n",
       "5     11372151  2014-11-19  We spent four days at Shane's place. The locat...   \n",
       "7     10787310  2013-06-02  Carolines room is perfectly located to discove...   \n",
       "8     37085487  2014-06-27  We had a great stay in Tyler's apartment. The ...   \n",
       "..         ...         ...                                                ...   \n",
       "985   29498170  2013-12-17  The neighborhood was pretty central and my fri...   \n",
       "989   48665633  2012-11-19  Very nice place in a nice neighborhood. Not fa...   \n",
       "995   44498863  2012-08-30  I loved staying here during my time in Paris. ...   \n",
       "998   21403195  2014-12-26  Very good experiance had a comfortable stay. V...   \n",
       "999   38944752  2013-10-15  Thank you for the wonderful stay!   It was a c...   \n",
       "\n",
       "                           Listing Title            Neighbourhood    City  \\\n",
       "1     Quiet Pink Studio in the PIJP area  De Pijp - Rivierenbuurt  London   \n",
       "2    PRIVATE Room in Spacious, Quiet Apt                   Harlem  London   \n",
       "5     Great Light-filled Alberta Arts Rm                     King  London   \n",
       "7          Private room - Central London              Westminster  London   \n",
       "8                    Privacy + Free Beer                  Marigny  London   \n",
       "..                                   ...                      ...     ...   \n",
       "985           Great Room at the Gran Via                  Palacio  London   \n",
       "989            North Austin garden haven                    78753  London   \n",
       "995              A typical parisian flat        Buttes-Montmartre  London   \n",
       "998  NR LGA/JFK & City Studio W/Bathroom          Jackson Heights  London   \n",
       "999            15 Minutes from Manhattan                 Woodside  London   \n",
       "\n",
       "                   State          Country     Room Type  Room Price  \\\n",
       "1          North Holland  The Netherlands  Private room          80   \n",
       "2               New York    United States  Private room          57   \n",
       "5                 Oregon    United States  Private room          55   \n",
       "7                England   United Kingdom  Private room          60   \n",
       "8              Louisiana    United States  Private room          79   \n",
       "..                   ...              ...           ...         ...   \n",
       "985  Comunidad de Madrid            Spain  Private room          30   \n",
       "989                Texas    United States  Private room          65   \n",
       "995        Île-de-France           France  Private room          35   \n",
       "998             New York    United States  Private room          75   \n",
       "999             New York    United States  Private room         110   \n",
       "\n",
       "     Room Availability  \n",
       "1                   10  \n",
       "2                  268  \n",
       "5                  121  \n",
       "7                  351  \n",
       "8                  330  \n",
       "..                 ...  \n",
       "985                338  \n",
       "989                364  \n",
       "995                329  \n",
       "998                357  \n",
       "999                329  \n",
       "\n",
       "[340 rows x 11 columns]"
      ]
     },
     "execution_count": 253,
     "metadata": {},
     "output_type": "execute_result"
    }
   ],
   "source": [
    "review[mask]"
   ]
  },
  {
   "cell_type": "code",
   "execution_count": 254,
   "id": "88b7c5e5-4847-4aef-b212-cf8ed7a0a1b5",
   "metadata": {},
   "outputs": [
    {
     "data": {
      "text/plain": [
       "pandas.core.frame.DataFrame"
      ]
     },
     "execution_count": 254,
     "metadata": {},
     "output_type": "execute_result"
    }
   ],
   "source": [
    "type(review[mask])"
   ]
  },
  {
   "cell_type": "code",
   "execution_count": 264,
   "id": "fab7f930-e4fc-4ca0-8b05-489590f96647",
   "metadata": {},
   "outputs": [
    {
     "data": {
      "text/plain": [
       "0       True\n",
       "1      False\n",
       "2      False\n",
       "3       True\n",
       "4       True\n",
       "       ...  \n",
       "995    False\n",
       "996     True\n",
       "997     True\n",
       "998    False\n",
       "999    False\n",
       "Name: Room Type, Length: 1000, dtype: bool"
      ]
     },
     "execution_count": 264,
     "metadata": {},
     "output_type": "execute_result"
    }
   ],
   "source": [
    "not_private = review[\"Room Type\"] != \"Private room\"\n",
    "not_private"
   ]
  },
  {
   "cell_type": "code",
   "execution_count": 265,
   "id": "5c9aa14c-bb02-4374-a16d-39d88395c1cd",
   "metadata": {},
   "outputs": [
    {
     "data": {
      "text/html": [
       "<div>\n",
       "<style scoped>\n",
       "    .dataframe tbody tr th:only-of-type {\n",
       "        vertical-align: middle;\n",
       "    }\n",
       "\n",
       "    .dataframe tbody tr th {\n",
       "        vertical-align: top;\n",
       "    }\n",
       "\n",
       "    .dataframe thead th {\n",
       "        text-align: right;\n",
       "    }\n",
       "</style>\n",
       "<table border=\"1\" class=\"dataframe\">\n",
       "  <thead>\n",
       "    <tr style=\"text-align: right;\">\n",
       "      <th></th>\n",
       "      <th>Review ID</th>\n",
       "      <th>Review Date</th>\n",
       "      <th>Review Content</th>\n",
       "      <th>Listing Title</th>\n",
       "      <th>Neighbourhood</th>\n",
       "      <th>City</th>\n",
       "      <th>State</th>\n",
       "      <th>Country</th>\n",
       "      <th>Room Type</th>\n",
       "      <th>Room Price</th>\n",
       "      <th>Room Availability</th>\n",
       "    </tr>\n",
       "  </thead>\n",
       "  <tbody>\n",
       "    <tr>\n",
       "      <th>0</th>\n",
       "      <td>4055629</td>\n",
       "      <td>2012-10-06</td>\n",
       "      <td>Very nice accommodation in an aesthetically pl...</td>\n",
       "      <td>Nottinghill Portobello  Artist Flat</td>\n",
       "      <td>Kensington and Chelsea</td>\n",
       "      <td>London</td>\n",
       "      <td>England</td>\n",
       "      <td>United Kingdom</td>\n",
       "      <td>Entire home/apt</td>\n",
       "      <td>100</td>\n",
       "      <td>338</td>\n",
       "    </tr>\n",
       "    <tr>\n",
       "      <th>3</th>\n",
       "      <td>41133812</td>\n",
       "      <td>2012-05-08</td>\n",
       "      <td>The apartment was situated on the first floor ...</td>\n",
       "      <td>Bonito estudio en pleno centro</td>\n",
       "      <td>Universidad</td>\n",
       "      <td>London</td>\n",
       "      <td>Comunidad de Madrid</td>\n",
       "      <td>Spain</td>\n",
       "      <td>Entire home/apt</td>\n",
       "      <td>38</td>\n",
       "      <td>274</td>\n",
       "    </tr>\n",
       "    <tr>\n",
       "      <th>4</th>\n",
       "      <td>7465026</td>\n",
       "      <td>2013-08-16</td>\n",
       "      <td>Even though it was only for one night, we had ...</td>\n",
       "      <td>Acropolis Apartment brand new</td>\n",
       "      <td>ΑΚΡΟΠΟΛΗ</td>\n",
       "      <td>London</td>\n",
       "      <td>Attica</td>\n",
       "      <td>Greece</td>\n",
       "      <td>Entire home/apt</td>\n",
       "      <td>62</td>\n",
       "      <td>281</td>\n",
       "    </tr>\n",
       "    <tr>\n",
       "      <th>6</th>\n",
       "      <td>20417380</td>\n",
       "      <td>2013-11-07</td>\n",
       "      <td>Wonderful experience. We loved staying in the ...</td>\n",
       "      <td>LARGE HOME FOR GROUP ACCOMMODATION</td>\n",
       "      <td>Stonnington</td>\n",
       "      <td>London</td>\n",
       "      <td>Victoria</td>\n",
       "      <td>Australia</td>\n",
       "      <td>Entire home/apt</td>\n",
       "      <td>248</td>\n",
       "      <td>239</td>\n",
       "    </tr>\n",
       "    <tr>\n",
       "      <th>9</th>\n",
       "      <td>15542291</td>\n",
       "      <td>2013-12-28</td>\n",
       "      <td>What a wonderful location, right in the heart ...</td>\n",
       "      <td>Athens Acropolis /B 'Luxury 2</td>\n",
       "      <td>ΕΜΠΟΡΙΚΟ ΤΡΙΓΩΝΟ-ΠΛΑΚΑ</td>\n",
       "      <td>London</td>\n",
       "      <td>Attica</td>\n",
       "      <td>Greece</td>\n",
       "      <td>Entire home/apt</td>\n",
       "      <td>37</td>\n",
       "      <td>329</td>\n",
       "    </tr>\n",
       "    <tr>\n",
       "      <th>...</th>\n",
       "      <td>...</td>\n",
       "      <td>...</td>\n",
       "      <td>...</td>\n",
       "      <td>...</td>\n",
       "      <td>...</td>\n",
       "      <td>...</td>\n",
       "      <td>...</td>\n",
       "      <td>...</td>\n",
       "      <td>...</td>\n",
       "      <td>...</td>\n",
       "      <td>...</td>\n",
       "    </tr>\n",
       "    <tr>\n",
       "      <th>992</th>\n",
       "      <td>13423090</td>\n",
       "      <td>2014-12-25</td>\n",
       "      <td>Ca' di paolo is a cozy apartment in a great lo...</td>\n",
       "      <td>ca' di paolo</td>\n",
       "      <td>Castello</td>\n",
       "      <td>London</td>\n",
       "      <td>Veneto</td>\n",
       "      <td>Italy</td>\n",
       "      <td>Entire home/apt</td>\n",
       "      <td>99</td>\n",
       "      <td>303</td>\n",
       "    </tr>\n",
       "    <tr>\n",
       "      <th>993</th>\n",
       "      <td>27392171</td>\n",
       "      <td>2012-03-07</td>\n",
       "      <td>What a great place to stay! In the heart of Ma...</td>\n",
       "      <td>Charming Studio - Heart of Marais</td>\n",
       "      <td>Temple</td>\n",
       "      <td>London</td>\n",
       "      <td>Île-de-France</td>\n",
       "      <td>France</td>\n",
       "      <td>Entire home/apt</td>\n",
       "      <td>95</td>\n",
       "      <td>284</td>\n",
       "    </tr>\n",
       "    <tr>\n",
       "      <th>994</th>\n",
       "      <td>28605533</td>\n",
       "      <td>2014-09-24</td>\n",
       "      <td>We had a wonderful stay at this apartment. Alt...</td>\n",
       "      <td>sunny and cosy</td>\n",
       "      <td>Brunnenstr. Süd</td>\n",
       "      <td>London</td>\n",
       "      <td>Berlin</td>\n",
       "      <td>Germany</td>\n",
       "      <td>Entire home/apt</td>\n",
       "      <td>62</td>\n",
       "      <td>6</td>\n",
       "    </tr>\n",
       "    <tr>\n",
       "      <th>996</th>\n",
       "      <td>30544438</td>\n",
       "      <td>2013-02-28</td>\n",
       "      <td>Highly recommend this as a place to stay if yo...</td>\n",
       "      <td>The Venice Roost on Abbot Kinney</td>\n",
       "      <td>Venice</td>\n",
       "      <td>London</td>\n",
       "      <td>California</td>\n",
       "      <td>United States</td>\n",
       "      <td>Entire home/apt</td>\n",
       "      <td>191</td>\n",
       "      <td>309</td>\n",
       "    </tr>\n",
       "    <tr>\n",
       "      <th>997</th>\n",
       "      <td>46642535</td>\n",
       "      <td>2014-08-30</td>\n",
       "      <td>John was a great host.  I came in on a red eye...</td>\n",
       "      <td>Top Floor Renovated 1 BR / 1BA</td>\n",
       "      <td>West Roxbury</td>\n",
       "      <td>London</td>\n",
       "      <td>Massachusetts</td>\n",
       "      <td>United States</td>\n",
       "      <td>Entire home/apt</td>\n",
       "      <td>95</td>\n",
       "      <td>10</td>\n",
       "    </tr>\n",
       "  </tbody>\n",
       "</table>\n",
       "<p>660 rows × 11 columns</p>\n",
       "</div>"
      ],
      "text/plain": [
       "     Review ID Review Date                                     Review Content  \\\n",
       "0      4055629  2012-10-06  Very nice accommodation in an aesthetically pl...   \n",
       "3     41133812  2012-05-08  The apartment was situated on the first floor ...   \n",
       "4      7465026  2013-08-16  Even though it was only for one night, we had ...   \n",
       "6     20417380  2013-11-07  Wonderful experience. We loved staying in the ...   \n",
       "9     15542291  2013-12-28  What a wonderful location, right in the heart ...   \n",
       "..         ...         ...                                                ...   \n",
       "992   13423090  2014-12-25  Ca' di paolo is a cozy apartment in a great lo...   \n",
       "993   27392171  2012-03-07  What a great place to stay! In the heart of Ma...   \n",
       "994   28605533  2014-09-24  We had a wonderful stay at this apartment. Alt...   \n",
       "996   30544438  2013-02-28  Highly recommend this as a place to stay if yo...   \n",
       "997   46642535  2014-08-30  John was a great host.  I came in on a red eye...   \n",
       "\n",
       "                           Listing Title           Neighbourhood    City  \\\n",
       "0    Nottinghill Portobello  Artist Flat  Kensington and Chelsea  London   \n",
       "3         Bonito estudio en pleno centro             Universidad  London   \n",
       "4          Acropolis Apartment brand new                ΑΚΡΟΠΟΛΗ  London   \n",
       "6     LARGE HOME FOR GROUP ACCOMMODATION             Stonnington  London   \n",
       "9          Athens Acropolis /B 'Luxury 2  ΕΜΠΟΡΙΚΟ ΤΡΙΓΩΝΟ-ΠΛΑΚΑ  London   \n",
       "..                                   ...                     ...     ...   \n",
       "992                         ca' di paolo                Castello  London   \n",
       "993    Charming Studio - Heart of Marais                  Temple  London   \n",
       "994                       sunny and cosy         Brunnenstr. Süd  London   \n",
       "996     The Venice Roost on Abbot Kinney                  Venice  London   \n",
       "997      Top Floor Renovated 1 BR / 1BA             West Roxbury  London   \n",
       "\n",
       "                   State         Country        Room Type  Room Price  \\\n",
       "0                England  United Kingdom  Entire home/apt         100   \n",
       "3    Comunidad de Madrid           Spain  Entire home/apt          38   \n",
       "4                 Attica          Greece  Entire home/apt          62   \n",
       "6               Victoria       Australia  Entire home/apt         248   \n",
       "9                 Attica          Greece  Entire home/apt          37   \n",
       "..                   ...             ...              ...         ...   \n",
       "992               Veneto           Italy  Entire home/apt          99   \n",
       "993        Île-de-France          France  Entire home/apt          95   \n",
       "994               Berlin         Germany  Entire home/apt          62   \n",
       "996           California   United States  Entire home/apt         191   \n",
       "997        Massachusetts   United States  Entire home/apt          95   \n",
       "\n",
       "     Room Availability  \n",
       "0                  338  \n",
       "3                  274  \n",
       "4                  281  \n",
       "6                  239  \n",
       "9                  329  \n",
       "..                 ...  \n",
       "992                303  \n",
       "993                284  \n",
       "994                  6  \n",
       "996                309  \n",
       "997                 10  \n",
       "\n",
       "[660 rows x 11 columns]"
      ]
     },
     "execution_count": 265,
     "metadata": {},
     "output_type": "execute_result"
    }
   ],
   "source": [
    "review[not_private]"
   ]
  },
  {
   "cell_type": "code",
   "execution_count": 267,
   "id": "8e040238-f59a-41b7-89e9-640f7e874f1c",
   "metadata": {},
   "outputs": [],
   "source": [
    "mask1 = review[\"Room Price\"] > 60"
   ]
  },
  {
   "cell_type": "code",
   "execution_count": 268,
   "id": "d2bef447-dd9d-4015-870f-9cc505102739",
   "metadata": {},
   "outputs": [],
   "source": [
    "mask2 = review[\"Room Price\"] < 100"
   ]
  },
  {
   "cell_type": "code",
   "execution_count": 269,
   "id": "60061539-91a8-4b6f-b9f7-299e2f7675de",
   "metadata": {},
   "outputs": [],
   "source": [
    "mask = mask1 & mask2"
   ]
  },
  {
   "cell_type": "code",
   "execution_count": 270,
   "id": "44b8fe26-25cf-48e9-8fde-8dd1abcec7e9",
   "metadata": {},
   "outputs": [
    {
     "data": {
      "text/html": [
       "<div>\n",
       "<style scoped>\n",
       "    .dataframe tbody tr th:only-of-type {\n",
       "        vertical-align: middle;\n",
       "    }\n",
       "\n",
       "    .dataframe tbody tr th {\n",
       "        vertical-align: top;\n",
       "    }\n",
       "\n",
       "    .dataframe thead th {\n",
       "        text-align: right;\n",
       "    }\n",
       "</style>\n",
       "<table border=\"1\" class=\"dataframe\">\n",
       "  <thead>\n",
       "    <tr style=\"text-align: right;\">\n",
       "      <th></th>\n",
       "      <th>Review ID</th>\n",
       "      <th>Review Date</th>\n",
       "      <th>Review Content</th>\n",
       "      <th>Listing Title</th>\n",
       "      <th>Neighbourhood</th>\n",
       "      <th>City</th>\n",
       "      <th>State</th>\n",
       "      <th>Country</th>\n",
       "      <th>Room Type</th>\n",
       "      <th>Room Price</th>\n",
       "      <th>Room Availability</th>\n",
       "    </tr>\n",
       "  </thead>\n",
       "  <tbody>\n",
       "    <tr>\n",
       "      <th>1</th>\n",
       "      <td>25329416</td>\n",
       "      <td>2013-11-03</td>\n",
       "      <td>Me and my friends had such a nice time at Dott...</td>\n",
       "      <td>Quiet Pink Studio in the PIJP area</td>\n",
       "      <td>De Pijp - Rivierenbuurt</td>\n",
       "      <td>London</td>\n",
       "      <td>North Holland</td>\n",
       "      <td>The Netherlands</td>\n",
       "      <td>Private room</td>\n",
       "      <td>80</td>\n",
       "      <td>10</td>\n",
       "    </tr>\n",
       "    <tr>\n",
       "      <th>4</th>\n",
       "      <td>7465026</td>\n",
       "      <td>2013-08-16</td>\n",
       "      <td>Even though it was only for one night, we had ...</td>\n",
       "      <td>Acropolis Apartment brand new</td>\n",
       "      <td>ΑΚΡΟΠΟΛΗ</td>\n",
       "      <td>London</td>\n",
       "      <td>Attica</td>\n",
       "      <td>Greece</td>\n",
       "      <td>Entire home/apt</td>\n",
       "      <td>62</td>\n",
       "      <td>281</td>\n",
       "    </tr>\n",
       "    <tr>\n",
       "      <th>8</th>\n",
       "      <td>37085487</td>\n",
       "      <td>2014-06-27</td>\n",
       "      <td>We had a great stay in Tyler's apartment. The ...</td>\n",
       "      <td>Privacy + Free Beer</td>\n",
       "      <td>Marigny</td>\n",
       "      <td>London</td>\n",
       "      <td>Louisiana</td>\n",
       "      <td>United States</td>\n",
       "      <td>Private room</td>\n",
       "      <td>79</td>\n",
       "      <td>330</td>\n",
       "    </tr>\n",
       "    <tr>\n",
       "      <th>17</th>\n",
       "      <td>7568387</td>\n",
       "      <td>2013-02-01</td>\n",
       "      <td>Kristina and Ekaterine were lovley hosts. They...</td>\n",
       "      <td>Hollywood Furnished Private Bedroom</td>\n",
       "      <td>Hollywood</td>\n",
       "      <td>London</td>\n",
       "      <td>California</td>\n",
       "      <td>United States</td>\n",
       "      <td>Private room</td>\n",
       "      <td>99</td>\n",
       "      <td>244</td>\n",
       "    </tr>\n",
       "    <tr>\n",
       "      <th>20</th>\n",
       "      <td>38360407</td>\n",
       "      <td>2013-12-31</td>\n",
       "      <td>Nice contact. Very friendly and supportive. Th...</td>\n",
       "      <td>Curved wall Studio ST4 with Kitchen</td>\n",
       "      <td>Tower Hamlets</td>\n",
       "      <td>London</td>\n",
       "      <td>England</td>\n",
       "      <td>United Kingdom</td>\n",
       "      <td>Entire home/apt</td>\n",
       "      <td>85</td>\n",
       "      <td>344</td>\n",
       "    </tr>\n",
       "    <tr>\n",
       "      <th>...</th>\n",
       "      <td>...</td>\n",
       "      <td>...</td>\n",
       "      <td>...</td>\n",
       "      <td>...</td>\n",
       "      <td>...</td>\n",
       "      <td>...</td>\n",
       "      <td>...</td>\n",
       "      <td>...</td>\n",
       "      <td>...</td>\n",
       "      <td>...</td>\n",
       "      <td>...</td>\n",
       "    </tr>\n",
       "    <tr>\n",
       "      <th>992</th>\n",
       "      <td>13423090</td>\n",
       "      <td>2014-12-25</td>\n",
       "      <td>Ca' di paolo is a cozy apartment in a great lo...</td>\n",
       "      <td>ca' di paolo</td>\n",
       "      <td>Castello</td>\n",
       "      <td>London</td>\n",
       "      <td>Veneto</td>\n",
       "      <td>Italy</td>\n",
       "      <td>Entire home/apt</td>\n",
       "      <td>99</td>\n",
       "      <td>303</td>\n",
       "    </tr>\n",
       "    <tr>\n",
       "      <th>993</th>\n",
       "      <td>27392171</td>\n",
       "      <td>2012-03-07</td>\n",
       "      <td>What a great place to stay! In the heart of Ma...</td>\n",
       "      <td>Charming Studio - Heart of Marais</td>\n",
       "      <td>Temple</td>\n",
       "      <td>London</td>\n",
       "      <td>Île-de-France</td>\n",
       "      <td>France</td>\n",
       "      <td>Entire home/apt</td>\n",
       "      <td>95</td>\n",
       "      <td>284</td>\n",
       "    </tr>\n",
       "    <tr>\n",
       "      <th>994</th>\n",
       "      <td>28605533</td>\n",
       "      <td>2014-09-24</td>\n",
       "      <td>We had a wonderful stay at this apartment. Alt...</td>\n",
       "      <td>sunny and cosy</td>\n",
       "      <td>Brunnenstr. Süd</td>\n",
       "      <td>London</td>\n",
       "      <td>Berlin</td>\n",
       "      <td>Germany</td>\n",
       "      <td>Entire home/apt</td>\n",
       "      <td>62</td>\n",
       "      <td>6</td>\n",
       "    </tr>\n",
       "    <tr>\n",
       "      <th>997</th>\n",
       "      <td>46642535</td>\n",
       "      <td>2014-08-30</td>\n",
       "      <td>John was a great host.  I came in on a red eye...</td>\n",
       "      <td>Top Floor Renovated 1 BR / 1BA</td>\n",
       "      <td>West Roxbury</td>\n",
       "      <td>London</td>\n",
       "      <td>Massachusetts</td>\n",
       "      <td>United States</td>\n",
       "      <td>Entire home/apt</td>\n",
       "      <td>95</td>\n",
       "      <td>10</td>\n",
       "    </tr>\n",
       "    <tr>\n",
       "      <th>998</th>\n",
       "      <td>21403195</td>\n",
       "      <td>2014-12-26</td>\n",
       "      <td>Very good experiance had a comfortable stay. V...</td>\n",
       "      <td>NR LGA/JFK &amp; City Studio W/Bathroom</td>\n",
       "      <td>Jackson Heights</td>\n",
       "      <td>London</td>\n",
       "      <td>New York</td>\n",
       "      <td>United States</td>\n",
       "      <td>Private room</td>\n",
       "      <td>75</td>\n",
       "      <td>357</td>\n",
       "    </tr>\n",
       "  </tbody>\n",
       "</table>\n",
       "<p>293 rows × 11 columns</p>\n",
       "</div>"
      ],
      "text/plain": [
       "     Review ID Review Date                                     Review Content  \\\n",
       "1     25329416  2013-11-03  Me and my friends had such a nice time at Dott...   \n",
       "4      7465026  2013-08-16  Even though it was only for one night, we had ...   \n",
       "8     37085487  2014-06-27  We had a great stay in Tyler's apartment. The ...   \n",
       "17     7568387  2013-02-01  Kristina and Ekaterine were lovley hosts. They...   \n",
       "20    38360407  2013-12-31  Nice contact. Very friendly and supportive. Th...   \n",
       "..         ...         ...                                                ...   \n",
       "992   13423090  2014-12-25  Ca' di paolo is a cozy apartment in a great lo...   \n",
       "993   27392171  2012-03-07  What a great place to stay! In the heart of Ma...   \n",
       "994   28605533  2014-09-24  We had a wonderful stay at this apartment. Alt...   \n",
       "997   46642535  2014-08-30  John was a great host.  I came in on a red eye...   \n",
       "998   21403195  2014-12-26  Very good experiance had a comfortable stay. V...   \n",
       "\n",
       "                           Listing Title            Neighbourhood    City  \\\n",
       "1     Quiet Pink Studio in the PIJP area  De Pijp - Rivierenbuurt  London   \n",
       "4          Acropolis Apartment brand new                 ΑΚΡΟΠΟΛΗ  London   \n",
       "8                    Privacy + Free Beer                  Marigny  London   \n",
       "17   Hollywood Furnished Private Bedroom                Hollywood  London   \n",
       "20   Curved wall Studio ST4 with Kitchen            Tower Hamlets  London   \n",
       "..                                   ...                      ...     ...   \n",
       "992                         ca' di paolo                 Castello  London   \n",
       "993    Charming Studio - Heart of Marais                   Temple  London   \n",
       "994                       sunny and cosy          Brunnenstr. Süd  London   \n",
       "997      Top Floor Renovated 1 BR / 1BA              West Roxbury  London   \n",
       "998  NR LGA/JFK & City Studio W/Bathroom          Jackson Heights  London   \n",
       "\n",
       "             State          Country        Room Type  Room Price  \\\n",
       "1    North Holland  The Netherlands     Private room          80   \n",
       "4           Attica           Greece  Entire home/apt          62   \n",
       "8        Louisiana    United States     Private room          79   \n",
       "17      California    United States     Private room          99   \n",
       "20         England   United Kingdom  Entire home/apt          85   \n",
       "..             ...              ...              ...         ...   \n",
       "992         Veneto            Italy  Entire home/apt          99   \n",
       "993  Île-de-France           France  Entire home/apt          95   \n",
       "994         Berlin          Germany  Entire home/apt          62   \n",
       "997  Massachusetts    United States  Entire home/apt          95   \n",
       "998       New York    United States     Private room          75   \n",
       "\n",
       "     Room Availability  \n",
       "1                   10  \n",
       "4                  281  \n",
       "8                  330  \n",
       "17                 244  \n",
       "20                 344  \n",
       "..                 ...  \n",
       "992                303  \n",
       "993                284  \n",
       "994                  6  \n",
       "997                 10  \n",
       "998                357  \n",
       "\n",
       "[293 rows x 11 columns]"
      ]
     },
     "execution_count": 270,
     "metadata": {},
     "output_type": "execute_result"
    }
   ],
   "source": [
    "review[mask]"
   ]
  },
  {
   "cell_type": "markdown",
   "id": "ffbe5244-854b-410e-a0f3-1f2f153d6228",
   "metadata": {},
   "source": [
    "### &"
   ]
  },
  {
   "cell_type": "code",
   "execution_count": 275,
   "id": "405014b1-7708-4e37-b809-27b63ea9b63c",
   "metadata": {},
   "outputs": [],
   "source": [
    "mask = (review[\"State\"] == \"California\") & (review[\"Room Type\"] == \"Private room\")"
   ]
  },
  {
   "cell_type": "code",
   "execution_count": 276,
   "id": "6bc69adb-b258-4b37-a99c-b9d5e9b79305",
   "metadata": {},
   "outputs": [
    {
     "data": {
      "text/html": [
       "<div>\n",
       "<style scoped>\n",
       "    .dataframe tbody tr th:only-of-type {\n",
       "        vertical-align: middle;\n",
       "    }\n",
       "\n",
       "    .dataframe tbody tr th {\n",
       "        vertical-align: top;\n",
       "    }\n",
       "\n",
       "    .dataframe thead th {\n",
       "        text-align: right;\n",
       "    }\n",
       "</style>\n",
       "<table border=\"1\" class=\"dataframe\">\n",
       "  <thead>\n",
       "    <tr style=\"text-align: right;\">\n",
       "      <th></th>\n",
       "      <th>Review ID</th>\n",
       "      <th>Review Date</th>\n",
       "      <th>Review Content</th>\n",
       "      <th>Listing Title</th>\n",
       "      <th>Neighbourhood</th>\n",
       "      <th>City</th>\n",
       "      <th>State</th>\n",
       "      <th>Country</th>\n",
       "      <th>Room Type</th>\n",
       "      <th>Room Price</th>\n",
       "      <th>Room Availability</th>\n",
       "    </tr>\n",
       "  </thead>\n",
       "  <tbody>\n",
       "    <tr>\n",
       "      <th>17</th>\n",
       "      <td>7568387</td>\n",
       "      <td>2013-02-01</td>\n",
       "      <td>Kristina and Ekaterine were lovley hosts. They...</td>\n",
       "      <td>Hollywood Furnished Private Bedroom</td>\n",
       "      <td>Hollywood</td>\n",
       "      <td>London</td>\n",
       "      <td>California</td>\n",
       "      <td>United States</td>\n",
       "      <td>Private room</td>\n",
       "      <td>99</td>\n",
       "      <td>244</td>\n",
       "    </tr>\n",
       "    <tr>\n",
       "      <th>22</th>\n",
       "      <td>33973256</td>\n",
       "      <td>2013-03-30</td>\n",
       "      <td>Pros: Parking inside property. Convenient Loca...</td>\n",
       "      <td>Private room4 historical house</td>\n",
       "      <td>Harvard Heights</td>\n",
       "      <td>London</td>\n",
       "      <td>California</td>\n",
       "      <td>United States</td>\n",
       "      <td>Private room</td>\n",
       "      <td>46</td>\n",
       "      <td>357</td>\n",
       "    </tr>\n",
       "    <tr>\n",
       "      <th>32</th>\n",
       "      <td>16153533</td>\n",
       "      <td>2012-06-12</td>\n",
       "      <td>Good location.  Nice house.  Sunny and comfort...</td>\n",
       "      <td>Guest Room - Javier Azul</td>\n",
       "      <td>Mission</td>\n",
       "      <td>London</td>\n",
       "      <td>California</td>\n",
       "      <td>United States</td>\n",
       "      <td>Private room</td>\n",
       "      <td>65</td>\n",
       "      <td>335</td>\n",
       "    </tr>\n",
       "    <tr>\n",
       "      <th>36</th>\n",
       "      <td>35333712</td>\n",
       "      <td>2012-07-27</td>\n",
       "      <td>Aj is really nice , and kind guy.. It was good...</td>\n",
       "      <td>Modern &amp; Comfy in LA!!!</td>\n",
       "      <td>Mid-Wilshire</td>\n",
       "      <td>London</td>\n",
       "      <td>California</td>\n",
       "      <td>United States</td>\n",
       "      <td>Private room</td>\n",
       "      <td>94</td>\n",
       "      <td>254</td>\n",
       "    </tr>\n",
       "    <tr>\n",
       "      <th>50</th>\n",
       "      <td>17543666</td>\n",
       "      <td>2012-01-03</td>\n",
       "      <td>This is a great place to stay, it is a lovely ...</td>\n",
       "      <td>Tranquil 2BR Suite w/ Private Bath</td>\n",
       "      <td>Western Addition</td>\n",
       "      <td>London</td>\n",
       "      <td>California</td>\n",
       "      <td>United States</td>\n",
       "      <td>Private room</td>\n",
       "      <td>240</td>\n",
       "      <td>338</td>\n",
       "    </tr>\n",
       "    <tr>\n",
       "      <th>66</th>\n",
       "      <td>40805030</td>\n",
       "      <td>2012-10-11</td>\n",
       "      <td>Kristelle was very kind and super welcoming! I...</td>\n",
       "      <td>Great room in NOHO Arts district!</td>\n",
       "      <td>North Hollywood</td>\n",
       "      <td>London</td>\n",
       "      <td>California</td>\n",
       "      <td>United States</td>\n",
       "      <td>Private room</td>\n",
       "      <td>57</td>\n",
       "      <td>256</td>\n",
       "    </tr>\n",
       "    <tr>\n",
       "      <th>74</th>\n",
       "      <td>7911249</td>\n",
       "      <td>2014-01-17</td>\n",
       "      <td>I contacted Laurie on a Saturday evening at th...</td>\n",
       "      <td>CUTE~Cozy Venice Cottage!~close2LAX</td>\n",
       "      <td>Venice</td>\n",
       "      <td>London</td>\n",
       "      <td>California</td>\n",
       "      <td>United States</td>\n",
       "      <td>Private room</td>\n",
       "      <td>100</td>\n",
       "      <td>335</td>\n",
       "    </tr>\n",
       "    <tr>\n",
       "      <th>108</th>\n",
       "      <td>24086047</td>\n",
       "      <td>2012-06-24</td>\n",
       "      <td>Rachel's house was very convenient and I had n...</td>\n",
       "      <td>Private studio, Oakland: Montclair</td>\n",
       "      <td>Merriwood</td>\n",
       "      <td>London</td>\n",
       "      <td>California</td>\n",
       "      <td>United States</td>\n",
       "      <td>Private room</td>\n",
       "      <td>88</td>\n",
       "      <td>263</td>\n",
       "    </tr>\n",
       "    <tr>\n",
       "      <th>109</th>\n",
       "      <td>10945962</td>\n",
       "      <td>2013-08-04</td>\n",
       "      <td>Probably the most comfortable bed in my life (...</td>\n",
       "      <td>Stunning 1904 Colonial in Oakland</td>\n",
       "      <td>Oak Center</td>\n",
       "      <td>London</td>\n",
       "      <td>California</td>\n",
       "      <td>United States</td>\n",
       "      <td>Private room</td>\n",
       "      <td>59</td>\n",
       "      <td>269</td>\n",
       "    </tr>\n",
       "    <tr>\n",
       "      <th>161</th>\n",
       "      <td>38960229</td>\n",
       "      <td>2012-04-21</td>\n",
       "      <td>Ricky was responsive and welcoming. You get wh...</td>\n",
       "      <td>The Utah Inn</td>\n",
       "      <td>South of Market</td>\n",
       "      <td>London</td>\n",
       "      <td>California</td>\n",
       "      <td>United States</td>\n",
       "      <td>Private room</td>\n",
       "      <td>65</td>\n",
       "      <td>132</td>\n",
       "    </tr>\n",
       "    <tr>\n",
       "      <th>178</th>\n",
       "      <td>30480072</td>\n",
       "      <td>2012-03-25</td>\n",
       "      <td>Camille is a happy, busy, engaging woman who w...</td>\n",
       "      <td>Studio Near Pasadena, San Marino...</td>\n",
       "      <td>East San Gabriel</td>\n",
       "      <td>London</td>\n",
       "      <td>California</td>\n",
       "      <td>United States</td>\n",
       "      <td>Private room</td>\n",
       "      <td>62</td>\n",
       "      <td>322</td>\n",
       "    </tr>\n",
       "    <tr>\n",
       "      <th>181</th>\n",
       "      <td>32219958</td>\n",
       "      <td>2013-09-24</td>\n",
       "      <td>Great room! Private, clean, adorable &amp; afforda...</td>\n",
       "      <td>PRIVATE Entrance Bedroom / Bath LA</td>\n",
       "      <td>Encino</td>\n",
       "      <td>London</td>\n",
       "      <td>California</td>\n",
       "      <td>United States</td>\n",
       "      <td>Private room</td>\n",
       "      <td>80</td>\n",
       "      <td>306</td>\n",
       "    </tr>\n",
       "    <tr>\n",
       "      <th>204</th>\n",
       "      <td>43365494</td>\n",
       "      <td>2012-07-10</td>\n",
       "      <td>The place was just as advertised; good locatio...</td>\n",
       "      <td>Stay in the heart of North Beach!</td>\n",
       "      <td>North Beach</td>\n",
       "      <td>London</td>\n",
       "      <td>California</td>\n",
       "      <td>United States</td>\n",
       "      <td>Private room</td>\n",
       "      <td>89</td>\n",
       "      <td>312</td>\n",
       "    </tr>\n",
       "    <tr>\n",
       "      <th>205</th>\n",
       "      <td>23442390</td>\n",
       "      <td>2012-09-23</td>\n",
       "      <td>Sonia and Jason made us feel at home from the ...</td>\n",
       "      <td>Beautiful Home near Ocean &amp; GG Park</td>\n",
       "      <td>Outer Sunset</td>\n",
       "      <td>London</td>\n",
       "      <td>California</td>\n",
       "      <td>United States</td>\n",
       "      <td>Private room</td>\n",
       "      <td>97</td>\n",
       "      <td>365</td>\n",
       "    </tr>\n",
       "    <tr>\n",
       "      <th>215</th>\n",
       "      <td>36873068</td>\n",
       "      <td>2014-06-13</td>\n",
       "      <td>We are very very pleased with our stay with To...</td>\n",
       "      <td>Perfect beach getaway!</td>\n",
       "      <td>Santa Monica</td>\n",
       "      <td>London</td>\n",
       "      <td>California</td>\n",
       "      <td>United States</td>\n",
       "      <td>Private room</td>\n",
       "      <td>100</td>\n",
       "      <td>168</td>\n",
       "    </tr>\n",
       "    <tr>\n",
       "      <th>236</th>\n",
       "      <td>45372449</td>\n",
       "      <td>2012-09-12</td>\n",
       "      <td>Our stay in the room was pleasant and it fit t...</td>\n",
       "      <td>Starlight Room With 2 Queen Beds</td>\n",
       "      <td>Pico Rivera</td>\n",
       "      <td>London</td>\n",
       "      <td>California</td>\n",
       "      <td>United States</td>\n",
       "      <td>Private room</td>\n",
       "      <td>59</td>\n",
       "      <td>350</td>\n",
       "    </tr>\n",
       "    <tr>\n",
       "      <th>258</th>\n",
       "      <td>31118183</td>\n",
       "      <td>2014-09-04</td>\n",
       "      <td>Mike was a gracious host and he was very accom...</td>\n",
       "      <td>Pvt Room gated parking in NOHO</td>\n",
       "      <td>Valley Village</td>\n",
       "      <td>London</td>\n",
       "      <td>California</td>\n",
       "      <td>United States</td>\n",
       "      <td>Private room</td>\n",
       "      <td>55</td>\n",
       "      <td>258</td>\n",
       "    </tr>\n",
       "    <tr>\n",
       "      <th>290</th>\n",
       "      <td>26877442</td>\n",
       "      <td>2014-01-16</td>\n",
       "      <td>Omar and Jean-Marie are one of the most gracio...</td>\n",
       "      <td>Cozy double in Mission Victorian</td>\n",
       "      <td>Mission</td>\n",
       "      <td>London</td>\n",
       "      <td>California</td>\n",
       "      <td>United States</td>\n",
       "      <td>Private room</td>\n",
       "      <td>120</td>\n",
       "      <td>125</td>\n",
       "    </tr>\n",
       "    <tr>\n",
       "      <th>305</th>\n",
       "      <td>10926136</td>\n",
       "      <td>2012-08-14</td>\n",
       "      <td>My friend and I stayed with Lisa &amp; joe at the ...</td>\n",
       "      <td>Rm#1-PEACEFUL PARADISE by Sea</td>\n",
       "      <td>Venice</td>\n",
       "      <td>London</td>\n",
       "      <td>California</td>\n",
       "      <td>United States</td>\n",
       "      <td>Private room</td>\n",
       "      <td>100</td>\n",
       "      <td>340</td>\n",
       "    </tr>\n",
       "    <tr>\n",
       "      <th>331</th>\n",
       "      <td>25985434</td>\n",
       "      <td>2013-07-23</td>\n",
       "      <td>Zack and Mel were everything you could want in...</td>\n",
       "      <td>Big House, Hip Scene, Chill Ppl 1</td>\n",
       "      <td>Silver Lake</td>\n",
       "      <td>London</td>\n",
       "      <td>California</td>\n",
       "      <td>United States</td>\n",
       "      <td>Private room</td>\n",
       "      <td>87</td>\n",
       "      <td>109</td>\n",
       "    </tr>\n",
       "    <tr>\n",
       "      <th>390</th>\n",
       "      <td>37317051</td>\n",
       "      <td>2012-08-07</td>\n",
       "      <td>Alex and Justin were extremely sweet and recom...</td>\n",
       "      <td>Mission bedroom in Garden Apartment</td>\n",
       "      <td>Mission</td>\n",
       "      <td>London</td>\n",
       "      <td>California</td>\n",
       "      <td>United States</td>\n",
       "      <td>Private room</td>\n",
       "      <td>95</td>\n",
       "      <td>331</td>\n",
       "    </tr>\n",
       "    <tr>\n",
       "      <th>394</th>\n",
       "      <td>47350434</td>\n",
       "      <td>2013-07-10</td>\n",
       "      <td>Nice, clean place in good style. Very friendly...</td>\n",
       "      <td>Dolores Park View (2 rooms)</td>\n",
       "      <td>Mission</td>\n",
       "      <td>London</td>\n",
       "      <td>California</td>\n",
       "      <td>United States</td>\n",
       "      <td>Private room</td>\n",
       "      <td>140</td>\n",
       "      <td>257</td>\n",
       "    </tr>\n",
       "    <tr>\n",
       "      <th>416</th>\n",
       "      <td>2846722</td>\n",
       "      <td>2013-01-06</td>\n",
       "      <td>Finding an apartment in San Francisco is diffi...</td>\n",
       "      <td>5-Star Nob Hill Bright Heart of SF</td>\n",
       "      <td>Nob Hill</td>\n",
       "      <td>London</td>\n",
       "      <td>California</td>\n",
       "      <td>United States</td>\n",
       "      <td>Private room</td>\n",
       "      <td>129</td>\n",
       "      <td>29</td>\n",
       "    </tr>\n",
       "    <tr>\n",
       "      <th>430</th>\n",
       "      <td>40152723</td>\n",
       "      <td>2013-10-12</td>\n",
       "      <td>Lara is a great host and the place was as desc...</td>\n",
       "      <td>Treehouse Futon/Loft By The Beach!</td>\n",
       "      <td>Long Beach</td>\n",
       "      <td>London</td>\n",
       "      <td>California</td>\n",
       "      <td>United States</td>\n",
       "      <td>Private room</td>\n",
       "      <td>58</td>\n",
       "      <td>365</td>\n",
       "    </tr>\n",
       "    <tr>\n",
       "      <th>445</th>\n",
       "      <td>31668856</td>\n",
       "      <td>2014-06-05</td>\n",
       "      <td>Wow, where to begin?...My visit with Sabine wa...</td>\n",
       "      <td>Hollywood Hills Sanctuary</td>\n",
       "      <td>Hollywood Hills</td>\n",
       "      <td>London</td>\n",
       "      <td>California</td>\n",
       "      <td>United States</td>\n",
       "      <td>Private room</td>\n",
       "      <td>88</td>\n",
       "      <td>340</td>\n",
       "    </tr>\n",
       "    <tr>\n",
       "      <th>463</th>\n",
       "      <td>39354514</td>\n",
       "      <td>2013-04-20</td>\n",
       "      <td>Vivian is great. We like her and her place. Th...</td>\n",
       "      <td>Cozy Giants Room @Golden Gate Park</td>\n",
       "      <td>Inner Richmond</td>\n",
       "      <td>London</td>\n",
       "      <td>California</td>\n",
       "      <td>United States</td>\n",
       "      <td>Private room</td>\n",
       "      <td>115</td>\n",
       "      <td>354</td>\n",
       "    </tr>\n",
       "    <tr>\n",
       "      <th>497</th>\n",
       "      <td>11474019</td>\n",
       "      <td>2013-06-06</td>\n",
       "      <td>Sandy was so welcoming opening her house to me...</td>\n",
       "      <td>Eagle Rock Guest Room with a View</td>\n",
       "      <td>Eagle Rock</td>\n",
       "      <td>London</td>\n",
       "      <td>California</td>\n",
       "      <td>United States</td>\n",
       "      <td>Private room</td>\n",
       "      <td>80</td>\n",
       "      <td>356</td>\n",
       "    </tr>\n",
       "    <tr>\n",
       "      <th>499</th>\n",
       "      <td>20742050</td>\n",
       "      <td>2013-09-18</td>\n",
       "      <td>Listing was accurate and more than expected. C...</td>\n",
       "      <td>Private Sunny Room in Artist's Apt</td>\n",
       "      <td>Studio City</td>\n",
       "      <td>London</td>\n",
       "      <td>California</td>\n",
       "      <td>United States</td>\n",
       "      <td>Private room</td>\n",
       "      <td>70</td>\n",
       "      <td>322</td>\n",
       "    </tr>\n",
       "    <tr>\n",
       "      <th>513</th>\n",
       "      <td>19138611</td>\n",
       "      <td>2014-04-29</td>\n",
       "      <td>Wonderful house and amazing host! John's house...</td>\n",
       "      <td>Hollywood Private Room Queen Bed</td>\n",
       "      <td>Hollywood</td>\n",
       "      <td>London</td>\n",
       "      <td>California</td>\n",
       "      <td>United States</td>\n",
       "      <td>Private room</td>\n",
       "      <td>85</td>\n",
       "      <td>272</td>\n",
       "    </tr>\n",
       "    <tr>\n",
       "      <th>571</th>\n",
       "      <td>1255563</td>\n",
       "      <td>2013-06-13</td>\n",
       "      <td>Nichola has a wonderful home in the Rancho dis...</td>\n",
       "      <td>Burbank - Nr Disney NBC Warner NYFA</td>\n",
       "      <td>Burbank</td>\n",
       "      <td>London</td>\n",
       "      <td>California</td>\n",
       "      <td>United States</td>\n",
       "      <td>Private room</td>\n",
       "      <td>95</td>\n",
       "      <td>365</td>\n",
       "    </tr>\n",
       "    <tr>\n",
       "      <th>591</th>\n",
       "      <td>38844338</td>\n",
       "      <td>2014-09-27</td>\n",
       "      <td>Abhay's home was lovely and comfortable and in...</td>\n",
       "      <td>Master suite in Charming Edwardian</td>\n",
       "      <td>Glen Park</td>\n",
       "      <td>London</td>\n",
       "      <td>California</td>\n",
       "      <td>United States</td>\n",
       "      <td>Private room</td>\n",
       "      <td>105</td>\n",
       "      <td>219</td>\n",
       "    </tr>\n",
       "    <tr>\n",
       "      <th>594</th>\n",
       "      <td>35752320</td>\n",
       "      <td>2012-02-18</td>\n",
       "      <td>It was a great stay by David. He is very frien...</td>\n",
       "      <td>Modern, Contemporary Apt.</td>\n",
       "      <td>Santa Monica</td>\n",
       "      <td>London</td>\n",
       "      <td>California</td>\n",
       "      <td>United States</td>\n",
       "      <td>Private room</td>\n",
       "      <td>90</td>\n",
       "      <td>359</td>\n",
       "    </tr>\n",
       "    <tr>\n",
       "      <th>609</th>\n",
       "      <td>16483404</td>\n",
       "      <td>2013-11-23</td>\n",
       "      <td>Beth was away for the weekend but her husband ...</td>\n",
       "      <td>Peaceful room in Glen Park (SF)</td>\n",
       "      <td>Outer Mission</td>\n",
       "      <td>London</td>\n",
       "      <td>California</td>\n",
       "      <td>United States</td>\n",
       "      <td>Private room</td>\n",
       "      <td>65</td>\n",
       "      <td>120</td>\n",
       "    </tr>\n",
       "    <tr>\n",
       "      <th>612</th>\n",
       "      <td>29049258</td>\n",
       "      <td>2014-04-22</td>\n",
       "      <td>Spacious room and friendly host.</td>\n",
       "      <td>Urban Tranquility in Ingleside</td>\n",
       "      <td>Ocean View</td>\n",
       "      <td>London</td>\n",
       "      <td>California</td>\n",
       "      <td>United States</td>\n",
       "      <td>Private room</td>\n",
       "      <td>100</td>\n",
       "      <td>324</td>\n",
       "    </tr>\n",
       "    <tr>\n",
       "      <th>645</th>\n",
       "      <td>14169337</td>\n",
       "      <td>2013-03-12</td>\n",
       "      <td>I had such an AMAZING stay. Glamping was at it...</td>\n",
       "      <td>Rm#4-PEACEFUL PARADISE by Sea</td>\n",
       "      <td>Venice</td>\n",
       "      <td>London</td>\n",
       "      <td>California</td>\n",
       "      <td>United States</td>\n",
       "      <td>Private room</td>\n",
       "      <td>80</td>\n",
       "      <td>360</td>\n",
       "    </tr>\n",
       "    <tr>\n",
       "      <th>682</th>\n",
       "      <td>6649468</td>\n",
       "      <td>2013-01-08</td>\n",
       "      <td>We weren't around much, but we slept well and ...</td>\n",
       "      <td>Vintage Sunny Private Room + Bath</td>\n",
       "      <td>Potrero Hill</td>\n",
       "      <td>London</td>\n",
       "      <td>California</td>\n",
       "      <td>United States</td>\n",
       "      <td>Private room</td>\n",
       "      <td>80</td>\n",
       "      <td>283</td>\n",
       "    </tr>\n",
       "    <tr>\n",
       "      <th>707</th>\n",
       "      <td>13881760</td>\n",
       "      <td>2014-11-15</td>\n",
       "      <td>Sue is a great host! We really felt welcome an...</td>\n",
       "      <td>Sue's Place</td>\n",
       "      <td>Bernal Heights</td>\n",
       "      <td>London</td>\n",
       "      <td>California</td>\n",
       "      <td>United States</td>\n",
       "      <td>Private room</td>\n",
       "      <td>135</td>\n",
       "      <td>339</td>\n",
       "    </tr>\n",
       "    <tr>\n",
       "      <th>708</th>\n",
       "      <td>52109736</td>\n",
       "      <td>2013-01-05</td>\n",
       "      <td>Very very cozy,clean,quiet place! Nice,kind an...</td>\n",
       "      <td>Cozy-Quite Single-Family Room</td>\n",
       "      <td>Excelsior</td>\n",
       "      <td>London</td>\n",
       "      <td>California</td>\n",
       "      <td>United States</td>\n",
       "      <td>Private room</td>\n",
       "      <td>80</td>\n",
       "      <td>361</td>\n",
       "    </tr>\n",
       "    <tr>\n",
       "      <th>747</th>\n",
       "      <td>11656316</td>\n",
       "      <td>2013-05-03</td>\n",
       "      <td>We loved staying at Natasha's and Kai's gourge...</td>\n",
       "      <td>Traditional Mission Victorian</td>\n",
       "      <td>Mission</td>\n",
       "      <td>London</td>\n",
       "      <td>California</td>\n",
       "      <td>United States</td>\n",
       "      <td>Private room</td>\n",
       "      <td>110</td>\n",
       "      <td>330</td>\n",
       "    </tr>\n",
       "    <tr>\n",
       "      <th>774</th>\n",
       "      <td>33501216</td>\n",
       "      <td>2012-09-22</td>\n",
       "      <td>Sandra was very welcoming and helpful with all...</td>\n",
       "      <td>Escape to &amp; Relax 4 blocks to Beach</td>\n",
       "      <td>Playa del Rey</td>\n",
       "      <td>London</td>\n",
       "      <td>California</td>\n",
       "      <td>United States</td>\n",
       "      <td>Private room</td>\n",
       "      <td>95</td>\n",
       "      <td>127</td>\n",
       "    </tr>\n",
       "    <tr>\n",
       "      <th>818</th>\n",
       "      <td>897662</td>\n",
       "      <td>2013-09-19</td>\n",
       "      <td>It was a pleasure to stay at this very beautif...</td>\n",
       "      <td>L.A. Lifestyle--like you live here</td>\n",
       "      <td>Mid-City</td>\n",
       "      <td>London</td>\n",
       "      <td>California</td>\n",
       "      <td>United States</td>\n",
       "      <td>Private room</td>\n",
       "      <td>100</td>\n",
       "      <td>306</td>\n",
       "    </tr>\n",
       "    <tr>\n",
       "      <th>829</th>\n",
       "      <td>26694986</td>\n",
       "      <td>2014-09-03</td>\n",
       "      <td>The area is amazing and safe and Tracy's place...</td>\n",
       "      <td>Tracy&amp;Ava's Angel room</td>\n",
       "      <td>Venice</td>\n",
       "      <td>London</td>\n",
       "      <td>California</td>\n",
       "      <td>United States</td>\n",
       "      <td>Private room</td>\n",
       "      <td>92</td>\n",
       "      <td>344</td>\n",
       "    </tr>\n",
       "    <tr>\n",
       "      <th>889</th>\n",
       "      <td>965480</td>\n",
       "      <td>2014-05-17</td>\n",
       "      <td>A non-expensive option in Santa Monica. The ro...</td>\n",
       "      <td>Master BR in Santa Monica Townhome</td>\n",
       "      <td>Santa Monica</td>\n",
       "      <td>London</td>\n",
       "      <td>California</td>\n",
       "      <td>United States</td>\n",
       "      <td>Private room</td>\n",
       "      <td>74</td>\n",
       "      <td>214</td>\n",
       "    </tr>\n",
       "    <tr>\n",
       "      <th>898</th>\n",
       "      <td>32425960</td>\n",
       "      <td>2012-04-02</td>\n",
       "      <td>Adrian has a bright home and equally bright pe...</td>\n",
       "      <td>Double Room in the Castro</td>\n",
       "      <td>Castro/Upper Market</td>\n",
       "      <td>London</td>\n",
       "      <td>California</td>\n",
       "      <td>United States</td>\n",
       "      <td>Private room</td>\n",
       "      <td>125</td>\n",
       "      <td>178</td>\n",
       "    </tr>\n",
       "    <tr>\n",
       "      <th>909</th>\n",
       "      <td>17600876</td>\n",
       "      <td>2012-12-04</td>\n",
       "      <td>My travels plans change and therefore I needed...</td>\n",
       "      <td>Santa Monica / easy access to LA 2</td>\n",
       "      <td>Santa Monica</td>\n",
       "      <td>London</td>\n",
       "      <td>California</td>\n",
       "      <td>United States</td>\n",
       "      <td>Private room</td>\n",
       "      <td>79</td>\n",
       "      <td>319</td>\n",
       "    </tr>\n",
       "    <tr>\n",
       "      <th>928</th>\n",
       "      <td>38052964</td>\n",
       "      <td>2012-10-18</td>\n",
       "      <td>so, this is what it says in the listing: 'We h...</td>\n",
       "      <td>Serene Garden Room by the Beach!!!</td>\n",
       "      <td>Santa Monica</td>\n",
       "      <td>London</td>\n",
       "      <td>California</td>\n",
       "      <td>United States</td>\n",
       "      <td>Private room</td>\n",
       "      <td>80</td>\n",
       "      <td>82</td>\n",
       "    </tr>\n",
       "    <tr>\n",
       "      <th>940</th>\n",
       "      <td>37536009</td>\n",
       "      <td>2014-09-23</td>\n",
       "      <td>Kathryn was a lovely host, and she answered al...</td>\n",
       "      <td>stay in the heart of santa monica</td>\n",
       "      <td>Santa Monica</td>\n",
       "      <td>London</td>\n",
       "      <td>California</td>\n",
       "      <td>United States</td>\n",
       "      <td>Private room</td>\n",
       "      <td>89</td>\n",
       "      <td>361</td>\n",
       "    </tr>\n",
       "    <tr>\n",
       "      <th>958</th>\n",
       "      <td>5009965</td>\n",
       "      <td>2013-01-28</td>\n",
       "      <td>Elke's place was just wonderful. The moment I ...</td>\n",
       "      <td>Cozy  &amp; Sweet Studio - Private</td>\n",
       "      <td>Noe Valley</td>\n",
       "      <td>London</td>\n",
       "      <td>California</td>\n",
       "      <td>United States</td>\n",
       "      <td>Private room</td>\n",
       "      <td>95</td>\n",
       "      <td>244</td>\n",
       "    </tr>\n",
       "  </tbody>\n",
       "</table>\n",
       "</div>"
      ],
      "text/plain": [
       "     Review ID Review Date                                     Review Content  \\\n",
       "17     7568387  2013-02-01  Kristina and Ekaterine were lovley hosts. They...   \n",
       "22    33973256  2013-03-30  Pros: Parking inside property. Convenient Loca...   \n",
       "32    16153533  2012-06-12  Good location.  Nice house.  Sunny and comfort...   \n",
       "36    35333712  2012-07-27  Aj is really nice , and kind guy.. It was good...   \n",
       "50    17543666  2012-01-03  This is a great place to stay, it is a lovely ...   \n",
       "66    40805030  2012-10-11  Kristelle was very kind and super welcoming! I...   \n",
       "74     7911249  2014-01-17  I contacted Laurie on a Saturday evening at th...   \n",
       "108   24086047  2012-06-24  Rachel's house was very convenient and I had n...   \n",
       "109   10945962  2013-08-04  Probably the most comfortable bed in my life (...   \n",
       "161   38960229  2012-04-21  Ricky was responsive and welcoming. You get wh...   \n",
       "178   30480072  2012-03-25  Camille is a happy, busy, engaging woman who w...   \n",
       "181   32219958  2013-09-24  Great room! Private, clean, adorable & afforda...   \n",
       "204   43365494  2012-07-10  The place was just as advertised; good locatio...   \n",
       "205   23442390  2012-09-23  Sonia and Jason made us feel at home from the ...   \n",
       "215   36873068  2014-06-13  We are very very pleased with our stay with To...   \n",
       "236   45372449  2012-09-12  Our stay in the room was pleasant and it fit t...   \n",
       "258   31118183  2014-09-04  Mike was a gracious host and he was very accom...   \n",
       "290   26877442  2014-01-16  Omar and Jean-Marie are one of the most gracio...   \n",
       "305   10926136  2012-08-14  My friend and I stayed with Lisa & joe at the ...   \n",
       "331   25985434  2013-07-23  Zack and Mel were everything you could want in...   \n",
       "390   37317051  2012-08-07  Alex and Justin were extremely sweet and recom...   \n",
       "394   47350434  2013-07-10  Nice, clean place in good style. Very friendly...   \n",
       "416    2846722  2013-01-06  Finding an apartment in San Francisco is diffi...   \n",
       "430   40152723  2013-10-12  Lara is a great host and the place was as desc...   \n",
       "445   31668856  2014-06-05  Wow, where to begin?...My visit with Sabine wa...   \n",
       "463   39354514  2013-04-20  Vivian is great. We like her and her place. Th...   \n",
       "497   11474019  2013-06-06  Sandy was so welcoming opening her house to me...   \n",
       "499   20742050  2013-09-18  Listing was accurate and more than expected. C...   \n",
       "513   19138611  2014-04-29  Wonderful house and amazing host! John's house...   \n",
       "571    1255563  2013-06-13  Nichola has a wonderful home in the Rancho dis...   \n",
       "591   38844338  2014-09-27  Abhay's home was lovely and comfortable and in...   \n",
       "594   35752320  2012-02-18  It was a great stay by David. He is very frien...   \n",
       "609   16483404  2013-11-23  Beth was away for the weekend but her husband ...   \n",
       "612   29049258  2014-04-22                   Spacious room and friendly host.   \n",
       "645   14169337  2013-03-12  I had such an AMAZING stay. Glamping was at it...   \n",
       "682    6649468  2013-01-08  We weren't around much, but we slept well and ...   \n",
       "707   13881760  2014-11-15  Sue is a great host! We really felt welcome an...   \n",
       "708   52109736  2013-01-05  Very very cozy,clean,quiet place! Nice,kind an...   \n",
       "747   11656316  2013-05-03  We loved staying at Natasha's and Kai's gourge...   \n",
       "774   33501216  2012-09-22  Sandra was very welcoming and helpful with all...   \n",
       "818     897662  2013-09-19  It was a pleasure to stay at this very beautif...   \n",
       "829   26694986  2014-09-03  The area is amazing and safe and Tracy's place...   \n",
       "889     965480  2014-05-17  A non-expensive option in Santa Monica. The ro...   \n",
       "898   32425960  2012-04-02  Adrian has a bright home and equally bright pe...   \n",
       "909   17600876  2012-12-04  My travels plans change and therefore I needed...   \n",
       "928   38052964  2012-10-18  so, this is what it says in the listing: 'We h...   \n",
       "940   37536009  2014-09-23  Kathryn was a lovely host, and she answered al...   \n",
       "958    5009965  2013-01-28  Elke's place was just wonderful. The moment I ...   \n",
       "\n",
       "                           Listing Title        Neighbourhood    City  \\\n",
       "17   Hollywood Furnished Private Bedroom            Hollywood  London   \n",
       "22        Private room4 historical house      Harvard Heights  London   \n",
       "32              Guest Room - Javier Azul              Mission  London   \n",
       "36               Modern & Comfy in LA!!!         Mid-Wilshire  London   \n",
       "50    Tranquil 2BR Suite w/ Private Bath     Western Addition  London   \n",
       "66     Great room in NOHO Arts district!      North Hollywood  London   \n",
       "74   CUTE~Cozy Venice Cottage!~close2LAX               Venice  London   \n",
       "108  Private studio, Oakland: Montclair             Merriwood  London   \n",
       "109    Stunning 1904 Colonial in Oakland           Oak Center  London   \n",
       "161                         The Utah Inn      South of Market  London   \n",
       "178  Studio Near Pasadena, San Marino...     East San Gabriel  London   \n",
       "181   PRIVATE Entrance Bedroom / Bath LA               Encino  London   \n",
       "204    Stay in the heart of North Beach!          North Beach  London   \n",
       "205  Beautiful Home near Ocean & GG Park         Outer Sunset  London   \n",
       "215              Perfect beach getaway!          Santa Monica  London   \n",
       "236     Starlight Room With 2 Queen Beds          Pico Rivera  London   \n",
       "258       Pvt Room gated parking in NOHO       Valley Village  London   \n",
       "290     Cozy double in Mission Victorian              Mission  London   \n",
       "305        Rm#1-PEACEFUL PARADISE by Sea               Venice  London   \n",
       "331    Big House, Hip Scene, Chill Ppl 1          Silver Lake  London   \n",
       "390  Mission bedroom in Garden Apartment              Mission  London   \n",
       "394          Dolores Park View (2 rooms)              Mission  London   \n",
       "416   5-Star Nob Hill Bright Heart of SF             Nob Hill  London   \n",
       "430   Treehouse Futon/Loft By The Beach!           Long Beach  London   \n",
       "445            Hollywood Hills Sanctuary      Hollywood Hills  London   \n",
       "463   Cozy Giants Room @Golden Gate Park       Inner Richmond  London   \n",
       "497    Eagle Rock Guest Room with a View           Eagle Rock  London   \n",
       "499   Private Sunny Room in Artist's Apt          Studio City  London   \n",
       "513     Hollywood Private Room Queen Bed            Hollywood  London   \n",
       "571  Burbank - Nr Disney NBC Warner NYFA              Burbank  London   \n",
       "591   Master suite in Charming Edwardian            Glen Park  London   \n",
       "594            Modern, Contemporary Apt.         Santa Monica  London   \n",
       "609      Peaceful room in Glen Park (SF)        Outer Mission  London   \n",
       "612       Urban Tranquility in Ingleside           Ocean View  London   \n",
       "645        Rm#4-PEACEFUL PARADISE by Sea               Venice  London   \n",
       "682    Vintage Sunny Private Room + Bath         Potrero Hill  London   \n",
       "707                          Sue's Place       Bernal Heights  London   \n",
       "708        Cozy-Quite Single-Family Room            Excelsior  London   \n",
       "747        Traditional Mission Victorian              Mission  London   \n",
       "774  Escape to & Relax 4 blocks to Beach        Playa del Rey  London   \n",
       "818  L.A. Lifestyle--like you live here              Mid-City  London   \n",
       "829               Tracy&Ava's Angel room               Venice  London   \n",
       "889   Master BR in Santa Monica Townhome         Santa Monica  London   \n",
       "898            Double Room in the Castro  Castro/Upper Market  London   \n",
       "909   Santa Monica / easy access to LA 2         Santa Monica  London   \n",
       "928   Serene Garden Room by the Beach!!!         Santa Monica  London   \n",
       "940    stay in the heart of santa monica         Santa Monica  London   \n",
       "958       Cozy  & Sweet Studio - Private           Noe Valley  London   \n",
       "\n",
       "          State        Country     Room Type  Room Price  Room Availability  \n",
       "17   California  United States  Private room          99                244  \n",
       "22   California  United States  Private room          46                357  \n",
       "32   California  United States  Private room          65                335  \n",
       "36   California  United States  Private room          94                254  \n",
       "50   California  United States  Private room         240                338  \n",
       "66   California  United States  Private room          57                256  \n",
       "74   California  United States  Private room         100                335  \n",
       "108  California  United States  Private room          88                263  \n",
       "109  California  United States  Private room          59                269  \n",
       "161  California  United States  Private room          65                132  \n",
       "178  California  United States  Private room          62                322  \n",
       "181  California  United States  Private room          80                306  \n",
       "204  California  United States  Private room          89                312  \n",
       "205  California  United States  Private room          97                365  \n",
       "215  California  United States  Private room         100                168  \n",
       "236  California  United States  Private room          59                350  \n",
       "258  California  United States  Private room          55                258  \n",
       "290  California  United States  Private room         120                125  \n",
       "305  California  United States  Private room         100                340  \n",
       "331  California  United States  Private room          87                109  \n",
       "390  California  United States  Private room          95                331  \n",
       "394  California  United States  Private room         140                257  \n",
       "416  California  United States  Private room         129                 29  \n",
       "430  California  United States  Private room          58                365  \n",
       "445  California  United States  Private room          88                340  \n",
       "463  California  United States  Private room         115                354  \n",
       "497  California  United States  Private room          80                356  \n",
       "499  California  United States  Private room          70                322  \n",
       "513  California  United States  Private room          85                272  \n",
       "571  California  United States  Private room          95                365  \n",
       "591  California  United States  Private room         105                219  \n",
       "594  California  United States  Private room          90                359  \n",
       "609  California  United States  Private room          65                120  \n",
       "612  California  United States  Private room         100                324  \n",
       "645  California  United States  Private room          80                360  \n",
       "682  California  United States  Private room          80                283  \n",
       "707  California  United States  Private room         135                339  \n",
       "708  California  United States  Private room          80                361  \n",
       "747  California  United States  Private room         110                330  \n",
       "774  California  United States  Private room          95                127  \n",
       "818  California  United States  Private room         100                306  \n",
       "829  California  United States  Private room          92                344  \n",
       "889  California  United States  Private room          74                214  \n",
       "898  California  United States  Private room         125                178  \n",
       "909  California  United States  Private room          79                319  \n",
       "928  California  United States  Private room          80                 82  \n",
       "940  California  United States  Private room          89                361  \n",
       "958  California  United States  Private room          95                244  "
      ]
     },
     "execution_count": 276,
     "metadata": {},
     "output_type": "execute_result"
    }
   ],
   "source": [
    "review[mask]"
   ]
  },
  {
   "cell_type": "markdown",
   "id": "cb07b710-6ee9-4f7b-bd27-ac15667ba1de",
   "metadata": {},
   "source": [
    "### |"
   ]
  },
  {
   "cell_type": "code",
   "execution_count": 279,
   "id": "f2b2b45e-bb0f-4370-855f-67528a99c307",
   "metadata": {},
   "outputs": [],
   "source": [
    "mask = (review[\"Room Type\"] == \"Private room\") | (review[\"Room Price\"] >200)"
   ]
  },
  {
   "cell_type": "code",
   "execution_count": 280,
   "id": "e1bcedf3-6765-4ffe-9f3b-d4ee78a407ee",
   "metadata": {},
   "outputs": [
    {
     "data": {
      "text/html": [
       "<div>\n",
       "<style scoped>\n",
       "    .dataframe tbody tr th:only-of-type {\n",
       "        vertical-align: middle;\n",
       "    }\n",
       "\n",
       "    .dataframe tbody tr th {\n",
       "        vertical-align: top;\n",
       "    }\n",
       "\n",
       "    .dataframe thead th {\n",
       "        text-align: right;\n",
       "    }\n",
       "</style>\n",
       "<table border=\"1\" class=\"dataframe\">\n",
       "  <thead>\n",
       "    <tr style=\"text-align: right;\">\n",
       "      <th></th>\n",
       "      <th>Review ID</th>\n",
       "      <th>Review Date</th>\n",
       "      <th>Review Content</th>\n",
       "      <th>Listing Title</th>\n",
       "      <th>Neighbourhood</th>\n",
       "      <th>City</th>\n",
       "      <th>State</th>\n",
       "      <th>Country</th>\n",
       "      <th>Room Type</th>\n",
       "      <th>Room Price</th>\n",
       "      <th>Room Availability</th>\n",
       "    </tr>\n",
       "  </thead>\n",
       "  <tbody>\n",
       "    <tr>\n",
       "      <th>1</th>\n",
       "      <td>25329416</td>\n",
       "      <td>2013-11-03</td>\n",
       "      <td>Me and my friends had such a nice time at Dott...</td>\n",
       "      <td>Quiet Pink Studio in the PIJP area</td>\n",
       "      <td>De Pijp - Rivierenbuurt</td>\n",
       "      <td>London</td>\n",
       "      <td>North Holland</td>\n",
       "      <td>The Netherlands</td>\n",
       "      <td>Private room</td>\n",
       "      <td>80</td>\n",
       "      <td>10</td>\n",
       "    </tr>\n",
       "    <tr>\n",
       "      <th>2</th>\n",
       "      <td>21705849</td>\n",
       "      <td>2014-11-27</td>\n",
       "      <td>I stayed for 4night.She gave us a lot of snuck...</td>\n",
       "      <td>PRIVATE Room in Spacious, Quiet Apt</td>\n",
       "      <td>Harlem</td>\n",
       "      <td>London</td>\n",
       "      <td>New York</td>\n",
       "      <td>United States</td>\n",
       "      <td>Private room</td>\n",
       "      <td>57</td>\n",
       "      <td>268</td>\n",
       "    </tr>\n",
       "    <tr>\n",
       "      <th>5</th>\n",
       "      <td>11372151</td>\n",
       "      <td>2014-11-19</td>\n",
       "      <td>We spent four days at Shane's place. The locat...</td>\n",
       "      <td>Great Light-filled Alberta Arts Rm</td>\n",
       "      <td>King</td>\n",
       "      <td>London</td>\n",
       "      <td>Oregon</td>\n",
       "      <td>United States</td>\n",
       "      <td>Private room</td>\n",
       "      <td>55</td>\n",
       "      <td>121</td>\n",
       "    </tr>\n",
       "    <tr>\n",
       "      <th>6</th>\n",
       "      <td>20417380</td>\n",
       "      <td>2013-11-07</td>\n",
       "      <td>Wonderful experience. We loved staying in the ...</td>\n",
       "      <td>LARGE HOME FOR GROUP ACCOMMODATION</td>\n",
       "      <td>Stonnington</td>\n",
       "      <td>London</td>\n",
       "      <td>Victoria</td>\n",
       "      <td>Australia</td>\n",
       "      <td>Entire home/apt</td>\n",
       "      <td>248</td>\n",
       "      <td>239</td>\n",
       "    </tr>\n",
       "    <tr>\n",
       "      <th>7</th>\n",
       "      <td>10787310</td>\n",
       "      <td>2013-06-02</td>\n",
       "      <td>Carolines room is perfectly located to discove...</td>\n",
       "      <td>Private room - Central London</td>\n",
       "      <td>Westminster</td>\n",
       "      <td>London</td>\n",
       "      <td>England</td>\n",
       "      <td>United Kingdom</td>\n",
       "      <td>Private room</td>\n",
       "      <td>60</td>\n",
       "      <td>351</td>\n",
       "    </tr>\n",
       "    <tr>\n",
       "      <th>...</th>\n",
       "      <td>...</td>\n",
       "      <td>...</td>\n",
       "      <td>...</td>\n",
       "      <td>...</td>\n",
       "      <td>...</td>\n",
       "      <td>...</td>\n",
       "      <td>...</td>\n",
       "      <td>...</td>\n",
       "      <td>...</td>\n",
       "      <td>...</td>\n",
       "      <td>...</td>\n",
       "    </tr>\n",
       "    <tr>\n",
       "      <th>985</th>\n",
       "      <td>29498170</td>\n",
       "      <td>2013-12-17</td>\n",
       "      <td>The neighborhood was pretty central and my fri...</td>\n",
       "      <td>Great Room at the Gran Via</td>\n",
       "      <td>Palacio</td>\n",
       "      <td>London</td>\n",
       "      <td>Comunidad de Madrid</td>\n",
       "      <td>Spain</td>\n",
       "      <td>Private room</td>\n",
       "      <td>30</td>\n",
       "      <td>338</td>\n",
       "    </tr>\n",
       "    <tr>\n",
       "      <th>989</th>\n",
       "      <td>48665633</td>\n",
       "      <td>2012-11-19</td>\n",
       "      <td>Very nice place in a nice neighborhood. Not fa...</td>\n",
       "      <td>North Austin garden haven</td>\n",
       "      <td>78753</td>\n",
       "      <td>London</td>\n",
       "      <td>Texas</td>\n",
       "      <td>United States</td>\n",
       "      <td>Private room</td>\n",
       "      <td>65</td>\n",
       "      <td>364</td>\n",
       "    </tr>\n",
       "    <tr>\n",
       "      <th>995</th>\n",
       "      <td>44498863</td>\n",
       "      <td>2012-08-30</td>\n",
       "      <td>I loved staying here during my time in Paris. ...</td>\n",
       "      <td>A typical parisian flat</td>\n",
       "      <td>Buttes-Montmartre</td>\n",
       "      <td>London</td>\n",
       "      <td>Île-de-France</td>\n",
       "      <td>France</td>\n",
       "      <td>Private room</td>\n",
       "      <td>35</td>\n",
       "      <td>329</td>\n",
       "    </tr>\n",
       "    <tr>\n",
       "      <th>998</th>\n",
       "      <td>21403195</td>\n",
       "      <td>2014-12-26</td>\n",
       "      <td>Very good experiance had a comfortable stay. V...</td>\n",
       "      <td>NR LGA/JFK &amp; City Studio W/Bathroom</td>\n",
       "      <td>Jackson Heights</td>\n",
       "      <td>London</td>\n",
       "      <td>New York</td>\n",
       "      <td>United States</td>\n",
       "      <td>Private room</td>\n",
       "      <td>75</td>\n",
       "      <td>357</td>\n",
       "    </tr>\n",
       "    <tr>\n",
       "      <th>999</th>\n",
       "      <td>38944752</td>\n",
       "      <td>2013-10-15</td>\n",
       "      <td>Thank you for the wonderful stay!   It was a c...</td>\n",
       "      <td>15 Minutes from Manhattan</td>\n",
       "      <td>Woodside</td>\n",
       "      <td>London</td>\n",
       "      <td>New York</td>\n",
       "      <td>United States</td>\n",
       "      <td>Private room</td>\n",
       "      <td>110</td>\n",
       "      <td>329</td>\n",
       "    </tr>\n",
       "  </tbody>\n",
       "</table>\n",
       "<p>431 rows × 11 columns</p>\n",
       "</div>"
      ],
      "text/plain": [
       "     Review ID Review Date                                     Review Content  \\\n",
       "1     25329416  2013-11-03  Me and my friends had such a nice time at Dott...   \n",
       "2     21705849  2014-11-27  I stayed for 4night.She gave us a lot of snuck...   \n",
       "5     11372151  2014-11-19  We spent four days at Shane's place. The locat...   \n",
       "6     20417380  2013-11-07  Wonderful experience. We loved staying in the ...   \n",
       "7     10787310  2013-06-02  Carolines room is perfectly located to discove...   \n",
       "..         ...         ...                                                ...   \n",
       "985   29498170  2013-12-17  The neighborhood was pretty central and my fri...   \n",
       "989   48665633  2012-11-19  Very nice place in a nice neighborhood. Not fa...   \n",
       "995   44498863  2012-08-30  I loved staying here during my time in Paris. ...   \n",
       "998   21403195  2014-12-26  Very good experiance had a comfortable stay. V...   \n",
       "999   38944752  2013-10-15  Thank you for the wonderful stay!   It was a c...   \n",
       "\n",
       "                           Listing Title            Neighbourhood    City  \\\n",
       "1     Quiet Pink Studio in the PIJP area  De Pijp - Rivierenbuurt  London   \n",
       "2    PRIVATE Room in Spacious, Quiet Apt                   Harlem  London   \n",
       "5     Great Light-filled Alberta Arts Rm                     King  London   \n",
       "6     LARGE HOME FOR GROUP ACCOMMODATION              Stonnington  London   \n",
       "7          Private room - Central London              Westminster  London   \n",
       "..                                   ...                      ...     ...   \n",
       "985           Great Room at the Gran Via                  Palacio  London   \n",
       "989            North Austin garden haven                    78753  London   \n",
       "995              A typical parisian flat        Buttes-Montmartre  London   \n",
       "998  NR LGA/JFK & City Studio W/Bathroom          Jackson Heights  London   \n",
       "999            15 Minutes from Manhattan                 Woodside  London   \n",
       "\n",
       "                   State          Country        Room Type  Room Price  \\\n",
       "1          North Holland  The Netherlands     Private room          80   \n",
       "2               New York    United States     Private room          57   \n",
       "5                 Oregon    United States     Private room          55   \n",
       "6               Victoria        Australia  Entire home/apt         248   \n",
       "7                England   United Kingdom     Private room          60   \n",
       "..                   ...              ...              ...         ...   \n",
       "985  Comunidad de Madrid            Spain     Private room          30   \n",
       "989                Texas    United States     Private room          65   \n",
       "995        Île-de-France           France     Private room          35   \n",
       "998             New York    United States     Private room          75   \n",
       "999             New York    United States     Private room         110   \n",
       "\n",
       "     Room Availability  \n",
       "1                   10  \n",
       "2                  268  \n",
       "5                  121  \n",
       "6                  239  \n",
       "7                  351  \n",
       "..                 ...  \n",
       "985                338  \n",
       "989                364  \n",
       "995                329  \n",
       "998                357  \n",
       "999                329  \n",
       "\n",
       "[431 rows x 11 columns]"
      ]
     },
     "execution_count": 280,
     "metadata": {},
     "output_type": "execute_result"
    }
   ],
   "source": [
    "review[mask]"
   ]
  },
  {
   "cell_type": "markdown",
   "id": "ee631498-8c61-4017-98a9-cd4446d2e68f",
   "metadata": {},
   "source": [
    "### isin()"
   ]
  },
  {
   "cell_type": "code",
   "execution_count": 310,
   "id": "a6568d06-b11e-4daf-88d0-ef276a03d417",
   "metadata": {},
   "outputs": [],
   "source": [
    "mask =  (review[\"City\"] == \"Madrid\") | (review[\"City\"] == \"London\") | (review[\"City\"] == \"Amsterdam\") | (review[\"City\"] == \"Paris\")"
   ]
  },
  {
   "cell_type": "code",
   "execution_count": 311,
   "id": "e1da15d7-1d5b-4f48-ba50-17d3a2dcdc1c",
   "metadata": {},
   "outputs": [
    {
     "data": {
      "text/html": [
       "<div>\n",
       "<style scoped>\n",
       "    .dataframe tbody tr th:only-of-type {\n",
       "        vertical-align: middle;\n",
       "    }\n",
       "\n",
       "    .dataframe tbody tr th {\n",
       "        vertical-align: top;\n",
       "    }\n",
       "\n",
       "    .dataframe thead th {\n",
       "        text-align: right;\n",
       "    }\n",
       "</style>\n",
       "<table border=\"1\" class=\"dataframe\">\n",
       "  <thead>\n",
       "    <tr style=\"text-align: right;\">\n",
       "      <th></th>\n",
       "      <th>Review ID</th>\n",
       "      <th>Review Date</th>\n",
       "      <th>Review Content</th>\n",
       "      <th>Listing Title</th>\n",
       "      <th>Neighbourhood</th>\n",
       "      <th>City</th>\n",
       "      <th>State</th>\n",
       "      <th>Country</th>\n",
       "      <th>Room Type</th>\n",
       "      <th>Room Price</th>\n",
       "      <th>Room Availability</th>\n",
       "    </tr>\n",
       "  </thead>\n",
       "  <tbody>\n",
       "    <tr>\n",
       "      <th>0</th>\n",
       "      <td>4055629</td>\n",
       "      <td>2012-10-06</td>\n",
       "      <td>Very nice accommodation in an aesthetically pl...</td>\n",
       "      <td>Nottinghill Portobello  Artist Flat</td>\n",
       "      <td>Kensington and Chelsea</td>\n",
       "      <td>London</td>\n",
       "      <td>England</td>\n",
       "      <td>United Kingdom</td>\n",
       "      <td>Entire home/apt</td>\n",
       "      <td>100</td>\n",
       "      <td>338</td>\n",
       "    </tr>\n",
       "    <tr>\n",
       "      <th>658</th>\n",
       "      <td>23914491</td>\n",
       "      <td>2012-04-06</td>\n",
       "      <td>It was my first ever time using airbnb to book...</td>\n",
       "      <td>appt 5 1/2 spacieux/luxueux</td>\n",
       "      <td>Mercier-Hochelaga-Maisonneuve</td>\n",
       "      <td>London</td>\n",
       "      <td>Quebec</td>\n",
       "      <td>Canada</td>\n",
       "      <td>Entire home/apt</td>\n",
       "      <td>150</td>\n",
       "      <td>363</td>\n",
       "    </tr>\n",
       "    <tr>\n",
       "      <th>659</th>\n",
       "      <td>30148314</td>\n",
       "      <td>2013-07-23</td>\n",
       "      <td>Jenifer was welcoming and accommodating. I arr...</td>\n",
       "      <td>Spacious SF Getaway Near The Ocean</td>\n",
       "      <td>Parkside</td>\n",
       "      <td>London</td>\n",
       "      <td>California</td>\n",
       "      <td>United States</td>\n",
       "      <td>Entire home/apt</td>\n",
       "      <td>165</td>\n",
       "      <td>356</td>\n",
       "    </tr>\n",
       "    <tr>\n",
       "      <th>660</th>\n",
       "      <td>24710430</td>\n",
       "      <td>2014-05-28</td>\n",
       "      <td>We found the accommodations as described.  The...</td>\n",
       "      <td>Design!Canal and San Marco's view</td>\n",
       "      <td>Cannaregio</td>\n",
       "      <td>London</td>\n",
       "      <td>Veneto</td>\n",
       "      <td>Italy</td>\n",
       "      <td>Entire home/apt</td>\n",
       "      <td>133</td>\n",
       "      <td>310</td>\n",
       "    </tr>\n",
       "    <tr>\n",
       "      <th>661</th>\n",
       "      <td>27094762</td>\n",
       "      <td>2013-09-08</td>\n",
       "      <td>Great stay! Everything went smoothly. Thanks!</td>\n",
       "      <td>Lovely House in heart of Silverlake</td>\n",
       "      <td>Silver Lake</td>\n",
       "      <td>London</td>\n",
       "      <td>California</td>\n",
       "      <td>United States</td>\n",
       "      <td>Entire home/apt</td>\n",
       "      <td>125</td>\n",
       "      <td>235</td>\n",
       "    </tr>\n",
       "    <tr>\n",
       "      <th>...</th>\n",
       "      <td>...</td>\n",
       "      <td>...</td>\n",
       "      <td>...</td>\n",
       "      <td>...</td>\n",
       "      <td>...</td>\n",
       "      <td>...</td>\n",
       "      <td>...</td>\n",
       "      <td>...</td>\n",
       "      <td>...</td>\n",
       "      <td>...</td>\n",
       "      <td>...</td>\n",
       "    </tr>\n",
       "    <tr>\n",
       "      <th>339</th>\n",
       "      <td>7318998</td>\n",
       "      <td>2012-10-07</td>\n",
       "      <td>Rob was a great host, it was a pleasure meetin...</td>\n",
       "      <td>Beautiful studio in Manhattan</td>\n",
       "      <td>Hell's Kitchen</td>\n",
       "      <td>London</td>\n",
       "      <td>New York</td>\n",
       "      <td>United States</td>\n",
       "      <td>Entire home/apt</td>\n",
       "      <td>200</td>\n",
       "      <td>0</td>\n",
       "    </tr>\n",
       "    <tr>\n",
       "      <th>340</th>\n",
       "      <td>34515406</td>\n",
       "      <td>2013-02-25</td>\n",
       "      <td>This is a beautiful place in a great location....</td>\n",
       "      <td>Luxury Chicago Loft</td>\n",
       "      <td>Lake View</td>\n",
       "      <td>London</td>\n",
       "      <td>Illinois</td>\n",
       "      <td>United States</td>\n",
       "      <td>Entire home/apt</td>\n",
       "      <td>165</td>\n",
       "      <td>299</td>\n",
       "    </tr>\n",
       "    <tr>\n",
       "      <th>341</th>\n",
       "      <td>39989690</td>\n",
       "      <td>2012-05-10</td>\n",
       "      <td>PROS: *spacious for our party of 6 adults and ...</td>\n",
       "      <td>Top floor upscale 2BD/2BA condo A</td>\n",
       "      <td>Bridgeton</td>\n",
       "      <td>London</td>\n",
       "      <td>Oregon</td>\n",
       "      <td>United States</td>\n",
       "      <td>Entire home/apt</td>\n",
       "      <td>150</td>\n",
       "      <td>339</td>\n",
       "    </tr>\n",
       "    <tr>\n",
       "      <th>328</th>\n",
       "      <td>7937600</td>\n",
       "      <td>2013-01-04</td>\n",
       "      <td>the host was so friendly, generous and kind. m...</td>\n",
       "      <td>East Dulwich single - garden view</td>\n",
       "      <td>Southwark</td>\n",
       "      <td>London</td>\n",
       "      <td>England</td>\n",
       "      <td>United Kingdom</td>\n",
       "      <td>Private room</td>\n",
       "      <td>30</td>\n",
       "      <td>356</td>\n",
       "    </tr>\n",
       "    <tr>\n",
       "      <th>999</th>\n",
       "      <td>38944752</td>\n",
       "      <td>2013-10-15</td>\n",
       "      <td>Thank you for the wonderful stay!   It was a c...</td>\n",
       "      <td>15 Minutes from Manhattan</td>\n",
       "      <td>Woodside</td>\n",
       "      <td>London</td>\n",
       "      <td>New York</td>\n",
       "      <td>United States</td>\n",
       "      <td>Private room</td>\n",
       "      <td>110</td>\n",
       "      <td>329</td>\n",
       "    </tr>\n",
       "  </tbody>\n",
       "</table>\n",
       "<p>1000 rows × 11 columns</p>\n",
       "</div>"
      ],
      "text/plain": [
       "     Review ID Review Date                                     Review Content  \\\n",
       "0      4055629  2012-10-06  Very nice accommodation in an aesthetically pl...   \n",
       "658   23914491  2012-04-06  It was my first ever time using airbnb to book...   \n",
       "659   30148314  2013-07-23  Jenifer was welcoming and accommodating. I arr...   \n",
       "660   24710430  2014-05-28  We found the accommodations as described.  The...   \n",
       "661   27094762  2013-09-08     Great stay! Everything went smoothly. Thanks!    \n",
       "..         ...         ...                                                ...   \n",
       "339    7318998  2012-10-07  Rob was a great host, it was a pleasure meetin...   \n",
       "340   34515406  2013-02-25  This is a beautiful place in a great location....   \n",
       "341   39989690  2012-05-10  PROS: *spacious for our party of 6 adults and ...   \n",
       "328    7937600  2013-01-04  the host was so friendly, generous and kind. m...   \n",
       "999   38944752  2013-10-15  Thank you for the wonderful stay!   It was a c...   \n",
       "\n",
       "                           Listing Title                  Neighbourhood  \\\n",
       "0    Nottinghill Portobello  Artist Flat         Kensington and Chelsea   \n",
       "658         appt 5 1/2 spacieux/luxueux   Mercier-Hochelaga-Maisonneuve   \n",
       "659   Spacious SF Getaway Near The Ocean                       Parkside   \n",
       "660   Design!Canal and San Marco's view                      Cannaregio   \n",
       "661  Lovely House in heart of Silverlake                    Silver Lake   \n",
       "..                                   ...                            ...   \n",
       "339        Beautiful studio in Manhattan                 Hell's Kitchen   \n",
       "340                  Luxury Chicago Loft                      Lake View   \n",
       "341    Top floor upscale 2BD/2BA condo A                      Bridgeton   \n",
       "328    East Dulwich single - garden view                      Southwark   \n",
       "999            15 Minutes from Manhattan                       Woodside   \n",
       "\n",
       "       City       State         Country        Room Type  Room Price  \\\n",
       "0    London     England  United Kingdom  Entire home/apt         100   \n",
       "658  London      Quebec          Canada  Entire home/apt         150   \n",
       "659  London  California   United States  Entire home/apt         165   \n",
       "660  London      Veneto           Italy  Entire home/apt         133   \n",
       "661  London  California   United States  Entire home/apt         125   \n",
       "..      ...         ...             ...              ...         ...   \n",
       "339  London    New York   United States  Entire home/apt         200   \n",
       "340  London    Illinois   United States  Entire home/apt         165   \n",
       "341  London      Oregon   United States  Entire home/apt         150   \n",
       "328  London     England  United Kingdom     Private room          30   \n",
       "999  London    New York   United States     Private room         110   \n",
       "\n",
       "     Room Availability  \n",
       "0                  338  \n",
       "658                363  \n",
       "659                356  \n",
       "660                310  \n",
       "661                235  \n",
       "..                 ...  \n",
       "339                  0  \n",
       "340                299  \n",
       "341                339  \n",
       "328                356  \n",
       "999                329  \n",
       "\n",
       "[1000 rows x 11 columns]"
      ]
     },
     "execution_count": 311,
     "metadata": {},
     "output_type": "execute_result"
    }
   ],
   "source": [
    "review[mask]"
   ]
  },
  {
   "cell_type": "code",
   "execution_count": 312,
   "id": "77dabe88-a3f2-4018-befe-e7220bb085e5",
   "metadata": {},
   "outputs": [],
   "source": [
    "mask1 =  review[\"City\"].isin([\"Madrid\", \"London\", \"Amsterdam\", \"Paris\"])"
   ]
  },
  {
   "cell_type": "code",
   "execution_count": 313,
   "id": "87cc7209-9020-4309-8c78-4d48df95e795",
   "metadata": {},
   "outputs": [
    {
     "data": {
      "text/plain": [
       "0      True\n",
       "658    True\n",
       "659    True\n",
       "660    True\n",
       "661    True\n",
       "       ... \n",
       "339    True\n",
       "340    True\n",
       "341    True\n",
       "328    True\n",
       "999    True\n",
       "Name: City, Length: 1000, dtype: bool"
      ]
     },
     "execution_count": 313,
     "metadata": {},
     "output_type": "execute_result"
    }
   ],
   "source": [
    "mask1"
   ]
  },
  {
   "cell_type": "code",
   "execution_count": 307,
   "id": "0d989914-dd14-436d-b62d-199aca46272d",
   "metadata": {},
   "outputs": [
    {
     "data": {
      "text/html": [
       "<div>\n",
       "<style scoped>\n",
       "    .dataframe tbody tr th:only-of-type {\n",
       "        vertical-align: middle;\n",
       "    }\n",
       "\n",
       "    .dataframe tbody tr th {\n",
       "        vertical-align: top;\n",
       "    }\n",
       "\n",
       "    .dataframe thead th {\n",
       "        text-align: right;\n",
       "    }\n",
       "</style>\n",
       "<table border=\"1\" class=\"dataframe\">\n",
       "  <thead>\n",
       "    <tr style=\"text-align: right;\">\n",
       "      <th></th>\n",
       "      <th>Review ID</th>\n",
       "      <th>Review Date</th>\n",
       "      <th>Review Content</th>\n",
       "      <th>Listing Title</th>\n",
       "      <th>Neighbourhood</th>\n",
       "      <th>City</th>\n",
       "      <th>State</th>\n",
       "      <th>Country</th>\n",
       "      <th>Room Type</th>\n",
       "      <th>Room Price</th>\n",
       "      <th>Room Availability</th>\n",
       "    </tr>\n",
       "  </thead>\n",
       "  <tbody>\n",
       "    <tr>\n",
       "      <th>0</th>\n",
       "      <td>4055629</td>\n",
       "      <td>2012-10-06</td>\n",
       "      <td>Very nice accommodation in an aesthetically pl...</td>\n",
       "      <td>Nottinghill Portobello  Artist Flat</td>\n",
       "      <td>Kensington and Chelsea</td>\n",
       "      <td>London</td>\n",
       "      <td>England</td>\n",
       "      <td>United Kingdom</td>\n",
       "      <td>Entire home/apt</td>\n",
       "      <td>100</td>\n",
       "      <td>338</td>\n",
       "    </tr>\n",
       "    <tr>\n",
       "      <th>658</th>\n",
       "      <td>23914491</td>\n",
       "      <td>2012-04-06</td>\n",
       "      <td>It was my first ever time using airbnb to book...</td>\n",
       "      <td>appt 5 1/2 spacieux/luxueux</td>\n",
       "      <td>Mercier-Hochelaga-Maisonneuve</td>\n",
       "      <td>London</td>\n",
       "      <td>Quebec</td>\n",
       "      <td>Canada</td>\n",
       "      <td>Entire home/apt</td>\n",
       "      <td>150</td>\n",
       "      <td>363</td>\n",
       "    </tr>\n",
       "    <tr>\n",
       "      <th>659</th>\n",
       "      <td>30148314</td>\n",
       "      <td>2013-07-23</td>\n",
       "      <td>Jenifer was welcoming and accommodating. I arr...</td>\n",
       "      <td>Spacious SF Getaway Near The Ocean</td>\n",
       "      <td>Parkside</td>\n",
       "      <td>London</td>\n",
       "      <td>California</td>\n",
       "      <td>United States</td>\n",
       "      <td>Entire home/apt</td>\n",
       "      <td>165</td>\n",
       "      <td>356</td>\n",
       "    </tr>\n",
       "    <tr>\n",
       "      <th>660</th>\n",
       "      <td>24710430</td>\n",
       "      <td>2014-05-28</td>\n",
       "      <td>We found the accommodations as described.  The...</td>\n",
       "      <td>Design!Canal and San Marco's view</td>\n",
       "      <td>Cannaregio</td>\n",
       "      <td>London</td>\n",
       "      <td>Veneto</td>\n",
       "      <td>Italy</td>\n",
       "      <td>Entire home/apt</td>\n",
       "      <td>133</td>\n",
       "      <td>310</td>\n",
       "    </tr>\n",
       "    <tr>\n",
       "      <th>661</th>\n",
       "      <td>27094762</td>\n",
       "      <td>2013-09-08</td>\n",
       "      <td>Great stay! Everything went smoothly. Thanks!</td>\n",
       "      <td>Lovely House in heart of Silverlake</td>\n",
       "      <td>Silver Lake</td>\n",
       "      <td>London</td>\n",
       "      <td>California</td>\n",
       "      <td>United States</td>\n",
       "      <td>Entire home/apt</td>\n",
       "      <td>125</td>\n",
       "      <td>235</td>\n",
       "    </tr>\n",
       "    <tr>\n",
       "      <th>...</th>\n",
       "      <td>...</td>\n",
       "      <td>...</td>\n",
       "      <td>...</td>\n",
       "      <td>...</td>\n",
       "      <td>...</td>\n",
       "      <td>...</td>\n",
       "      <td>...</td>\n",
       "      <td>...</td>\n",
       "      <td>...</td>\n",
       "      <td>...</td>\n",
       "      <td>...</td>\n",
       "    </tr>\n",
       "    <tr>\n",
       "      <th>339</th>\n",
       "      <td>7318998</td>\n",
       "      <td>2012-10-07</td>\n",
       "      <td>Rob was a great host, it was a pleasure meetin...</td>\n",
       "      <td>Beautiful studio in Manhattan</td>\n",
       "      <td>Hell's Kitchen</td>\n",
       "      <td>London</td>\n",
       "      <td>New York</td>\n",
       "      <td>United States</td>\n",
       "      <td>Entire home/apt</td>\n",
       "      <td>200</td>\n",
       "      <td>0</td>\n",
       "    </tr>\n",
       "    <tr>\n",
       "      <th>340</th>\n",
       "      <td>34515406</td>\n",
       "      <td>2013-02-25</td>\n",
       "      <td>This is a beautiful place in a great location....</td>\n",
       "      <td>Luxury Chicago Loft</td>\n",
       "      <td>Lake View</td>\n",
       "      <td>London</td>\n",
       "      <td>Illinois</td>\n",
       "      <td>United States</td>\n",
       "      <td>Entire home/apt</td>\n",
       "      <td>165</td>\n",
       "      <td>299</td>\n",
       "    </tr>\n",
       "    <tr>\n",
       "      <th>341</th>\n",
       "      <td>39989690</td>\n",
       "      <td>2012-05-10</td>\n",
       "      <td>PROS: *spacious for our party of 6 adults and ...</td>\n",
       "      <td>Top floor upscale 2BD/2BA condo A</td>\n",
       "      <td>Bridgeton</td>\n",
       "      <td>London</td>\n",
       "      <td>Oregon</td>\n",
       "      <td>United States</td>\n",
       "      <td>Entire home/apt</td>\n",
       "      <td>150</td>\n",
       "      <td>339</td>\n",
       "    </tr>\n",
       "    <tr>\n",
       "      <th>328</th>\n",
       "      <td>7937600</td>\n",
       "      <td>2013-01-04</td>\n",
       "      <td>the host was so friendly, generous and kind. m...</td>\n",
       "      <td>East Dulwich single - garden view</td>\n",
       "      <td>Southwark</td>\n",
       "      <td>London</td>\n",
       "      <td>England</td>\n",
       "      <td>United Kingdom</td>\n",
       "      <td>Private room</td>\n",
       "      <td>30</td>\n",
       "      <td>356</td>\n",
       "    </tr>\n",
       "    <tr>\n",
       "      <th>999</th>\n",
       "      <td>38944752</td>\n",
       "      <td>2013-10-15</td>\n",
       "      <td>Thank you for the wonderful stay!   It was a c...</td>\n",
       "      <td>15 Minutes from Manhattan</td>\n",
       "      <td>Woodside</td>\n",
       "      <td>London</td>\n",
       "      <td>New York</td>\n",
       "      <td>United States</td>\n",
       "      <td>Private room</td>\n",
       "      <td>110</td>\n",
       "      <td>329</td>\n",
       "    </tr>\n",
       "  </tbody>\n",
       "</table>\n",
       "<p>1000 rows × 11 columns</p>\n",
       "</div>"
      ],
      "text/plain": [
       "     Review ID Review Date                                     Review Content  \\\n",
       "0      4055629  2012-10-06  Very nice accommodation in an aesthetically pl...   \n",
       "658   23914491  2012-04-06  It was my first ever time using airbnb to book...   \n",
       "659   30148314  2013-07-23  Jenifer was welcoming and accommodating. I arr...   \n",
       "660   24710430  2014-05-28  We found the accommodations as described.  The...   \n",
       "661   27094762  2013-09-08     Great stay! Everything went smoothly. Thanks!    \n",
       "..         ...         ...                                                ...   \n",
       "339    7318998  2012-10-07  Rob was a great host, it was a pleasure meetin...   \n",
       "340   34515406  2013-02-25  This is a beautiful place in a great location....   \n",
       "341   39989690  2012-05-10  PROS: *spacious for our party of 6 adults and ...   \n",
       "328    7937600  2013-01-04  the host was so friendly, generous and kind. m...   \n",
       "999   38944752  2013-10-15  Thank you for the wonderful stay!   It was a c...   \n",
       "\n",
       "                           Listing Title                  Neighbourhood  \\\n",
       "0    Nottinghill Portobello  Artist Flat         Kensington and Chelsea   \n",
       "658         appt 5 1/2 spacieux/luxueux   Mercier-Hochelaga-Maisonneuve   \n",
       "659   Spacious SF Getaway Near The Ocean                       Parkside   \n",
       "660   Design!Canal and San Marco's view                      Cannaregio   \n",
       "661  Lovely House in heart of Silverlake                    Silver Lake   \n",
       "..                                   ...                            ...   \n",
       "339        Beautiful studio in Manhattan                 Hell's Kitchen   \n",
       "340                  Luxury Chicago Loft                      Lake View   \n",
       "341    Top floor upscale 2BD/2BA condo A                      Bridgeton   \n",
       "328    East Dulwich single - garden view                      Southwark   \n",
       "999            15 Minutes from Manhattan                       Woodside   \n",
       "\n",
       "       City       State         Country        Room Type  Room Price  \\\n",
       "0    London     England  United Kingdom  Entire home/apt         100   \n",
       "658  London      Quebec          Canada  Entire home/apt         150   \n",
       "659  London  California   United States  Entire home/apt         165   \n",
       "660  London      Veneto           Italy  Entire home/apt         133   \n",
       "661  London  California   United States  Entire home/apt         125   \n",
       "..      ...         ...             ...              ...         ...   \n",
       "339  London    New York   United States  Entire home/apt         200   \n",
       "340  London    Illinois   United States  Entire home/apt         165   \n",
       "341  London      Oregon   United States  Entire home/apt         150   \n",
       "328  London     England  United Kingdom     Private room          30   \n",
       "999  London    New York   United States     Private room         110   \n",
       "\n",
       "     Room Availability  \n",
       "0                  338  \n",
       "658                363  \n",
       "659                356  \n",
       "660                310  \n",
       "661                235  \n",
       "..                 ...  \n",
       "339                  0  \n",
       "340                299  \n",
       "341                339  \n",
       "328                356  \n",
       "999                329  \n",
       "\n",
       "[1000 rows x 11 columns]"
      ]
     },
     "execution_count": 307,
     "metadata": {},
     "output_type": "execute_result"
    }
   ],
   "source": [
    "review[mask1]"
   ]
  },
  {
   "cell_type": "markdown",
   "id": "c2731768-349e-461a-935f-0cbb5fa6f407",
   "metadata": {},
   "source": [
    "### between()"
   ]
  },
  {
   "cell_type": "code",
   "execution_count": 297,
   "id": "8c782481-bb7e-4b22-af81-70c0e036624a",
   "metadata": {},
   "outputs": [],
   "source": [
    "mask = review[\"Room Price\"].between(80,100)"
   ]
  },
  {
   "cell_type": "code",
   "execution_count": 298,
   "id": "22f12e5e-4f43-430f-8e49-51e558ccfa8c",
   "metadata": {},
   "outputs": [
    {
     "data": {
      "text/plain": [
       "0       True\n",
       "1       True\n",
       "2      False\n",
       "3      False\n",
       "4      False\n",
       "       ...  \n",
       "995    False\n",
       "996    False\n",
       "997     True\n",
       "998    False\n",
       "999    False\n",
       "Name: Room Price, Length: 1000, dtype: bool"
      ]
     },
     "execution_count": 298,
     "metadata": {},
     "output_type": "execute_result"
    }
   ],
   "source": [
    "mask"
   ]
  },
  {
   "cell_type": "code",
   "execution_count": 299,
   "id": "dd46e272-37f5-47d5-a181-bc6357624716",
   "metadata": {},
   "outputs": [
    {
     "data": {
      "text/html": [
       "<div>\n",
       "<style scoped>\n",
       "    .dataframe tbody tr th:only-of-type {\n",
       "        vertical-align: middle;\n",
       "    }\n",
       "\n",
       "    .dataframe tbody tr th {\n",
       "        vertical-align: top;\n",
       "    }\n",
       "\n",
       "    .dataframe thead th {\n",
       "        text-align: right;\n",
       "    }\n",
       "</style>\n",
       "<table border=\"1\" class=\"dataframe\">\n",
       "  <thead>\n",
       "    <tr style=\"text-align: right;\">\n",
       "      <th></th>\n",
       "      <th>Review ID</th>\n",
       "      <th>Review Date</th>\n",
       "      <th>Review Content</th>\n",
       "      <th>Listing Title</th>\n",
       "      <th>Neighbourhood</th>\n",
       "      <th>City</th>\n",
       "      <th>State</th>\n",
       "      <th>Country</th>\n",
       "      <th>Room Type</th>\n",
       "      <th>Room Price</th>\n",
       "      <th>Room Availability</th>\n",
       "    </tr>\n",
       "  </thead>\n",
       "  <tbody>\n",
       "    <tr>\n",
       "      <th>0</th>\n",
       "      <td>4055629</td>\n",
       "      <td>2012-10-06</td>\n",
       "      <td>Very nice accommodation in an aesthetically pl...</td>\n",
       "      <td>Nottinghill Portobello  Artist Flat</td>\n",
       "      <td>Kensington and Chelsea</td>\n",
       "      <td>London</td>\n",
       "      <td>England</td>\n",
       "      <td>United Kingdom</td>\n",
       "      <td>Entire home/apt</td>\n",
       "      <td>100</td>\n",
       "      <td>338</td>\n",
       "    </tr>\n",
       "    <tr>\n",
       "      <th>1</th>\n",
       "      <td>25329416</td>\n",
       "      <td>2013-11-03</td>\n",
       "      <td>Me and my friends had such a nice time at Dott...</td>\n",
       "      <td>Quiet Pink Studio in the PIJP area</td>\n",
       "      <td>De Pijp - Rivierenbuurt</td>\n",
       "      <td>London</td>\n",
       "      <td>North Holland</td>\n",
       "      <td>The Netherlands</td>\n",
       "      <td>Private room</td>\n",
       "      <td>80</td>\n",
       "      <td>10</td>\n",
       "    </tr>\n",
       "    <tr>\n",
       "      <th>17</th>\n",
       "      <td>7568387</td>\n",
       "      <td>2013-02-01</td>\n",
       "      <td>Kristina and Ekaterine were lovley hosts. They...</td>\n",
       "      <td>Hollywood Furnished Private Bedroom</td>\n",
       "      <td>Hollywood</td>\n",
       "      <td>London</td>\n",
       "      <td>California</td>\n",
       "      <td>United States</td>\n",
       "      <td>Private room</td>\n",
       "      <td>99</td>\n",
       "      <td>244</td>\n",
       "    </tr>\n",
       "    <tr>\n",
       "      <th>20</th>\n",
       "      <td>38360407</td>\n",
       "      <td>2013-12-31</td>\n",
       "      <td>Nice contact. Very friendly and supportive. Th...</td>\n",
       "      <td>Curved wall Studio ST4 with Kitchen</td>\n",
       "      <td>Tower Hamlets</td>\n",
       "      <td>London</td>\n",
       "      <td>England</td>\n",
       "      <td>United Kingdom</td>\n",
       "      <td>Entire home/apt</td>\n",
       "      <td>85</td>\n",
       "      <td>344</td>\n",
       "    </tr>\n",
       "    <tr>\n",
       "      <th>23</th>\n",
       "      <td>40294978</td>\n",
       "      <td>2012-09-25</td>\n",
       "      <td>The room was nice, breakfast was great and Joh...</td>\n",
       "      <td>Dupont Private Room Meridian Manor</td>\n",
       "      <td>Dupont Circle, Connecticut Avenue/K Street</td>\n",
       "      <td>London</td>\n",
       "      <td>D.C.</td>\n",
       "      <td>District of Columbia, United States</td>\n",
       "      <td>Private room</td>\n",
       "      <td>99</td>\n",
       "      <td>361</td>\n",
       "    </tr>\n",
       "    <tr>\n",
       "      <th>...</th>\n",
       "      <td>...</td>\n",
       "      <td>...</td>\n",
       "      <td>...</td>\n",
       "      <td>...</td>\n",
       "      <td>...</td>\n",
       "      <td>...</td>\n",
       "      <td>...</td>\n",
       "      <td>...</td>\n",
       "      <td>...</td>\n",
       "      <td>...</td>\n",
       "      <td>...</td>\n",
       "    </tr>\n",
       "    <tr>\n",
       "      <th>986</th>\n",
       "      <td>38974125</td>\n",
       "      <td>2014-11-29</td>\n",
       "      <td>The host canceled this reservation 2 days befo...</td>\n",
       "      <td>Cozy and Heart of Downtown MTL</td>\n",
       "      <td>Ville-Marie</td>\n",
       "      <td>London</td>\n",
       "      <td>Quebec</td>\n",
       "      <td>Canada</td>\n",
       "      <td>Entire home/apt</td>\n",
       "      <td>80</td>\n",
       "      <td>137</td>\n",
       "    </tr>\n",
       "    <tr>\n",
       "      <th>991</th>\n",
       "      <td>35585745</td>\n",
       "      <td>2012-12-30</td>\n",
       "      <td>Andrea was good in communication and flexible ...</td>\n",
       "      <td>Designer Inner City Escape</td>\n",
       "      <td>Sydney</td>\n",
       "      <td>London</td>\n",
       "      <td>New South Wales</td>\n",
       "      <td>Australia</td>\n",
       "      <td>Entire home/apt</td>\n",
       "      <td>98</td>\n",
       "      <td>319</td>\n",
       "    </tr>\n",
       "    <tr>\n",
       "      <th>992</th>\n",
       "      <td>13423090</td>\n",
       "      <td>2014-12-25</td>\n",
       "      <td>Ca' di paolo is a cozy apartment in a great lo...</td>\n",
       "      <td>ca' di paolo</td>\n",
       "      <td>Castello</td>\n",
       "      <td>London</td>\n",
       "      <td>Veneto</td>\n",
       "      <td>Italy</td>\n",
       "      <td>Entire home/apt</td>\n",
       "      <td>99</td>\n",
       "      <td>303</td>\n",
       "    </tr>\n",
       "    <tr>\n",
       "      <th>993</th>\n",
       "      <td>27392171</td>\n",
       "      <td>2012-03-07</td>\n",
       "      <td>What a great place to stay! In the heart of Ma...</td>\n",
       "      <td>Charming Studio - Heart of Marais</td>\n",
       "      <td>Temple</td>\n",
       "      <td>London</td>\n",
       "      <td>Île-de-France</td>\n",
       "      <td>France</td>\n",
       "      <td>Entire home/apt</td>\n",
       "      <td>95</td>\n",
       "      <td>284</td>\n",
       "    </tr>\n",
       "    <tr>\n",
       "      <th>997</th>\n",
       "      <td>46642535</td>\n",
       "      <td>2014-08-30</td>\n",
       "      <td>John was a great host.  I came in on a red eye...</td>\n",
       "      <td>Top Floor Renovated 1 BR / 1BA</td>\n",
       "      <td>West Roxbury</td>\n",
       "      <td>London</td>\n",
       "      <td>Massachusetts</td>\n",
       "      <td>United States</td>\n",
       "      <td>Entire home/apt</td>\n",
       "      <td>95</td>\n",
       "      <td>10</td>\n",
       "    </tr>\n",
       "  </tbody>\n",
       "</table>\n",
       "<p>196 rows × 11 columns</p>\n",
       "</div>"
      ],
      "text/plain": [
       "     Review ID Review Date                                     Review Content  \\\n",
       "0      4055629  2012-10-06  Very nice accommodation in an aesthetically pl...   \n",
       "1     25329416  2013-11-03  Me and my friends had such a nice time at Dott...   \n",
       "17     7568387  2013-02-01  Kristina and Ekaterine were lovley hosts. They...   \n",
       "20    38360407  2013-12-31  Nice contact. Very friendly and supportive. Th...   \n",
       "23    40294978  2012-09-25  The room was nice, breakfast was great and Joh...   \n",
       "..         ...         ...                                                ...   \n",
       "986   38974125  2014-11-29  The host canceled this reservation 2 days befo...   \n",
       "991   35585745  2012-12-30  Andrea was good in communication and flexible ...   \n",
       "992   13423090  2014-12-25  Ca' di paolo is a cozy apartment in a great lo...   \n",
       "993   27392171  2012-03-07  What a great place to stay! In the heart of Ma...   \n",
       "997   46642535  2014-08-30  John was a great host.  I came in on a red eye...   \n",
       "\n",
       "                           Listing Title  \\\n",
       "0    Nottinghill Portobello  Artist Flat   \n",
       "1     Quiet Pink Studio in the PIJP area   \n",
       "17   Hollywood Furnished Private Bedroom   \n",
       "20   Curved wall Studio ST4 with Kitchen   \n",
       "23    Dupont Private Room Meridian Manor   \n",
       "..                                   ...   \n",
       "986       Cozy and Heart of Downtown MTL   \n",
       "991           Designer Inner City Escape   \n",
       "992                         ca' di paolo   \n",
       "993    Charming Studio - Heart of Marais   \n",
       "997      Top Floor Renovated 1 BR / 1BA    \n",
       "\n",
       "                                  Neighbourhood    City            State  \\\n",
       "0                        Kensington and Chelsea  London          England   \n",
       "1                       De Pijp - Rivierenbuurt  London    North Holland   \n",
       "17                                    Hollywood  London       California   \n",
       "20                                Tower Hamlets  London          England   \n",
       "23   Dupont Circle, Connecticut Avenue/K Street  London             D.C.   \n",
       "..                                          ...     ...              ...   \n",
       "986                                 Ville-Marie  London           Quebec   \n",
       "991                                      Sydney  London  New South Wales   \n",
       "992                                    Castello  London           Veneto   \n",
       "993                                      Temple  London    Île-de-France   \n",
       "997                                West Roxbury  London    Massachusetts   \n",
       "\n",
       "                                 Country        Room Type  Room Price  \\\n",
       "0                         United Kingdom  Entire home/apt         100   \n",
       "1                        The Netherlands     Private room          80   \n",
       "17                         United States     Private room          99   \n",
       "20                        United Kingdom  Entire home/apt          85   \n",
       "23   District of Columbia, United States     Private room          99   \n",
       "..                                   ...              ...         ...   \n",
       "986                               Canada  Entire home/apt          80   \n",
       "991                            Australia  Entire home/apt          98   \n",
       "992                                Italy  Entire home/apt          99   \n",
       "993                               France  Entire home/apt          95   \n",
       "997                        United States  Entire home/apt          95   \n",
       "\n",
       "     Room Availability  \n",
       "0                  338  \n",
       "1                   10  \n",
       "17                 244  \n",
       "20                 344  \n",
       "23                 361  \n",
       "..                 ...  \n",
       "986                137  \n",
       "991                319  \n",
       "992                303  \n",
       "993                284  \n",
       "997                 10  \n",
       "\n",
       "[196 rows x 11 columns]"
      ]
     },
     "execution_count": 299,
     "metadata": {},
     "output_type": "execute_result"
    }
   ],
   "source": [
    "review[mask]"
   ]
  },
  {
   "cell_type": "code",
   "execution_count": 300,
   "id": "cd770ef1-83e4-40a1-b66a-8ecb29452c8c",
   "metadata": {},
   "outputs": [],
   "source": [
    "mask = review[\"Review Date\"].between(\"2013-01-01\", \"2014-01-01\")"
   ]
  },
  {
   "cell_type": "code",
   "execution_count": 301,
   "id": "4329d5e9-ba95-4ab5-b58d-ca789ee0e3c1",
   "metadata": {},
   "outputs": [
    {
     "data": {
      "text/html": [
       "<div>\n",
       "<style scoped>\n",
       "    .dataframe tbody tr th:only-of-type {\n",
       "        vertical-align: middle;\n",
       "    }\n",
       "\n",
       "    .dataframe tbody tr th {\n",
       "        vertical-align: top;\n",
       "    }\n",
       "\n",
       "    .dataframe thead th {\n",
       "        text-align: right;\n",
       "    }\n",
       "</style>\n",
       "<table border=\"1\" class=\"dataframe\">\n",
       "  <thead>\n",
       "    <tr style=\"text-align: right;\">\n",
       "      <th></th>\n",
       "      <th>Review ID</th>\n",
       "      <th>Review Date</th>\n",
       "      <th>Review Content</th>\n",
       "      <th>Listing Title</th>\n",
       "      <th>Neighbourhood</th>\n",
       "      <th>City</th>\n",
       "      <th>State</th>\n",
       "      <th>Country</th>\n",
       "      <th>Room Type</th>\n",
       "      <th>Room Price</th>\n",
       "      <th>Room Availability</th>\n",
       "    </tr>\n",
       "  </thead>\n",
       "  <tbody>\n",
       "    <tr>\n",
       "      <th>1</th>\n",
       "      <td>25329416</td>\n",
       "      <td>2013-11-03</td>\n",
       "      <td>Me and my friends had such a nice time at Dott...</td>\n",
       "      <td>Quiet Pink Studio in the PIJP area</td>\n",
       "      <td>De Pijp - Rivierenbuurt</td>\n",
       "      <td>London</td>\n",
       "      <td>North Holland</td>\n",
       "      <td>The Netherlands</td>\n",
       "      <td>Private room</td>\n",
       "      <td>80</td>\n",
       "      <td>10</td>\n",
       "    </tr>\n",
       "    <tr>\n",
       "      <th>4</th>\n",
       "      <td>7465026</td>\n",
       "      <td>2013-08-16</td>\n",
       "      <td>Even though it was only for one night, we had ...</td>\n",
       "      <td>Acropolis Apartment brand new</td>\n",
       "      <td>ΑΚΡΟΠΟΛΗ</td>\n",
       "      <td>London</td>\n",
       "      <td>Attica</td>\n",
       "      <td>Greece</td>\n",
       "      <td>Entire home/apt</td>\n",
       "      <td>62</td>\n",
       "      <td>281</td>\n",
       "    </tr>\n",
       "    <tr>\n",
       "      <th>6</th>\n",
       "      <td>20417380</td>\n",
       "      <td>2013-11-07</td>\n",
       "      <td>Wonderful experience. We loved staying in the ...</td>\n",
       "      <td>LARGE HOME FOR GROUP ACCOMMODATION</td>\n",
       "      <td>Stonnington</td>\n",
       "      <td>London</td>\n",
       "      <td>Victoria</td>\n",
       "      <td>Australia</td>\n",
       "      <td>Entire home/apt</td>\n",
       "      <td>248</td>\n",
       "      <td>239</td>\n",
       "    </tr>\n",
       "    <tr>\n",
       "      <th>7</th>\n",
       "      <td>10787310</td>\n",
       "      <td>2013-06-02</td>\n",
       "      <td>Carolines room is perfectly located to discove...</td>\n",
       "      <td>Private room - Central London</td>\n",
       "      <td>Westminster</td>\n",
       "      <td>London</td>\n",
       "      <td>England</td>\n",
       "      <td>United Kingdom</td>\n",
       "      <td>Private room</td>\n",
       "      <td>60</td>\n",
       "      <td>351</td>\n",
       "    </tr>\n",
       "    <tr>\n",
       "      <th>9</th>\n",
       "      <td>15542291</td>\n",
       "      <td>2013-12-28</td>\n",
       "      <td>What a wonderful location, right in the heart ...</td>\n",
       "      <td>Athens Acropolis /B 'Luxury 2</td>\n",
       "      <td>ΕΜΠΟΡΙΚΟ ΤΡΙΓΩΝΟ-ΠΛΑΚΑ</td>\n",
       "      <td>London</td>\n",
       "      <td>Attica</td>\n",
       "      <td>Greece</td>\n",
       "      <td>Entire home/apt</td>\n",
       "      <td>37</td>\n",
       "      <td>329</td>\n",
       "    </tr>\n",
       "    <tr>\n",
       "      <th>...</th>\n",
       "      <td>...</td>\n",
       "      <td>...</td>\n",
       "      <td>...</td>\n",
       "      <td>...</td>\n",
       "      <td>...</td>\n",
       "      <td>...</td>\n",
       "      <td>...</td>\n",
       "      <td>...</td>\n",
       "      <td>...</td>\n",
       "      <td>...</td>\n",
       "      <td>...</td>\n",
       "    </tr>\n",
       "    <tr>\n",
       "      <th>983</th>\n",
       "      <td>2018617</td>\n",
       "      <td>2013-12-22</td>\n",
       "      <td>Ysaira and Jose are the sweetest people. They ...</td>\n",
       "      <td>Bronx Room Near Yankees &amp; Harlem</td>\n",
       "      <td>Morris Heights</td>\n",
       "      <td>London</td>\n",
       "      <td>New York</td>\n",
       "      <td>United States</td>\n",
       "      <td>Private room</td>\n",
       "      <td>40</td>\n",
       "      <td>302</td>\n",
       "    </tr>\n",
       "    <tr>\n",
       "      <th>985</th>\n",
       "      <td>29498170</td>\n",
       "      <td>2013-12-17</td>\n",
       "      <td>The neighborhood was pretty central and my fri...</td>\n",
       "      <td>Great Room at the Gran Via</td>\n",
       "      <td>Palacio</td>\n",
       "      <td>London</td>\n",
       "      <td>Comunidad de Madrid</td>\n",
       "      <td>Spain</td>\n",
       "      <td>Private room</td>\n",
       "      <td>30</td>\n",
       "      <td>338</td>\n",
       "    </tr>\n",
       "    <tr>\n",
       "      <th>987</th>\n",
       "      <td>21950610</td>\n",
       "      <td>2013-06-10</td>\n",
       "      <td>Arne's studio was the perfect size and locatio...</td>\n",
       "      <td>Stylish app. in center of Amsterdam</td>\n",
       "      <td>Centrum-Oost</td>\n",
       "      <td>London</td>\n",
       "      <td>North Holland</td>\n",
       "      <td>The Netherlands</td>\n",
       "      <td>Entire home/apt</td>\n",
       "      <td>115</td>\n",
       "      <td>255</td>\n",
       "    </tr>\n",
       "    <tr>\n",
       "      <th>996</th>\n",
       "      <td>30544438</td>\n",
       "      <td>2013-02-28</td>\n",
       "      <td>Highly recommend this as a place to stay if yo...</td>\n",
       "      <td>The Venice Roost on Abbot Kinney</td>\n",
       "      <td>Venice</td>\n",
       "      <td>London</td>\n",
       "      <td>California</td>\n",
       "      <td>United States</td>\n",
       "      <td>Entire home/apt</td>\n",
       "      <td>191</td>\n",
       "      <td>309</td>\n",
       "    </tr>\n",
       "    <tr>\n",
       "      <th>999</th>\n",
       "      <td>38944752</td>\n",
       "      <td>2013-10-15</td>\n",
       "      <td>Thank you for the wonderful stay!   It was a c...</td>\n",
       "      <td>15 Minutes from Manhattan</td>\n",
       "      <td>Woodside</td>\n",
       "      <td>London</td>\n",
       "      <td>New York</td>\n",
       "      <td>United States</td>\n",
       "      <td>Private room</td>\n",
       "      <td>110</td>\n",
       "      <td>329</td>\n",
       "    </tr>\n",
       "  </tbody>\n",
       "</table>\n",
       "<p>336 rows × 11 columns</p>\n",
       "</div>"
      ],
      "text/plain": [
       "     Review ID Review Date                                     Review Content  \\\n",
       "1     25329416  2013-11-03  Me and my friends had such a nice time at Dott...   \n",
       "4      7465026  2013-08-16  Even though it was only for one night, we had ...   \n",
       "6     20417380  2013-11-07  Wonderful experience. We loved staying in the ...   \n",
       "7     10787310  2013-06-02  Carolines room is perfectly located to discove...   \n",
       "9     15542291  2013-12-28  What a wonderful location, right in the heart ...   \n",
       "..         ...         ...                                                ...   \n",
       "983    2018617  2013-12-22  Ysaira and Jose are the sweetest people. They ...   \n",
       "985   29498170  2013-12-17  The neighborhood was pretty central and my fri...   \n",
       "987   21950610  2013-06-10  Arne's studio was the perfect size and locatio...   \n",
       "996   30544438  2013-02-28  Highly recommend this as a place to stay if yo...   \n",
       "999   38944752  2013-10-15  Thank you for the wonderful stay!   It was a c...   \n",
       "\n",
       "                           Listing Title            Neighbourhood    City  \\\n",
       "1     Quiet Pink Studio in the PIJP area  De Pijp - Rivierenbuurt  London   \n",
       "4          Acropolis Apartment brand new                 ΑΚΡΟΠΟΛΗ  London   \n",
       "6     LARGE HOME FOR GROUP ACCOMMODATION              Stonnington  London   \n",
       "7          Private room - Central London              Westminster  London   \n",
       "9          Athens Acropolis /B 'Luxury 2   ΕΜΠΟΡΙΚΟ ΤΡΙΓΩΝΟ-ΠΛΑΚΑ  London   \n",
       "..                                   ...                      ...     ...   \n",
       "983     Bronx Room Near Yankees & Harlem           Morris Heights  London   \n",
       "985           Great Room at the Gran Via                  Palacio  London   \n",
       "987  Stylish app. in center of Amsterdam             Centrum-Oost  London   \n",
       "996     The Venice Roost on Abbot Kinney                   Venice  London   \n",
       "999            15 Minutes from Manhattan                 Woodside  London   \n",
       "\n",
       "                   State          Country        Room Type  Room Price  \\\n",
       "1          North Holland  The Netherlands     Private room          80   \n",
       "4                 Attica           Greece  Entire home/apt          62   \n",
       "6               Victoria        Australia  Entire home/apt         248   \n",
       "7                England   United Kingdom     Private room          60   \n",
       "9                 Attica           Greece  Entire home/apt          37   \n",
       "..                   ...              ...              ...         ...   \n",
       "983             New York    United States     Private room          40   \n",
       "985  Comunidad de Madrid            Spain     Private room          30   \n",
       "987        North Holland  The Netherlands  Entire home/apt         115   \n",
       "996           California    United States  Entire home/apt         191   \n",
       "999             New York    United States     Private room         110   \n",
       "\n",
       "     Room Availability  \n",
       "1                   10  \n",
       "4                  281  \n",
       "6                  239  \n",
       "7                  351  \n",
       "9                  329  \n",
       "..                 ...  \n",
       "983                302  \n",
       "985                338  \n",
       "987                255  \n",
       "996                309  \n",
       "999                329  \n",
       "\n",
       "[336 rows x 11 columns]"
      ]
     },
     "execution_count": 301,
     "metadata": {},
     "output_type": "execute_result"
    }
   ],
   "source": [
    "review[mask]"
   ]
  },
  {
   "cell_type": "markdown",
   "id": "6f4f2579-e55b-43d3-9394-0f6e5a2e1f3c",
   "metadata": {},
   "source": [
    "### duplicated()"
   ]
  },
  {
   "cell_type": "code",
   "execution_count": 303,
   "id": "116c30a5-0356-4d47-8651-456f6fe381a6",
   "metadata": {},
   "outputs": [],
   "source": [
    "review.sort_values(\"City\", inplace= True)"
   ]
  },
  {
   "cell_type": "code",
   "execution_count": 304,
   "id": "1b12e82c-a821-4804-8d05-f6b87d537025",
   "metadata": {},
   "outputs": [
    {
     "data": {
      "text/html": [
       "<div>\n",
       "<style scoped>\n",
       "    .dataframe tbody tr th:only-of-type {\n",
       "        vertical-align: middle;\n",
       "    }\n",
       "\n",
       "    .dataframe tbody tr th {\n",
       "        vertical-align: top;\n",
       "    }\n",
       "\n",
       "    .dataframe thead th {\n",
       "        text-align: right;\n",
       "    }\n",
       "</style>\n",
       "<table border=\"1\" class=\"dataframe\">\n",
       "  <thead>\n",
       "    <tr style=\"text-align: right;\">\n",
       "      <th></th>\n",
       "      <th>Review ID</th>\n",
       "      <th>Review Date</th>\n",
       "      <th>Review Content</th>\n",
       "      <th>Listing Title</th>\n",
       "      <th>Neighbourhood</th>\n",
       "      <th>City</th>\n",
       "      <th>State</th>\n",
       "      <th>Country</th>\n",
       "      <th>Room Type</th>\n",
       "      <th>Room Price</th>\n",
       "      <th>Room Availability</th>\n",
       "    </tr>\n",
       "  </thead>\n",
       "  <tbody>\n",
       "    <tr>\n",
       "      <th>0</th>\n",
       "      <td>4055629</td>\n",
       "      <td>2012-10-06</td>\n",
       "      <td>Very nice accommodation in an aesthetically pl...</td>\n",
       "      <td>Nottinghill Portobello  Artist Flat</td>\n",
       "      <td>Kensington and Chelsea</td>\n",
       "      <td>London</td>\n",
       "      <td>England</td>\n",
       "      <td>United Kingdom</td>\n",
       "      <td>Entire home/apt</td>\n",
       "      <td>100</td>\n",
       "      <td>338</td>\n",
       "    </tr>\n",
       "    <tr>\n",
       "      <th>658</th>\n",
       "      <td>23914491</td>\n",
       "      <td>2012-04-06</td>\n",
       "      <td>It was my first ever time using airbnb to book...</td>\n",
       "      <td>appt 5 1/2 spacieux/luxueux</td>\n",
       "      <td>Mercier-Hochelaga-Maisonneuve</td>\n",
       "      <td>London</td>\n",
       "      <td>Quebec</td>\n",
       "      <td>Canada</td>\n",
       "      <td>Entire home/apt</td>\n",
       "      <td>150</td>\n",
       "      <td>363</td>\n",
       "    </tr>\n",
       "    <tr>\n",
       "      <th>659</th>\n",
       "      <td>30148314</td>\n",
       "      <td>2013-07-23</td>\n",
       "      <td>Jenifer was welcoming and accommodating. I arr...</td>\n",
       "      <td>Spacious SF Getaway Near The Ocean</td>\n",
       "      <td>Parkside</td>\n",
       "      <td>London</td>\n",
       "      <td>California</td>\n",
       "      <td>United States</td>\n",
       "      <td>Entire home/apt</td>\n",
       "      <td>165</td>\n",
       "      <td>356</td>\n",
       "    </tr>\n",
       "    <tr>\n",
       "      <th>660</th>\n",
       "      <td>24710430</td>\n",
       "      <td>2014-05-28</td>\n",
       "      <td>We found the accommodations as described.  The...</td>\n",
       "      <td>Design!Canal and San Marco's view</td>\n",
       "      <td>Cannaregio</td>\n",
       "      <td>London</td>\n",
       "      <td>Veneto</td>\n",
       "      <td>Italy</td>\n",
       "      <td>Entire home/apt</td>\n",
       "      <td>133</td>\n",
       "      <td>310</td>\n",
       "    </tr>\n",
       "    <tr>\n",
       "      <th>661</th>\n",
       "      <td>27094762</td>\n",
       "      <td>2013-09-08</td>\n",
       "      <td>Great stay! Everything went smoothly. Thanks!</td>\n",
       "      <td>Lovely House in heart of Silverlake</td>\n",
       "      <td>Silver Lake</td>\n",
       "      <td>London</td>\n",
       "      <td>California</td>\n",
       "      <td>United States</td>\n",
       "      <td>Entire home/apt</td>\n",
       "      <td>125</td>\n",
       "      <td>235</td>\n",
       "    </tr>\n",
       "    <tr>\n",
       "      <th>...</th>\n",
       "      <td>...</td>\n",
       "      <td>...</td>\n",
       "      <td>...</td>\n",
       "      <td>...</td>\n",
       "      <td>...</td>\n",
       "      <td>...</td>\n",
       "      <td>...</td>\n",
       "      <td>...</td>\n",
       "      <td>...</td>\n",
       "      <td>...</td>\n",
       "      <td>...</td>\n",
       "    </tr>\n",
       "    <tr>\n",
       "      <th>339</th>\n",
       "      <td>7318998</td>\n",
       "      <td>2012-10-07</td>\n",
       "      <td>Rob was a great host, it was a pleasure meetin...</td>\n",
       "      <td>Beautiful studio in Manhattan</td>\n",
       "      <td>Hell's Kitchen</td>\n",
       "      <td>London</td>\n",
       "      <td>New York</td>\n",
       "      <td>United States</td>\n",
       "      <td>Entire home/apt</td>\n",
       "      <td>200</td>\n",
       "      <td>0</td>\n",
       "    </tr>\n",
       "    <tr>\n",
       "      <th>340</th>\n",
       "      <td>34515406</td>\n",
       "      <td>2013-02-25</td>\n",
       "      <td>This is a beautiful place in a great location....</td>\n",
       "      <td>Luxury Chicago Loft</td>\n",
       "      <td>Lake View</td>\n",
       "      <td>London</td>\n",
       "      <td>Illinois</td>\n",
       "      <td>United States</td>\n",
       "      <td>Entire home/apt</td>\n",
       "      <td>165</td>\n",
       "      <td>299</td>\n",
       "    </tr>\n",
       "    <tr>\n",
       "      <th>341</th>\n",
       "      <td>39989690</td>\n",
       "      <td>2012-05-10</td>\n",
       "      <td>PROS: *spacious for our party of 6 adults and ...</td>\n",
       "      <td>Top floor upscale 2BD/2BA condo A</td>\n",
       "      <td>Bridgeton</td>\n",
       "      <td>London</td>\n",
       "      <td>Oregon</td>\n",
       "      <td>United States</td>\n",
       "      <td>Entire home/apt</td>\n",
       "      <td>150</td>\n",
       "      <td>339</td>\n",
       "    </tr>\n",
       "    <tr>\n",
       "      <th>328</th>\n",
       "      <td>7937600</td>\n",
       "      <td>2013-01-04</td>\n",
       "      <td>the host was so friendly, generous and kind. m...</td>\n",
       "      <td>East Dulwich single - garden view</td>\n",
       "      <td>Southwark</td>\n",
       "      <td>London</td>\n",
       "      <td>England</td>\n",
       "      <td>United Kingdom</td>\n",
       "      <td>Private room</td>\n",
       "      <td>30</td>\n",
       "      <td>356</td>\n",
       "    </tr>\n",
       "    <tr>\n",
       "      <th>999</th>\n",
       "      <td>38944752</td>\n",
       "      <td>2013-10-15</td>\n",
       "      <td>Thank you for the wonderful stay!   It was a c...</td>\n",
       "      <td>15 Minutes from Manhattan</td>\n",
       "      <td>Woodside</td>\n",
       "      <td>London</td>\n",
       "      <td>New York</td>\n",
       "      <td>United States</td>\n",
       "      <td>Private room</td>\n",
       "      <td>110</td>\n",
       "      <td>329</td>\n",
       "    </tr>\n",
       "  </tbody>\n",
       "</table>\n",
       "<p>1000 rows × 11 columns</p>\n",
       "</div>"
      ],
      "text/plain": [
       "     Review ID Review Date                                     Review Content  \\\n",
       "0      4055629  2012-10-06  Very nice accommodation in an aesthetically pl...   \n",
       "658   23914491  2012-04-06  It was my first ever time using airbnb to book...   \n",
       "659   30148314  2013-07-23  Jenifer was welcoming and accommodating. I arr...   \n",
       "660   24710430  2014-05-28  We found the accommodations as described.  The...   \n",
       "661   27094762  2013-09-08     Great stay! Everything went smoothly. Thanks!    \n",
       "..         ...         ...                                                ...   \n",
       "339    7318998  2012-10-07  Rob was a great host, it was a pleasure meetin...   \n",
       "340   34515406  2013-02-25  This is a beautiful place in a great location....   \n",
       "341   39989690  2012-05-10  PROS: *spacious for our party of 6 adults and ...   \n",
       "328    7937600  2013-01-04  the host was so friendly, generous and kind. m...   \n",
       "999   38944752  2013-10-15  Thank you for the wonderful stay!   It was a c...   \n",
       "\n",
       "                           Listing Title                  Neighbourhood  \\\n",
       "0    Nottinghill Portobello  Artist Flat         Kensington and Chelsea   \n",
       "658         appt 5 1/2 spacieux/luxueux   Mercier-Hochelaga-Maisonneuve   \n",
       "659   Spacious SF Getaway Near The Ocean                       Parkside   \n",
       "660   Design!Canal and San Marco's view                      Cannaregio   \n",
       "661  Lovely House in heart of Silverlake                    Silver Lake   \n",
       "..                                   ...                            ...   \n",
       "339        Beautiful studio in Manhattan                 Hell's Kitchen   \n",
       "340                  Luxury Chicago Loft                      Lake View   \n",
       "341    Top floor upscale 2BD/2BA condo A                      Bridgeton   \n",
       "328    East Dulwich single - garden view                      Southwark   \n",
       "999            15 Minutes from Manhattan                       Woodside   \n",
       "\n",
       "       City       State         Country        Room Type  Room Price  \\\n",
       "0    London     England  United Kingdom  Entire home/apt         100   \n",
       "658  London      Quebec          Canada  Entire home/apt         150   \n",
       "659  London  California   United States  Entire home/apt         165   \n",
       "660  London      Veneto           Italy  Entire home/apt         133   \n",
       "661  London  California   United States  Entire home/apt         125   \n",
       "..      ...         ...             ...              ...         ...   \n",
       "339  London    New York   United States  Entire home/apt         200   \n",
       "340  London    Illinois   United States  Entire home/apt         165   \n",
       "341  London      Oregon   United States  Entire home/apt         150   \n",
       "328  London     England  United Kingdom     Private room          30   \n",
       "999  London    New York   United States     Private room         110   \n",
       "\n",
       "     Room Availability  \n",
       "0                  338  \n",
       "658                363  \n",
       "659                356  \n",
       "660                310  \n",
       "661                235  \n",
       "..                 ...  \n",
       "339                  0  \n",
       "340                299  \n",
       "341                339  \n",
       "328                356  \n",
       "999                329  \n",
       "\n",
       "[1000 rows x 11 columns]"
      ]
     },
     "execution_count": 304,
     "metadata": {},
     "output_type": "execute_result"
    }
   ],
   "source": [
    "review"
   ]
  },
  {
   "cell_type": "code",
   "execution_count": 315,
   "id": "9923d2b6-1ce6-4cc3-84a5-79d4aa6ac082",
   "metadata": {},
   "outputs": [
    {
     "data": {
      "text/plain": [
       "0      False\n",
       "658     True\n",
       "659     True\n",
       "660     True\n",
       "661     True\n",
       "       ...  \n",
       "339     True\n",
       "340     True\n",
       "341     True\n",
       "328     True\n",
       "999     True\n",
       "Name: City, Length: 1000, dtype: bool"
      ]
     },
     "execution_count": 315,
     "metadata": {},
     "output_type": "execute_result"
    }
   ],
   "source": [
    "review[\"City\"].duplicated() ## if you see first time your will get False, if you see more time same value it will return True"
   ]
  },
  {
   "cell_type": "code",
   "execution_count": 316,
   "id": "95fa630c-e9b7-4c8a-986f-ccaccd06e9e6",
   "metadata": {},
   "outputs": [],
   "source": [
    "mask = ~review[\"City\"].duplicated() ## Change the duplicated method reverses.."
   ]
  },
  {
   "cell_type": "raw",
   "id": "27202f15-aa73-4f48-907a-acf629e3a942",
   "metadata": {},
   "source": []
  },
  {
   "cell_type": "code",
   "execution_count": null,
   "id": "57969292-b30c-4957-b4bf-0fb5b158fba4",
   "metadata": {},
   "outputs": [],
   "source": [
    "review[mask]"
   ]
  },
  {
   "cell_type": "markdown",
   "id": "508560e1-be7d-4fe1-8ffa-3a23d80d8dd8",
   "metadata": {},
   "source": [
    "### drop_duplicates"
   ]
  },
  {
   "cell_type": "code",
   "execution_count": 319,
   "id": "67ad6ef3-a550-4b8e-a324-48ada7da4872",
   "metadata": {},
   "outputs": [
    {
     "data": {
      "text/html": [
       "<div>\n",
       "<style scoped>\n",
       "    .dataframe tbody tr th:only-of-type {\n",
       "        vertical-align: middle;\n",
       "    }\n",
       "\n",
       "    .dataframe tbody tr th {\n",
       "        vertical-align: top;\n",
       "    }\n",
       "\n",
       "    .dataframe thead th {\n",
       "        text-align: right;\n",
       "    }\n",
       "</style>\n",
       "<table border=\"1\" class=\"dataframe\">\n",
       "  <thead>\n",
       "    <tr style=\"text-align: right;\">\n",
       "      <th></th>\n",
       "      <th>Review ID</th>\n",
       "      <th>Review Date</th>\n",
       "      <th>Review Content</th>\n",
       "      <th>Listing Title</th>\n",
       "      <th>Neighbourhood</th>\n",
       "      <th>City</th>\n",
       "      <th>State</th>\n",
       "      <th>Country</th>\n",
       "      <th>Room Type</th>\n",
       "      <th>Room Price</th>\n",
       "      <th>Room Availability</th>\n",
       "    </tr>\n",
       "  </thead>\n",
       "  <tbody>\n",
       "    <tr>\n",
       "      <th>0</th>\n",
       "      <td>4055629</td>\n",
       "      <td>2012-10-06</td>\n",
       "      <td>Very nice accommodation in an aesthetically pl...</td>\n",
       "      <td>Nottinghill Portobello  Artist Flat</td>\n",
       "      <td>Kensington and Chelsea</td>\n",
       "      <td>London</td>\n",
       "      <td>England</td>\n",
       "      <td>United Kingdom</td>\n",
       "      <td>Entire home/apt</td>\n",
       "      <td>100</td>\n",
       "      <td>338</td>\n",
       "    </tr>\n",
       "    <tr>\n",
       "      <th>658</th>\n",
       "      <td>23914491</td>\n",
       "      <td>2012-04-06</td>\n",
       "      <td>It was my first ever time using airbnb to book...</td>\n",
       "      <td>appt 5 1/2 spacieux/luxueux</td>\n",
       "      <td>Mercier-Hochelaga-Maisonneuve</td>\n",
       "      <td>London</td>\n",
       "      <td>Quebec</td>\n",
       "      <td>Canada</td>\n",
       "      <td>Entire home/apt</td>\n",
       "      <td>150</td>\n",
       "      <td>363</td>\n",
       "    </tr>\n",
       "    <tr>\n",
       "      <th>659</th>\n",
       "      <td>30148314</td>\n",
       "      <td>2013-07-23</td>\n",
       "      <td>Jenifer was welcoming and accommodating. I arr...</td>\n",
       "      <td>Spacious SF Getaway Near The Ocean</td>\n",
       "      <td>Parkside</td>\n",
       "      <td>London</td>\n",
       "      <td>California</td>\n",
       "      <td>United States</td>\n",
       "      <td>Entire home/apt</td>\n",
       "      <td>165</td>\n",
       "      <td>356</td>\n",
       "    </tr>\n",
       "    <tr>\n",
       "      <th>660</th>\n",
       "      <td>24710430</td>\n",
       "      <td>2014-05-28</td>\n",
       "      <td>We found the accommodations as described.  The...</td>\n",
       "      <td>Design!Canal and San Marco's view</td>\n",
       "      <td>Cannaregio</td>\n",
       "      <td>London</td>\n",
       "      <td>Veneto</td>\n",
       "      <td>Italy</td>\n",
       "      <td>Entire home/apt</td>\n",
       "      <td>133</td>\n",
       "      <td>310</td>\n",
       "    </tr>\n",
       "    <tr>\n",
       "      <th>661</th>\n",
       "      <td>27094762</td>\n",
       "      <td>2013-09-08</td>\n",
       "      <td>Great stay! Everything went smoothly. Thanks!</td>\n",
       "      <td>Lovely House in heart of Silverlake</td>\n",
       "      <td>Silver Lake</td>\n",
       "      <td>London</td>\n",
       "      <td>California</td>\n",
       "      <td>United States</td>\n",
       "      <td>Entire home/apt</td>\n",
       "      <td>125</td>\n",
       "      <td>235</td>\n",
       "    </tr>\n",
       "    <tr>\n",
       "      <th>...</th>\n",
       "      <td>...</td>\n",
       "      <td>...</td>\n",
       "      <td>...</td>\n",
       "      <td>...</td>\n",
       "      <td>...</td>\n",
       "      <td>...</td>\n",
       "      <td>...</td>\n",
       "      <td>...</td>\n",
       "      <td>...</td>\n",
       "      <td>...</td>\n",
       "      <td>...</td>\n",
       "    </tr>\n",
       "    <tr>\n",
       "      <th>339</th>\n",
       "      <td>7318998</td>\n",
       "      <td>2012-10-07</td>\n",
       "      <td>Rob was a great host, it was a pleasure meetin...</td>\n",
       "      <td>Beautiful studio in Manhattan</td>\n",
       "      <td>Hell's Kitchen</td>\n",
       "      <td>London</td>\n",
       "      <td>New York</td>\n",
       "      <td>United States</td>\n",
       "      <td>Entire home/apt</td>\n",
       "      <td>200</td>\n",
       "      <td>0</td>\n",
       "    </tr>\n",
       "    <tr>\n",
       "      <th>340</th>\n",
       "      <td>34515406</td>\n",
       "      <td>2013-02-25</td>\n",
       "      <td>This is a beautiful place in a great location....</td>\n",
       "      <td>Luxury Chicago Loft</td>\n",
       "      <td>Lake View</td>\n",
       "      <td>London</td>\n",
       "      <td>Illinois</td>\n",
       "      <td>United States</td>\n",
       "      <td>Entire home/apt</td>\n",
       "      <td>165</td>\n",
       "      <td>299</td>\n",
       "    </tr>\n",
       "    <tr>\n",
       "      <th>341</th>\n",
       "      <td>39989690</td>\n",
       "      <td>2012-05-10</td>\n",
       "      <td>PROS: *spacious for our party of 6 adults and ...</td>\n",
       "      <td>Top floor upscale 2BD/2BA condo A</td>\n",
       "      <td>Bridgeton</td>\n",
       "      <td>London</td>\n",
       "      <td>Oregon</td>\n",
       "      <td>United States</td>\n",
       "      <td>Entire home/apt</td>\n",
       "      <td>150</td>\n",
       "      <td>339</td>\n",
       "    </tr>\n",
       "    <tr>\n",
       "      <th>328</th>\n",
       "      <td>7937600</td>\n",
       "      <td>2013-01-04</td>\n",
       "      <td>the host was so friendly, generous and kind. m...</td>\n",
       "      <td>East Dulwich single - garden view</td>\n",
       "      <td>Southwark</td>\n",
       "      <td>London</td>\n",
       "      <td>England</td>\n",
       "      <td>United Kingdom</td>\n",
       "      <td>Private room</td>\n",
       "      <td>30</td>\n",
       "      <td>356</td>\n",
       "    </tr>\n",
       "    <tr>\n",
       "      <th>999</th>\n",
       "      <td>38944752</td>\n",
       "      <td>2013-10-15</td>\n",
       "      <td>Thank you for the wonderful stay!   It was a c...</td>\n",
       "      <td>15 Minutes from Manhattan</td>\n",
       "      <td>Woodside</td>\n",
       "      <td>London</td>\n",
       "      <td>New York</td>\n",
       "      <td>United States</td>\n",
       "      <td>Private room</td>\n",
       "      <td>110</td>\n",
       "      <td>329</td>\n",
       "    </tr>\n",
       "  </tbody>\n",
       "</table>\n",
       "<p>1000 rows × 11 columns</p>\n",
       "</div>"
      ],
      "text/plain": [
       "     Review ID Review Date                                     Review Content  \\\n",
       "0      4055629  2012-10-06  Very nice accommodation in an aesthetically pl...   \n",
       "658   23914491  2012-04-06  It was my first ever time using airbnb to book...   \n",
       "659   30148314  2013-07-23  Jenifer was welcoming and accommodating. I arr...   \n",
       "660   24710430  2014-05-28  We found the accommodations as described.  The...   \n",
       "661   27094762  2013-09-08     Great stay! Everything went smoothly. Thanks!    \n",
       "..         ...         ...                                                ...   \n",
       "339    7318998  2012-10-07  Rob was a great host, it was a pleasure meetin...   \n",
       "340   34515406  2013-02-25  This is a beautiful place in a great location....   \n",
       "341   39989690  2012-05-10  PROS: *spacious for our party of 6 adults and ...   \n",
       "328    7937600  2013-01-04  the host was so friendly, generous and kind. m...   \n",
       "999   38944752  2013-10-15  Thank you for the wonderful stay!   It was a c...   \n",
       "\n",
       "                           Listing Title                  Neighbourhood  \\\n",
       "0    Nottinghill Portobello  Artist Flat         Kensington and Chelsea   \n",
       "658         appt 5 1/2 spacieux/luxueux   Mercier-Hochelaga-Maisonneuve   \n",
       "659   Spacious SF Getaway Near The Ocean                       Parkside   \n",
       "660   Design!Canal and San Marco's view                      Cannaregio   \n",
       "661  Lovely House in heart of Silverlake                    Silver Lake   \n",
       "..                                   ...                            ...   \n",
       "339        Beautiful studio in Manhattan                 Hell's Kitchen   \n",
       "340                  Luxury Chicago Loft                      Lake View   \n",
       "341    Top floor upscale 2BD/2BA condo A                      Bridgeton   \n",
       "328    East Dulwich single - garden view                      Southwark   \n",
       "999            15 Minutes from Manhattan                       Woodside   \n",
       "\n",
       "       City       State         Country        Room Type  Room Price  \\\n",
       "0    London     England  United Kingdom  Entire home/apt         100   \n",
       "658  London      Quebec          Canada  Entire home/apt         150   \n",
       "659  London  California   United States  Entire home/apt         165   \n",
       "660  London      Veneto           Italy  Entire home/apt         133   \n",
       "661  London  California   United States  Entire home/apt         125   \n",
       "..      ...         ...             ...              ...         ...   \n",
       "339  London    New York   United States  Entire home/apt         200   \n",
       "340  London    Illinois   United States  Entire home/apt         165   \n",
       "341  London      Oregon   United States  Entire home/apt         150   \n",
       "328  London     England  United Kingdom     Private room          30   \n",
       "999  London    New York   United States     Private room         110   \n",
       "\n",
       "     Room Availability  \n",
       "0                  338  \n",
       "658                363  \n",
       "659                356  \n",
       "660                310  \n",
       "661                235  \n",
       "..                 ...  \n",
       "339                  0  \n",
       "340                299  \n",
       "341                339  \n",
       "328                356  \n",
       "999                329  \n",
       "\n",
       "[1000 rows x 11 columns]"
      ]
     },
     "execution_count": 319,
     "metadata": {},
     "output_type": "execute_result"
    }
   ],
   "source": [
    "review"
   ]
  },
  {
   "cell_type": "code",
   "execution_count": 322,
   "id": "52ca1d08-f825-4eab-bdb7-a2e6c14c6fdf",
   "metadata": {},
   "outputs": [],
   "source": [
    "mask = review.drop_duplicates() ## If you have same data, delete them"
   ]
  },
  {
   "cell_type": "code",
   "execution_count": 324,
   "id": "4c747707-1b66-4e0c-94ff-873a14a048e8",
   "metadata": {},
   "outputs": [
    {
     "data": {
      "text/html": [
       "<div>\n",
       "<style scoped>\n",
       "    .dataframe tbody tr th:only-of-type {\n",
       "        vertical-align: middle;\n",
       "    }\n",
       "\n",
       "    .dataframe tbody tr th {\n",
       "        vertical-align: top;\n",
       "    }\n",
       "\n",
       "    .dataframe thead th {\n",
       "        text-align: right;\n",
       "    }\n",
       "</style>\n",
       "<table border=\"1\" class=\"dataframe\">\n",
       "  <thead>\n",
       "    <tr style=\"text-align: right;\">\n",
       "      <th></th>\n",
       "      <th>Review ID</th>\n",
       "      <th>Review Date</th>\n",
       "      <th>Review Content</th>\n",
       "      <th>Listing Title</th>\n",
       "      <th>Neighbourhood</th>\n",
       "      <th>City</th>\n",
       "      <th>State</th>\n",
       "      <th>Country</th>\n",
       "      <th>Room Type</th>\n",
       "      <th>Room Price</th>\n",
       "      <th>Room Availability</th>\n",
       "    </tr>\n",
       "  </thead>\n",
       "  <tbody>\n",
       "    <tr>\n",
       "      <th>0</th>\n",
       "      <td>4055629</td>\n",
       "      <td>2012-10-06</td>\n",
       "      <td>Very nice accommodation in an aesthetically pl...</td>\n",
       "      <td>Nottinghill Portobello  Artist Flat</td>\n",
       "      <td>Kensington and Chelsea</td>\n",
       "      <td>London</td>\n",
       "      <td>England</td>\n",
       "      <td>United Kingdom</td>\n",
       "      <td>Entire home/apt</td>\n",
       "      <td>100</td>\n",
       "      <td>338</td>\n",
       "    </tr>\n",
       "    <tr>\n",
       "      <th>658</th>\n",
       "      <td>23914491</td>\n",
       "      <td>2012-04-06</td>\n",
       "      <td>It was my first ever time using airbnb to book...</td>\n",
       "      <td>appt 5 1/2 spacieux/luxueux</td>\n",
       "      <td>Mercier-Hochelaga-Maisonneuve</td>\n",
       "      <td>London</td>\n",
       "      <td>Quebec</td>\n",
       "      <td>Canada</td>\n",
       "      <td>Entire home/apt</td>\n",
       "      <td>150</td>\n",
       "      <td>363</td>\n",
       "    </tr>\n",
       "    <tr>\n",
       "      <th>659</th>\n",
       "      <td>30148314</td>\n",
       "      <td>2013-07-23</td>\n",
       "      <td>Jenifer was welcoming and accommodating. I arr...</td>\n",
       "      <td>Spacious SF Getaway Near The Ocean</td>\n",
       "      <td>Parkside</td>\n",
       "      <td>London</td>\n",
       "      <td>California</td>\n",
       "      <td>United States</td>\n",
       "      <td>Entire home/apt</td>\n",
       "      <td>165</td>\n",
       "      <td>356</td>\n",
       "    </tr>\n",
       "    <tr>\n",
       "      <th>660</th>\n",
       "      <td>24710430</td>\n",
       "      <td>2014-05-28</td>\n",
       "      <td>We found the accommodations as described.  The...</td>\n",
       "      <td>Design!Canal and San Marco's view</td>\n",
       "      <td>Cannaregio</td>\n",
       "      <td>London</td>\n",
       "      <td>Veneto</td>\n",
       "      <td>Italy</td>\n",
       "      <td>Entire home/apt</td>\n",
       "      <td>133</td>\n",
       "      <td>310</td>\n",
       "    </tr>\n",
       "    <tr>\n",
       "      <th>661</th>\n",
       "      <td>27094762</td>\n",
       "      <td>2013-09-08</td>\n",
       "      <td>Great stay! Everything went smoothly. Thanks!</td>\n",
       "      <td>Lovely House in heart of Silverlake</td>\n",
       "      <td>Silver Lake</td>\n",
       "      <td>London</td>\n",
       "      <td>California</td>\n",
       "      <td>United States</td>\n",
       "      <td>Entire home/apt</td>\n",
       "      <td>125</td>\n",
       "      <td>235</td>\n",
       "    </tr>\n",
       "    <tr>\n",
       "      <th>...</th>\n",
       "      <td>...</td>\n",
       "      <td>...</td>\n",
       "      <td>...</td>\n",
       "      <td>...</td>\n",
       "      <td>...</td>\n",
       "      <td>...</td>\n",
       "      <td>...</td>\n",
       "      <td>...</td>\n",
       "      <td>...</td>\n",
       "      <td>...</td>\n",
       "      <td>...</td>\n",
       "    </tr>\n",
       "    <tr>\n",
       "      <th>339</th>\n",
       "      <td>7318998</td>\n",
       "      <td>2012-10-07</td>\n",
       "      <td>Rob was a great host, it was a pleasure meetin...</td>\n",
       "      <td>Beautiful studio in Manhattan</td>\n",
       "      <td>Hell's Kitchen</td>\n",
       "      <td>London</td>\n",
       "      <td>New York</td>\n",
       "      <td>United States</td>\n",
       "      <td>Entire home/apt</td>\n",
       "      <td>200</td>\n",
       "      <td>0</td>\n",
       "    </tr>\n",
       "    <tr>\n",
       "      <th>340</th>\n",
       "      <td>34515406</td>\n",
       "      <td>2013-02-25</td>\n",
       "      <td>This is a beautiful place in a great location....</td>\n",
       "      <td>Luxury Chicago Loft</td>\n",
       "      <td>Lake View</td>\n",
       "      <td>London</td>\n",
       "      <td>Illinois</td>\n",
       "      <td>United States</td>\n",
       "      <td>Entire home/apt</td>\n",
       "      <td>165</td>\n",
       "      <td>299</td>\n",
       "    </tr>\n",
       "    <tr>\n",
       "      <th>341</th>\n",
       "      <td>39989690</td>\n",
       "      <td>2012-05-10</td>\n",
       "      <td>PROS: *spacious for our party of 6 adults and ...</td>\n",
       "      <td>Top floor upscale 2BD/2BA condo A</td>\n",
       "      <td>Bridgeton</td>\n",
       "      <td>London</td>\n",
       "      <td>Oregon</td>\n",
       "      <td>United States</td>\n",
       "      <td>Entire home/apt</td>\n",
       "      <td>150</td>\n",
       "      <td>339</td>\n",
       "    </tr>\n",
       "    <tr>\n",
       "      <th>328</th>\n",
       "      <td>7937600</td>\n",
       "      <td>2013-01-04</td>\n",
       "      <td>the host was so friendly, generous and kind. m...</td>\n",
       "      <td>East Dulwich single - garden view</td>\n",
       "      <td>Southwark</td>\n",
       "      <td>London</td>\n",
       "      <td>England</td>\n",
       "      <td>United Kingdom</td>\n",
       "      <td>Private room</td>\n",
       "      <td>30</td>\n",
       "      <td>356</td>\n",
       "    </tr>\n",
       "    <tr>\n",
       "      <th>999</th>\n",
       "      <td>38944752</td>\n",
       "      <td>2013-10-15</td>\n",
       "      <td>Thank you for the wonderful stay!   It was a c...</td>\n",
       "      <td>15 Minutes from Manhattan</td>\n",
       "      <td>Woodside</td>\n",
       "      <td>London</td>\n",
       "      <td>New York</td>\n",
       "      <td>United States</td>\n",
       "      <td>Private room</td>\n",
       "      <td>110</td>\n",
       "      <td>329</td>\n",
       "    </tr>\n",
       "  </tbody>\n",
       "</table>\n",
       "<p>1000 rows × 11 columns</p>\n",
       "</div>"
      ],
      "text/plain": [
       "     Review ID Review Date                                     Review Content  \\\n",
       "0      4055629  2012-10-06  Very nice accommodation in an aesthetically pl...   \n",
       "658   23914491  2012-04-06  It was my first ever time using airbnb to book...   \n",
       "659   30148314  2013-07-23  Jenifer was welcoming and accommodating. I arr...   \n",
       "660   24710430  2014-05-28  We found the accommodations as described.  The...   \n",
       "661   27094762  2013-09-08     Great stay! Everything went smoothly. Thanks!    \n",
       "..         ...         ...                                                ...   \n",
       "339    7318998  2012-10-07  Rob was a great host, it was a pleasure meetin...   \n",
       "340   34515406  2013-02-25  This is a beautiful place in a great location....   \n",
       "341   39989690  2012-05-10  PROS: *spacious for our party of 6 adults and ...   \n",
       "328    7937600  2013-01-04  the host was so friendly, generous and kind. m...   \n",
       "999   38944752  2013-10-15  Thank you for the wonderful stay!   It was a c...   \n",
       "\n",
       "                           Listing Title                  Neighbourhood  \\\n",
       "0    Nottinghill Portobello  Artist Flat         Kensington and Chelsea   \n",
       "658         appt 5 1/2 spacieux/luxueux   Mercier-Hochelaga-Maisonneuve   \n",
       "659   Spacious SF Getaway Near The Ocean                       Parkside   \n",
       "660   Design!Canal and San Marco's view                      Cannaregio   \n",
       "661  Lovely House in heart of Silverlake                    Silver Lake   \n",
       "..                                   ...                            ...   \n",
       "339        Beautiful studio in Manhattan                 Hell's Kitchen   \n",
       "340                  Luxury Chicago Loft                      Lake View   \n",
       "341    Top floor upscale 2BD/2BA condo A                      Bridgeton   \n",
       "328    East Dulwich single - garden view                      Southwark   \n",
       "999            15 Minutes from Manhattan                       Woodside   \n",
       "\n",
       "       City       State         Country        Room Type  Room Price  \\\n",
       "0    London     England  United Kingdom  Entire home/apt         100   \n",
       "658  London      Quebec          Canada  Entire home/apt         150   \n",
       "659  London  California   United States  Entire home/apt         165   \n",
       "660  London      Veneto           Italy  Entire home/apt         133   \n",
       "661  London  California   United States  Entire home/apt         125   \n",
       "..      ...         ...             ...              ...         ...   \n",
       "339  London    New York   United States  Entire home/apt         200   \n",
       "340  London    Illinois   United States  Entire home/apt         165   \n",
       "341  London      Oregon   United States  Entire home/apt         150   \n",
       "328  London     England  United Kingdom     Private room          30   \n",
       "999  London    New York   United States     Private room         110   \n",
       "\n",
       "     Room Availability  \n",
       "0                  338  \n",
       "658                363  \n",
       "659                356  \n",
       "660                310  \n",
       "661                235  \n",
       "..                 ...  \n",
       "339                  0  \n",
       "340                299  \n",
       "341                339  \n",
       "328                356  \n",
       "999                329  \n",
       "\n",
       "[1000 rows x 11 columns]"
      ]
     },
     "execution_count": 324,
     "metadata": {},
     "output_type": "execute_result"
    }
   ],
   "source": [
    "mask"
   ]
  },
  {
   "cell_type": "code",
   "execution_count": 334,
   "id": "360bd47a-c581-407b-a2e2-5ab07e6ea7c5",
   "metadata": {},
   "outputs": [],
   "source": [
    "x = len(review.drop_duplicates(subset = [\"City\"])) ## only take london "
   ]
  },
  {
   "cell_type": "code",
   "execution_count": 335,
   "id": "f3099c0b-6d30-4fe8-85d1-9d7a17ab5a96",
   "metadata": {},
   "outputs": [
    {
     "data": {
      "text/plain": [
       "1"
      ]
     },
     "execution_count": 335,
     "metadata": {},
     "output_type": "execute_result"
    }
   ],
   "source": [
    "x"
   ]
  },
  {
   "cell_type": "code",
   "execution_count": 340,
   "id": "7596a173-261e-472a-8bd9-875e44cf6673",
   "metadata": {},
   "outputs": [],
   "source": [
    "y = len(review.drop_duplicates(subset = [\"Room Type\"])) #we have different unique type of rooms in london "
   ]
  },
  {
   "cell_type": "code",
   "execution_count": 341,
   "id": "96568579-4c6c-411e-b984-858d4328a5ba",
   "metadata": {},
   "outputs": [
    {
     "data": {
      "text/plain": [
       "3"
      ]
     },
     "execution_count": 341,
     "metadata": {},
     "output_type": "execute_result"
    }
   ],
   "source": [
    "y"
   ]
  },
  {
   "cell_type": "markdown",
   "id": "68d1787e-7318-4889-8f3d-9438dc23b274",
   "metadata": {},
   "source": [
    "### unique, nunique"
   ]
  },
  {
   "cell_type": "code",
   "execution_count": 342,
   "id": "73b41f6b-f3ea-4ab4-a1fa-3b0503360685",
   "metadata": {},
   "outputs": [
    {
     "data": {
      "text/plain": [
       "array(['London'], dtype=object)"
      ]
     },
     "execution_count": 342,
     "metadata": {},
     "output_type": "execute_result"
    }
   ],
   "source": [
    "review[\"City\"].unique() ## Unique is london because we just analyze london."
   ]
  },
  {
   "cell_type": "code",
   "execution_count": 343,
   "id": "88b7640a-22b9-425b-9781-bd44cb0be3ff",
   "metadata": {},
   "outputs": [
    {
     "data": {
      "text/plain": [
       "0      London\n",
       "658    London\n",
       "659    London\n",
       "660    London\n",
       "661    London\n",
       "        ...  \n",
       "339    London\n",
       "340    London\n",
       "341    London\n",
       "328    London\n",
       "999    London\n",
       "Name: City, Length: 1000, dtype: object"
      ]
     },
     "execution_count": 343,
     "metadata": {},
     "output_type": "execute_result"
    }
   ],
   "source": [
    "review[\"City\"] ## bring all london value because of we use before the code and we did perm."
   ]
  },
  {
   "cell_type": "code",
   "execution_count": 344,
   "id": "f5be85d4-b33f-4a8d-9d34-edef6f12868a",
   "metadata": {},
   "outputs": [
    {
     "data": {
      "text/plain": [
       "1"
      ]
     },
     "execution_count": 344,
     "metadata": {},
     "output_type": "execute_result"
    }
   ],
   "source": [
    "len(review[\"City\"].unique())"
   ]
  },
  {
   "cell_type": "code",
   "execution_count": 345,
   "id": "923dff21-1d16-456d-b26e-f38b169273c5",
   "metadata": {},
   "outputs": [
    {
     "data": {
      "text/plain": [
       "0      United Kingdom\n",
       "658            Canada\n",
       "659     United States\n",
       "660             Italy\n",
       "661     United States\n",
       "            ...      \n",
       "339     United States\n",
       "340     United States\n",
       "341     United States\n",
       "328    United Kingdom\n",
       "999     United States\n",
       "Name: Country, Length: 1000, dtype: object"
      ]
     },
     "execution_count": 345,
     "metadata": {},
     "output_type": "execute_result"
    }
   ],
   "source": [
    "review[\"Country\"]"
   ]
  },
  {
   "cell_type": "markdown",
   "id": "59e9d7ab-7670-4751-9589-32a8ce326124",
   "metadata": {},
   "source": [
    "### upper(), lower(), title(), len()"
   ]
  },
  {
   "cell_type": "code",
   "execution_count": 346,
   "id": "5f788fce-25e7-412c-9ff5-806785d5c57c",
   "metadata": {},
   "outputs": [
    {
     "data": {
      "text/plain": [
       "0      UNITED KINGDOM\n",
       "658            CANADA\n",
       "659     UNITED STATES\n",
       "660             ITALY\n",
       "661     UNITED STATES\n",
       "            ...      \n",
       "339     UNITED STATES\n",
       "340     UNITED STATES\n",
       "341     UNITED STATES\n",
       "328    UNITED KINGDOM\n",
       "999     UNITED STATES\n",
       "Name: Country, Length: 1000, dtype: object"
      ]
     },
     "execution_count": 346,
     "metadata": {},
     "output_type": "execute_result"
    }
   ],
   "source": [
    "review[\"Country\"].str.upper()"
   ]
  },
  {
   "cell_type": "code",
   "execution_count": 347,
   "id": "429635a7-f48f-449a-b75c-b1d72f44cf87",
   "metadata": {},
   "outputs": [
    {
     "data": {
      "text/plain": [
       "0      united kingdom\n",
       "658            canada\n",
       "659     united states\n",
       "660             italy\n",
       "661     united states\n",
       "            ...      \n",
       "339     united states\n",
       "340     united states\n",
       "341     united states\n",
       "328    united kingdom\n",
       "999     united states\n",
       "Name: Country, Length: 1000, dtype: object"
      ]
     },
     "execution_count": 347,
     "metadata": {},
     "output_type": "execute_result"
    }
   ],
   "source": [
    "review[\"Country\"].str.lower()"
   ]
  },
  {
   "cell_type": "code",
   "execution_count": 348,
   "id": "107b7822-8020-49ca-9388-50cf76b2b18f",
   "metadata": {},
   "outputs": [
    {
     "data": {
      "text/plain": [
       "0      United Kingdom\n",
       "658            Canada\n",
       "659     United States\n",
       "660             Italy\n",
       "661     United States\n",
       "            ...      \n",
       "339     United States\n",
       "340     United States\n",
       "341     United States\n",
       "328    United Kingdom\n",
       "999     United States\n",
       "Name: Country, Length: 1000, dtype: object"
      ]
     },
     "execution_count": 348,
     "metadata": {},
     "output_type": "execute_result"
    }
   ],
   "source": [
    "review[\"Country\"].str.title()"
   ]
  },
  {
   "cell_type": "code",
   "execution_count": 350,
   "id": "23c1905c-df64-4d99-88b9-ab8fcd69c43f",
   "metadata": {},
   "outputs": [
    {
     "data": {
      "text/plain": [
       "0      14\n",
       "658     6\n",
       "659    13\n",
       "660     5\n",
       "661    13\n",
       "       ..\n",
       "339    13\n",
       "340    13\n",
       "341    13\n",
       "328    14\n",
       "999    13\n",
       "Name: Country, Length: 1000, dtype: int64"
      ]
     },
     "execution_count": 350,
     "metadata": {},
     "output_type": "execute_result"
    }
   ],
   "source": [
    "review[\"Country\"].str.len() ## we know here values length..."
   ]
  },
  {
   "cell_type": "markdown",
   "id": "e407f14c-d9b5-4ccd-b49e-58a4c987c407",
   "metadata": {},
   "source": [
    "### replace()"
   ]
  },
  {
   "cell_type": "code",
   "execution_count": 352,
   "id": "b617db1e-a5d2-4106-a331-f32f53ebcc5d",
   "metadata": {},
   "outputs": [
    {
     "data": {
      "text/plain": [
       "0      Entire home/apt\n",
       "658    Entire home/apt\n",
       "659    Entire home/apt\n",
       "660    Entire home/apt\n",
       "661    Entire home/apt\n",
       "            ...       \n",
       "339    Entire home/apt\n",
       "340    Entire home/apt\n",
       "341    Entire home/apt\n",
       "328       Private Room\n",
       "999       Private Room\n",
       "Name: Room Type, Length: 1000, dtype: object"
      ]
     },
     "execution_count": 352,
     "metadata": {},
     "output_type": "execute_result"
    }
   ],
   "source": [
    "review[\"Room Type\"].str.replace('room','Room')"
   ]
  },
  {
   "cell_type": "code",
   "execution_count": 353,
   "id": "3029420f-4e35-4583-9b97-2fa4bdfb94e9",
   "metadata": {},
   "outputs": [
    {
     "data": {
      "text/plain": [
       "0      Entire Home/apt\n",
       "658    Entire Home/apt\n",
       "659    Entire Home/apt\n",
       "660    Entire Home/apt\n",
       "661    Entire Home/apt\n",
       "            ...       \n",
       "339    Entire Home/apt\n",
       "340    Entire Home/apt\n",
       "341    Entire Home/apt\n",
       "328       Private room\n",
       "999       Private room\n",
       "Name: Room Type, Length: 1000, dtype: object"
      ]
     },
     "execution_count": 353,
     "metadata": {},
     "output_type": "execute_result"
    }
   ],
   "source": [
    "review[\"Room Type\"].str.replace('home','Home')"
   ]
  },
  {
   "cell_type": "code",
   "execution_count": 360,
   "id": "c942bc66-c87e-44e4-9191-64115c38265d",
   "metadata": {},
   "outputs": [
    {
     "data": {
      "text/html": [
       "<div>\n",
       "<style scoped>\n",
       "    .dataframe tbody tr th:only-of-type {\n",
       "        vertical-align: middle;\n",
       "    }\n",
       "\n",
       "    .dataframe tbody tr th {\n",
       "        vertical-align: top;\n",
       "    }\n",
       "\n",
       "    .dataframe thead th {\n",
       "        text-align: right;\n",
       "    }\n",
       "</style>\n",
       "<table border=\"1\" class=\"dataframe\">\n",
       "  <thead>\n",
       "    <tr style=\"text-align: right;\">\n",
       "      <th></th>\n",
       "      <th>Review ID</th>\n",
       "      <th>Review Date</th>\n",
       "      <th>Review Content</th>\n",
       "      <th>Listing Title</th>\n",
       "      <th>Neighbourhood</th>\n",
       "      <th>City</th>\n",
       "      <th>State</th>\n",
       "      <th>Country</th>\n",
       "      <th>Room Type</th>\n",
       "      <th>Room Price</th>\n",
       "      <th>Room Availability</th>\n",
       "    </tr>\n",
       "  </thead>\n",
       "  <tbody>\n",
       "    <tr>\n",
       "      <th>0</th>\n",
       "      <td>4055629</td>\n",
       "      <td>2012-10-06</td>\n",
       "      <td>Very nice accommodation in an aesthetically pl...</td>\n",
       "      <td>Nottinghill Portobello  Artist Flat</td>\n",
       "      <td>Kensington and Chelsea</td>\n",
       "      <td>London</td>\n",
       "      <td>England</td>\n",
       "      <td>United Kingdom</td>\n",
       "      <td>Entire home/apt</td>\n",
       "      <td>100</td>\n",
       "      <td>338</td>\n",
       "    </tr>\n",
       "    <tr>\n",
       "      <th>659</th>\n",
       "      <td>30148314</td>\n",
       "      <td>2013-07-23</td>\n",
       "      <td>Jenifer was welcoming and accommodating. I arr...</td>\n",
       "      <td>Spacious SF Getaway Near The Ocean</td>\n",
       "      <td>Parkside</td>\n",
       "      <td>London</td>\n",
       "      <td>California</td>\n",
       "      <td>United States</td>\n",
       "      <td>Entire home/apt</td>\n",
       "      <td>165</td>\n",
       "      <td>356</td>\n",
       "    </tr>\n",
       "    <tr>\n",
       "      <th>661</th>\n",
       "      <td>27094762</td>\n",
       "      <td>2013-09-08</td>\n",
       "      <td>Great stay! Everything went smoothly. Thanks!</td>\n",
       "      <td>Lovely House in heart of Silverlake</td>\n",
       "      <td>Silver Lake</td>\n",
       "      <td>London</td>\n",
       "      <td>California</td>\n",
       "      <td>United States</td>\n",
       "      <td>Entire home/apt</td>\n",
       "      <td>125</td>\n",
       "      <td>235</td>\n",
       "    </tr>\n",
       "    <tr>\n",
       "      <th>664</th>\n",
       "      <td>28026267</td>\n",
       "      <td>2014-08-23</td>\n",
       "      <td>Anna made us feel welcome and provided some su...</td>\n",
       "      <td>Boutique Alcoves Studio by Union Sq</td>\n",
       "      <td>Greenwich Village</td>\n",
       "      <td>London</td>\n",
       "      <td>New York</td>\n",
       "      <td>United States</td>\n",
       "      <td>Entire home/apt</td>\n",
       "      <td>149</td>\n",
       "      <td>243</td>\n",
       "    </tr>\n",
       "    <tr>\n",
       "      <th>665</th>\n",
       "      <td>46219138</td>\n",
       "      <td>2012-04-25</td>\n",
       "      <td>we had a great, but short stay in boston! the ...</td>\n",
       "      <td>Spacious Room in Boston</td>\n",
       "      <td>Jamaica Plain</td>\n",
       "      <td>London</td>\n",
       "      <td>Massachusetts</td>\n",
       "      <td>United States</td>\n",
       "      <td>Private room</td>\n",
       "      <td>84</td>\n",
       "      <td>176</td>\n",
       "    </tr>\n",
       "    <tr>\n",
       "      <th>...</th>\n",
       "      <td>...</td>\n",
       "      <td>...</td>\n",
       "      <td>...</td>\n",
       "      <td>...</td>\n",
       "      <td>...</td>\n",
       "      <td>...</td>\n",
       "      <td>...</td>\n",
       "      <td>...</td>\n",
       "      <td>...</td>\n",
       "      <td>...</td>\n",
       "      <td>...</td>\n",
       "    </tr>\n",
       "    <tr>\n",
       "      <th>339</th>\n",
       "      <td>7318998</td>\n",
       "      <td>2012-10-07</td>\n",
       "      <td>Rob was a great host, it was a pleasure meetin...</td>\n",
       "      <td>Beautiful studio in Manhattan</td>\n",
       "      <td>Hell's Kitchen</td>\n",
       "      <td>London</td>\n",
       "      <td>New York</td>\n",
       "      <td>United States</td>\n",
       "      <td>Entire home/apt</td>\n",
       "      <td>200</td>\n",
       "      <td>0</td>\n",
       "    </tr>\n",
       "    <tr>\n",
       "      <th>340</th>\n",
       "      <td>34515406</td>\n",
       "      <td>2013-02-25</td>\n",
       "      <td>This is a beautiful place in a great location....</td>\n",
       "      <td>Luxury Chicago Loft</td>\n",
       "      <td>Lake View</td>\n",
       "      <td>London</td>\n",
       "      <td>Illinois</td>\n",
       "      <td>United States</td>\n",
       "      <td>Entire home/apt</td>\n",
       "      <td>165</td>\n",
       "      <td>299</td>\n",
       "    </tr>\n",
       "    <tr>\n",
       "      <th>341</th>\n",
       "      <td>39989690</td>\n",
       "      <td>2012-05-10</td>\n",
       "      <td>PROS: *spacious for our party of 6 adults and ...</td>\n",
       "      <td>Top floor upscale 2BD/2BA condo A</td>\n",
       "      <td>Bridgeton</td>\n",
       "      <td>London</td>\n",
       "      <td>Oregon</td>\n",
       "      <td>United States</td>\n",
       "      <td>Entire home/apt</td>\n",
       "      <td>150</td>\n",
       "      <td>339</td>\n",
       "    </tr>\n",
       "    <tr>\n",
       "      <th>328</th>\n",
       "      <td>7937600</td>\n",
       "      <td>2013-01-04</td>\n",
       "      <td>the host was so friendly, generous and kind. m...</td>\n",
       "      <td>East Dulwich single - garden view</td>\n",
       "      <td>Southwark</td>\n",
       "      <td>London</td>\n",
       "      <td>England</td>\n",
       "      <td>United Kingdom</td>\n",
       "      <td>Private room</td>\n",
       "      <td>30</td>\n",
       "      <td>356</td>\n",
       "    </tr>\n",
       "    <tr>\n",
       "      <th>999</th>\n",
       "      <td>38944752</td>\n",
       "      <td>2013-10-15</td>\n",
       "      <td>Thank you for the wonderful stay!   It was a c...</td>\n",
       "      <td>15 Minutes from Manhattan</td>\n",
       "      <td>Woodside</td>\n",
       "      <td>London</td>\n",
       "      <td>New York</td>\n",
       "      <td>United States</td>\n",
       "      <td>Private room</td>\n",
       "      <td>110</td>\n",
       "      <td>329</td>\n",
       "    </tr>\n",
       "  </tbody>\n",
       "</table>\n",
       "<p>539 rows × 11 columns</p>\n",
       "</div>"
      ],
      "text/plain": [
       "     Review ID Review Date                                     Review Content  \\\n",
       "0      4055629  2012-10-06  Very nice accommodation in an aesthetically pl...   \n",
       "659   30148314  2013-07-23  Jenifer was welcoming and accommodating. I arr...   \n",
       "661   27094762  2013-09-08     Great stay! Everything went smoothly. Thanks!    \n",
       "664   28026267  2014-08-23  Anna made us feel welcome and provided some su...   \n",
       "665   46219138  2012-04-25  we had a great, but short stay in boston! the ...   \n",
       "..         ...         ...                                                ...   \n",
       "339    7318998  2012-10-07  Rob was a great host, it was a pleasure meetin...   \n",
       "340   34515406  2013-02-25  This is a beautiful place in a great location....   \n",
       "341   39989690  2012-05-10  PROS: *spacious for our party of 6 adults and ...   \n",
       "328    7937600  2013-01-04  the host was so friendly, generous and kind. m...   \n",
       "999   38944752  2013-10-15  Thank you for the wonderful stay!   It was a c...   \n",
       "\n",
       "                           Listing Title           Neighbourhood    City  \\\n",
       "0    Nottinghill Portobello  Artist Flat  Kensington and Chelsea  London   \n",
       "659   Spacious SF Getaway Near The Ocean                Parkside  London   \n",
       "661  Lovely House in heart of Silverlake             Silver Lake  London   \n",
       "664  Boutique Alcoves Studio by Union Sq       Greenwich Village  London   \n",
       "665              Spacious Room in Boston           Jamaica Plain  London   \n",
       "..                                   ...                     ...     ...   \n",
       "339        Beautiful studio in Manhattan          Hell's Kitchen  London   \n",
       "340                  Luxury Chicago Loft               Lake View  London   \n",
       "341    Top floor upscale 2BD/2BA condo A               Bridgeton  London   \n",
       "328    East Dulwich single - garden view               Southwark  London   \n",
       "999            15 Minutes from Manhattan                Woodside  London   \n",
       "\n",
       "             State         Country        Room Type  Room Price  \\\n",
       "0          England  United Kingdom  Entire home/apt         100   \n",
       "659     California   United States  Entire home/apt         165   \n",
       "661     California   United States  Entire home/apt         125   \n",
       "664       New York   United States  Entire home/apt         149   \n",
       "665  Massachusetts   United States     Private room          84   \n",
       "..             ...             ...              ...         ...   \n",
       "339       New York   United States  Entire home/apt         200   \n",
       "340       Illinois   United States  Entire home/apt         165   \n",
       "341         Oregon   United States  Entire home/apt         150   \n",
       "328        England  United Kingdom     Private room          30   \n",
       "999       New York   United States     Private room         110   \n",
       "\n",
       "     Room Availability  \n",
       "0                  338  \n",
       "659                356  \n",
       "661                235  \n",
       "664                243  \n",
       "665                176  \n",
       "..                 ...  \n",
       "339                  0  \n",
       "340                299  \n",
       "341                339  \n",
       "328                356  \n",
       "999                329  \n",
       "\n",
       "[539 rows x 11 columns]"
      ]
     },
     "execution_count": 360,
     "metadata": {},
     "output_type": "execute_result"
    }
   ],
   "source": [
    "mask1=review[\"Country\"].str.upper().str.contains('UNITED')\n",
    "review[mask1]"
   ]
  },
  {
   "cell_type": "code",
   "execution_count": 357,
   "id": "b157e96c-f97e-4ee3-9499-609a2c965524",
   "metadata": {},
   "outputs": [],
   "source": [
    "mask = review[\"Country\"].str.upper().str.startswith('UN')"
   ]
  },
  {
   "cell_type": "code",
   "execution_count": 358,
   "id": "fdba6f4d-7784-4070-beb1-8641484de876",
   "metadata": {},
   "outputs": [
    {
     "data": {
      "text/html": [
       "<div>\n",
       "<style scoped>\n",
       "    .dataframe tbody tr th:only-of-type {\n",
       "        vertical-align: middle;\n",
       "    }\n",
       "\n",
       "    .dataframe tbody tr th {\n",
       "        vertical-align: top;\n",
       "    }\n",
       "\n",
       "    .dataframe thead th {\n",
       "        text-align: right;\n",
       "    }\n",
       "</style>\n",
       "<table border=\"1\" class=\"dataframe\">\n",
       "  <thead>\n",
       "    <tr style=\"text-align: right;\">\n",
       "      <th></th>\n",
       "      <th>Review ID</th>\n",
       "      <th>Review Date</th>\n",
       "      <th>Review Content</th>\n",
       "      <th>Listing Title</th>\n",
       "      <th>Neighbourhood</th>\n",
       "      <th>City</th>\n",
       "      <th>State</th>\n",
       "      <th>Country</th>\n",
       "      <th>Room Type</th>\n",
       "      <th>Room Price</th>\n",
       "      <th>Room Availability</th>\n",
       "    </tr>\n",
       "  </thead>\n",
       "  <tbody>\n",
       "    <tr>\n",
       "      <th>0</th>\n",
       "      <td>4055629</td>\n",
       "      <td>2012-10-06</td>\n",
       "      <td>Very nice accommodation in an aesthetically pl...</td>\n",
       "      <td>Nottinghill Portobello  Artist Flat</td>\n",
       "      <td>Kensington and Chelsea</td>\n",
       "      <td>London</td>\n",
       "      <td>England</td>\n",
       "      <td>United Kingdom</td>\n",
       "      <td>Entire home/apt</td>\n",
       "      <td>100</td>\n",
       "      <td>338</td>\n",
       "    </tr>\n",
       "    <tr>\n",
       "      <th>659</th>\n",
       "      <td>30148314</td>\n",
       "      <td>2013-07-23</td>\n",
       "      <td>Jenifer was welcoming and accommodating. I arr...</td>\n",
       "      <td>Spacious SF Getaway Near The Ocean</td>\n",
       "      <td>Parkside</td>\n",
       "      <td>London</td>\n",
       "      <td>California</td>\n",
       "      <td>United States</td>\n",
       "      <td>Entire home/apt</td>\n",
       "      <td>165</td>\n",
       "      <td>356</td>\n",
       "    </tr>\n",
       "    <tr>\n",
       "      <th>661</th>\n",
       "      <td>27094762</td>\n",
       "      <td>2013-09-08</td>\n",
       "      <td>Great stay! Everything went smoothly. Thanks!</td>\n",
       "      <td>Lovely House in heart of Silverlake</td>\n",
       "      <td>Silver Lake</td>\n",
       "      <td>London</td>\n",
       "      <td>California</td>\n",
       "      <td>United States</td>\n",
       "      <td>Entire home/apt</td>\n",
       "      <td>125</td>\n",
       "      <td>235</td>\n",
       "    </tr>\n",
       "    <tr>\n",
       "      <th>664</th>\n",
       "      <td>28026267</td>\n",
       "      <td>2014-08-23</td>\n",
       "      <td>Anna made us feel welcome and provided some su...</td>\n",
       "      <td>Boutique Alcoves Studio by Union Sq</td>\n",
       "      <td>Greenwich Village</td>\n",
       "      <td>London</td>\n",
       "      <td>New York</td>\n",
       "      <td>United States</td>\n",
       "      <td>Entire home/apt</td>\n",
       "      <td>149</td>\n",
       "      <td>243</td>\n",
       "    </tr>\n",
       "    <tr>\n",
       "      <th>665</th>\n",
       "      <td>46219138</td>\n",
       "      <td>2012-04-25</td>\n",
       "      <td>we had a great, but short stay in boston! the ...</td>\n",
       "      <td>Spacious Room in Boston</td>\n",
       "      <td>Jamaica Plain</td>\n",
       "      <td>London</td>\n",
       "      <td>Massachusetts</td>\n",
       "      <td>United States</td>\n",
       "      <td>Private room</td>\n",
       "      <td>84</td>\n",
       "      <td>176</td>\n",
       "    </tr>\n",
       "    <tr>\n",
       "      <th>...</th>\n",
       "      <td>...</td>\n",
       "      <td>...</td>\n",
       "      <td>...</td>\n",
       "      <td>...</td>\n",
       "      <td>...</td>\n",
       "      <td>...</td>\n",
       "      <td>...</td>\n",
       "      <td>...</td>\n",
       "      <td>...</td>\n",
       "      <td>...</td>\n",
       "      <td>...</td>\n",
       "    </tr>\n",
       "    <tr>\n",
       "      <th>339</th>\n",
       "      <td>7318998</td>\n",
       "      <td>2012-10-07</td>\n",
       "      <td>Rob was a great host, it was a pleasure meetin...</td>\n",
       "      <td>Beautiful studio in Manhattan</td>\n",
       "      <td>Hell's Kitchen</td>\n",
       "      <td>London</td>\n",
       "      <td>New York</td>\n",
       "      <td>United States</td>\n",
       "      <td>Entire home/apt</td>\n",
       "      <td>200</td>\n",
       "      <td>0</td>\n",
       "    </tr>\n",
       "    <tr>\n",
       "      <th>340</th>\n",
       "      <td>34515406</td>\n",
       "      <td>2013-02-25</td>\n",
       "      <td>This is a beautiful place in a great location....</td>\n",
       "      <td>Luxury Chicago Loft</td>\n",
       "      <td>Lake View</td>\n",
       "      <td>London</td>\n",
       "      <td>Illinois</td>\n",
       "      <td>United States</td>\n",
       "      <td>Entire home/apt</td>\n",
       "      <td>165</td>\n",
       "      <td>299</td>\n",
       "    </tr>\n",
       "    <tr>\n",
       "      <th>341</th>\n",
       "      <td>39989690</td>\n",
       "      <td>2012-05-10</td>\n",
       "      <td>PROS: *spacious for our party of 6 adults and ...</td>\n",
       "      <td>Top floor upscale 2BD/2BA condo A</td>\n",
       "      <td>Bridgeton</td>\n",
       "      <td>London</td>\n",
       "      <td>Oregon</td>\n",
       "      <td>United States</td>\n",
       "      <td>Entire home/apt</td>\n",
       "      <td>150</td>\n",
       "      <td>339</td>\n",
       "    </tr>\n",
       "    <tr>\n",
       "      <th>328</th>\n",
       "      <td>7937600</td>\n",
       "      <td>2013-01-04</td>\n",
       "      <td>the host was so friendly, generous and kind. m...</td>\n",
       "      <td>East Dulwich single - garden view</td>\n",
       "      <td>Southwark</td>\n",
       "      <td>London</td>\n",
       "      <td>England</td>\n",
       "      <td>United Kingdom</td>\n",
       "      <td>Private room</td>\n",
       "      <td>30</td>\n",
       "      <td>356</td>\n",
       "    </tr>\n",
       "    <tr>\n",
       "      <th>999</th>\n",
       "      <td>38944752</td>\n",
       "      <td>2013-10-15</td>\n",
       "      <td>Thank you for the wonderful stay!   It was a c...</td>\n",
       "      <td>15 Minutes from Manhattan</td>\n",
       "      <td>Woodside</td>\n",
       "      <td>London</td>\n",
       "      <td>New York</td>\n",
       "      <td>United States</td>\n",
       "      <td>Private room</td>\n",
       "      <td>110</td>\n",
       "      <td>329</td>\n",
       "    </tr>\n",
       "  </tbody>\n",
       "</table>\n",
       "<p>521 rows × 11 columns</p>\n",
       "</div>"
      ],
      "text/plain": [
       "     Review ID Review Date                                     Review Content  \\\n",
       "0      4055629  2012-10-06  Very nice accommodation in an aesthetically pl...   \n",
       "659   30148314  2013-07-23  Jenifer was welcoming and accommodating. I arr...   \n",
       "661   27094762  2013-09-08     Great stay! Everything went smoothly. Thanks!    \n",
       "664   28026267  2014-08-23  Anna made us feel welcome and provided some su...   \n",
       "665   46219138  2012-04-25  we had a great, but short stay in boston! the ...   \n",
       "..         ...         ...                                                ...   \n",
       "339    7318998  2012-10-07  Rob was a great host, it was a pleasure meetin...   \n",
       "340   34515406  2013-02-25  This is a beautiful place in a great location....   \n",
       "341   39989690  2012-05-10  PROS: *spacious for our party of 6 adults and ...   \n",
       "328    7937600  2013-01-04  the host was so friendly, generous and kind. m...   \n",
       "999   38944752  2013-10-15  Thank you for the wonderful stay!   It was a c...   \n",
       "\n",
       "                           Listing Title           Neighbourhood    City  \\\n",
       "0    Nottinghill Portobello  Artist Flat  Kensington and Chelsea  London   \n",
       "659   Spacious SF Getaway Near The Ocean                Parkside  London   \n",
       "661  Lovely House in heart of Silverlake             Silver Lake  London   \n",
       "664  Boutique Alcoves Studio by Union Sq       Greenwich Village  London   \n",
       "665              Spacious Room in Boston           Jamaica Plain  London   \n",
       "..                                   ...                     ...     ...   \n",
       "339        Beautiful studio in Manhattan          Hell's Kitchen  London   \n",
       "340                  Luxury Chicago Loft               Lake View  London   \n",
       "341    Top floor upscale 2BD/2BA condo A               Bridgeton  London   \n",
       "328    East Dulwich single - garden view               Southwark  London   \n",
       "999            15 Minutes from Manhattan                Woodside  London   \n",
       "\n",
       "             State         Country        Room Type  Room Price  \\\n",
       "0          England  United Kingdom  Entire home/apt         100   \n",
       "659     California   United States  Entire home/apt         165   \n",
       "661     California   United States  Entire home/apt         125   \n",
       "664       New York   United States  Entire home/apt         149   \n",
       "665  Massachusetts   United States     Private room          84   \n",
       "..             ...             ...              ...         ...   \n",
       "339       New York   United States  Entire home/apt         200   \n",
       "340       Illinois   United States  Entire home/apt         165   \n",
       "341         Oregon   United States  Entire home/apt         150   \n",
       "328        England  United Kingdom     Private room          30   \n",
       "999       New York   United States     Private room         110   \n",
       "\n",
       "     Room Availability  \n",
       "0                  338  \n",
       "659                356  \n",
       "661                235  \n",
       "664                243  \n",
       "665                176  \n",
       "..                 ...  \n",
       "339                  0  \n",
       "340                299  \n",
       "341                339  \n",
       "328                356  \n",
       "999                329  \n",
       "\n",
       "[521 rows x 11 columns]"
      ]
     },
     "execution_count": 358,
     "metadata": {},
     "output_type": "execute_result"
    }
   ],
   "source": [
    "review[mask]"
   ]
  },
  {
   "cell_type": "code",
   "execution_count": 361,
   "id": "5d7d960c-ce9f-44e8-8cea-887a6a2b0b60",
   "metadata": {},
   "outputs": [],
   "source": [
    "mask = review[\"Country\"].str.lower().str.endswith('s')"
   ]
  },
  {
   "cell_type": "code",
   "execution_count": 362,
   "id": "cc652fd4-4e31-4e0f-b321-d2165b2814d1",
   "metadata": {},
   "outputs": [
    {
     "data": {
      "text/html": [
       "<div>\n",
       "<style scoped>\n",
       "    .dataframe tbody tr th:only-of-type {\n",
       "        vertical-align: middle;\n",
       "    }\n",
       "\n",
       "    .dataframe tbody tr th {\n",
       "        vertical-align: top;\n",
       "    }\n",
       "\n",
       "    .dataframe thead th {\n",
       "        text-align: right;\n",
       "    }\n",
       "</style>\n",
       "<table border=\"1\" class=\"dataframe\">\n",
       "  <thead>\n",
       "    <tr style=\"text-align: right;\">\n",
       "      <th></th>\n",
       "      <th>Review ID</th>\n",
       "      <th>Review Date</th>\n",
       "      <th>Review Content</th>\n",
       "      <th>Listing Title</th>\n",
       "      <th>Neighbourhood</th>\n",
       "      <th>City</th>\n",
       "      <th>State</th>\n",
       "      <th>Country</th>\n",
       "      <th>Room Type</th>\n",
       "      <th>Room Price</th>\n",
       "      <th>Room Availability</th>\n",
       "    </tr>\n",
       "  </thead>\n",
       "  <tbody>\n",
       "    <tr>\n",
       "      <th>659</th>\n",
       "      <td>30148314</td>\n",
       "      <td>2013-07-23</td>\n",
       "      <td>Jenifer was welcoming and accommodating. I arr...</td>\n",
       "      <td>Spacious SF Getaway Near The Ocean</td>\n",
       "      <td>Parkside</td>\n",
       "      <td>London</td>\n",
       "      <td>California</td>\n",
       "      <td>United States</td>\n",
       "      <td>Entire home/apt</td>\n",
       "      <td>165</td>\n",
       "      <td>356</td>\n",
       "    </tr>\n",
       "    <tr>\n",
       "      <th>661</th>\n",
       "      <td>27094762</td>\n",
       "      <td>2013-09-08</td>\n",
       "      <td>Great stay! Everything went smoothly. Thanks!</td>\n",
       "      <td>Lovely House in heart of Silverlake</td>\n",
       "      <td>Silver Lake</td>\n",
       "      <td>London</td>\n",
       "      <td>California</td>\n",
       "      <td>United States</td>\n",
       "      <td>Entire home/apt</td>\n",
       "      <td>125</td>\n",
       "      <td>235</td>\n",
       "    </tr>\n",
       "    <tr>\n",
       "      <th>664</th>\n",
       "      <td>28026267</td>\n",
       "      <td>2014-08-23</td>\n",
       "      <td>Anna made us feel welcome and provided some su...</td>\n",
       "      <td>Boutique Alcoves Studio by Union Sq</td>\n",
       "      <td>Greenwich Village</td>\n",
       "      <td>London</td>\n",
       "      <td>New York</td>\n",
       "      <td>United States</td>\n",
       "      <td>Entire home/apt</td>\n",
       "      <td>149</td>\n",
       "      <td>243</td>\n",
       "    </tr>\n",
       "    <tr>\n",
       "      <th>665</th>\n",
       "      <td>46219138</td>\n",
       "      <td>2012-04-25</td>\n",
       "      <td>we had a great, but short stay in boston! the ...</td>\n",
       "      <td>Spacious Room in Boston</td>\n",
       "      <td>Jamaica Plain</td>\n",
       "      <td>London</td>\n",
       "      <td>Massachusetts</td>\n",
       "      <td>United States</td>\n",
       "      <td>Private room</td>\n",
       "      <td>84</td>\n",
       "      <td>176</td>\n",
       "    </tr>\n",
       "    <tr>\n",
       "      <th>668</th>\n",
       "      <td>42683656</td>\n",
       "      <td>2014-03-11</td>\n",
       "      <td>Angela was a very welcoming host, we communica...</td>\n",
       "      <td>Perfect Beach Getaway Close to All!</td>\n",
       "      <td>Redondo Beach</td>\n",
       "      <td>London</td>\n",
       "      <td>California</td>\n",
       "      <td>United States</td>\n",
       "      <td>Entire home/apt</td>\n",
       "      <td>350</td>\n",
       "      <td>254</td>\n",
       "    </tr>\n",
       "    <tr>\n",
       "      <th>...</th>\n",
       "      <td>...</td>\n",
       "      <td>...</td>\n",
       "      <td>...</td>\n",
       "      <td>...</td>\n",
       "      <td>...</td>\n",
       "      <td>...</td>\n",
       "      <td>...</td>\n",
       "      <td>...</td>\n",
       "      <td>...</td>\n",
       "      <td>...</td>\n",
       "      <td>...</td>\n",
       "    </tr>\n",
       "    <tr>\n",
       "      <th>338</th>\n",
       "      <td>22260942</td>\n",
       "      <td>2012-01-31</td>\n",
       "      <td>What a place! Much bigger in real life than in...</td>\n",
       "      <td>Zen Casita Hideaway</td>\n",
       "      <td>Seventh Ward</td>\n",
       "      <td>London</td>\n",
       "      <td>Louisiana</td>\n",
       "      <td>United States</td>\n",
       "      <td>Entire home/apt</td>\n",
       "      <td>100</td>\n",
       "      <td>170</td>\n",
       "    </tr>\n",
       "    <tr>\n",
       "      <th>339</th>\n",
       "      <td>7318998</td>\n",
       "      <td>2012-10-07</td>\n",
       "      <td>Rob was a great host, it was a pleasure meetin...</td>\n",
       "      <td>Beautiful studio in Manhattan</td>\n",
       "      <td>Hell's Kitchen</td>\n",
       "      <td>London</td>\n",
       "      <td>New York</td>\n",
       "      <td>United States</td>\n",
       "      <td>Entire home/apt</td>\n",
       "      <td>200</td>\n",
       "      <td>0</td>\n",
       "    </tr>\n",
       "    <tr>\n",
       "      <th>340</th>\n",
       "      <td>34515406</td>\n",
       "      <td>2013-02-25</td>\n",
       "      <td>This is a beautiful place in a great location....</td>\n",
       "      <td>Luxury Chicago Loft</td>\n",
       "      <td>Lake View</td>\n",
       "      <td>London</td>\n",
       "      <td>Illinois</td>\n",
       "      <td>United States</td>\n",
       "      <td>Entire home/apt</td>\n",
       "      <td>165</td>\n",
       "      <td>299</td>\n",
       "    </tr>\n",
       "    <tr>\n",
       "      <th>341</th>\n",
       "      <td>39989690</td>\n",
       "      <td>2012-05-10</td>\n",
       "      <td>PROS: *spacious for our party of 6 adults and ...</td>\n",
       "      <td>Top floor upscale 2BD/2BA condo A</td>\n",
       "      <td>Bridgeton</td>\n",
       "      <td>London</td>\n",
       "      <td>Oregon</td>\n",
       "      <td>United States</td>\n",
       "      <td>Entire home/apt</td>\n",
       "      <td>150</td>\n",
       "      <td>339</td>\n",
       "    </tr>\n",
       "    <tr>\n",
       "      <th>999</th>\n",
       "      <td>38944752</td>\n",
       "      <td>2013-10-15</td>\n",
       "      <td>Thank you for the wonderful stay!   It was a c...</td>\n",
       "      <td>15 Minutes from Manhattan</td>\n",
       "      <td>Woodside</td>\n",
       "      <td>London</td>\n",
       "      <td>New York</td>\n",
       "      <td>United States</td>\n",
       "      <td>Private room</td>\n",
       "      <td>110</td>\n",
       "      <td>329</td>\n",
       "    </tr>\n",
       "  </tbody>\n",
       "</table>\n",
       "<p>480 rows × 11 columns</p>\n",
       "</div>"
      ],
      "text/plain": [
       "     Review ID Review Date                                     Review Content  \\\n",
       "659   30148314  2013-07-23  Jenifer was welcoming and accommodating. I arr...   \n",
       "661   27094762  2013-09-08     Great stay! Everything went smoothly. Thanks!    \n",
       "664   28026267  2014-08-23  Anna made us feel welcome and provided some su...   \n",
       "665   46219138  2012-04-25  we had a great, but short stay in boston! the ...   \n",
       "668   42683656  2014-03-11  Angela was a very welcoming host, we communica...   \n",
       "..         ...         ...                                                ...   \n",
       "338   22260942  2012-01-31  What a place! Much bigger in real life than in...   \n",
       "339    7318998  2012-10-07  Rob was a great host, it was a pleasure meetin...   \n",
       "340   34515406  2013-02-25  This is a beautiful place in a great location....   \n",
       "341   39989690  2012-05-10  PROS: *spacious for our party of 6 adults and ...   \n",
       "999   38944752  2013-10-15  Thank you for the wonderful stay!   It was a c...   \n",
       "\n",
       "                           Listing Title      Neighbourhood    City  \\\n",
       "659   Spacious SF Getaway Near The Ocean           Parkside  London   \n",
       "661  Lovely House in heart of Silverlake        Silver Lake  London   \n",
       "664  Boutique Alcoves Studio by Union Sq  Greenwich Village  London   \n",
       "665              Spacious Room in Boston      Jamaica Plain  London   \n",
       "668  Perfect Beach Getaway Close to All!      Redondo Beach  London   \n",
       "..                                   ...                ...     ...   \n",
       "338                 Zen Casita Hideaway        Seventh Ward  London   \n",
       "339        Beautiful studio in Manhattan     Hell's Kitchen  London   \n",
       "340                  Luxury Chicago Loft          Lake View  London   \n",
       "341    Top floor upscale 2BD/2BA condo A          Bridgeton  London   \n",
       "999            15 Minutes from Manhattan           Woodside  London   \n",
       "\n",
       "             State        Country        Room Type  Room Price  \\\n",
       "659     California  United States  Entire home/apt         165   \n",
       "661     California  United States  Entire home/apt         125   \n",
       "664       New York  United States  Entire home/apt         149   \n",
       "665  Massachusetts  United States     Private room          84   \n",
       "668     California  United States  Entire home/apt         350   \n",
       "..             ...            ...              ...         ...   \n",
       "338      Louisiana  United States  Entire home/apt         100   \n",
       "339       New York  United States  Entire home/apt         200   \n",
       "340       Illinois  United States  Entire home/apt         165   \n",
       "341         Oregon  United States  Entire home/apt         150   \n",
       "999       New York  United States     Private room         110   \n",
       "\n",
       "     Room Availability  \n",
       "659                356  \n",
       "661                235  \n",
       "664                243  \n",
       "665                176  \n",
       "668                254  \n",
       "..                 ...  \n",
       "338                170  \n",
       "339                  0  \n",
       "340                299  \n",
       "341                339  \n",
       "999                329  \n",
       "\n",
       "[480 rows x 11 columns]"
      ]
     },
     "execution_count": 362,
     "metadata": {},
     "output_type": "execute_result"
    }
   ],
   "source": [
    "review[mask]"
   ]
  },
  {
   "cell_type": "code",
   "execution_count": 363,
   "id": "60ca9daa-9f58-4b40-8914-20044319ba46",
   "metadata": {},
   "outputs": [
    {
     "data": {
      "text/plain": [
       "0      United Kingdom\n",
       "658            Canada\n",
       "659     United States\n",
       "660             Italy\n",
       "661     United States\n",
       "            ...      \n",
       "339     United States\n",
       "340     United States\n",
       "341     United States\n",
       "328    United Kingdom\n",
       "999     United States\n",
       "Name: Country, Length: 1000, dtype: object"
      ]
     },
     "execution_count": 363,
     "metadata": {},
     "output_type": "execute_result"
    }
   ],
   "source": [
    "review[\"Country\"].str.strip()"
   ]
  },
  {
   "cell_type": "code",
   "execution_count": 368,
   "id": "8248d9cc-056f-4c83-989f-0a39e94d3179",
   "metadata": {},
   "outputs": [
    {
     "name": "stdout",
     "output_type": "stream",
     "text": [
      "     I am Mustafa       .\n",
      "I am Mustafa       .\n"
     ]
    }
   ],
   "source": [
    "print(\"     I am Mustafa       .\")\n",
    "print(\"     I am Mustafa       .\".lstrip())"
   ]
  },
  {
   "cell_type": "markdown",
   "id": "69094532-2d85-495c-8d0a-53cb2d3f66db",
   "metadata": {},
   "source": [
    "### split"
   ]
  },
  {
   "cell_type": "code",
   "execution_count": 370,
   "id": "eb463dcf-a77b-4299-99d9-8108cf2a592f",
   "metadata": {},
   "outputs": [
    {
     "data": {
      "text/plain": [
       "['My', 'name', 'is', 'Mustafa']"
      ]
     },
     "execution_count": 370,
     "metadata": {},
     "output_type": "execute_result"
    }
   ],
   "source": [
    "\"My name is Mustafa\".split(' ')"
   ]
  },
  {
   "cell_type": "code",
   "execution_count": 373,
   "id": "b52d4a11-42e9-41e4-be28-265b1706ed25",
   "metadata": {},
   "outputs": [
    {
     "data": {
      "text/plain": [
       "0      United\n",
       "658    Canada\n",
       "659    United\n",
       "660     Italy\n",
       "661    United\n",
       "        ...  \n",
       "339    United\n",
       "340    United\n",
       "341    United\n",
       "328    United\n",
       "999    United\n",
       "Name: Country, Length: 1000, dtype: object"
      ]
     },
     "execution_count": 373,
     "metadata": {},
     "output_type": "execute_result"
    }
   ],
   "source": [
    "review[\"Country\"].str.split(\" \").str.get(0) ## get zero index True"
   ]
  },
  {
   "cell_type": "code",
   "execution_count": 376,
   "id": "3bbd59a5-442e-473c-a5e0-95c5e7b745ce",
   "metadata": {},
   "outputs": [
    {
     "data": {
      "text/html": [
       "<div>\n",
       "<style scoped>\n",
       "    .dataframe tbody tr th:only-of-type {\n",
       "        vertical-align: middle;\n",
       "    }\n",
       "\n",
       "    .dataframe tbody tr th {\n",
       "        vertical-align: top;\n",
       "    }\n",
       "\n",
       "    .dataframe thead th {\n",
       "        text-align: right;\n",
       "    }\n",
       "</style>\n",
       "<table border=\"1\" class=\"dataframe\">\n",
       "  <thead>\n",
       "    <tr style=\"text-align: right;\">\n",
       "      <th></th>\n",
       "      <th>0</th>\n",
       "      <th>1</th>\n",
       "      <th>2</th>\n",
       "      <th>3</th>\n",
       "      <th>4</th>\n",
       "    </tr>\n",
       "  </thead>\n",
       "  <tbody>\n",
       "    <tr>\n",
       "      <th>0</th>\n",
       "      <td>United</td>\n",
       "      <td>Kingdom</td>\n",
       "      <td>None</td>\n",
       "      <td>None</td>\n",
       "      <td>None</td>\n",
       "    </tr>\n",
       "    <tr>\n",
       "      <th>658</th>\n",
       "      <td>Canada</td>\n",
       "      <td>None</td>\n",
       "      <td>None</td>\n",
       "      <td>None</td>\n",
       "      <td>None</td>\n",
       "    </tr>\n",
       "    <tr>\n",
       "      <th>659</th>\n",
       "      <td>United</td>\n",
       "      <td>States</td>\n",
       "      <td>None</td>\n",
       "      <td>None</td>\n",
       "      <td>None</td>\n",
       "    </tr>\n",
       "    <tr>\n",
       "      <th>660</th>\n",
       "      <td>Italy</td>\n",
       "      <td>None</td>\n",
       "      <td>None</td>\n",
       "      <td>None</td>\n",
       "      <td>None</td>\n",
       "    </tr>\n",
       "    <tr>\n",
       "      <th>661</th>\n",
       "      <td>United</td>\n",
       "      <td>States</td>\n",
       "      <td>None</td>\n",
       "      <td>None</td>\n",
       "      <td>None</td>\n",
       "    </tr>\n",
       "    <tr>\n",
       "      <th>...</th>\n",
       "      <td>...</td>\n",
       "      <td>...</td>\n",
       "      <td>...</td>\n",
       "      <td>...</td>\n",
       "      <td>...</td>\n",
       "    </tr>\n",
       "    <tr>\n",
       "      <th>339</th>\n",
       "      <td>United</td>\n",
       "      <td>States</td>\n",
       "      <td>None</td>\n",
       "      <td>None</td>\n",
       "      <td>None</td>\n",
       "    </tr>\n",
       "    <tr>\n",
       "      <th>340</th>\n",
       "      <td>United</td>\n",
       "      <td>States</td>\n",
       "      <td>None</td>\n",
       "      <td>None</td>\n",
       "      <td>None</td>\n",
       "    </tr>\n",
       "    <tr>\n",
       "      <th>341</th>\n",
       "      <td>United</td>\n",
       "      <td>States</td>\n",
       "      <td>None</td>\n",
       "      <td>None</td>\n",
       "      <td>None</td>\n",
       "    </tr>\n",
       "    <tr>\n",
       "      <th>328</th>\n",
       "      <td>United</td>\n",
       "      <td>Kingdom</td>\n",
       "      <td>None</td>\n",
       "      <td>None</td>\n",
       "      <td>None</td>\n",
       "    </tr>\n",
       "    <tr>\n",
       "      <th>999</th>\n",
       "      <td>United</td>\n",
       "      <td>States</td>\n",
       "      <td>None</td>\n",
       "      <td>None</td>\n",
       "      <td>None</td>\n",
       "    </tr>\n",
       "  </tbody>\n",
       "</table>\n",
       "<p>1000 rows × 5 columns</p>\n",
       "</div>"
      ],
      "text/plain": [
       "          0        1     2     3     4\n",
       "0    United  Kingdom  None  None  None\n",
       "658  Canada     None  None  None  None\n",
       "659  United   States  None  None  None\n",
       "660   Italy     None  None  None  None\n",
       "661  United   States  None  None  None\n",
       "..      ...      ...   ...   ...   ...\n",
       "339  United   States  None  None  None\n",
       "340  United   States  None  None  None\n",
       "341  United   States  None  None  None\n",
       "328  United  Kingdom  None  None  None\n",
       "999  United   States  None  None  None\n",
       "\n",
       "[1000 rows x 5 columns]"
      ]
     },
     "execution_count": 376,
     "metadata": {},
     "output_type": "execute_result"
    }
   ],
   "source": [
    "review[\"Country\"].str.split(\" \", expand = True ) ## It will return like dataFrame..."
   ]
  },
  {
   "cell_type": "code",
   "execution_count": null,
   "id": "203bb373-5865-4ec0-8693-392b82271584",
   "metadata": {},
   "outputs": [],
   "source": []
  }
 ],
 "metadata": {
  "kernelspec": {
   "display_name": "Python 3 (ipykernel)",
   "language": "python",
   "name": "python3"
  },
  "language_info": {
   "codemirror_mode": {
    "name": "ipython",
    "version": 3
   },
   "file_extension": ".py",
   "mimetype": "text/x-python",
   "name": "python",
   "nbconvert_exporter": "python",
   "pygments_lexer": "ipython3",
   "version": "3.9.13"
  }
 },
 "nbformat": 4,
 "nbformat_minor": 5
}
